{
 "cells": [
  {
   "cell_type": "code",
   "execution_count": null,
   "id": "13c9734c",
   "metadata": {},
   "outputs": [],
   "source": [
    "1. What are the new features added in Python 3.8 version?\n",
    "\n",
    "Ans:-\n",
    "    Some of the new features added in python 3.8 version are\n",
    "    \n",
    "    Walrus Operator: This operator is used to assign and return a value in the same expression. This removes the need for \n",
    "    initializing the variable upfront. The major benefit of this is it saves some lines of code. It is also known as The \n",
    "    Walrus Operator due to its similarity to the eyes and tusks of a walrus.\n",
    "\n",
    "    yield and return statements do not require parentheses to return multiple values.\n",
    "\n",
    "    Reversed works with a dictionary. The built-in method reversed() can be used for accessing the elements in the reverse \n",
    "    order of insertion\n",
    "\n",
    "    Dict comprehensions have been modified so that the key is computed first and the value second.\n",
    "\n",
    "    importlib_metadata is a new library added in the Python’s standard utility modules, that provides an API for accessing \n",
    "    an installed package’s metadata, such as its entry points or its top-level name.\n",
    "\n",
    "    f-strings now support = , to make string interpolation easy. Python 3.8 allows the use of the above-discussed \n",
    "    assignment operator and equal sign (=) inside the f-strings.\n",
    "\n",
    "    In the three-argument form of pow(), when the exponent is -1, it calculates the modular multiplicative inverse of the \n",
    "    given value\n",
    "\n",
    "    The csv.DictReader now returns instances of dictionary instead of a collections.OrderedDict.\n",
    "\n",
    "    If you miss a comma in your code such as a = [(1, 2) (3, 4)], instead of throwing TypeError, it displays an informative\n",
    "    Syntax warning."
   ]
  },
  {
   "cell_type": "code",
   "execution_count": 12,
   "id": "dc3a3138",
   "metadata": {},
   "outputs": [
    {
     "name": "stdout",
     "output_type": "stream",
     "text": [
      "15\n",
      "('Hello', 'Good Morning')\n",
      "(0, 0)(1, 1)(2, 4)(3, 9)(4, 16)\n",
      "Role:\"Data Scientist\"\n",
      "Name:\"Rohan Bagde\"\n",
      "The length of string is len_string = 31\n"
     ]
    },
    {
     "name": "stderr",
     "output_type": "stream",
     "text": [
      "<>:31: SyntaxWarning: 'tuple' object is not callable; perhaps you missed a comma?\n",
      "<>:31: SyntaxWarning: 'tuple' object is not callable; perhaps you missed a comma?\n",
      "<ipython-input-12-374b7246ed33>:31: SyntaxWarning: 'tuple' object is not callable; perhaps you missed a comma?\n",
      "  r_list = [(1,2) (3,4)]\n"
     ]
    },
    {
     "ename": "TypeError",
     "evalue": "'tuple' object is not callable",
     "output_type": "error",
     "traceback": [
      "\u001b[1;31m---------------------------------------------------------------------------\u001b[0m",
      "\u001b[1;31mTypeError\u001b[0m                                 Traceback (most recent call last)",
      "\u001b[1;32m<ipython-input-12-374b7246ed33>\u001b[0m in \u001b[0;36m<module>\u001b[1;34m\u001b[0m\n\u001b[0;32m     29\u001b[0m \u001b[1;33m\u001b[0m\u001b[0m\n\u001b[0;32m     30\u001b[0m \u001b[1;31m# Example of Infomrative syntax instead of synatx error while missing comma.\u001b[0m\u001b[1;33m\u001b[0m\u001b[1;33m\u001b[0m\u001b[1;33m\u001b[0m\u001b[0m\n\u001b[1;32m---> 31\u001b[1;33m \u001b[0mr_list\u001b[0m \u001b[1;33m=\u001b[0m \u001b[1;33m[\u001b[0m\u001b[1;33m(\u001b[0m\u001b[1;36m1\u001b[0m\u001b[1;33m,\u001b[0m\u001b[1;36m2\u001b[0m\u001b[1;33m)\u001b[0m \u001b[1;33m(\u001b[0m\u001b[1;36m3\u001b[0m\u001b[1;33m,\u001b[0m\u001b[1;36m4\u001b[0m\u001b[1;33m)\u001b[0m\u001b[1;33m]\u001b[0m\u001b[1;33m\u001b[0m\u001b[1;33m\u001b[0m\u001b[0m\n\u001b[0m",
      "\u001b[1;31mTypeError\u001b[0m: 'tuple' object is not callable"
     ]
    }
   ],
   "source": [
    "# Example of walrus operator\n",
    "\n",
    "if (sum := 10 +5)>10:   # it is always recommanded to use paranthesis with walrus operator\n",
    "    print(sum)  # return 15\n",
    "    \n",
    "# Example of yield and return\n",
    "def Hello():\n",
    "    return 'Hello','Good Morning'\n",
    "\n",
    "print(Hello())\n",
    "\n",
    "def count():\n",
    "    for i in range(5):\n",
    "        yield i,i**2\n",
    "        \n",
    "for j in count():\n",
    "    print(j, end = '')\n",
    "print()\n",
    "\n",
    "# Example of reverse support dictionary\n",
    "\n",
    "t_dict = {'Name':'Rohan Bagde','Role':'Data Scientist'}\n",
    "for i in reversed(t_dict):\n",
    "    print(f'{i}:\"{t_dict[i]}\"')\n",
    "    \n",
    "# Example of using = in F-strings\n",
    "len_string = len(\"Ineuron Full Stack Data Science\")\n",
    "print(f'The length of string is {len_string = }')\n",
    "\n",
    "# Example of Infomrative syntax instead of synatx error while missing comma.\n",
    "r_list = [(1,2) (3,4)]"
   ]
  },
  {
   "cell_type": "code",
   "execution_count": null,
   "id": "823c91fd",
   "metadata": {},
   "outputs": [],
   "source": [
    "2. What is monkey patching in Python?\n",
    "\n",
    "Ans:-\n",
    "    IN Python, the term monkey patch refers to making dynamic(or run-time) modifications to the class module. In python we \n",
    "    can actually change the behaviour of the code at run-time."
   ]
  },
  {
   "cell_type": "code",
   "execution_count": null,
   "id": "22e94cde",
   "metadata": {},
   "outputs": [],
   "source": [
    "class A:\n",
    "    def func(self):\n",
    "        print('func() is being called')\n",
    "        \n",
    "def monke_f(self):\n",
    "    print('monkey_f() is being called')\n",
    "    \n",
    "A.func = monkey_f\n",
    "some_object = A()\n",
    "some_object.func()"
   ]
  },
  {
   "cell_type": "code",
   "execution_count": null,
   "id": "096373c7",
   "metadata": {},
   "outputs": [],
   "source": [
    "3. What is the difference between a shallow copy and deep copy?\n",
    "\n",
    "Ans:-\n",
    "    The difference between shallow capy and deep copy as follows:\n",
    "        \n",
    "    When an object is copied using copy(), it is called shallow copy as changes made in copied object will also make a\n",
    "    corresponding changes in original object, because both the object will be referencing same address location.\n",
    "    \n",
    "    When an object is copied using a deepcopy(), it is called deep copy as changes made in copied objects will not make\n",
    "    corresponding changes in original object, because both the object will not be referencing same address location."
   ]
  },
  {
   "cell_type": "code",
   "execution_count": 15,
   "id": "e769d40a",
   "metadata": {},
   "outputs": [
    {
     "name": "stdout",
     "output_type": "stream",
     "text": [
      "Original Element of each List\n",
      "[1, 2, [3, 4], 5, 6]\n",
      "[1, 2, [3, 4], 5, 6]\n",
      "[1, 2, [3, 4], 5, 6]\n",
      "New Elements of each list\n",
      "[1, 2, [3, 4], 5, 20]\n",
      "[10, 2, [3, 4], 5, 6]\n",
      "[1, 2, [3, 4], 5, 20]\n"
     ]
    }
   ],
   "source": [
    "from copy import deepcopy, copy\n",
    "l_one = [1,2,[3,4],5,6]\n",
    "l_two = deepcopy(l_one)\n",
    "l_three = l_one\n",
    "print(f'Original Element of each List\\n{l_one}\\n{l_two}\\n{l_three}')\n",
    "\n",
    "l_two[0] = 10\n",
    "l_three[-1] = 20\n",
    "print(f'New Elements of each list\\n{l_one}\\n{l_two}\\n{l_three}')"
   ]
  },
  {
   "cell_type": "code",
   "execution_count": null,
   "id": "a0d16fda",
   "metadata": {},
   "outputs": [],
   "source": [
    "4. What is the maximum possible length of an identifier?\n",
    "\n",
    "Ans:-\n",
    "    In Python, the highest possible length of an identifier is 79 charecters. Python is high level programming language.\n",
    "    It's also a complex form and collector of waste.\n",
    "    \n",
    "        Python, particularly when combined with identifiers, is case-sensitive.\n",
    "        \n",
    "        When writing or using identifiers in python, it has a maximum 79 charecters.\n",
    "        \n",
    "        Unlikely, Python gives the identifiers unlimited length.\n",
    "        \n",
    "        However, the layout of PEP-8 prevents the user from breaking the rules and includes a 79 charecters limit."
   ]
  },
  {
   "cell_type": "code",
   "execution_count": null,
   "id": "812e28f4",
   "metadata": {},
   "outputs": [],
   "source": [
    "5. What is generator comprehension?\n",
    "\n",
    "Ans:-\n",
    "    A generator comprehension is a single line specification for defining a generator in python.\n",
    "    \n",
    "        It is absolutely essential to learn this syntax in order to write simple and readable code\n",
    "        \n",
    "        Generator comprehension uses round bracket unlike square bracket in list comprehension\n",
    "        \n",
    "        The generator yields one item at a time and generates an item only when in demand. Whereas, in a list comprehension\n",
    "        , python reserves the memory for the whole list. Thus we can say that the generator expression are memory efficient\n",
    "        than the lists."
   ]
  },
  {
   "cell_type": "code",
   "execution_count": 16,
   "id": "eddd56f2",
   "metadata": {},
   "outputs": [
    {
     "name": "stdout",
     "output_type": "stream",
     "text": [
      "[0, 1, 2, 3, 4, 5, 6, 7, 8, 9]\n",
      "<generator object <genexpr> at 0x0000011E875CFA50>\n",
      "0  \n",
      "2  \n",
      "4  \n",
      "6  \n",
      "8  \n"
     ]
    }
   ],
   "source": [
    "in_list = [i for i in range(10)]  # List Comprehension\n",
    "print(in_list)\n",
    "\n",
    "out_gen = (i for i in in_list if i%2 == 0) # Generator comprehension\n",
    "print(out_gen)   # Returns a generator Object\n",
    "for j in out_gen:\n",
    "    print(j, ' ')"
   ]
  },
  {
   "cell_type": "code",
   "execution_count": null,
   "id": "7b886e0b",
   "metadata": {},
   "outputs": [],
   "source": []
  }
 ],
 "metadata": {
  "kernelspec": {
   "display_name": "Python 3",
   "language": "python",
   "name": "python3"
  },
  "language_info": {
   "codemirror_mode": {
    "name": "ipython",
    "version": 3
   },
   "file_extension": ".py",
   "mimetype": "text/x-python",
   "name": "python",
   "nbconvert_exporter": "python",
   "pygments_lexer": "ipython3",
   "version": "3.8.8"
  }
 },
 "nbformat": 4,
 "nbformat_minor": 5
}

{
 "cells": [
  {
   "cell_type": "code",
   "execution_count": null,
   "id": "1ef652d1",
   "metadata": {},
   "outputs": [],
   "source": [
    "Q1. Does assigning a value to a string's indexed character violate Python's string immutability ?\n",
    "\n",
    "Ans:-\n",
    "    String's indexed charecter cannot to be assigned a New value, as strings are immutable.\n",
    "    Example:"
   ]
  },
  {
   "cell_type": "code",
   "execution_count": 3,
   "id": "466f0c29",
   "metadata": {},
   "outputs": [
    {
     "name": "stdout",
     "output_type": "stream",
     "text": [
      "2045119804144\n"
     ]
    },
    {
     "ename": "TypeError",
     "evalue": "'str' object does not support item assignment",
     "output_type": "error",
     "traceback": [
      "\u001b[1;31m---------------------------------------------------------------------------\u001b[0m",
      "\u001b[1;31mTypeError\u001b[0m                                 Traceback (most recent call last)",
      "\u001b[1;32m<ipython-input-3-1fdcd83a95b0>\u001b[0m in \u001b[0;36m<module>\u001b[1;34m\u001b[0m\n\u001b[0;32m      1\u001b[0m \u001b[0mname\u001b[0m \u001b[1;33m=\u001b[0m \u001b[1;34m'Reinforcement'\u001b[0m\u001b[1;33m\u001b[0m\u001b[1;33m\u001b[0m\u001b[0m\n\u001b[0;32m      2\u001b[0m \u001b[0mprint\u001b[0m\u001b[1;33m(\u001b[0m\u001b[0mid\u001b[0m\u001b[1;33m(\u001b[0m\u001b[0mname\u001b[0m\u001b[1;33m)\u001b[0m\u001b[1;33m)\u001b[0m\u001b[1;33m\u001b[0m\u001b[1;33m\u001b[0m\u001b[0m\n\u001b[1;32m----> 3\u001b[1;33m \u001b[0mname\u001b[0m\u001b[1;33m[\u001b[0m\u001b[1;36m0\u001b[0m\u001b[1;33m]\u001b[0m \u001b[1;33m=\u001b[0m \u001b[1;34m'V'\u001b[0m\u001b[1;33m\u001b[0m\u001b[1;33m\u001b[0m\u001b[0m\n\u001b[0m",
      "\u001b[1;31mTypeError\u001b[0m: 'str' object does not support item assignment"
     ]
    }
   ],
   "source": [
    "name = 'Reinforcement'\n",
    "print(id(name))\n",
    "name[0] = 'V'"
   ]
  },
  {
   "cell_type": "code",
   "execution_count": null,
   "id": "af6d33c0",
   "metadata": {},
   "outputs": [],
   "source": [
    "Q2. Does using the += operator to concatenate strings violate Python's string immutability? Why or why not ?\n",
    "\n",
    "Ans:-\n",
    "    += operator is used to concatenate strings, it does not violate the python string's immutability property. Because \n",
    "    doing so new association with data and variable. E.g. str_1 = 'a' and str_1 += 'b'. effect of this statement is to \n",
    "    create  string ab and reassign it to variable str_1, any string data is not actually modified."
   ]
  },
  {
   "cell_type": "code",
   "execution_count": 6,
   "id": "4e23702f",
   "metadata": {},
   "outputs": [
    {
     "name": "stdout",
     "output_type": "stream",
     "text": [
      "2045046608048\n",
      "2045136391408\n"
     ]
    }
   ],
   "source": [
    "str_1 = 'a'\n",
    "print(id(str_1))\n",
    "str_1 +='b'\n",
    "print(id(str_1))"
   ]
  },
  {
   "cell_type": "code",
   "execution_count": null,
   "id": "81342d66",
   "metadata": {},
   "outputs": [],
   "source": [
    "Q3. In Python, how many different ways are there to index a character?\n",
    "\n",
    "Ans:-\n",
    "    A charecter in a string can be indexed using a string name followed by index number of charecters in a square bracket\n",
    "    Positive Indexing i.e. last letter is -1 and so on can be used to index a charecter"
   ]
  },
  {
   "cell_type": "code",
   "execution_count": 7,
   "id": "ec6fb1b9",
   "metadata": {},
   "outputs": [
    {
     "name": "stdout",
     "output_type": "stream",
     "text": [
      "u l e\n",
      "e i c\n"
     ]
    }
   ],
   "source": [
    "in_string = 'iNeuron Full Stack Data Science'\n",
    "print(in_string[9],in_string[10],in_string[2])    # Positive Indexing\n",
    "print(in_string[-1],in_string[-5],in_string[-2])  #Negetive Indexing"
   ]
  },
  {
   "cell_type": "code",
   "execution_count": null,
   "id": "46346d35",
   "metadata": {},
   "outputs": [],
   "source": [
    "Q4. What is the relationship between indexing and slicing?\n",
    "\n",
    "Ans:-\n",
    "    We can access elements of sequence datatypes by using slicing and indexing. Indexing is used to obtaining individual \n",
    "    elements while slicing for sequnce of elements."
   ]
  },
  {
   "cell_type": "code",
   "execution_count": 9,
   "id": "0b6c9988",
   "metadata": {},
   "outputs": [
    {
     "name": "stdout",
     "output_type": "stream",
     "text": [
      "N u o\n",
      "Neuron Full St\n"
     ]
    }
   ],
   "source": [
    "in_string = 'iNeuron Full Stack Data Science'\n",
    "print(in_string[1],in_string[3],in_string[5])   # Indexing\n",
    "print(in_string[1:15])   #Slicing\n"
   ]
  },
  {
   "cell_type": "code",
   "execution_count": null,
   "id": "593b8515",
   "metadata": {},
   "outputs": [],
   "source": [
    "Q5. What is an indexed character's exact data type? What is the data form of a slicing-generated substring?\n",
    "\n",
    "Ans:-\n",
    "    Indexed charecter and sliced substring have datatype string."
   ]
  },
  {
   "cell_type": "code",
   "execution_count": 10,
   "id": "47c0aae8",
   "metadata": {},
   "outputs": [
    {
     "name": "stdout",
     "output_type": "stream",
     "text": [
      "<class 'str'>\n",
      "<class 'str'>\n"
     ]
    }
   ],
   "source": [
    "in_string = 'iNeuron Full Stack Data Science'\n",
    "print(type(in_string[3]))   # Indexing string\n",
    "print(type(in_string[1:10]))  # Slicing string"
   ]
  },
  {
   "cell_type": "code",
   "execution_count": null,
   "id": "76684529",
   "metadata": {},
   "outputs": [],
   "source": [
    "Q6. What is the relationship between string and character \"types\" in Python?\n",
    "\n",
    "Ans:-\n",
    "    Object that contains sequence of charecter datatypes are called String."
   ]
  },
  {
   "cell_type": "code",
   "execution_count": null,
   "id": "08dd30fd",
   "metadata": {},
   "outputs": [],
   "source": [
    "Q7. Identify at least two operators & one method that allow you to combine one or more smaller strings to create a larger \n",
    "string ?\n",
    "\n",
    "Ans:-\n",
    "    +, += and * allow to combine one or more smaller strings to create a large strings <string>.join(<sep>) method joins \n",
    "    element of iterable type like list and tuple to get combined string.\n",
    "    "
   ]
  },
  {
   "cell_type": "code",
   "execution_count": 19,
   "id": "d5596c6b",
   "metadata": {},
   "outputs": [
    {
     "name": "stdout",
     "output_type": "stream",
     "text": [
      "iNeuron Full Stack Data Science FSDS\n",
      "FSDS FSDS FSDS \n",
      "I N E U R O N\n",
      "I N E U R O N\n"
     ]
    }
   ],
   "source": [
    "in_string = 'iNeuron '\n",
    "in_string += 'Full Stack Data Science '\n",
    "print(in_string+'FSDS')\n",
    "print('FSDS '*3)\n",
    "print(' '.join(['I','N','E','U','R','O','N']))   # List iterable\n",
    "print(' '.join(('I','N','E','U','R','O','N')))   # Tuple iterable"
   ]
  },
  {
   "cell_type": "code",
   "execution_count": null,
   "id": "1e508360",
   "metadata": {},
   "outputs": [],
   "source": [
    "Q8. What is the benefit of first checking the target string with in or not in before using the index method to find a \n",
    "substring ?\n",
    "\n",
    "Ans:-\n",
    "    Checking the target string with in or not Operators before using the index method to find a substring just helps \n",
    "    confirming the availibity of substring and thus avoid raising ValueErro.\n",
    "    \n",
    "    Example:\n",
    "       "
   ]
  },
  {
   "cell_type": "code",
   "execution_count": 26,
   "id": "9a044f0b",
   "metadata": {},
   "outputs": [
    {
     "ename": "ValueError",
     "evalue": "substring not found",
     "output_type": "error",
     "traceback": [
      "\u001b[1;31m---------------------------------------------------------------------------\u001b[0m",
      "\u001b[1;31mValueError\u001b[0m                                Traceback (most recent call last)",
      "\u001b[1;32m<ipython-input-26-6c28409d5706>\u001b[0m in \u001b[0;36m<module>\u001b[1;34m\u001b[0m\n\u001b[0;32m      1\u001b[0m \u001b[0min_string\u001b[0m \u001b[1;33m=\u001b[0m \u001b[1;34m'iNeuron'\u001b[0m\u001b[1;33m\u001b[0m\u001b[1;33m\u001b[0m\u001b[0m\n\u001b[1;32m----> 2\u001b[1;33m \u001b[0min_string\u001b[0m\u001b[1;33m.\u001b[0m\u001b[0mindex\u001b[0m\u001b[1;33m(\u001b[0m\u001b[1;34m'x'\u001b[0m\u001b[1;33m)\u001b[0m   \u001b[1;31m# Raises ValueError\u001b[0m\u001b[1;33m\u001b[0m\u001b[1;33m\u001b[0m\u001b[0m\n\u001b[0m\u001b[0;32m      3\u001b[0m \u001b[0min_string\u001b[0m\u001b[1;33m.\u001b[0m\u001b[0mindex\u001b[0m\u001b[1;33m(\u001b[0m\u001b[1;34m'u'\u001b[0m\u001b[1;33m)\u001b[0m   \u001b[1;31m#3\u001b[0m\u001b[1;33m\u001b[0m\u001b[1;33m\u001b[0m\u001b[0m\n",
      "\u001b[1;31mValueError\u001b[0m: substring not found"
     ]
    }
   ],
   "source": [
    "in_string = 'iNeuron'\n",
    "in_string.index('x')   # Raises ValueError\n",
    "in_string.index('u')   #3"
   ]
  },
  {
   "cell_type": "code",
   "execution_count": null,
   "id": "105d05fb",
   "metadata": {},
   "outputs": [],
   "source": [
    "Q9. Which operators and built-in string methods produce simple Boolean (true/false) results?\n",
    "\n",
    "Ans:- The string Operators and built in methods to produce simple Boolean (True/False) Results are:\n",
    "        \n",
    "in\n",
    "not\n",
    "<string>.isalpha()\n",
    "<string>.isalnum()\n",
    "<string>.isdecimal()\n",
    "<string>.isdigit()\n",
    "<string>.islower()\n",
    "<string>.isnumeric()\n",
    "<string>.isprintable()\n",
    "<string>.isspace()\n",
    "<string>.istitle()\n",
    "        "
   ]
  }
 ],
 "metadata": {
  "kernelspec": {
   "display_name": "Python 3",
   "language": "python",
   "name": "python3"
  },
  "language_info": {
   "codemirror_mode": {
    "name": "ipython",
    "version": 3
   },
   "file_extension": ".py",
   "mimetype": "text/x-python",
   "name": "python",
   "nbconvert_exporter": "python",
   "pygments_lexer": "ipython3",
   "version": "3.8.8"
  }
 },
 "nbformat": 4,
 "nbformat_minor": 5
}

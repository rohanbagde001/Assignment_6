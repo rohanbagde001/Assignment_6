{
 "cells": [
  {
   "cell_type": "code",
   "execution_count": null,
   "id": "3ba4a2bf",
   "metadata": {},
   "outputs": [],
   "source": [
    "Q1. Describe the differences between text and binary files in a single paragraph.\n",
    "\n",
    "Ans:-\n",
    "    The differences between Text Files and Binary Files are:\n",
    "\n",
    "    Text files are special subset of binary files that are used to store human readable characters as a rich text document \n",
    "    or plain text document. Text files also store data in sequential bytes but bits in text file represents characters.\n",
    "\n",
    "    Binary files are those typical files that store data in the form of sequence of bytes grouped into eight bits or \n",
    "    sometimes sixteen bits. These bits represent custom data and such files can store multiple types of data (images, \n",
    "    audio, text, etc) under a single file."
   ]
  },
  {
   "cell_type": "code",
   "execution_count": null,
   "id": "7c86505d",
   "metadata": {},
   "outputs": [],
   "source": [
    "Q2. What are some scenarios where using text files will be the better option? When would you like to use binary files \n",
    "    instead of text files?\n",
    "    \n",
    "Ans:-\n",
    "    Text files are less prone to get corrupted as any undesired change may just show up once the file is opened and then \n",
    "    can easily be removed. Whereas use binary files instead of text files for image data."
   ]
  },
  {
   "cell_type": "code",
   "execution_count": null,
   "id": "d15567f8",
   "metadata": {},
   "outputs": [],
   "source": [
    "Q3. What are some of the issues with using binary operations to read and write a Python integer directly to disc?\n",
    "\n",
    "Ans:-\n",
    "    when we read or write a python integer using binary operations\n",
    "    \n",
    "    1. Binary operations deals with raw data.\n",
    "    2. One needs to identify how many bytes one would read or write."
   ]
  },
  {
   "cell_type": "code",
   "execution_count": null,
   "id": "bebdd790",
   "metadata": {},
   "outputs": [],
   "source": [
    "Q4. Describe a benefit of using the with keyword instead of explicitly opening a file ?\n",
    "\n",
    "Ans:-\n",
    "    When a file is opened using the with keyword, if some exceptions occur after opening a file, or at the end of the file\n",
    "    it automatically does the closing of the file. There by not leaving an file in open mode and there would no need to\n",
    "    explicitly close the file.\n",
    "    "
   ]
  },
  {
   "cell_type": "code",
   "execution_count": null,
   "id": "baffebc3",
   "metadata": {},
   "outputs": [],
   "source": [
    "Q5. Does Python have the trailing newline while reading a line of text? Does Python append a newline when you write a \n",
    "    line of text?\n",
    "\n",
    "Ans:-\n",
    "    Yes Python have the trailing newline while reading a line of text. When we write a newline has to be provided in python\n",
    "    explicitly."
   ]
  },
  {
   "cell_type": "code",
   "execution_count": null,
   "id": "ad3601cc",
   "metadata": {},
   "outputs": [],
   "source": [
    "Q6. What file operations enable for random-access operation?\n",
    "\n",
    "Ans:-\n",
    "    The file operation enable for random-access operation are seek() and tell()."
   ]
  },
  {
   "cell_type": "code",
   "execution_count": null,
   "id": "33a39936",
   "metadata": {},
   "outputs": [],
   "source": [
    "Q7. When do you think you'll use the struct package the most?\n",
    "\n",
    "Ans:-\n",
    "    The struct package is mostly used while converting a common python into c language types"
   ]
  },
  {
   "cell_type": "code",
   "execution_count": null,
   "id": "c5e9dbca",
   "metadata": {},
   "outputs": [],
   "source": [
    "Q8. When is pickling the best option?\n",
    "\n",
    "Ans:-\n",
    "    Pickling is best option for creating a new binary file using python."
   ]
  },
  {
   "cell_type": "code",
   "execution_count": null,
   "id": "39c2b278",
   "metadata": {},
   "outputs": [],
   "source": [
    "Q9. When will it be best to use the shelve package?\n",
    "\n",
    "Ans:-\n",
    "    Shelve package is used to pickle data but treats the entire file as a dictionary."
   ]
  },
  {
   "cell_type": "code",
   "execution_count": null,
   "id": "ba52e9a6",
   "metadata": {},
   "outputs": [],
   "source": [
    "Q10. What is a special restriction when using the shelve package, as opposed to using other data dictionaries?\n",
    "\n",
    "Ans:-\n",
    "    Only string data type can be used as a key in this special dictionary object, whereas any pickable python can be used \n",
    "    as value."
   ]
  }
 ],
 "metadata": {
  "kernelspec": {
   "display_name": "Python 3",
   "language": "python",
   "name": "python3"
  },
  "language_info": {
   "codemirror_mode": {
    "name": "ipython",
    "version": 3
   },
   "file_extension": ".py",
   "mimetype": "text/x-python",
   "name": "python",
   "nbconvert_exporter": "python",
   "pygments_lexer": "ipython3",
   "version": "3.8.8"
  }
 },
 "nbformat": 4,
 "nbformat_minor": 5
}

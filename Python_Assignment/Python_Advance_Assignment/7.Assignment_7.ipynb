{
 "cells": [
  {
   "cell_type": "raw",
   "id": "e0d709d7",
   "metadata": {},
   "source": [
    "Q1. What is the purpose of the try statement?\n",
    "\n",
    "Ans:-\n",
    "    Try statement is used for exception handling in python. it consist of block of risky statement which might cause an\n",
    "    exception during runtime. if code within try block raise exception, then exception will be reverted to the except block\n",
    "    if multiple blocks are present, else it will be reverted to the default except block. In short try and except in a         union avoid program from crashing during runtime due to exception."
   ]
  },
  {
   "cell_type": "code",
   "execution_count": 2,
   "id": "06984dab",
   "metadata": {},
   "outputs": [
    {
     "name": "stdout",
     "output_type": "stream",
     "text": [
      "Division by Zero is Not Possible\n"
     ]
    }
   ],
   "source": [
    "try:\n",
    "    print(10/0)\n",
    "except ZeroDivisionError:\n",
    "    print('Division by Zero is Not Possible')"
   ]
  },
  {
   "cell_type": "code",
   "execution_count": null,
   "id": "78982183",
   "metadata": {},
   "outputs": [],
   "source": [
    "Q2. What are the two most popular try statement variations?\n",
    "\n",
    "Ans:-\n",
    "    The popular try statement variations are:\n",
    "        \n",
    "        1. try, except\n",
    "        2. try, except, finally\n",
    "        3. try, except, finally, else\n",
    "    \n",
    "    The try block is used to check a code for exception during a runtime. i.e. code inside try block will execute completely\n",
    "    when there is a no error in program. whereas the code inside the except block will execute whenever the program\n",
    "    encounters some error in preceeding try block.\n",
    "    \n",
    "    Whereas the code enters the else block if and only if the try clause not raise and exception. The code in the finally \n",
    "    block will execute irrespective of exception"
   ]
  },
  {
   "cell_type": "code",
   "execution_count": null,
   "id": "3ed29188",
   "metadata": {},
   "outputs": [],
   "source": [
    "Q3. What is the purpose of the raise statement?\n",
    "\n",
    "Ans:-\n",
    "    raise statement is used to trigger an exception explicitly, if a certain condition is not as per requirement of \n",
    "    programmer. raise statement helps in triggering exception as per programming logic."
   ]
  },
  {
   "cell_type": "code",
   "execution_count": null,
   "id": "94d7b922",
   "metadata": {},
   "outputs": [],
   "source": [
    "Q4. What does the assert statement do, and what other statement is it like?\n",
    "\n",
    "Ans:-\n",
    "    There are few assertion that programmer always want to be true to avoid code failure. This type of requirement are \n",
    "    fulfilled by assert statement. This statement takes a boolean condition output of which is True, Further program \n",
    "    executes, if output assert statement is false, it raises an assertion error."
   ]
  },
  {
   "cell_type": "code",
   "execution_count": 6,
   "id": "75eac462",
   "metadata": {},
   "outputs": [
    {
     "ename": "AssertionError",
     "evalue": "this is not a valid statement",
     "output_type": "error",
     "traceback": [
      "\u001b[1;31m---------------------------------------------------------------------------\u001b[0m",
      "\u001b[1;31mAssertionError\u001b[0m                            Traceback (most recent call last)",
      "\u001b[1;32m<ipython-input-6-b4debc3e9b49>\u001b[0m in \u001b[0;36m<module>\u001b[1;34m\u001b[0m\n\u001b[1;32m----> 1\u001b[1;33m \u001b[1;32massert\u001b[0m\u001b[1;33m(\u001b[0m\u001b[1;36m2\u001b[0m\u001b[1;33m==\u001b[0m\u001b[1;36m4\u001b[0m\u001b[1;33m)\u001b[0m\u001b[1;33m,\u001b[0m \u001b[1;34mf'this is not a valid statement'\u001b[0m\u001b[1;33m\u001b[0m\u001b[1;33m\u001b[0m\u001b[0m\n\u001b[0m",
      "\u001b[1;31mAssertionError\u001b[0m: this is not a valid statement"
     ]
    }
   ],
   "source": [
    "assert(2==4), f'this is not a valid statement'"
   ]
  },
  {
   "cell_type": "code",
   "execution_count": null,
   "id": "98e0b0e2",
   "metadata": {},
   "outputs": [],
   "source": [
    "Q5. What is the purpose of the with/as argument, and what other statement is it like?\n",
    "\n",
    "Ans:-\n",
    "    with/as statement simplifies the use of file handling in python. When we use a with statement for file reading, there\n",
    "    is no need for programmer to explicitly take care of activities like resource deallocation and file closing by using\n",
    "    file.close() method. with statement itself insures proper acquisition and release of resources. this avoids the\n",
    "    triggering of exceptions if file closing is unknowingly forgotten in the code execution.\n",
    "    \n",
    "   "
   ]
  },
  {
   "cell_type": "code",
   "execution_count": 9,
   "id": "ee6d6ac6",
   "metadata": {},
   "outputs": [],
   "source": [
    " with open('sample_file.txt','w') as file:\n",
    "        file.write('Hello World')"
   ]
  },
  {
   "cell_type": "code",
   "execution_count": null,
   "id": "eb67c36e",
   "metadata": {},
   "outputs": [],
   "source": []
  }
 ],
 "metadata": {
  "kernelspec": {
   "display_name": "Python 3",
   "language": "python",
   "name": "python3"
  },
  "language_info": {
   "codemirror_mode": {
    "name": "ipython",
    "version": 3
   },
   "file_extension": ".py",
   "mimetype": "text/x-python",
   "name": "python",
   "nbconvert_exporter": "python",
   "pygments_lexer": "ipython3",
   "version": "3.8.8"
  }
 },
 "nbformat": 4,
 "nbformat_minor": 5
}

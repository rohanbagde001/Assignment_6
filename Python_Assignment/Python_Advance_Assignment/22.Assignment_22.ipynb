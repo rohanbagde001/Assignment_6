{
 "cells": [
  {
   "cell_type": "code",
   "execution_count": null,
   "id": "28b5a821",
   "metadata": {},
   "outputs": [],
   "source": [
    "Q1. What are the benefits of the built-in array package, if any?\n",
    "\n",
    "Ans:-\n",
    "    Arrays represent multiple data items of the same type using a single name. In arrays, the elements can be accessed \n",
    "    randomly  by using the index number. Arrays allocate memory in contiguous memory location for its elements. Hence \n",
    "    there is no extra chance of extra memory allocation in case of arrays. This avoids memory overflow or shortage of\n",
    "    memory in arrays."
   ]
  },
  {
   "cell_type": "code",
   "execution_count": null,
   "id": "d97481af",
   "metadata": {},
   "outputs": [],
   "source": [
    "Q2. What are some of the array package's limitations ?\n",
    "\n",
    "Ans:-\n",
    "    The number of elements to be stored in an array should be known in advance. An array is a sttic structure(which means \n",
    "    array is of fixed size). Once declared the size of the array cannot be modified. The memory which is allocated to it\n",
    "    cannot be decreased or increased.\n",
    "    \n",
    "    Insertion and deletion are quite difficult in an array as the elements are stored in consecutive memory locations and\n",
    "    the shifting operations is costly.\n",
    "    \n",
    "    Allocating more memory than the requirement leads to wastage of memory space and less allocation of memory also\n",
    "    leads to a problem."
   ]
  },
  {
   "cell_type": "code",
   "execution_count": null,
   "id": "ec50b8c8",
   "metadata": {},
   "outputs": [],
   "source": [
    "Q3. Describe the main differences between the array and numpy packages ?\n",
    "\n",
    "Ans:-\n",
    "    The array package doesn't provide any help with numerical calculation with the item inside it in number form while\n",
    "    Numpy give you a wide variety of numerical operations.\n",
    "    \n",
    "    An array is a single dimensional entity which holds the numerical data, while numpy can have more than 1 dimension\n",
    "    \n",
    "    In case of array, item can be accessed by its index position and it is very easy task in numpy item is accessed by\n",
    "    its column and row index, which makes it slightly time taking. same goes with appending operations.\n",
    "    \n",
    "    In case of array we do not form a tabular structure, while numpy forms a tabular structure."
   ]
  },
  {
   "cell_type": "code",
   "execution_count": null,
   "id": "5a47f684",
   "metadata": {},
   "outputs": [],
   "source": [
    "Q4. Explain the distinctions between the empty, ones, and zeros functions ?\n",
    "\n",
    "Ans:-\n",
    "    The distinction between the empty, ones and zero function are as follows:\n",
    "    \n",
    "    Empty functions: An empty function is a function that does not contain any statement within its body. If you try to \n",
    "    write a function definition without any statement in a python, it will be an error. to avoid this, we use pass \n",
    "    statement. pass is a special statement in a python that does nothing. It only work as a dummy statement.\n",
    "\n",
    "    Ones: This function returns an array of given shape and data type, where the elements value is 1.\n",
    "        \n",
    "    Zeros: This function returns a new array of given shape and data type, where the element is 0."
   ]
  },
  {
   "cell_type": "code",
   "execution_count": null,
   "id": "4f0653e1",
   "metadata": {},
   "outputs": [],
   "source": [
    "Q5. In the fromfunction function, which is used to construct new arrays, what is the role of the callable argument ?\n",
    "\n",
    "Ans:-\n",
    "    Its function is to execute the function over each coordinate and the resulting array. The function is called with\n",
    "    N Parametres, where N is the rank of shape. Each parametre represents the coordinates of the array varying along\n",
    "    the specific axis.\n",
    "    "
   ]
  },
  {
   "cell_type": "code",
   "execution_count": null,
   "id": "c916bf41",
   "metadata": {},
   "outputs": [],
   "source": [
    "Q6. What happens when a numpy array is combined with a single-value operand (a scalar, such as an int or a floating-point \n",
    "    value) through addition, as in the expression A + n ?\n",
    "\n",
    "Ans:-\n",
    "    If any scaler value such as integer is added to the numpy array then all the array inside the array will add that\n",
    "    value in it."
   ]
  },
  {
   "cell_type": "code",
   "execution_count": null,
   "id": "ca94cbf1",
   "metadata": {},
   "outputs": [],
   "source": [
    "Q7. Can array-to-scalar operations use combined operation-assign operators (such as += or *=)? What is the outcome ?\n",
    "\n",
    "Ans:-\n",
    "    It will carry out provided operations on all elements of array."
   ]
  },
  {
   "cell_type": "code",
   "execution_count": null,
   "id": "fca9da19",
   "metadata": {},
   "outputs": [],
   "source": [
    "Q8. Does a numpy array contain fixed-length strings? What happens if you allocate a longer string to one of these arrays ?\n",
    "\n",
    "Ans:-\n",
    "    Yes that is possible we can include a string of fixed length in numpy array. The dtype of any numpy array containing \n",
    "    string values is the maximum length of any string present in the array. Once set, it will only be able to store new \n",
    "    string having length not more than the maximum  length at he time of creation. If we try to reassign some another \n",
    "    string value having length grater than the maximum length of the existing element , it simply discards all the values \n",
    "    beyond the maximum length accepts upto those values which are under the limit."
   ]
  },
  {
   "cell_type": "code",
   "execution_count": null,
   "id": "8a117b8b",
   "metadata": {},
   "outputs": [],
   "source": [
    "Q9. What happens when you combine two numpy arrays using an operation like addition (+) or multiplication (*)? What are \n",
    "    the conditions for combining two numpy arrays ?\n",
    "\n",
    "Ans:-\n",
    "    It will simply add or multiply elements to element at same position."
   ]
  },
  {
   "cell_type": "code",
   "execution_count": null,
   "id": "e887ca8c",
   "metadata": {},
   "outputs": [],
   "source": [
    "Q10. What is the best way to use a Boolean array to mask another array ?\n",
    "\n",
    "Ans:-\n",
    "    The best way to use a boolean array to mask another array is by using masked_where of numpy package"
   ]
  },
  {
   "cell_type": "code",
   "execution_count": null,
   "id": "1b721f34",
   "metadata": {},
   "outputs": [],
   "source": [
    "Q11. What are three different ways to get the standard deviation of a wide collection of data using both standard Python \n",
    "     and its packages? Sort the three of them by how quickly they execute ?\n",
    "\n",
    "Ans:-\n",
    "    np.std and math package can be used individually."
   ]
  },
  {
   "cell_type": "code",
   "execution_count": null,
   "id": "e56f2f2f",
   "metadata": {},
   "outputs": [],
   "source": [
    "12. What is the dimensionality of a Boolean mask-generated array ?\n",
    "\n",
    "Ans:-\n",
    "    It will have same dimensionality as input array."
   ]
  }
 ],
 "metadata": {
  "kernelspec": {
   "display_name": "Python 3",
   "language": "python",
   "name": "python3"
  },
  "language_info": {
   "codemirror_mode": {
    "name": "ipython",
    "version": 3
   },
   "file_extension": ".py",
   "mimetype": "text/x-python",
   "name": "python",
   "nbconvert_exporter": "python",
   "pygments_lexer": "ipython3",
   "version": "3.8.8"
  }
 },
 "nbformat": 4,
 "nbformat_minor": 5
}

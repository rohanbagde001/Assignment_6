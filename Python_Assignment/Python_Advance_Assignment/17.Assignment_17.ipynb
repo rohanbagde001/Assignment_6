{
 "cells": [
  {
   "cell_type": "code",
   "execution_count": null,
   "id": "03efc086",
   "metadata": {},
   "outputs": [],
   "source": [
    "Q1. Explain the difference between greedy and non-greedy syntax with visual terms in as few words as possible. What is the \n",
    "bare minimum effort required to transform a greedy pattern into a non-greedy one? What characters or characters can you \n",
    "introduce or change?\n",
    "\n",
    "Ans:-\n",
    "    The Main difference between Greedy and Non Greedy Match Syntax is The Greedy Match will try to match as many \n",
    "    repetitions of the quantified pattern as possible Whereas The Non Greedy Match will try to match as few repetitions \n",
    "    of the quantified pattern as possible"
   ]
  },
  {
   "cell_type": "code",
   "execution_count": 1,
   "id": "b8f1c4bc",
   "metadata": {},
   "outputs": [
    {
     "name": "stdout",
     "output_type": "stream",
     "text": [
      "['vvvvvv', '']\n",
      "['', 'v', '', 'v', '', 'v', '', 'v', '', 'v', '', 'v', '']\n"
     ]
    }
   ],
   "source": [
    "import re\n",
    "print(re.findall(\"v*\", \"vvvvvv\")) # Greedy Match Synatx\n",
    "print(re.findall(\"v*?\", \"vvvvvv\")) # Non Greddy Syntax"
   ]
  },
  {
   "cell_type": "code",
   "execution_count": null,
   "id": "b271360a",
   "metadata": {},
   "outputs": [],
   "source": [
    "Q2. When exactly does greedy versus non-greedy make a difference? What if you're looking for a non-greedy match but the \n",
    "    only one available is greedy?\n",
    "    \n",
    "Ans:-\n",
    "     The Greedy Match will try to match as many repititions of the quantified patterns as possible. The Non Greedy Match\n",
    "     will try to match as few repititions of the  quantified patterns as possible. If only non greedy match is available\n",
    "     we can use other filtering or patterns matching method regex and further identify the required pattern.\n",
    "    "
   ]
  },
  {
   "cell_type": "code",
   "execution_count": null,
   "id": "17663e5a",
   "metadata": {},
   "outputs": [],
   "source": [
    "Q3. In a simple match of a string, which looks only for one match and does not do any replacement, is the use of a \n",
    "    nontagged group likely to make any practical difference?\n",
    "    \n",
    "Ans:-\n",
    "    In this case The Non Tagged group will not make any difference in the case."
   ]
  },
  {
   "cell_type": "code",
   "execution_count": 1,
   "id": "be8bdae0",
   "metadata": {},
   "outputs": [
    {
     "name": "stdout",
     "output_type": "stream",
     "text": [
      "phone number found -> 234\n",
      "phone number found -> 234\n"
     ]
    }
   ],
   "source": [
    "import re\n",
    "PhoneNumRegex = re.compile(r'\\d\\d\\d')\n",
    "num = PhoneNumRegex.search('My number is 234-567-8901.')\n",
    "print(f'phone number found -> {num.group()}')   # Non tagged group\n",
    "print(f'phone number found -> {num.group(0)}')  # tagged group"
   ]
  },
  {
   "cell_type": "code",
   "execution_count": null,
   "id": "33bfd335",
   "metadata": {},
   "outputs": [],
   "source": [
    "Q4. Describe a scenario in which using a nontagged category would have a significant impact on the program's outcomes ?\n",
    "\n",
    "Ans:-\n",
    "    Here in the below Code snippet . decimal is not tagged or captured. It will useful in the scenarios where the seperator\n",
    "    of the value in a string is of no use and we need to capture only the values."
   ]
  },
  {
   "cell_type": "code",
   "execution_count": 3,
   "id": "17e4e99c",
   "metadata": {},
   "outputs": [
    {
     "data": {
      "text/plain": [
       "('135', '456')"
      ]
     },
     "execution_count": 3,
     "metadata": {},
     "output_type": "execute_result"
    }
   ],
   "source": [
    "import re\n",
    "text = '135.456'\n",
    "pattern = r'(\\d+)(?:.)(\\d+)'\n",
    "regobj=re.compile(pattern)\n",
    "matobj=regobj.search(text)\n",
    "matobj.groups()"
   ]
  },
  {
   "cell_type": "code",
   "execution_count": null,
   "id": "eaffeb8d",
   "metadata": {},
   "outputs": [],
   "source": [
    "Q5. Unlike a normal regex pattern, a look-ahead condition does not consume the characters it examines. Describe a situation\n",
    "    in which this could make a difference in the results of your programme ?\n",
    "    \n",
    "Ans:-\n",
    "    While counting the number of multiple lines or mutiple sentence in a string the positive look ahead makes a difference,\n",
    "    without which we wont get the correct count of lines or sentences in a string"
   ]
  },
  {
   "cell_type": "code",
   "execution_count": null,
   "id": "7638beb1",
   "metadata": {},
   "outputs": [],
   "source": [
    "Q6. In standard expressions, what is the difference between positive look-ahead and negative look-ahead ?\n",
    "\n",
    "Ans:-\n",
    "    Positive lookahead allows to add a condition for what follows> Negetive Lookahead is similar, but it looks behind. That\n",
    "    is it allows to match a pattern only if something before it."
   ]
  },
  {
   "cell_type": "code",
   "execution_count": null,
   "id": "6ee41a19",
   "metadata": {},
   "outputs": [],
   "source": [
    "Q7. What is the benefit of referring to groups by name rather than by number in a standard expression?\n",
    "\n",
    "Ans:-\n",
    "    Refering to groups by name rather than a by number in a standadard expression helps to keep the code clear and easy to \n",
    "    understand. "
   ]
  },
  {
   "cell_type": "code",
   "execution_count": null,
   "id": "537f138d",
   "metadata": {},
   "outputs": [],
   "source": [
    "Q8. Can you identify repeated items within a target string using named groups, as in \"The cow jumped over the moon\"?\n",
    "\n",
    "Ans:-\n",
    "    "
   ]
  },
  {
   "cell_type": "code",
   "execution_count": 4,
   "id": "94245f18",
   "metadata": {},
   "outputs": [
    {
     "data": {
      "text/plain": [
       "['The', 'the']"
      ]
     },
     "execution_count": 4,
     "metadata": {},
     "output_type": "execute_result"
    }
   ],
   "source": [
    "import re\n",
    "text = 'The cow jumped over the moon'\n",
    "regobj = re.compile(r'(?P<w1>The)', re.I)\n",
    "regobj.findall(text)"
   ]
  },
  {
   "cell_type": "code",
   "execution_count": null,
   "id": "3f6d0e29",
   "metadata": {},
   "outputs": [],
   "source": [
    "Q9. When parsing a string, what is at least one thing that the Scanner interface does for you that the re.findall feature \n",
    "    does not ?\n",
    "    \n",
    "Ans:-\n",
    "    re.findall() module is used to search for all occurences that match a given pattern. In contrast re.search() will only\n",
    "    return the first occurences that matches the specified pattern. re.findall() will iterate over all the lines of the \n",
    "    file and return all non-overlapping matches of pattern in a single step."
   ]
  },
  {
   "cell_type": "code",
   "execution_count": null,
   "id": "da4676f0",
   "metadata": {},
   "outputs": [],
   "source": [
    "Q10. Does a scanner object have to be named scanner?\n",
    "\n",
    "Ans:-\n",
    "    Yes, It may have any name."
   ]
  }
 ],
 "metadata": {
  "kernelspec": {
   "display_name": "Python 3",
   "language": "python",
   "name": "python3"
  },
  "language_info": {
   "codemirror_mode": {
    "name": "ipython",
    "version": 3
   },
   "file_extension": ".py",
   "mimetype": "text/x-python",
   "name": "python",
   "nbconvert_exporter": "python",
   "pygments_lexer": "ipython3",
   "version": "3.8.8"
  }
 },
 "nbformat": 4,
 "nbformat_minor": 5
}

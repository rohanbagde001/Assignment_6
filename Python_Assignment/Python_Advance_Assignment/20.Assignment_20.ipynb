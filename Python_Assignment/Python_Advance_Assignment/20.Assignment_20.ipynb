{
 "cells": [
  {
   "cell_type": "code",
   "execution_count": null,
   "id": "93d59f31",
   "metadata": {},
   "outputs": [],
   "source": [
    "1. Compare and contrast the float and Decimal classes' benefits and drawbacks ?\n",
    "\n",
    "Ans:-\n",
    "    Both float and decimal types store numerical value in python.\n",
    "    \n",
    "    Use float when speed and convenience matters. A flaot gives you approximation of the number you declare.\n",
    "    \n",
    "    Use decimals when precision matters. Decimal can suffer from their own precision issues, but generally decimals are \n",
    "    more precise than floats. The performance difference between float and decimal, with python3, is not outlandish, and \n",
    "    in my experience the precision benifit of decimal outweigh the performance benifits of a float.\n",
    "    "
   ]
  },
  {
   "cell_type": "code",
   "execution_count": null,
   "id": "29ba1739",
   "metadata": {},
   "outputs": [],
   "source": [
    "2. Decimal('1.200') and Decimal('1.2') are two objects to consider. In what sense are these the same object? Are these \n",
    "   just two ways of representing the exact same value, or do they correspond to different internal states ?\n",
    "    \n",
    "Ans:-\n",
    "    Both values are same but internal representation of storage is different. Precision differs Decimal('1.200') gives \n",
    "    internally 1.200 and Decimal('1.2') gives 1.2"
   ]
  },
  {
   "cell_type": "code",
   "execution_count": null,
   "id": "a75ff5c0",
   "metadata": {},
   "outputs": [],
   "source": [
    "3. What happens if the equality of Decimal('1.200') and Decimal('1.2') is checked ?\n",
    "\n",
    "Ans:-\n",
    "    Both values are checked to be equal, the only differs in precision."
   ]
  },
  {
   "cell_type": "code",
   "execution_count": null,
   "id": "d31a3205",
   "metadata": {},
   "outputs": [],
   "source": [
    "4. Why is it preferable to start a Decimal object with a string rather than a floating-point value ?\n",
    "\n",
    "Ans:-\n",
    "    Floating point value is converted to decimal format. Decimal can store float value with absolute precision. But when \n",
    "    float value is given as decimal object it first it has to be converted from floating point value which might have \n",
    "    rounding error.\n",
    "    \n",
    "    Hence it is preferable to start decimal object with a string."
   ]
  },
  {
   "cell_type": "code",
   "execution_count": null,
   "id": "fb3e9c33",
   "metadata": {},
   "outputs": [],
   "source": [
    "5. In an arithmetic phrase, how simple is it to combine Decimal objects with integers ?\n",
    "\n",
    "Ans:-\n",
    "    We can do with use of Decimal()."
   ]
  },
  {
   "cell_type": "code",
   "execution_count": null,
   "id": "1d5d1f87",
   "metadata": {},
   "outputs": [],
   "source": [
    "6. Can Decimal objects and floating-point values be combined easily ?\n",
    "\n",
    "Ans:-\n",
    "    Arithematic operation like adding, subtracting or multiplying a decimal numbers object by a floating point value is\n",
    "    generate an error.\n",
    "    \n",
    "    To do these type of operations, floating point has to be converted into decimals."
   ]
  },
  {
   "cell_type": "code",
   "execution_count": null,
   "id": "5a488932",
   "metadata": {},
   "outputs": [],
   "source": [
    "7. Using the Fraction class but not the Decimal class, give an example of a quantity that can be expressed with absolute \n",
    "   precision ?\n",
    "    \n",
    "Ans:-\n",
    "    value of 0.5 will be represented as 1/2."
   ]
  },
  {
   "cell_type": "code",
   "execution_count": null,
   "id": "48951870",
   "metadata": {},
   "outputs": [],
   "source": [
    "8. Consider the following two fraction objects: Fraction(1, 2) and Fraction(1, 2). (5, 10). Is the internal state of these \n",
    "   two objects the same? Why do you think that is ?\n",
    "\n",
    "Ans:-\n",
    "    Both will be reduced to 1/2."
   ]
  },
  {
   "cell_type": "code",
   "execution_count": null,
   "id": "c29d0344",
   "metadata": {},
   "outputs": [],
   "source": [
    "9. How do the Fraction class and the integer type (int) relate to each other? Containment or inheritance ?\n",
    "\n",
    "Ans:-\n",
    "    Fraction class and integer type(int) are related in form of container. It contains a two int. one is numerator and \n",
    "    other is denominator."
   ]
  }
 ],
 "metadata": {
  "kernelspec": {
   "display_name": "Python 3",
   "language": "python",
   "name": "python3"
  },
  "language_info": {
   "codemirror_mode": {
    "name": "ipython",
    "version": 3
   },
   "file_extension": ".py",
   "mimetype": "text/x-python",
   "name": "python",
   "nbconvert_exporter": "python",
   "pygments_lexer": "ipython3",
   "version": "3.8.8"
  }
 },
 "nbformat": 4,
 "nbformat_minor": 5
}

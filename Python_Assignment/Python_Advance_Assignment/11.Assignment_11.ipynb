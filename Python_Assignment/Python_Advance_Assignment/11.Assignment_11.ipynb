{
 "cells": [
  {
   "cell_type": "code",
   "execution_count": null,
   "id": "cf1afc8c",
   "metadata": {},
   "outputs": [],
   "source": [
    "Q1. What is the concept of a metaclass?\n",
    "\n",
    "Ans:-\n",
    "    Metaclass in a python is a class of class that defines how class behaves. A class is tself instance of a Metaclass,\n",
    "    and any Instance of a class in a python is an instance of type Metaclass. E.g. Type of int, str, float, list, tuple\n",
    "    and many more is of metaclass type."
   ]
  },
  {
   "cell_type": "code",
   "execution_count": null,
   "id": "f97a1902",
   "metadata": {},
   "outputs": [],
   "source": [
    "Q2. What is the best way to declare a class's metaclass?\n",
    "\n",
    "Ans:-\n",
    "    A way to decalre a class' metaclass by using metaclass keyword in class defination"
   ]
  },
  {
   "cell_type": "code",
   "execution_count": 2,
   "id": "321796f8",
   "metadata": {},
   "outputs": [
    {
     "name": "stdout",
     "output_type": "stream",
     "text": [
      "<class 'type'>\n",
      "<class '__main__.meta'>\n"
     ]
    }
   ],
   "source": [
    "class meta(type):\n",
    "    pass\n",
    "class class_meta(metaclass = meta):\n",
    "    pass\n",
    "\n",
    "print(type(meta))\n",
    "print(type(class_meata))"
   ]
  },
  {
   "cell_type": "code",
   "execution_count": null,
   "id": "d4e25325",
   "metadata": {},
   "outputs": [],
   "source": [
    "Q3. How do class decorators overlap with metaclasses for handling classes ?\n",
    "\n",
    "Ans:-\n",
    "    Anything you can do with class descorator, you can ofcource do with a custom metaclasses(just apply the functionality\n",
    "    of the \"decorator function\", i.e., the one that takes the class object and modifies it, in the cource of the metaclass's\n",
    "    __new__ or __init__ that takes the class object!).\n",
    " "
   ]
  },
  {
   "cell_type": "code",
   "execution_count": null,
   "id": "0c7f3c4a",
   "metadata": {},
   "outputs": [],
   "source": [
    "Q4. How do class decorators overlap with metaclasses for handling instances?\n",
    "\n",
    "Ans:-\n",
    "    Anything you can do with class descorator, you can ofcource do with a custom metaclasses(just apply the functionality\n",
    "    of the \"decorator function\", i.e., the one that takes the class object and modifies it, in the cource of the metaclass's\n",
    "    __new__ or __init__ that takes the class object!).\n",
    " "
   ]
  }
 ],
 "metadata": {
  "kernelspec": {
   "display_name": "Python 3",
   "language": "python",
   "name": "python3"
  },
  "language_info": {
   "codemirror_mode": {
    "name": "ipython",
    "version": 3
   },
   "file_extension": ".py",
   "mimetype": "text/x-python",
   "name": "python",
   "nbconvert_exporter": "python",
   "pygments_lexer": "ipython3",
   "version": "3.8.8"
  }
 },
 "nbformat": 4,
 "nbformat_minor": 5
}

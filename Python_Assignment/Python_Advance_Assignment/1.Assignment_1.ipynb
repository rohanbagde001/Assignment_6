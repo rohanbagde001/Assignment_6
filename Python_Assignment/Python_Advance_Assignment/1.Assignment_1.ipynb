{
 "cells": [
  {
   "cell_type": "raw",
   "id": "3148f0af",
   "metadata": {},
   "source": [
    "Q1. What is the purpose of Python's OOP?\n",
    "\n",
    "Ans:- object oriented programming is a programming paradigm that provides a means of structuring programs so that \n",
    "      properties and behaviour are bundled into individual objects.\n",
    "      \n",
    "      1. In python object oriented programming(OOPs) uses object and classes in programming\n",
    "      2. It aims to implement real-world entities like inheritance, polymorphism and encapsulation in programming.\n",
    "      3. The main concept of OOPs is to bind data and the functions that work on the together as a single unit so that\n",
    "         no other part of the code can access the data.\n",
    "      It comes with the following advantages.\n",
    "      \n",
    "      1. It helps to divide our over all program into different small segments and thus making it solving with the use\n",
    "         of objects.\n",
    "      2. Helps in easy maintainace and modification of existing programme.\n",
    "      3. Multiple instances of an object can be made.\n",
    "      "
   ]
  },
  {
   "cell_type": "raw",
   "id": "b40b1347",
   "metadata": {},
   "source": [
    "Q2. Where does an inheritance search look for an attribute?\n",
    "\n",
    "Ans:-\n",
    "    Python searches for an attribute in an upward tree of attributes. it first searches for the attributes in its instance\n",
    "    and then looks in the class it is generated from, to all super clasees listed in its class header."
   ]
  },
  {
   "cell_type": "raw",
   "id": "050db7a3",
   "metadata": {},
   "source": [
    "Q3. How do you distinguish between a class object and an instance object?\n",
    "\n",
    "Ans:-\n",
    "    The difference between class object and instance object are:\n",
    "    \n",
    "    1. Class is a template for creating a objects where object is an instance of a class\n",
    "    2. seperate memory is allocated for each object whenever an object is created, but for class this not happens\n",
    "    3. A class is created once. Many objects can created using a class.\n",
    "    4. As a classes have no allocated in memory. they can't be manipulated but objects can be manipulated."
   ]
  },
  {
   "cell_type": "raw",
   "id": "c282a13c",
   "metadata": {},
   "source": [
    "Q4. What makes the first argument in a class’s method function special?\n",
    "\n",
    "Ans:-\n",
    "    Python classes have three types of methods which are:\n",
    "        1. Instance Methods (object level methods)\n",
    "        2. Class Methods (class level methods)\n",
    "        3. Static methods (generally utility methods)\n",
    "        Self is the first argument for the instances methods. which refers to the objects itself.\n",
    "        cls is the first argument for class methods which refers to the class itself."
   ]
  },
  {
   "cell_type": "raw",
   "id": "abcbe562",
   "metadata": {},
   "source": [
    "Q5. What is the purpose of the init method?\n",
    "\n",
    "Ans:-\n",
    "    __init__ is a reserved method in a python classes. It serves the role of a constructor in object oriented terminology\n",
    "    This method is called when an object is created from a class and it allows a class to initialize the attributes of\n",
    "    the class."
   ]
  },
  {
   "cell_type": "raw",
   "id": "a4457dd4",
   "metadata": {},
   "source": [
    "Q6. What is the process for creating a class instance?\n",
    "\n",
    "Ans:-\n",
    "    To create a class instance, we need to call the class by its name and pass the arguments to the class, which is init \n",
    "    methods accepts."
   ]
  },
  {
   "cell_type": "raw",
   "id": "4bd23ae1",
   "metadata": {},
   "source": [
    "Q7. What is the process for creating a class?\n",
    "\n",
    "Ans:-\n",
    "    class keyword is used to created a class in a python. The syntax to create a class in python is class <classname>:\n",
    "    \n",
    "    eg. class Car:      #This creates the class car"
   ]
  },
  {
   "cell_type": "raw",
   "id": "e38f6f27",
   "metadata": {},
   "source": [
    "Q8. How would you define the superclasses of a class?\n",
    "\n",
    "Ans:-\n",
    "    Superclass/parent class is given as a argument to the child class.\n",
    "    \n",
    "    eg.   class Employee(person):  Here child class Employee inherits the attribute and methods from a           superclass/parentclass"
   ]
  },
  {
   "cell_type": "code",
   "execution_count": null,
   "id": "5482b4d9",
   "metadata": {},
   "outputs": [],
   "source": []
  }
 ],
 "metadata": {
  "kernelspec": {
   "display_name": "Python 3",
   "language": "python",
   "name": "python3"
  },
  "language_info": {
   "codemirror_mode": {
    "name": "ipython",
    "version": 3
   },
   "file_extension": ".py",
   "mimetype": "text/x-python",
   "name": "python",
   "nbconvert_exporter": "python",
   "pygments_lexer": "ipython3",
   "version": "3.8.8"
  }
 },
 "nbformat": 4,
 "nbformat_minor": 5
}

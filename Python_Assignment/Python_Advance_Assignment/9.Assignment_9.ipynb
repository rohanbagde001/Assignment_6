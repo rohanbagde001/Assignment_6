{
 "cells": [
  {
   "cell_type": "code",
   "execution_count": null,
   "id": "986e9980",
   "metadata": {},
   "outputs": [],
   "source": [
    "Q1. In Python 3.X, what are the names and functions of string object types?\n",
    "\n",
    "Ans:-\n",
    "    The following are the names and functions of string object types in python 3.X\n",
    "    \n",
    "    <stirng>.isdecimal() -> Returns True if all characters in a string are decimal.\n",
    "    <string>.isalnum() -> Returns True if all characters in the string are AlphaNumeric.\n",
    "    <string>.istitle() -> Returns True if first character in a string is in Uppercase.\n",
    "    <string>.partition(<sub_string>) -> Splits string at first occurance of sub string and returns a tuple of 3 elements.\n",
    "    <string>.rpartition(<sub_string>) -> Splits string at last occurance of sub string and returns a tuple of 3 elements.\n",
    "    <string>.isidentifier() -> Returns True if give string is a valid identifier name.\n",
    "    len(<string>) -> Returns the length of the given string.\n",
    "    <string>.index(<sub_string>) -> Returns the lowest index of substring if substring is found in the string.\n",
    "    <string>.rindex(<sub_string>) -> Returns the highest index of substring if substring is found in the string.\n",
    "    max(<string>) -> Returns the highest Alphabetical Character in the string as per ASCII.\n",
    "    min(<string>) -> Returns the lowest Alphabetical Character in the string as per ASCII.\n",
    "    <string>.splitlines() -> Returns a list of lines in the string.\n",
    "    <string>.capitalize() -> Returns the string with first character capitalized.\n",
    "    <string>.upper() -> Returns the string with all characters in uppercase.\n",
    "    <string>.lower() -> Returns the string with all characters in lowercase\n",
    "    <string>.casefold() -> Returns the string in lowercase which can be used for caseless comparisions.\n",
    "    <string>.expandtabs(no_of_spaces) -> Replaces tabs in a string with specified no of spaces default is 8\n",
    "    <string>.find(<sub_string>) -> Returns lowest index of substring if substring is found in the string else returns -1.\n",
    "    <string>.rfind(<sub_string>) -> Returns highest index of substring if substring is found in the string else returns -1.\n",
    "    <string>.count(<char>) -> Returns the no of occurances of the char in the given string.\n",
    "    <string>.split(<sep>) -> Returns list of words seperated by given sep else seperated by whitespace.\n",
    "    <string>.rsplit(<sep>) -> Returns list of words seperated by given sep else seperated by whitespace scanning from end.\n",
    "    <string>.lstrip() -> Returns a copy of where leading whitespaces are removed.\n",
    "    <string>.rstrip() -> Returns a copy of where trailed whitespaces are removed.\n",
    "    <string>.strip() -> Returns a copy of where both leading and trailing whitespaces are removed.\n",
    "    <string>.swapcase() -> Swaps lowercase characters with uppercase and vice versa.\n",
    "    <sep>.join(<list>) -> Concatenates a list or tuple of words with intervening occuernces of sep.\n",
    "    <string>.translate(<mapping_table>) -> translates the characters using table.\n",
    "    <string>.maketrans(<dict>) -> Creating a mapping translation tbale usable for <string>.translate(<mapping_table>)\n",
    "    <string>.replace(<char_1>,<char_2>) -> Replace all occurances of char_1 with char_2 in string.\n",
    "    <string>.encode() -> Encodes string into any encoding supported by python. Default encoding is UTF-8.\n",
    "    <string>.ljust(<no_of_spaces>) -> Left-justify in a field of given width.\n",
    "    <string>.rjust(<no_of_spaces>) -> Right-justify in a field of given width.\n",
    "    <string>.center(<no_of_spaces>) -> Center-justify in a field of given width.\n",
    "    <stirng>.zfill(<length>) -> Zfill adds zeros to the begining of string until the specified length is reached."
   ]
  },
  {
   "cell_type": "code",
   "execution_count": 39,
   "id": "3c6142d1",
   "metadata": {},
   "outputs": [
    {
     "name": "stdout",
     "output_type": "stream",
     "text": [
      "True\n",
      "True\n",
      "True\n",
      "('I could eat ', 'bananas', ' all day, bananas are my favourite fruit')\n",
      "('I could eat bananas all day, ', 'bananas', ' are my favourite fruit')\n",
      "True\n",
      "16\n",
      "1\n",
      "6\n",
      "t\n",
      "D\n",
      "['Ineuron ', ' Full ', ' Stack ', ' Developer']\n",
      "Finding nemo\n",
      "DATAPIPELINES\n",
      "mlops\n",
      "dolaris jame umbridge\n",
      "Data Science        Data Analyst\n",
      "1\n",
      "6\n",
      "2\n",
      "['I', 'euro', '']\n",
      "['I', 'euro', '']\n",
      "EDA   \n",
      "  EDA\n",
      "EDA\n",
      "eXPLORATORY dATA aNALYSIS\n",
      "Iris_flower_Dataset\n",
      "Hello Pam!\n",
      "{83: 80}\n",
      "I2euro2\n",
      "b'Natual Language Processing'\n",
      "Nemo      \n",
      "      Nemo\n",
      "   Nemo   \n",
      "000000Nemo\n"
     ]
    }
   ],
   "source": [
    "print('12345'.isdecimal())\n",
    "print('IneuronfukkStackDS'.isalnum())\n",
    "print('Ineuron'.istitle())\n",
    "print('I could eat bananas all day, bananas are my favourite fruit'.partition('bananas'))\n",
    "print('I could eat bananas all day, bananas are my favourite fruit'.rpartition('bananas'))\n",
    "print('Rohan'.isidentifier())\n",
    "print(len('Machine Learning'))\n",
    "print('Ineuron'.index('n'))\n",
    "print('Ineuron'.rindex('n'))\n",
    "print(max('Data_Scientist'))\n",
    "print(min('Data_Scientist'))\n",
    "print('Ineuron \\n Full \\n Stack \\n Developer'.splitlines())\n",
    "print('finding nemo'.capitalize())\n",
    "print('datapipelines'.upper())\n",
    "print('MLOPS'.lower())\n",
    "print('Dolaris Jame Umbridge'.casefold())\n",
    "print('Data Science\\tData Analyst'.expandtabs(10))\n",
    "print('Ineuron'.find('n'))\n",
    "print('Ineuron'.rfind('n'))\n",
    "print('Transformers'.count('s'))\n",
    "print('Ineuron'.split('n'))\n",
    "print('Ineuron'.rsplit('n'))\n",
    "print('  EDA   '.lstrip())\n",
    "print('  EDA   '.rstrip())\n",
    "print('  EDA   '.strip())\n",
    "print('Exploratory Data Analysis'.swapcase())\n",
    "print('_'.join(['Iris','flower','Dataset']))\n",
    "\n",
    "my_dict = {83:80}\n",
    "print(\"Hello Sam!\".translate(my_dict))\n",
    "\n",
    "txt = 'Hello Sam!'\n",
    "mytable = txt.maketrans(\"S\",\"P\")\n",
    "print(txt.maketrans(mytable))\n",
    "\n",
    "print('Ineuron'.replace('n','2'))\n",
    "print('Natual Language Processing'.encode())\n",
    "print('Nemo'.ljust(10))\n",
    "print('Nemo'.rjust(10))\n",
    "print('Nemo'.center(10))\n",
    "print('Nemo'.zfill(10))"
   ]
  },
  {
   "cell_type": "code",
   "execution_count": null,
   "id": "b05f918e",
   "metadata": {},
   "outputs": [],
   "source": [
    "Q2. How do the string forms in Python 3.X vary in terms of operations?\n",
    "\n",
    "Ans:-\n",
    "    In python 3 default format of strings is Unicode whereas in python 2 we need to explicitly mention Unicode value using u."
   ]
  },
  {
   "cell_type": "code",
   "execution_count": null,
   "id": "7e9d130e",
   "metadata": {},
   "outputs": [],
   "source": [
    "Q3. In Python 3.X, how do you put non-ASCII Unicode characters in a string?\n",
    "\n",
    "Ans:-"
   ]
  },
  {
   "cell_type": "code",
   "execution_count": 44,
   "id": "8823c3f1",
   "metadata": {},
   "outputs": [
    {
     "name": "stdout",
     "output_type": "stream",
     "text": [
      "kozuscek\n",
      "aap niice apnii bhaassaa aur inputt upkrnn cuneN aur likhnaa aarNbh kreN\n",
      "Xie Xie Ni \n",
      "arigatou. \n",
      "ulybat'sia Vladimir Putin\n"
     ]
    }
   ],
   "source": [
    "from unidecode import unidecode\n",
    "print(unidecode(u'ko\\u017eu\\u0161\\u010dek'))\n",
    "print(unidecode(\"आप नीचे अपनी भाषा और इनपुट उपकरण चुनें और लिखना आरंभ करें\"))\n",
    "print(unidecode(\"谢谢你\"))\n",
    "print(unidecode(\"ありがとう。\"))\n",
    "print(unidecode(\"улыбаться Владимир Путин\"))"
   ]
  },
  {
   "cell_type": "code",
   "execution_count": null,
   "id": "26234aae",
   "metadata": {},
   "outputs": [],
   "source": [
    "Q4. In Python 3.X, what are the key differences between text-mode and binary-mode files?\n",
    "\n",
    "Ans:-\n",
    "    The major differnce between these two is that a text file contains textual information in the forms of alphabets, \n",
    "    digits and special charecter or symbols. On the other hand, a binary file contains a bytes or compilled version \n",
    "    of the text file.\n",
    "    \n",
    "    when a file is opened in text mode, reading it's data automatically decodes its content (as per the platform default\n",
    "    or as per the provided encoding), and returns it as a str; writting operation takes a str, and automatically encodes\n",
    "    it before transferring  to the file. Text mode file also support universal end-of-line translation, and encoding\n",
    "    specification arguments.\n",
    "    \n",
    "    When a file is opened in a binary by adding a 'b' to the mode string argument in the open() call, reading its data\n",
    "    does not decode it in any way, and simply returns its content in a raw and unchanged, as a bytes object; writting\n",
    "    takes a bytes object and transfer it to the file unchanged. Binary-mode files also accept a bytearray object for\n",
    "    the content to the return to the file."
   ]
  },
  {
   "cell_type": "code",
   "execution_count": null,
   "id": "822dd011",
   "metadata": {},
   "outputs": [],
   "source": [
    "Q5. How can you interpret a Unicode text file containing text encoded in a different encoding than your platform's default?\n",
    "\n",
    "Ans:-\n",
    "    Use of encode() and decode() method can be used to you interpret a Unicode text file containing text encoded in a \n",
    "    different encoding than your platform's default, by default encoding parameter is UTF-8"
   ]
  },
  {
   "cell_type": "code",
   "execution_count": null,
   "id": "7a375731",
   "metadata": {},
   "outputs": [],
   "source": [
    "Q6. What is the best way to make a Unicode text file in a particular encoding format?\n",
    "\n",
    "Ans:-\n",
    "    Use str.encode() and file.write() to make a unicode text file in a particular encoding format, default encoding format\n",
    "    is UTF-8\n",
    "    \n",
    "    Call str.encode(encoding) with encoding set to utf8.\n",
    "    \n",
    "    Call open(file,mode) to open a file with a mode set to wb, wb writes to files in a binary mode&preserves UTF-8 format.\n",
    "    \n",
    "    Call file.write(data) to write data to the file."
   ]
  },
  {
   "cell_type": "code",
   "execution_count": 54,
   "id": "b5087b93",
   "metadata": {},
   "outputs": [
    {
     "name": "stdout",
     "output_type": "stream",
     "text": [
      "b'\\xd1\\x83\\xd0\\xbb\\xd1\\x8b\\xd0\\xb1\\xd0\\xb0\\xd1\\x82\\xd1\\x8c\\xd1\\x81\\xd1\\x8f \\xd0\\x92\\xd0\\xbb\\xd0\\xb0\\xd0\\xb4\\xd0\\xb8\\xd0\\xbc\\xd0\\xb8\\xd1\\x80 \\xd0\\x9f\\xd1\\x83\\xd1\\x82\\xd0\\xb8\\xd0\\xbd'\n",
      "\n",
      "b'\\xd1\\x83\\xd0\\xbb\\xd1\\x8b\\xd0\\xb1\\xd0\\xb0\\xd1\\x82\\xd1\\x8c\\xd1\\x81\\xd1\\x8f \\xd0\\x92\\xd0\\xbb\\xd0\\xb0\\xd0\\xb4\\xd0\\xb8\\xd0\\xbc\\xd0\\xb8\\xd1\\x80 \\xd0\\x9f\\xd1\\x83\\xd1\\x82\\xd0\\xb8\\xd0\\xbd'\n"
     ]
    }
   ],
   "source": [
    "unicode_text =  u\"улыбаться Владимир Путин\"\n",
    "encoded_unicode_text = unicode_text.encode('utf-8')\n",
    "print(encoded_unicode_text, end='\\n\\n')\n",
    "\n",
    "w_file = open(\"w_file.txt\",\"wb\")\n",
    "w_file.write(encoded_unicode_text)\n",
    "w_file.close()\n",
    "\n",
    "r_file = open('w_file.txt','rb')\n",
    "data = r_file.read()\n",
    "print(data)"
   ]
  },
  {
   "cell_type": "code",
   "execution_count": 53,
   "id": "cac33081",
   "metadata": {},
   "outputs": [],
   "source": [
    "Q7. What qualifies ASCII text as a form of Unicode text?\n",
    "\n",
    "Ans:-\n",
    "    Unicode represents most written language in the world. ASCII has its equivalent in Unicode. The difference between\n",
    "    ASCII and unicode is that ASCII represents lowercase letters (a-z), uppercase letters(A-Z), digits (0-9) and symbols\n",
    "    such as punctuation marks while Unicode represents letters of English, Arabic, Greek etc. mathematical symbols,\n",
    "    historical scripts, emoji covering a wide range of charecters of ASCII."
   ]
  },
  {
   "cell_type": "code",
   "execution_count": null,
   "id": "be6a5804",
   "metadata": {},
   "outputs": [],
   "source": [
    "Q8. How much of an effect does the change in string types in Python 3.X have on your code?\n",
    "\n",
    "Ans:-\n",
    "    Python 3 stores string as unicode by default whereas Python2 requires you to mark string with a u if you want to \n",
    "    store it as a unicode stings are more versatile than ASCII strings, which are the python 3.X default, as they can\n",
    "    store letters from foreign languages as well as emoji and the standard Roman letters and numerals."
   ]
  }
 ],
 "metadata": {
  "kernelspec": {
   "display_name": "Python 3",
   "language": "python",
   "name": "python3"
  },
  "language_info": {
   "codemirror_mode": {
    "name": "ipython",
    "version": 3
   },
   "file_extension": ".py",
   "mimetype": "text/x-python",
   "name": "python",
   "nbconvert_exporter": "python",
   "pygments_lexer": "ipython3",
   "version": "3.8.8"
  }
 },
 "nbformat": 4,
 "nbformat_minor": 5
}

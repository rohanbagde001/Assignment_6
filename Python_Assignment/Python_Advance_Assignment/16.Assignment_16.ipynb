{
 "cells": [
  {
   "cell_type": "code",
   "execution_count": null,
   "id": "61d034f2",
   "metadata": {},
   "outputs": [],
   "source": [
    "Q1. What is the benefit of regular expressions?\n",
    "\n",
    "Ans:-\n",
    "    Regular Expression also known as regex or regexp, are used to match string of text such as particular charecters words,\n",
    "    or patterns of charecters. It mean that we can match and extract any string pattern from the text with the help of\n",
    "    regular expressions. it helps the programmer to write less and cleaner code. it also avoids a multiple use of if/else\n",
    "    statements."
   ]
  },
  {
   "cell_type": "code",
   "execution_count": null,
   "id": "a7955c17",
   "metadata": {},
   "outputs": [],
   "source": [
    "Q2. Describe the difference between the effects of \"(ab)c+\" and \"a(bc)+\" Which of these, if any, is the unqualified \n",
    "    pattern \"abc+\"?\n",
    "    \n",
    "Ans:-\n",
    "    Both (ab)c+ and a(bc)+ are valid patterns. The difference between both these patterns is in (ab)c+ ab is a group \n",
    "    whereas a(bc)+ bc is a group."
   ]
  },
  {
   "cell_type": "code",
   "execution_count": null,
   "id": "49985dc5",
   "metadata": {},
   "outputs": [],
   "source": [
    "Q3. How much do you need to use the following sentence while using regular expressions?\n",
    "   import re\n",
    "    \n",
    "Ans:-\n",
    "    import re statement always has to be imported before using regular expression.\n"
   ]
  },
  {
   "cell_type": "code",
   "execution_count": null,
   "id": "119cb9a6",
   "metadata": {},
   "outputs": [],
   "source": [
    "Q4. Which characters have special significance in square brackets when expressing a range, and under what circumstances?\n",
    "\n",
    "Ans:-\n",
    "    The Charecters . , * , ? , ^ , or , () , have a special significance when used with square brackets. They need not be \n",
    "    explicitly escaped by \\ as in case of patterns text in a raw string."
   ]
  },
  {
   "cell_type": "code",
   "execution_count": null,
   "id": "aad491ed",
   "metadata": {},
   "outputs": [],
   "source": [
    "Q5. How does compiling a regular-expression object benefit you?\n",
    "\n",
    "Ans:-\n",
    "    We can combine a regular expression patterns into pattern Objects. Which can be used for pattern matching.it also helps\n",
    "    to search a pattern without rewritting it."
   ]
  },
  {
   "cell_type": "code",
   "execution_count": null,
   "id": "e4697d2b",
   "metadata": {},
   "outputs": [],
   "source": [
    "Q6. What are some examples of how to use the match object returned by re.match and re.search?\n",
    "\n",
    "Ans:-\n",
    "    The re.search() and re.match() both are functions of re module in python. These functions are very efficient and fast \n",
    "    for searching in strings. The function searches for some substring in a string and returns a match object if found, \n",
    "    else it returns none.\n",
    "    \n",
    "    There is a difference between the use of both functions. Both return the first match of the substring found in the \n",
    "    string, but re.match() searches only from the begining of the string and return match object if found. But if a match\n",
    "    of substring is found somewhere in the middle of the string, it returns none.\n",
    "    \n",
    "    While re.search() searches for the whole string even if the string contains multi-lines and tries to find the match of \n",
    "    the substring in all the lines of string."
   ]
  },
  {
   "cell_type": "code",
   "execution_count": 1,
   "id": "c6c2e7d4",
   "metadata": {},
   "outputs": [
    {
     "name": "stdout",
     "output_type": "stream",
     "text": [
      "<re.Match object; span=(60, 66), match='string'>\n",
      "None\n",
      "<re.Match object; span=(0, 6), match='string'>\n",
      "<re.Match object; span=(0, 6), match='string'>\n"
     ]
    }
   ],
   "source": [
    "import re\n",
    "substring = 'string'\n",
    "string1 = 'We are learning regex with iNeuron regex is very useful for string matching. It is Fast too.'\n",
    "string2 = 'string we are learning regex with iNeuron regex is very useful for string matching. It is fast too.'\n",
    "print(re.search(substring,string1,re.IGNORECASE))\n",
    "print(re.match(substring,string1, re.IGNORECASE))\n",
    "print(re.search(substring, string2, re.IGNORECASE))\n",
    "print(re.match(substring,string2, re.IGNORECASE))"
   ]
  },
  {
   "cell_type": "code",
   "execution_count": null,
   "id": "5aa3ff6c",
   "metadata": {},
   "outputs": [],
   "source": [
    "Q7. What is the difference between using a vertical bar (|) as an alteration and using square brackets as a character set?\n",
    "\n",
    "Ans:-\n",
    "    When | is used then patterns searches for or option. i.e. <pattern_1>|<pattern_2> means it searches as <pattern_1>or<pattern_2>\n",
    "    in the searches string . The first occurence of the matched string will be returned as a match object. Using the charecter\n",
    "    set in a square bracket searches for the all charecters set in the square bracket and if match is found, it returns it."
   ]
  },
  {
   "cell_type": "code",
   "execution_count": null,
   "id": "84e9182e",
   "metadata": {},
   "outputs": [],
   "source": [
    "Q8. In regular-expression search patterns, why is it necessary to use the raw-string indicator (r)? In replacement strings?\n",
    "\n",
    "Ans:-\n",
    "    Raw string are used in the regular expression search patterns, so that blackslashes so not have to be escaped. "
   ]
  }
 ],
 "metadata": {
  "kernelspec": {
   "display_name": "Python 3",
   "language": "python",
   "name": "python3"
  },
  "language_info": {
   "codemirror_mode": {
    "name": "ipython",
    "version": 3
   },
   "file_extension": ".py",
   "mimetype": "text/x-python",
   "name": "python",
   "nbconvert_exporter": "python",
   "pygments_lexer": "ipython3",
   "version": "3.8.8"
  }
 },
 "nbformat": 4,
 "nbformat_minor": 5
}

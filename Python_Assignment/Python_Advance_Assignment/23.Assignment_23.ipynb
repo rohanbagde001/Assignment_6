{
 "cells": [
  {
   "cell_type": "code",
   "execution_count": null,
   "id": "076c19a0",
   "metadata": {},
   "outputs": [],
   "source": [
    "Q1. If you have any, what are your choices for increasing the comparison between different figures on the same graph?\n",
    "\n",
    "Ans:-\n",
    "    Matplotlib provides a convenient method called subplots for increasing the comparison between different figures on the\n",
    "    same graph. subplots mean a group of smaller axes(where each axis is a plot) that can exist together within a single\n",
    "    figure.\n",
    "    "
   ]
  },
  {
   "cell_type": "code",
   "execution_count": null,
   "id": "04715309",
   "metadata": {},
   "outputs": [],
   "source": [
    "Q2. Can you explain the benefit of compound interest over a higher rate of interest that does not compound after reading \n",
    "    this chapter?\n",
    "    \n",
    "Ans:-\n",
    "    compound intrest make a sum of money grow at faster rate than a simple intrest, because in addition to earning returns \n",
    "    on the money you invest, you also returns on those returns at the end of every compounding period, which could be daily\n",
    "    , monthly, quartely, annually."
   ]
  },
  {
   "cell_type": "code",
   "execution_count": null,
   "id": "07b84427",
   "metadata": {},
   "outputs": [],
   "source": [
    "Q3. What is a histogram, exactly? Name a numpy method for creating such a graph ?\n",
    "\n",
    "Ans:-\n",
    "    Histogram shows the total values of x with y. Which means at any particular position of X,Y value shows the total \n",
    "    number of counts or data below that value of x.\n",
    "    numpy.histogram() is the built in function used."
   ]
  },
  {
   "cell_type": "code",
   "execution_count": null,
   "id": "a8f087ee",
   "metadata": {},
   "outputs": [],
   "source": [
    "Q4. If necessary, how do you change the aspect ratios between the X and Y axes ?\n",
    "\n",
    "Ans:-\n",
    "    We can use figure(figsize = (10,20)) function inside the matplot.pyplot library which we scale down or up the graph."
   ]
  },
  {
   "cell_type": "code",
   "execution_count": null,
   "id": "473bfe04",
   "metadata": {},
   "outputs": [],
   "source": [
    "Q5. Compare and contrast the three types of array multiplication between two numpy arrays: dot product, outer product, \n",
    "    and regular multiplication of two numpy arrays ?\n",
    "    \n",
    "Ans:-\n",
    "    In regular multiplication values of same index get multiplied.\n",
    "    \n",
    "    In dot product there is arow wise multiplication, row of one array with column of second and so on.\n",
    "    \n",
    "    In outer multiplication every element of first array a1 will be multiply by every element of other array a2 such \n",
    "    the number of column will be equal to the number of element in another array a2."
   ]
  },
  {
   "cell_type": "code",
   "execution_count": null,
   "id": "31798e7d",
   "metadata": {},
   "outputs": [],
   "source": [
    "Q6. Before you buy a home, which numpy function will you use to measure your monthly mortgage payment ?\n",
    "\n",
    "Ans:-\n",
    "    np.pmt(rate,nper,pv) functions we will be using in order to calculate monthly mortage payment before you purchase a \n",
    "    house.\n",
    "    \n",
    "    rate =  The periodic intrest rate\n",
    "    nper =  The number of payment periods.\n",
    "    pv = The total value of the mortage loan"
   ]
  },
  {
   "cell_type": "code",
   "execution_count": null,
   "id": "e4941d38",
   "metadata": {},
   "outputs": [],
   "source": [
    "Q7. Can string data be stored in numpy arrays? If so, list at least one restriction that applies to this data ?\n",
    "\n",
    "Ans:-\n",
    "    Yes, an array can store the string.The limitation which imposed on the string data is, whenever we store the of the\n",
    "    dtype then it should keep in mind that the string which is having the maximum length is the limit."
   ]
  }
 ],
 "metadata": {
  "kernelspec": {
   "display_name": "Python 3",
   "language": "python",
   "name": "python3"
  },
  "language_info": {
   "codemirror_mode": {
    "name": "ipython",
    "version": 3
   },
   "file_extension": ".py",
   "mimetype": "text/x-python",
   "name": "python",
   "nbconvert_exporter": "python",
   "pygments_lexer": "ipython3",
   "version": "3.8.8"
  }
 },
 "nbformat": 4,
 "nbformat_minor": 5
}

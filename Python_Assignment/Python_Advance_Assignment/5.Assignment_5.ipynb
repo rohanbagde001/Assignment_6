{
 "cells": [
  {
   "cell_type": "raw",
   "id": "e51d503b",
   "metadata": {},
   "source": [
    "1. What is the meaning of multiple inheritance?\n",
    "\n",
    "Ans:-\n",
    "    Inheritance is nothing but the reusing the code of the parent class by child class. similarly when a child class \n",
    "    inherits properties from multiple parent classess this scenario is called multiple inheritance."
   ]
  },
  {
   "cell_type": "code",
   "execution_count": 2,
   "id": "984b2ee5",
   "metadata": {},
   "outputs": [],
   "source": [
    "class Parent_one:\n",
    "    pass\n",
    "class Parent_two:\n",
    "    pass\n",
    "class child(Parent_one, Parent_two):\n",
    "    pass"
   ]
  },
  {
   "cell_type": "raw",
   "id": "60b65a4c",
   "metadata": {},
   "source": [
    "2. What is the concept of delegation?\n",
    "\n",
    "Ans:-\n",
    "    Delegation provides a proxy object for any class that you want to top of main class. it's like a wrapper to your class\n",
    "    so that you can access limited resources of the main class.\n",
    "    \n",
    "    it wraps the object of main class into a smaller object with a limited access.\n",
    "    \n",
    "    Simply Delegation means that you can include an instance of another class as a instance variable, and forward messages \n",
    "    to the instances "
   ]
  },
  {
   "cell_type": "code",
   "execution_count": 6,
   "id": "2faf3fe9",
   "metadata": {},
   "outputs": [
    {
     "name": "stdout",
     "output_type": "stream",
     "text": [
      "I am back\n",
      "I am back\n",
      "I am back\n",
      "I am the main class\n"
     ]
    }
   ],
   "source": [
    "class Myclass:\n",
    "    def sayHi(self):\n",
    "        print(\"I am back\")\n",
    "    def whoAmI(self):\n",
    "        print('I am the main class')\n",
    "        \n",
    "class NewClass:\n",
    "    def __init__(self,obj):\n",
    "        self.main=obj\n",
    "    def welcome(self):\n",
    "        self.main.sayHi()\n",
    "        \n",
    "m = Myclass()\n",
    "n = NewClass(m)\n",
    "m.sayHi()\n",
    "n.main.sayHi()\n",
    "n.welcome()\n",
    "n.main.whoAmI()"
   ]
  },
  {
   "cell_type": "code",
   "execution_count": null,
   "id": "d8c0db28",
   "metadata": {},
   "outputs": [],
   "source": [
    "Q3. What is the concept of composition?\n",
    "\n",
    "Ans:-\n",
    "    In the concept of the Composition, a class refers to one or more other classes by using instance of those classes as \n",
    "    instance variable. irrspective of inheritance in this approach  all the parent class members are not inherited into\n",
    "    child class, but only required methods from a class are used by using class instances."
   ]
  },
  {
   "cell_type": "code",
   "execution_count": 9,
   "id": "62e1715c",
   "metadata": {},
   "outputs": [
    {
     "name": "stdout",
     "output_type": "stream",
     "text": [
      "Total Salary : 9600\n"
     ]
    }
   ],
   "source": [
    "class Salary:\n",
    "    def __init__(self,pay):\n",
    "        self.pay = pay\n",
    "    def get_total(self):\n",
    "        return self.pay*12\n",
    "    \n",
    "class Employee:\n",
    "    def __init__(self,pay,bonus):\n",
    "        self.pay = pay\n",
    "        self.bonus = bonus\n",
    "        self.obj_salary = Salary(self.pay)\n",
    "    def annual_salary(self):\n",
    "        return f'Total Salary : {str(self.obj_salary.get_total())}'\n",
    "    \n",
    "obj_emp = Employee(800,500)\n",
    "print(obj_emp.annual_salary())"
   ]
  },
  {
   "cell_type": "code",
   "execution_count": null,
   "id": "9db9eb70",
   "metadata": {},
   "outputs": [],
   "source": [
    "Q4. What are bound methods and how do we use them?\n",
    "\n",
    "Ans:-\n",
    "    If a function is a attribute of a class and it is accessed via the instances, they are called as biund method is one\n",
    "    that has self as its first argument since these are dependent on the instance of a classes, these are also known\n",
    "    as instance methods."
   ]
  },
  {
   "cell_type": "code",
   "execution_count": 16,
   "id": "7a661013",
   "metadata": {},
   "outputs": [
    {
     "name": "stdout",
     "output_type": "stream",
     "text": [
      "called method_one\n",
      "called method_two\n",
      "called method_three\n",
      "called method_two\n",
      "called method_three\n"
     ]
    }
   ],
   "source": [
    "class Test:\n",
    "    def method_one(self):   #bound method\n",
    "        print('called method_one')\n",
    "    @classmethod\n",
    "    def method_two(cls):   #unbound method\n",
    "        print('called method_two')\n",
    "    @staticmethod\n",
    "    def method_three():  #static method\n",
    "        print('called method_three')\n",
    "        \n",
    "test = Test()\n",
    "test.method_one()    # accessing through instance object\n",
    "test.method_two()    # accessing through instance object\n",
    "test.method_three()  # accessing through instance object\n",
    "Test.method_two()    #accessing directly through a class\n",
    "Test.method_three()  #accessing directly through a class"
   ]
  },
  {
   "cell_type": "code",
   "execution_count": null,
   "id": "6f6d1a5e",
   "metadata": {},
   "outputs": [],
   "source": [
    "Q5. What is the purpose of pseudoprivate attributes?\n",
    "\n",
    "Ans:-\n",
    "    Pseudoprivate attributes are also useful in larger frameworks or tools, both to avoid introducing new method names \n",
    "    that might accidentally hide definitions elsewhere in the class tree and to reduce the chance of internal methods being\n",
    "    replaced by names defined lower in the tree. If a method is intended for use only within a class that may be mixed into\n",
    "    other classes, the double underscore prefix ensures that the method won't interfere with other names in the tree, \n",
    "    especially in multiple-inheritance scenarios\n",
    "\n",
    "    Pseudoprivate names also prevent subclasses from accidentally redefining the internal method's names,"
   ]
  },
  {
   "cell_type": "code",
   "execution_count": 17,
   "id": "23b48c37",
   "metadata": {},
   "outputs": [],
   "source": [
    "class super:\n",
    "    def method(self):    # A real application method\n",
    "        pass\n",
    "class Tool:\n",
    "    def _method(self):    #Becomes _Tool_ method\n",
    "        pass\n",
    "    def other(self):     #uses internal method\n",
    "        self.method()\n",
    "class Subl(Tool,super):\n",
    "    def actions(self):\n",
    "        self.method()\n",
    "class Sub2(Tool):\n",
    "    def __init__(self):\n",
    "        self.method = 99"
   ]
  },
  {
   "cell_type": "code",
   "execution_count": null,
   "id": "92beaff3",
   "metadata": {},
   "outputs": [],
   "source": []
  }
 ],
 "metadata": {
  "kernelspec": {
   "display_name": "Python 3",
   "language": "python",
   "name": "python3"
  },
  "language_info": {
   "codemirror_mode": {
    "name": "ipython",
    "version": 3
   },
   "file_extension": ".py",
   "mimetype": "text/x-python",
   "name": "python",
   "nbconvert_exporter": "python",
   "pygments_lexer": "ipython3",
   "version": "3.8.8"
  }
 },
 "nbformat": 4,
 "nbformat_minor": 5
}

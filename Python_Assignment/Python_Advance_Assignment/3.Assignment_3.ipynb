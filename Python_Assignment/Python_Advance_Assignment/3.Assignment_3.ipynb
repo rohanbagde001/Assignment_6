{
 "cells": [
  {
   "cell_type": "raw",
   "id": "1329bf48",
   "metadata": {},
   "source": [
    "1. What is the concept of an abstract superclass?\n",
    "\n",
    "Ans:-\n",
    "    An abstact class/superclass can be considered as a blueprint for other classes. It allows you to create a set of \n",
    "    methods that must be created within any child classes built from the abstract class. A class which contain one or\n",
    "    more abstarct method called as abstract class.\n",
    "    \n",
    "    whereas an abstract method is a method that has a declaration but does not have an implementation. "
   ]
  },
  {
   "cell_type": "code",
   "execution_count": 1,
   "id": "31bd5c72",
   "metadata": {},
   "outputs": [],
   "source": [
    "from abc import ABC, abstractmethod\n",
    "class Polygon(ABC): # Abstract Class\n",
    "    @abstractmethod\n",
    "    def noofsides(self): # Abstract Method\n",
    "        pass\n",
    "class Triangle(Polygon):\n",
    "    def noofsides(self):  # overriding abstract method in child class Triangle\n",
    "        print(\"I have 3 sides\")\n",
    "class Pentagon(Polygon):\n",
    "    def noofsides(self): # overriding abstract method in child class Pentagon\n",
    "        print(\"I have 5 sides\")"
   ]
  },
  {
   "cell_type": "raw",
   "id": "6351ee7a",
   "metadata": {},
   "source": [
    "2. What happens when a class statement's top level contains a basic assignment statement?\n",
    "\n",
    "Ans:-\n",
    "    When a class statement's top level contains a basic  assignment statement, its usually treated as a class attributr or \n",
    "    a class level variable.\n",
    "    \n",
    "    where as assignment statement inside methods are treated as a instance attributes or local attributes.\n",
    "    \n",
    "    when an instance of a class is created a single copy of a class attribute is maintained and shared to all instances \n",
    "    of a class. where as a each instance object maintains its own copy of a instance variable."
   ]
  },
  {
   "cell_type": "code",
   "execution_count": 2,
   "id": "1216bc77",
   "metadata": {},
   "outputs": [],
   "source": [
    "class person:\n",
    "    species = 'Homosapiens'   # class attribute\n",
    "    \n",
    "    def __init__(self,name,gender):\n",
    "        self.name = name # instance attributes\n",
    "        self.gender = gender"
   ]
  },
  {
   "cell_type": "raw",
   "id": "258dd903",
   "metadata": {},
   "source": [
    "2. What happens when a class statement's top level contains a basic assignment statement?\n",
    "\n",
    "Ans:-\n",
    "    if a child class has __init__ method, then it will not inherit the __init__ method of the parent class, in other words \n",
    "    the __init__ method of the child class overrides the __init__ method of the parent class. so we have to manually call\n",
    "    a parent superclass' __init__ using super() method."
   ]
  },
  {
   "cell_type": "code",
   "execution_count": 4,
   "id": "2ce315c9",
   "metadata": {},
   "outputs": [
    {
     "name": "stdout",
     "output_type": "stream",
     "text": [
      "{'name': 'vivek', 'age': 28, 'salary': 20000}\n"
     ]
    }
   ],
   "source": [
    "class person:\n",
    "    def __init__(self,name,age):\n",
    "        self.name = name\n",
    "        self.age = age\n",
    "        \n",
    "class Employee(person):\n",
    "    def __init__(self,name,age,salary):\n",
    "        super().__init__(name,age)\n",
    "        self.salary = salary\n",
    "        \n",
    "emp_1 = Employee('vivek',28,20000)\n",
    "print(emp_1.__dict__)"
   ]
  },
  {
   "cell_type": "raw",
   "id": "1ce7c702",
   "metadata": {},
   "source": [
    "4. How can you augment, instead of completely replacing, an inherited method?\n",
    "\n",
    "Ans:-\n",
    "    super() method can be used to augment, instead of a completely replacing, an inherited method.\n",
    "    "
   ]
  },
  {
   "cell_type": "code",
   "execution_count": 5,
   "id": "1a65eb8a",
   "metadata": {},
   "outputs": [
    {
     "name": "stdout",
     "output_type": "stream",
     "text": [
      "{'name': 'vivek', 'age': 28, 'salary': 20000}\n"
     ]
    }
   ],
   "source": [
    "class person:\n",
    "    def __init__(self,name,age):\n",
    "        self.name = name\n",
    "        self.age = age\n",
    "        \n",
    "class Employee(person):\n",
    "    def __init__(self,name,age,salary):\n",
    "        super().__init__(name,age)\n",
    "        self.salary = salary\n",
    "        \n",
    "emp_1 = Employee('vivek',28,20000)\n",
    "print(emp_1.__dict__)"
   ]
  },
  {
   "cell_type": "raw",
   "id": "63bafc5e",
   "metadata": {},
   "source": [
    "5. How is the local scope of a class different from that of a function?\n",
    "\n",
    "Ans:-\n",
    "    A variable which is defined inside a function is local to that function. it is accessible from the point at which is \n",
    "    defined untill the end of the function, and exists for as long as the function is existing.\n",
    "    \n",
    "    Similarly a variable  inside of a class also has a local variable scope. Variable which are defined in the class body\n",
    "    (but outside all methods) are called as a class level variables or class attributes. they can be referenced by their\n",
    "    bare name within same scope, but they can be accessed from outside of this scope if we use attribute access operator (.)\n",
    "    on a class instance of the class."
   ]
  },
  {
   "cell_type": "code",
   "execution_count": 8,
   "id": "cbc37327",
   "metadata": {},
   "outputs": [
    {
     "name": "stdout",
     "output_type": "stream",
     "text": [
      "you're name isRohan\n",
      "Name variable is not available outside hello function scope\n",
      "HomoSapiens\n",
      "HomoSapiens\n"
     ]
    }
   ],
   "source": [
    "def hello(name):\n",
    "    name=name\n",
    "    print(f'you\\'re name is{name}')\n",
    "hello('Rohan')\n",
    "try:\n",
    "    name\n",
    "except NameError:\n",
    "    print('Name variable is not available outside hello function scope')\n",
    "    \n",
    "class person:\n",
    "    species = 'HomoSapiens'\n",
    "    def __init__(self):\n",
    "        pass\n",
    "print(person.species)   #Accessing species using class name\n",
    "Male = person()\n",
    "print(Male.species)  #Accessing using an instance of a class"
   ]
  },
  {
   "cell_type": "code",
   "execution_count": null,
   "id": "a9e8d131",
   "metadata": {},
   "outputs": [],
   "source": []
  }
 ],
 "metadata": {
  "kernelspec": {
   "display_name": "Python 3",
   "language": "python",
   "name": "python3"
  },
  "language_info": {
   "codemirror_mode": {
    "name": "ipython",
    "version": 3
   },
   "file_extension": ".py",
   "mimetype": "text/x-python",
   "name": "python",
   "nbconvert_exporter": "python",
   "pygments_lexer": "ipython3",
   "version": "3.8.8"
  }
 },
 "nbformat": 4,
 "nbformat_minor": 5
}

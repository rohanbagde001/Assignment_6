{
 "cells": [
  {
   "cell_type": "raw",
   "id": "608e992b",
   "metadata": {},
   "source": [
    "Q1. Describe three applications for exception processing.\n",
    "\n",
    "Ans:-\n",
    "    Exception processing is important to find exeptions that causes th runtime error. As runtime errors halt the program \n",
    "    excecution occurs.\n",
    "    \n",
    "    Exception processing is used in various applications of which few examples are:\n",
    "        \n",
    "    1. Checking appropriate use of input in an application\n",
    "    2. Checking for arithematic exceptions in mathematical excecution\n",
    "    3. Checking file I/O exception during file handling"
   ]
  },
  {
   "cell_type": "raw",
   "id": "a8f897b3",
   "metadata": {},
   "source": [
    "Q2. What happens if you don't do something extra to treat an exception?\n",
    "\n",
    "Ans:-\n",
    "    If exceptions are not handled flow of program will be broken during the run time which might lead to abnormal \n",
    "    termination of the program. Inshort inability of program to handle exception will result in crashing program."
   ]
  },
  {
   "cell_type": "raw",
   "id": "3659bb97",
   "metadata": {},
   "source": [
    "Q3. What are your options for recovering from an exception in your script?\n",
    "\n",
    "Ans:-\n",
    "    Python try and except statements for recovering from an exception in your script."
   ]
  },
  {
   "cell_type": "raw",
   "id": "08d0bc09",
   "metadata": {},
   "source": [
    "Q4. Describe two methods for triggering exceptions in your script ?\n",
    "\n",
    "Ans:- \n",
    "    raise and assert are two methods that can be used to trigger manual exception in your script.\n",
    "    \n",
    "    raise method triggers an exception if condition provided to it turns out to be true.\n",
    "    \n",
    "    assert will let the program to continue excecution if condition provided to it turns out to be true else exception\n",
    "    will be raise.\n",
    "    \n",
    "    "
   ]
  },
  {
   "cell_type": "code",
   "execution_count": 1,
   "id": "75ff2c6d",
   "metadata": {},
   "outputs": [
    {
     "ename": "Exception",
     "evalue": "Value should not exceed 5 The provided value of X is 10",
     "output_type": "error",
     "traceback": [
      "\u001b[1;31m---------------------------------------------------------------------------\u001b[0m",
      "\u001b[1;31mException\u001b[0m                                 Traceback (most recent call last)",
      "\u001b[1;32m<ipython-input-1-b3b1e9a89be4>\u001b[0m in \u001b[0;36m<module>\u001b[1;34m\u001b[0m\n\u001b[0;32m      1\u001b[0m \u001b[1;31m# Example of raise\u001b[0m\u001b[1;33m\u001b[0m\u001b[1;33m\u001b[0m\u001b[1;33m\u001b[0m\u001b[0m\n\u001b[0;32m      2\u001b[0m \u001b[0mx\u001b[0m \u001b[1;33m=\u001b[0m \u001b[1;36m10\u001b[0m\u001b[1;33m\u001b[0m\u001b[1;33m\u001b[0m\u001b[0m\n\u001b[1;32m----> 3\u001b[1;33m \u001b[1;32mraise\u001b[0m \u001b[0mException\u001b[0m\u001b[1;33m(\u001b[0m\u001b[1;34mf'Value should not exceed 5 The provided value of X is {x}'\u001b[0m\u001b[1;33m)\u001b[0m\u001b[1;33m\u001b[0m\u001b[1;33m\u001b[0m\u001b[0m\n\u001b[0m",
      "\u001b[1;31mException\u001b[0m: Value should not exceed 5 The provided value of X is 10"
     ]
    }
   ],
   "source": [
    "# Example of raise\n",
    "x = 10\n",
    "raise Exception(f'Value should not exceed 5 The provided value of X is {x}')"
   ]
  },
  {
   "cell_type": "code",
   "execution_count": 4,
   "id": "84f37355",
   "metadata": {},
   "outputs": [
    {
     "ename": "AssertionError",
     "evalue": "2 is not equal to 4",
     "output_type": "error",
     "traceback": [
      "\u001b[1;31m---------------------------------------------------------------------------\u001b[0m",
      "\u001b[1;31mAssertionError\u001b[0m                            Traceback (most recent call last)",
      "\u001b[1;32m<ipython-input-4-1e05b045951e>\u001b[0m in \u001b[0;36m<module>\u001b[1;34m\u001b[0m\n\u001b[0;32m      1\u001b[0m \u001b[1;31m# Example of Assert\u001b[0m\u001b[1;33m\u001b[0m\u001b[1;33m\u001b[0m\u001b[1;33m\u001b[0m\u001b[0m\n\u001b[0;32m      2\u001b[0m \u001b[1;33m\u001b[0m\u001b[0m\n\u001b[1;32m----> 3\u001b[1;33m \u001b[1;32massert\u001b[0m\u001b[1;33m(\u001b[0m\u001b[1;36m2\u001b[0m\u001b[1;33m==\u001b[0m\u001b[1;36m4\u001b[0m\u001b[1;33m)\u001b[0m\u001b[1;33m,\u001b[0m \u001b[1;34m'2 is not equal to 4'\u001b[0m\u001b[1;33m\u001b[0m\u001b[1;33m\u001b[0m\u001b[0m\n\u001b[0m",
      "\u001b[1;31mAssertionError\u001b[0m: 2 is not equal to 4"
     ]
    }
   ],
   "source": [
    "# Example of Assert\n",
    "\n",
    "assert(2==4), '2 is not equal to 4'"
   ]
  },
  {
   "cell_type": "code",
   "execution_count": null,
   "id": "738db5ec",
   "metadata": {},
   "outputs": [],
   "source": [
    "Q5. Identify two methods for specifying actions to be executed at termination time, regardless of whether or not an \n",
    "    exception exists.\n",
    "    \n",
    "Ans:- Python provides else and finally blocks for specifying to be excecuted at termination time, regardless of exception\n",
    "      exists or not.\n",
    "        \n",
    "       "
   ]
  }
 ],
 "metadata": {
  "kernelspec": {
   "display_name": "Python 3",
   "language": "python",
   "name": "python3"
  },
  "language_info": {
   "codemirror_mode": {
    "name": "ipython",
    "version": 3
   },
   "file_extension": ".py",
   "mimetype": "text/x-python",
   "name": "python",
   "nbconvert_exporter": "python",
   "pygments_lexer": "ipython3",
   "version": "3.8.8"
  }
 },
 "nbformat": 4,
 "nbformat_minor": 5
}

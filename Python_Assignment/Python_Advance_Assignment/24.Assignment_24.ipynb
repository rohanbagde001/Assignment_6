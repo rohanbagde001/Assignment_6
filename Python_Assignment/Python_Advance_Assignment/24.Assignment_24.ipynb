{
 "cells": [
  {
   "cell_type": "code",
   "execution_count": null,
   "id": "b61edd80",
   "metadata": {},
   "outputs": [],
   "source": [
    "Q1. Is it permissible to use several import statements to import the same module? What would thegoal be? Can you think of \n",
    "    a situation where it would be beneficial?\n",
    "    \n",
    "Ans:-\n",
    "    yes, it is permissible to use several import statements to import the same module. It is use in a case when we have to \n",
    "    import multiple function from same module."
   ]
  },
  {
   "cell_type": "code",
   "execution_count": null,
   "id": "486cf34b",
   "metadata": {},
   "outputs": [],
   "source": [
    "Q2. What are some of a module's characteristics? (Name at least one.)\n",
    "\n",
    "Ans:-\n",
    "    The following are the some module's charecteristic :\n",
    "    \n",
    "    __name__ : It returns the name of the module\n",
    "        \n",
    "    __doc__ : It denotes the documentation string line written in a module code.\n",
    "        \n",
    "    __file__ : It holds the name and path of the module file from which it is loaded\n",
    "        \n",
    "    __dict__ : It returns a dictionary object of module attributes function and other difination and their respective \n",
    "               values"
   ]
  },
  {
   "cell_type": "code",
   "execution_count": null,
   "id": "cbefc277",
   "metadata": {},
   "outputs": [],
   "source": [
    "Q3. Circular importing, such as when two modules import each other, can lead to dependencies and bugs that aren't visible. \n",
    "    How can you go about creating a program that avoids mutual importing?\n",
    "    \n",
    "Ans:-\n",
    "    Circular importing means importing the two modules in each other. If suppose we are working in MOD1.py file and it is\n",
    "    importing some function say f2() from some other module say MOD2.py file or we can do vice-versa. what will happen is\n",
    "    This will give an import error.\n",
    "    \n",
    "    This is because we import f2() function from module MOD2.py, then this will excecute MOD2.py file. And in MOD2.py file\n",
    "    there is an another statement of importing MOD1.py module\n",
    "    \n",
    "    This results in a endless loop.To avoid this error just do one thing we can use if __name__ == '__main__'\n",
    "    \n",
    "    In the function, you  cant directly refer the function in the program. The addition of this sentence avoids the endless\n",
    "    loop of the program."
   ]
  },
  {
   "cell_type": "code",
   "execution_count": null,
   "id": "c2602f3a",
   "metadata": {},
   "outputs": [],
   "source": [
    "Q4. Why is __all__ in Python ?\n",
    "\n",
    "Ans:-\n",
    "    It provides all the modules present in the library."
   ]
  },
  {
   "cell_type": "code",
   "execution_count": null,
   "id": "a9249a11",
   "metadata": {},
   "outputs": [],
   "source": [
    "Q5. In what situation is it useful to refer to the _ _name_ _ attribute or the string '_ _main_ _'?\n",
    "\n",
    "Ans:-\n",
    "    During time of execution of the code if we want to refer the module in which we are working on then we uses name \n",
    "    attribute. In that case it return the module in which we are working on. suppose if that module is being imported\n",
    "    from some another module then name will have the name of that module from where the current module has been imported.\n",
    "    The current module in which we are working is refer to the string __main__."
   ]
  },
  {
   "cell_type": "code",
   "execution_count": null,
   "id": "4f58426c",
   "metadata": {},
   "outputs": [],
   "source": [
    "Q6. What are some of the benefits of attaching a program counter to the RPN interpreter application, which interprets \n",
    "    an RPN script line by line?\n",
    "\n",
    "Ans:-\n",
    "    In the older HP pocket calculators that popularized this notation, the advantage was that the expression could be \n",
    "    evaluated as it was entered, where with forward polish, you have to save up the entire expression before you can \n",
    "    evaluate any of it."
   ]
  },
  {
   "cell_type": "code",
   "execution_count": null,
   "id": "8402a7e5",
   "metadata": {},
   "outputs": [],
   "source": []
  }
 ],
 "metadata": {
  "kernelspec": {
   "display_name": "Python 3",
   "language": "python",
   "name": "python3"
  },
  "language_info": {
   "codemirror_mode": {
    "name": "ipython",
    "version": 3
   },
   "file_extension": ".py",
   "mimetype": "text/x-python",
   "name": "python",
   "nbconvert_exporter": "python",
   "pygments_lexer": "ipython3",
   "version": "3.8.8"
  }
 },
 "nbformat": 4,
 "nbformat_minor": 5
}

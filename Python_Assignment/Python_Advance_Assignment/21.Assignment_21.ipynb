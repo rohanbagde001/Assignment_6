{
 "cells": [
  {
   "cell_type": "code",
   "execution_count": null,
   "id": "3f8d186d",
   "metadata": {},
   "outputs": [],
   "source": [
    "Q1.What is probability distribution, exactly? If the values are meant to be random, how can you predict them at all?\n",
    "\n",
    "Ans:-\n",
    "    A probability distribution describes how a random variable is distributed.\n",
    "    \n",
    "    It tells us which values random variable is most likely to take on and which values are less likely. Based on the \n",
    "    previous data and the occurance of the random event, we can predict the outcome in terms of probabilities."
   ]
  },
  {
   "cell_type": "code",
   "execution_count": null,
   "id": "5cfc3b20",
   "metadata": {},
   "outputs": [],
   "source": [
    "Q2. Is there a distinction between true random numbers and pseudo-random numbers, if there is one? Why are the latter \n",
    "    considered “good enough”?\n",
    "    \n",
    "Ans:-\n",
    "    True random numbers are true physical values while psuedo-random numbers are generated internally by a program.\n",
    "    Latter is considered good enough as they have sort of uniform distribution."
   ]
  },
  {
   "cell_type": "code",
   "execution_count": null,
   "id": "c8ee11eb",
   "metadata": {},
   "outputs": [],
   "source": [
    "Q3. What are the two main factors that influence the behaviour of a \"normal\" probability distribution ?\n",
    "\n",
    "Ans:-\n",
    "    Normal probability distribution are influenced by two factors mean and the variance."
   ]
  },
  {
   "cell_type": "code",
   "execution_count": null,
   "id": "4d35f665",
   "metadata": {},
   "outputs": [],
   "source": [
    "Q4. Provide a real-life example of a normal distribution ?\n",
    "\n",
    "Ans:-\n",
    "    A Real-life example of a normal distribution are heights or blood pressure measurement."
   ]
  },
  {
   "cell_type": "code",
   "execution_count": null,
   "id": "4c0bbe0e",
   "metadata": {},
   "outputs": [],
   "source": [
    "Q5. In the short term, how can you expect a probability distribution to behave? What do you think will happen as the number\n",
    "    of trials grows ?\n",
    "    \n",
    "Ans:-\n",
    "    Variance will decrease with number of trials."
   ]
  },
  {
   "cell_type": "code",
   "execution_count": null,
   "id": "6b00cdb4",
   "metadata": {},
   "outputs": [],
   "source": [
    "Q6. What kind of object can be shuffled by using random.shuffle ?\n",
    "\n",
    "Ans:-\n",
    "    lists (list), strings(str) and tuples (tuple) can be shuffled by using random.shuffle ."
   ]
  },
  {
   "cell_type": "code",
   "execution_count": null,
   "id": "74325788",
   "metadata": {},
   "outputs": [],
   "source": [
    "Q7. Describe the math package's general categories of functions ?\n",
    "\n",
    "Ans:-\n",
    "    The Math package's general categories function are:\n",
    "    \n",
    "    1. Trigonometric functions\n",
    "    2. Quadratic functions\n",
    "    3. Exponential functions\n",
    "    4. Hyperbolic functions\n",
    "    5. Periodic functions\n",
    "    6. Arithematic functions\n",
    "    7. Logarithimic function\n",
    "    8. Conversions to Integer"
   ]
  },
  {
   "cell_type": "code",
   "execution_count": null,
   "id": "f9e34d13",
   "metadata": {},
   "outputs": [],
   "source": [
    "Q8. What is the relationship between exponentiation and logarithms ?\n",
    "\n",
    "Ans:-\n",
    "    Exponentiation and logarithms are inverse of each other."
   ]
  },
  {
   "cell_type": "code",
   "execution_count": null,
   "id": "5a69550c",
   "metadata": {},
   "outputs": [],
   "source": [
    "Q9. What are the three logarithmic functions that Python supports ?\n",
    "\n",
    "Ans:-\n",
    "    The Three Logarithms that python supports are:\n",
    "        \n",
    "        1. log2(x) -logarithmic value of x to base 2\n",
    "        2. log10(x) - logarithmic value of x to base 10\n",
    "        3. log1p(a) - This function is used to compute logarithms(1+a)."
   ]
  }
 ],
 "metadata": {
  "kernelspec": {
   "display_name": "Python 3",
   "language": "python",
   "name": "python3"
  },
  "language_info": {
   "codemirror_mode": {
    "name": "ipython",
    "version": 3
   },
   "file_extension": ".py",
   "mimetype": "text/x-python",
   "name": "python",
   "nbconvert_exporter": "python",
   "pygments_lexer": "ipython3",
   "version": "3.8.8"
  }
 },
 "nbformat": 4,
 "nbformat_minor": 5
}

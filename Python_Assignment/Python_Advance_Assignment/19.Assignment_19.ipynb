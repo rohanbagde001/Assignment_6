{
 "cells": [
  {
   "cell_type": "code",
   "execution_count": null,
   "id": "c8ef919f",
   "metadata": {},
   "outputs": [],
   "source": [
    "Q1. Define the relationship between a class and its instances. Is it a one-to-one or a one-to-many partnership, for \n",
    "    example?\n",
    "    \n",
    "Ans:-\n",
    "    Relationship between a class and its instances is one to many partnership."
   ]
  },
  {
   "cell_type": "code",
   "execution_count": null,
   "id": "aa2b9e78",
   "metadata": {},
   "outputs": [],
   "source": [
    "Q2. What kind of data is held only in an instance?\n",
    "\n",
    "Ans:-\n",
    "    Instance object contains the instance variable which are specific to that instance object."
   ]
  },
  {
   "cell_type": "code",
   "execution_count": null,
   "id": "a1361aa7",
   "metadata": {},
   "outputs": [],
   "source": [
    "Q3. What kind of knowledge is stored in a class?\n",
    "\n",
    "Ans:-\n",
    "    Class creates a user defined data structure, which holds its own data members and member functions, which can be \n",
    "    accessed and used by creating instance of that class. A class like a blueprint for a object. "
   ]
  },
  {
   "cell_type": "code",
   "execution_count": null,
   "id": "5758559f",
   "metadata": {},
   "outputs": [],
   "source": [
    "Q4. What exactly is a method, and how is it different from a regular function?\n",
    "\n",
    "Ans:-\n",
    "    A method with a class can be used to access the instance variable of its instance. so the object state can be modified \n",
    "    by its method. Function cant access the attributes of an instance of a class or can't modify state of object."
   ]
  },
  {
   "cell_type": "code",
   "execution_count": null,
   "id": "4fbe7406",
   "metadata": {},
   "outputs": [],
   "source": [
    "Q5. Is inheritance supported in Python, and if so, what is the syntax?\n",
    "\n",
    "Ans:-\n",
    "    Yes, Python supports inheritance. The types inheritance supported by python are.\n",
    "    \n",
    "    1. Simple Inheritance\n",
    "    2. Multiple Inheritance\n",
    "    3. Multilevel Inheritance\n",
    "    4. Hybrid Inheritance\n",
    "    5. Hierracial Inheritance"
   ]
  },
  {
   "cell_type": "code",
   "execution_count": 1,
   "id": "229577a2",
   "metadata": {},
   "outputs": [],
   "source": [
    "class person:\n",
    "    def __init__(self,fname, lname):\n",
    "        self.first_name = fname\n",
    "        self.last_name = lname\n",
    "\n",
    "class student(person):\n",
    "    pass"
   ]
  },
  {
   "cell_type": "code",
   "execution_count": null,
   "id": "a0ef386d",
   "metadata": {},
   "outputs": [],
   "source": [
    "Q6. How much encapsulation (making instance or class variables private) does Python support?\n",
    "\n",
    "Ans:-\n",
    "    Encapsulation descibes the idea of wrapping data and the methods that work on a data within one unit.This puts \n",
    "    restrictions on accessing variable and methods directly and can prevent accidental modification with data. to \n",
    "    prevent accidental change, an objects variable can be changed by object method."
   ]
  },
  {
   "cell_type": "code",
   "execution_count": null,
   "id": "a31f6e71",
   "metadata": {},
   "outputs": [],
   "source": [
    "Q7. How do you distinguish between a class variable and an instance variable?\n",
    "\n",
    "Ans:-\n",
    "    The class variable is available to all instances objects of that class, whereas Instance attributes are accessibly only\n",
    "    to the object or Instance of that class. A single copy of class attributes is maintained by pvm at class level> Whereas\n",
    "    differences copies of instance attributes are maintained by pvm at objects/instance level."
   ]
  },
  {
   "cell_type": "code",
   "execution_count": null,
   "id": "65602264",
   "metadata": {},
   "outputs": [],
   "source": [
    "Q8. When, if ever, can self be included in a class's method definitions?\n",
    "\n",
    "Ans:-\n",
    "    Yes, self can be included in a class method definations to access the instance variable inside class methods."
   ]
  },
  {
   "cell_type": "code",
   "execution_count": null,
   "id": "5fbefda1",
   "metadata": {},
   "outputs": [],
   "source": [
    "Q9. What is the difference between the __add__ and the __radd__ methods ?\n",
    "\n",
    "Ans:-\n",
    "    Entering __radd__ python will first try __add__(), and that returns not implemented python will check if the right hand\n",
    "     operands implements __radd__, and if it does , it call __radd__() rather than raising TypeError"
   ]
  },
  {
   "cell_type": "code",
   "execution_count": null,
   "id": "768c5417",
   "metadata": {},
   "outputs": [],
   "source": [
    "Q10. When is it necessary to use a reflection method? When do you not need it, even though you support the operation in \n",
    "     question?\n",
    "    \n",
    "Ans:-\n",
    "    Reflectiom method we often encounters the requirement that a method in the excecuting object, or a variable in the \n",
    "    calling object , or a field of the object should be assigned, while the methods name or field name can not be\n",
    "    determined when encoding the code, and need to input in the form of passing strings through parametres."
   ]
  },
  {
   "cell_type": "code",
   "execution_count": null,
   "id": "fdbd51ce",
   "metadata": {},
   "outputs": [],
   "source": [
    "Q11. What is the __iadd__ method called?\n",
    "\n",
    "Ans:-\n",
    "    __iadd__ method is called when we use implementation like a+=b which is a.__iadd__(b)"
   ]
  },
  {
   "cell_type": "code",
   "execution_count": null,
   "id": "0fb5bfc3",
   "metadata": {},
   "outputs": [],
   "source": [
    "12. Is the __init__ method inherited by subclasses? What do you do if you need to customize its behavior within a \n",
    "    subclass ?\n",
    "    \n",
    "Ans:-\n",
    "    Yes, __init__ method will be inherited a subclasses. if we want to customize its behaviour within a subclass we can use\n",
    "    super()"
   ]
  }
 ],
 "metadata": {
  "kernelspec": {
   "display_name": "Python 3",
   "language": "python",
   "name": "python3"
  },
  "language_info": {
   "codemirror_mode": {
    "name": "ipython",
    "version": 3
   },
   "file_extension": ".py",
   "mimetype": "text/x-python",
   "name": "python",
   "nbconvert_exporter": "python",
   "pygments_lexer": "ipython3",
   "version": "3.8.8"
  }
 },
 "nbformat": 4,
 "nbformat_minor": 5
}

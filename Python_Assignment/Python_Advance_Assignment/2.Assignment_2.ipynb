{
 "cells": [
  {
   "cell_type": "raw",
   "id": "b18dcc6f",
   "metadata": {},
   "source": [
    "Q1. What is the relationship between classes and modules?\n",
    "\n",
    "Ans:- \n",
    "     he Difference Between a Class and a Module Basically, a class can be instantiated but a module cannot. \n",
    "     A module will never be anything other than a library of methods. A class can be so much more -- it can \n",
    "     hold its state (by keeping track of instance variables) and be duplicated as many times as you want.\n",
    "     "
   ]
  },
  {
   "cell_type": "raw",
   "id": "3644636d",
   "metadata": {},
   "source": [
    "Q2. How do you make instances and classes?\n",
    "\n",
    "Ans:-\n",
    "     For creating a class instance , we call a class by name and pass the arguments which its __init__ method accepts.\n",
    "     \n",
    "     e.g. rohan = employee('Male',2000), here rohan is an instance of a class employee with attributes 'Male' and 2000\n",
    "     \n",
    "     whereas to create a class we use the class keyword is followed by classname and semicolon.\n",
    "     \n",
    "     e.g. Here is a employee class created with class keyword with arguments gender and salary.\n",
    "     \n",
    "     class employee:\n",
    "         def __init__(self,gender,salary):\n",
    "             self.gender = gender\n",
    "             self.salary = salary"
   ]
  },
  {
   "cell_type": "raw",
   "id": "e2ed4160",
   "metadata": {},
   "source": [
    "Q3. Where and how should be class attributes created?\n",
    "\n",
    "Ans:-\n",
    "    Class attributes or a class level attributes belong to the class itself. these attributes will be shared by all \n",
    "    instances of the class. Hence these attributes are usually created/defined im the top of class defination outside all\n",
    "    methods.\n",
    "    \n",
    "    e.g. In the following code we are defining a class attribute called np_of_wheels which will be shared by all the \n",
    "         instances of the class.\n",
    "        \n"
   ]
  },
  {
   "cell_type": "code",
   "execution_count": 1,
   "id": "95819ed3",
   "metadata": {},
   "outputs": [],
   "source": [
    "class Car:\n",
    "    no_of_wheels = 4;  #this is a class attribute\n",
    "    def __init__(self,color,price,engine):\n",
    "        self.color = color\n",
    "        self.price = price\n",
    "        self.engine = engine\n",
    "        "
   ]
  },
  {
   "cell_type": "raw",
   "id": "c19c6c7b",
   "metadata": {},
   "source": [
    "Q4. Where and how are instance attributes created?\n",
    "\n",
    "Ans:-\n",
    "    Instances attributes are passed to the class when an object of the class is created. Unlike class attributes,\n",
    "    instance attributes are not shared byall objects of the class. instead each object maintains its own copy of \n",
    "    instace attributes at object level. whereas incase of class attributes of a class refer to a single copy. Usually\n",
    "    instance attributes are defined within __init__ method of a class.\n",
    "    \n",
    "    Example: I the below code we are creating a class Car with an instance variable color, price,engine which will be \n",
    "             provided when an instance of a class is created."
   ]
  },
  {
   "cell_type": "code",
   "execution_count": 4,
   "id": "2561249e",
   "metadata": {},
   "outputs": [],
   "source": [
    "class Car:\n",
    "    def __init__(self,color,price,engine):\n",
    "        self.color = color\n",
    "        self.price = price\n",
    "        self.engine = engine\n",
    "        \n",
    "nexon = Car('Black',1200000,'petrol')\n",
    "safari = Car('White',2000000,'Diesel')\n",
    "\n",
    "# nexon and safari are both the instances of the class car with diffrent instance varible     "
   ]
  },
  {
   "cell_type": "raw",
   "id": "dbb38e3c",
   "metadata": {},
   "source": [
    "Q5. What does the term \"self\" in a Python class mean?\n",
    "\n",
    "Ans:-\n",
    "    self represent the instance of the class(it represent the object by itself). By using the 'self' keyword we can access\n",
    "    the attributes and methods of the class with in the class in python. It binds the attributes with the given arguments."
   ]
  },
  {
   "cell_type": "code",
   "execution_count": 7,
   "id": "28236a84",
   "metadata": {},
   "outputs": [
    {
     "name": "stdout",
     "output_type": "stream",
     "text": [
      "{'color': 'Black', 'price': 1200000, 'engine': 'petrol'}\n",
      "{'color': 'White', 'price': 2000000, 'engine': 'Diesel'}\n"
     ]
    }
   ],
   "source": [
    "class Car:\n",
    "    def __init__(self,color,price,engine):\n",
    "        self.color = color\n",
    "        self.price = price\n",
    "        self.engine = engine\n",
    "\n",
    "nexon = Car('Black',1200000,'petrol')\n",
    "safari = Car('White',2000000,'Diesel')\n",
    "\n",
    "print(nexon.__dict__)\n",
    "print(safari.__dict__)"
   ]
  },
  {
   "cell_type": "raw",
   "id": "37842e17",
   "metadata": {},
   "source": [
    "Q6. How does a Python class handle operator overloading?\n",
    "\n",
    "Ans:-\n",
    "    Python class handle operator overloading by using special methods called Magic methods. These special methods usually\n",
    "    begin and end with __(double underscore)\n",
    "    \n",
    "    Example: Magic methods for basic arithematic operators are:\n",
    "            \n",
    "            __add__()\n",
    "            __sub__()\n",
    "            __mul__()\n",
    "            __div__()\n",
    "        \n",
    "        "
   ]
  },
  {
   "cell_type": "code",
   "execution_count": 9,
   "id": "8d76bfda",
   "metadata": {},
   "outputs": [
    {
     "name": "stdout",
     "output_type": "stream",
     "text": [
      "The total number of pages in 2 books is 300\n"
     ]
    }
   ],
   "source": [
    "class Book:\n",
    "    def __init__(self,pages):\n",
    "        self.pages = pages\n",
    "        \n",
    "    def __add__(self,other):\n",
    "        return self.pages + other.pages\n",
    "    \n",
    "b1 = Book(100)\n",
    "b2 = Book(200)\n",
    "\n",
    "print(f'The total number of pages in 2 books is {b1+b2}')"
   ]
  },
  {
   "cell_type": "raw",
   "id": "3cc1d5ce",
   "metadata": {},
   "source": [
    "Q7. When do you consider allowing operator overloading of your classes?\n",
    "\n",
    "Ans:-\n",
    "    When we want to have different meaning for the same operator according to context we use operator overloading"
   ]
  },
  {
   "cell_type": "raw",
   "id": "8384d976",
   "metadata": {},
   "source": [
    "Q8. What is the most popular form of operator overloading?\n",
    "\n",
    "Ans:-\n",
    "    The most polpular form of operator form of operator in python is by special methods called as Magic methods. which \n",
    "    usually begins and ends with double underscore __<method name>__."
   ]
  },
  {
   "cell_type": "code",
   "execution_count": 13,
   "id": "0e88a81d",
   "metadata": {},
   "outputs": [
    {
     "name": "stdout",
     "output_type": "stream",
     "text": [
      "sum is  3\n",
      "String Concatenatio   RohanBagde\n"
     ]
    }
   ],
   "source": [
    "class A:\n",
    "    def __init__(self,a):\n",
    "        self.a = a\n",
    "        \n",
    "    def __add__(self,o):\n",
    "        return self.a+o.a\n",
    "   \n",
    "    \n",
    "obj1 = A(1)\n",
    "obj2 = A(2)\n",
    "obj3 = A('Rohan')\n",
    "obj4 = A('Bagde')\n",
    "print(f'sum is  {obj1 + obj2}')\n",
    "print(f'String Concatenatio   {obj3+obj4}')"
   ]
  },
  {
   "cell_type": "code",
   "execution_count": null,
   "id": "107f5528",
   "metadata": {},
   "outputs": [],
   "source": [
    "Q9. What are the two most important concepts to grasp in order to comprehend Python OOP code?\n",
    "\n",
    "Ans:-\n",
    "    Classes and Objects are the two concepts to comprehend python OOP code as more formally objects are entities that \n",
    "    represents instances of general abstract concept calles class\n",
    "    \n",
    "    Along with the classes and objects important concepts to grasp are:\n",
    "        1. Inheritance\n",
    "        2. Abstarction\n",
    "        3. Polymorphism\n",
    "        4. Encapsulation"
   ]
  }
 ],
 "metadata": {
  "kernelspec": {
   "display_name": "Python 3",
   "language": "python",
   "name": "python3"
  },
  "language_info": {
   "codemirror_mode": {
    "name": "ipython",
    "version": 3
   },
   "file_extension": ".py",
   "mimetype": "text/x-python",
   "name": "python",
   "nbconvert_exporter": "python",
   "pygments_lexer": "ipython3",
   "version": "3.8.8"
  }
 },
 "nbformat": 4,
 "nbformat_minor": 5
}

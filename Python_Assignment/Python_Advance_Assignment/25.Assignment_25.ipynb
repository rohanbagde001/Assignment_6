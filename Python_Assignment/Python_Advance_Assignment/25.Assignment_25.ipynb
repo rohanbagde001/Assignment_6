{
 "cells": [
  {
   "cell_type": "code",
   "execution_count": null,
   "id": "5bd94494",
   "metadata": {},
   "outputs": [],
   "source": [
    "Q1. What is the distinction between a numpy array and a pandas data frame? Is there a way to convert between the two if \n",
    "    there is?\n",
    "    \n",
    "Ans:-\n",
    "    Numpy Ndarray provides a lot of convenient and optimized methods for performing several mathematical operation on \n",
    "    vectors.\n",
    "    \n",
    "    Pandas Dataframe is an in memory 2-dimensional tabular representation of data. In similar words, it can be seen as \n",
    "    spreadsheet having rows and columns.\n",
    "    \n",
    "    Conversion: Dataframe = pandas.Dataframe(array)"
   ]
  },
  {
   "cell_type": "code",
   "execution_count": null,
   "id": "159a02ce",
   "metadata": {},
   "outputs": [],
   "source": [
    "Q2. Identify some of the plotting techniques that are used to produce a stock-market chart ?\n",
    "\n",
    "Ans:-\n",
    "    Bar chart, Line chart are used for plotting."
   ]
  },
  {
   "cell_type": "code",
   "execution_count": null,
   "id": "fa60943f",
   "metadata": {},
   "outputs": [],
   "source": [
    "Q3. Why is it essential to print a legend on a stock market chart ?\n",
    "\n",
    "Ans:-\n",
    "    Legend will help in comparison among different stocks, So will be essential on a stock market chart."
   ]
  },
  {
   "cell_type": "code",
   "execution_count": null,
   "id": "38459b60",
   "metadata": {},
   "outputs": [],
   "source": [
    "Q4. What is the best way to limit the length of a pandas data frame to less than a year ?\n",
    "\n",
    "Ans:-\n",
    "    We can use start and end parametres for that. In start we write the date from where we are starting and at the end we\n",
    "    write the end date. So within this span we can restrict the duration. Also we can use parametres like periods for how \n",
    "    much time we need the duration and we can also use frequency parameter."
   ]
  },
  {
   "cell_type": "code",
   "execution_count": null,
   "id": "a3113fcd",
   "metadata": {},
   "outputs": [],
   "source": [
    "Q5. What is the definition of a 180-day moving average ?\n",
    "\n",
    "Ans:-\n",
    "    The 180 day moving average is represented at a line  on charts and represent the average price over the past 180 days\n",
    "    The moving average can give traders a sense regarding wheather the trend is up or down, while also identifying \n",
    "    potential support or resistance areas."
   ]
  }
 ],
 "metadata": {
  "kernelspec": {
   "display_name": "Python 3",
   "language": "python",
   "name": "python3"
  },
  "language_info": {
   "codemirror_mode": {
    "name": "ipython",
    "version": 3
   },
   "file_extension": ".py",
   "mimetype": "text/x-python",
   "name": "python",
   "nbconvert_exporter": "python",
   "pygments_lexer": "ipython3",
   "version": "3.8.8"
  }
 },
 "nbformat": 4,
 "nbformat_minor": 5
}

{
 "cells": [
  {
   "cell_type": "code",
   "execution_count": null,
   "id": "8b1cdecc",
   "metadata": {},
   "outputs": [],
   "source": [
    "Q1. Is an assignment operator like += only for show? Is it possible that it would lead to faster results\n",
    "at the runtime?\n",
    "\n",
    "Ans:-\n",
    "    A =A+1 evaluates to finding A, adding 1 to it. Then storing a value again in a variable A. This expression makes python\n",
    "    to look folder of a twice. But A+=1 simply means a value of A is to incremented by 1. As a memory address has to be \n",
    "    identfied once, += leads to faster operation."
   ]
  },
  {
   "cell_type": "code",
   "execution_count": null,
   "id": "c81b159b",
   "metadata": {},
   "outputs": [],
   "source": [
    "Q2. What is the smallest no of statements you'd have to write in most programming languages to replace the Python expr \n",
    "    a, b = a + b, a ?\n",
    "    \n",
    "Ans:-\n",
    "    Minimum number of lines required to write above code in a language other python will be 4, two for assigning initial\n",
    "    values for variable a and b, and two for reassignment i.e. a = a+b and b=a"
   ]
  },
  {
   "cell_type": "code",
   "execution_count": null,
   "id": "661e0be7",
   "metadata": {},
   "outputs": [],
   "source": [
    "Q3. In Python, what is the most effective way to set a list of 100 integers to 0?\n",
    "\n",
    "Ans:-\n",
    "    The most effective way to set a list of 100 integers to 0 in python operator (*) or by using list comprehension."
   ]
  },
  {
   "cell_type": "code",
   "execution_count": 2,
   "id": "d6b0e86a",
   "metadata": {},
   "outputs": [
    {
     "name": "stdout",
     "output_type": "stream",
     "text": [
      "[0, 0, 0, 0, 0, 0, 0, 0, 0, 0, 0, 0, 0, 0, 0, 0, 0, 0, 0, 0, 0, 0, 0, 0, 0, 0, 0, 0, 0, 0, 0, 0, 0, 0, 0, 0, 0, 0, 0, 0, 0, 0, 0, 0, 0, 0, 0, 0, 0, 0, 0, 0, 0, 0, 0, 0, 0, 0, 0, 0, 0, 0, 0, 0, 0, 0, 0, 0, 0, 0, 0, 0, 0, 0, 0, 0, 0, 0, 0, 0, 0, 0, 0, 0, 0, 0, 0, 0, 0, 0, 0, 0, 0, 0, 0, 0, 0, 0, 0, 0]\n",
      "[0, 0, 0, 0, 0, 0, 0, 0, 0, 0, 0, 0, 0, 0, 0, 0, 0, 0, 0, 0, 0, 0, 0, 0, 0, 0, 0, 0, 0, 0, 0, 0, 0, 0, 0, 0, 0, 0, 0, 0, 0, 0, 0, 0, 0, 0, 0, 0, 0, 0, 0, 0, 0, 0, 0, 0, 0, 0, 0, 0, 0, 0, 0, 0, 0, 0, 0, 0, 0, 0, 0, 0, 0, 0, 0, 0, 0, 0, 0, 0, 0, 0, 0, 0, 0, 0, 0, 0, 0, 0, 0, 0, 0, 0, 0, 0, 0, 0, 0, 0, 0]\n"
     ]
    }
   ],
   "source": [
    "#Method 1\n",
    "list_zero = [0]*100\n",
    "print(list_zero)\n",
    "\n",
    "#Method 2\n",
    "\n",
    "zero_list = [0 for i in range(101)]\n",
    "print(zero_list)"
   ]
  },
  {
   "cell_type": "code",
   "execution_count": null,
   "id": "f0e27900",
   "metadata": {},
   "outputs": [],
   "source": [
    "Q4. What is the most effective way to initialise a list of 99 integers that repeats the sequence 1, 2, 3? S If necessary, \n",
    "    show step-by-step instructions on how to accomplish this.\n",
    "    \n",
    "Ans:-"
   ]
  },
  {
   "cell_type": "code",
   "execution_count": 12,
   "id": "aade0f24",
   "metadata": {},
   "outputs": [
    {
     "name": "stdout",
     "output_type": "stream",
     "text": [
      "[1, 2, 3, 1, 2, 3, 1, 2, 3, 1, 2, 3, 1, 2, 3, 1, 2, 3, 1, 2, 3, 1, 2, 3, 1, 2, 3, 1, 2, 3, 1, 2, 3, 1, 2, 3, 1, 2, 3, 1, 2, 3, 1, 2, 3, 1, 2, 3, 1, 2, 3, 1, 2, 3, 1, 2, 3, 1, 2, 3, 1, 2, 3, 1, 2, 3, 1, 2, 3, 1, 2, 3, 1, 2, 3, 1, 2, 3, 1, 2, 3, 1, 2, 3, 1, 2, 3, 1, 2, 3, 1, 2, 3, 1, 2, 3, 1, 2, 3]\n"
     ]
    }
   ],
   "source": [
    "my_list = [1,2,3]*33\n",
    "print(my_list)"
   ]
  },
  {
   "cell_type": "code",
   "execution_count": null,
   "id": "bc5dd5df",
   "metadata": {},
   "outputs": [],
   "source": [
    "Q5. If you're using IDLE to run a Python application, explain how to print a multidimensional list as efficiently?\n",
    "\n",
    "Ans:-\n",
    "    "
   ]
  },
  {
   "cell_type": "code",
   "execution_count": 7,
   "id": "ad0a6b1a",
   "metadata": {},
   "outputs": [
    {
     "name": "stdout",
     "output_type": "stream",
     "text": [
      "1 1 2 2 3 3 4 4 5 5 "
     ]
    }
   ],
   "source": [
    "my_list = [[1,1],[2,2],[3,3],[4,4],[5,5]]   # 2 Dimensional list\n",
    "\n",
    "for i in range(len(my_list)):\n",
    "    for j in range(len(my_list[i])):\n",
    "        print(my_list[i][j],end = ' ')"
   ]
  },
  {
   "cell_type": "code",
   "execution_count": null,
   "id": "bb1fe062",
   "metadata": {},
   "outputs": [],
   "source": [
    "Q6. Is it possible to use list comprehension with a string? If so, how can you go about doing it?\n",
    "\n",
    "Ans:-\n",
    "    List comprehension with a string is possible"
   ]
  },
  {
   "cell_type": "code",
   "execution_count": 9,
   "id": "cc880063",
   "metadata": {},
   "outputs": [
    {
     "name": "stdout",
     "output_type": "stream",
     "text": [
      "['i', 'N', 'e', 'u', 'r', 'o', 'n']\n"
     ]
    }
   ],
   "source": [
    "my_list = [i for i in 'iNeuron']\n",
    "print(my_list)"
   ]
  },
  {
   "cell_type": "code",
   "execution_count": null,
   "id": "9719730a",
   "metadata": {},
   "outputs": [],
   "source": [
    "Q7. From the command line, how do you get support with a user-written Python programme? Is this possible from inside IDLE?\n",
    "\n",
    "Ans:-\n",
    "    Get support with a user written Python programme: Start a command prompt(windows) or terminal window(Linux/Mac). If the\n",
    "    current working directery is the same as the location in which you saved the file, you can simply specify the filename\n",
    "    as a command -line argument to the python interpreter\n",
    "    \n",
    "    Get support with a User-Written program from IDLE: You can also create script file and run them in IDLE. From the shell\n",
    "    window menu, select File-> New File. That should open an additional editing window. Type in the code to be executed.\n",
    "    From the menu in that window, select File-> Save or File-> Save As and save the file to the disk. Then select Run ->\n",
    "    Run Module. The output should appear back in the interpreter."
   ]
  },
  {
   "cell_type": "code",
   "execution_count": null,
   "id": "29da7ee3",
   "metadata": {},
   "outputs": [],
   "source": [
    "Q8. Functions are said to be “first-class objects” in Python but not in most other languages, such as C++ or Java. What \n",
    "    can you do in Python with a function (callable object) that you can't do in C or C++?\n",
    "    \n",
    "Ans:-\n",
    "     The tasks which can be performed with the functions in python are:\n",
    "\n",
    "        A function is an instance of the Object type.\n",
    "        You can store the function in a variable.\n",
    "        You can pass the function as a parameter to another function.\n",
    "        You can return the function from a function.\n",
    "        You can store them in data structures such as hash tables, lists."
   ]
  },
  {
   "cell_type": "code",
   "execution_count": null,
   "id": "b0ed5e71",
   "metadata": {},
   "outputs": [],
   "source": [
    "Q9. How do you distinguish between a wrapper, a wrapped feature, and a decorator?\n",
    "\n",
    "Ans:-\n",
    "    Wrapper around the function called as Decorator"
   ]
  },
  {
   "cell_type": "code",
   "execution_count": null,
   "id": "b48b4007",
   "metadata": {},
   "outputs": [],
   "source": [
    "Q10. If a function is a generator function, what does it return?\n",
    "\n",
    "Ans:-\n",
    "    Generator function are a special kind of function that return a lazy iterator. These are objects that you can loop \n",
    "    over like a list. However,unlike lists, lazy iterator do not  store their contents in the memory."
   ]
  },
  {
   "cell_type": "code",
   "execution_count": null,
   "id": "8f802fd1",
   "metadata": {},
   "outputs": [],
   "source": [
    "Q11. What is the one improvement that must be made to a function in order for it to become a generator function in the \n",
    "     Python language?\n",
    "    \n",
    "Ans:-\n",
    "    Generator is written as a normal function but uses as a yield keyword to return values return the valyws instead return\n",
    "    keyword."
   ]
  },
  {
   "cell_type": "code",
   "execution_count": null,
   "id": "7e02dc1e",
   "metadata": {},
   "outputs": [],
   "source": [
    "Q12. Identify at least one benefit of generators.\n",
    "\n",
    "Ans:-\n",
    "    return statement sends a specified value back to its caller whereas yield statement can produce a sequence of values.\n",
    "    We should use generator when we want to iterate over a sequence in memory."
   ]
  }
 ],
 "metadata": {
  "kernelspec": {
   "display_name": "Python 3",
   "language": "python",
   "name": "python3"
  },
  "language_info": {
   "codemirror_mode": {
    "name": "ipython",
    "version": 3
   },
   "file_extension": ".py",
   "mimetype": "text/x-python",
   "name": "python",
   "nbconvert_exporter": "python",
   "pygments_lexer": "ipython3",
   "version": "3.8.8"
  }
 },
 "nbformat": 4,
 "nbformat_minor": 5
}

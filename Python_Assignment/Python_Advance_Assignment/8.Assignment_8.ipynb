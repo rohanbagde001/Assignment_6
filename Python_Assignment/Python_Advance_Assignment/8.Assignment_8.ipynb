{
 "cells": [
  {
   "cell_type": "code",
   "execution_count": null,
   "id": "04235db7",
   "metadata": {},
   "outputs": [],
   "source": [
    "Q1. What are the two latest user-defined exception constraints in Python 3.X?\n",
    "\n",
    "Ans:-\n",
    "    raise and assert are the two latest user defined exception constraint in python 3.X."
   ]
  },
  {
   "cell_type": "code",
   "execution_count": null,
   "id": "5fb9f6ad",
   "metadata": {},
   "outputs": [],
   "source": [
    "Q2. How are class-based exceptions that have been raised matched to handlers?\n",
    "\n",
    "Ans:-\n",
    "    In python, Users can define custom exception by creating a new class. This exception class has to be derived, either\n",
    "    directly or indirectly from built-in Exception class. This new exception class like other exception class like other\n",
    "    exception can be raised statement with an optional error message."
   ]
  },
  {
   "cell_type": "code",
   "execution_count": 3,
   "id": "697dd6e1",
   "metadata": {},
   "outputs": [
    {
     "ename": "ToYoungException",
     "evalue": "To young for Voting",
     "output_type": "error",
     "traceback": [
      "\u001b[1;31m---------------------------------------------------------------------------\u001b[0m",
      "\u001b[1;31mToYoungException\u001b[0m                          Traceback (most recent call last)",
      "\u001b[1;32m<ipython-input-3-278c57f4b7a4>\u001b[0m in \u001b[0;36m<module>\u001b[1;34m\u001b[0m\n\u001b[0;32m      3\u001b[0m         \u001b[0mself\u001b[0m\u001b[1;33m.\u001b[0m\u001b[0mmsg\u001b[0m \u001b[1;33m=\u001b[0m \u001b[0mmsg\u001b[0m\u001b[1;33m\u001b[0m\u001b[1;33m\u001b[0m\u001b[0m\n\u001b[0;32m      4\u001b[0m \u001b[0mage\u001b[0m \u001b[1;33m=\u001b[0m \u001b[1;36m12\u001b[0m\u001b[1;33m\u001b[0m\u001b[1;33m\u001b[0m\u001b[0m\n\u001b[1;32m----> 5\u001b[1;33m \u001b[1;32mif\u001b[0m \u001b[0mage\u001b[0m \u001b[1;33m<=\u001b[0m \u001b[1;36m18\u001b[0m\u001b[1;33m:\u001b[0m \u001b[1;32mraise\u001b[0m \u001b[0mToYoungException\u001b[0m\u001b[1;33m(\u001b[0m\u001b[1;34m'To young for Voting'\u001b[0m\u001b[1;33m)\u001b[0m\u001b[1;33m\u001b[0m\u001b[1;33m\u001b[0m\u001b[0m\n\u001b[0m",
      "\u001b[1;31mToYoungException\u001b[0m: To young for Voting"
     ]
    }
   ],
   "source": [
    "class ToYoungException(Exception):\n",
    "    def __init__(self,msg):\n",
    "        self.msg = msg\n",
    "age = 12\n",
    "if age <= 18: raise ToYoungException('To young for Voting')"
   ]
  },
  {
   "cell_type": "code",
   "execution_count": null,
   "id": "01333764",
   "metadata": {},
   "outputs": [],
   "source": [
    "Q3. Describe two methods for attaching context information to exception artefacts ?\n",
    "\n",
    "Ans:-\n",
    "    The process() method of LoggerAdapter is where the contextual information is added to the logging output. it passes\n",
    "    the message and the keyword arguments logging of the logging call, and it passes back modified versions of these to\n",
    "    use in the call to underlying logger.\n",
    "    \n",
    "    Other method that can be used is exception(), logs a message with level ERROR on this logger. The arguments are\n",
    "    interpreted as for debug(). Exception info is added to the logging message."
   ]
  },
  {
   "cell_type": "code",
   "execution_count": null,
   "id": "c29982cd",
   "metadata": {},
   "outputs": [],
   "source": [
    "Q4. Describe two methods for specifying the text of an exception object's error message ?\n",
    "\n",
    "Ans:-\n",
    "    raise and assert are two methods for specifying the text's of an exception object's error message. raise statement is \n",
    "    used to trigger explicit exception, if certain condition is not as per the requirement of the programmer. it helps in\n",
    "    triggering exception as per need of programmer and logic.\n",
    "    \n",
    "    There are few assertion that programmer always want to be True to avoid code failure. This type of requirement is \n",
    "    fullfilled by assert statement. This statement takes a Boolean Condition output of which if True, further program \n",
    "    executes. if output of assert statement is False it raises an assertion error."
   ]
  },
  {
   "cell_type": "code",
   "execution_count": null,
   "id": "383579da",
   "metadata": {},
   "outputs": [],
   "source": [
    "Q5. Why do you no longer use string-based exceptions?\n",
    "\n",
    "Ans:-\n",
    "    String bases Exception doesn't inherit from Exception.So plain exceptions catch all Exceptions and not only system."
   ]
  }
 ],
 "metadata": {
  "kernelspec": {
   "display_name": "Python 3",
   "language": "python",
   "name": "python3"
  },
  "language_info": {
   "codemirror_mode": {
    "name": "ipython",
    "version": 3
   },
   "file_extension": ".py",
   "mimetype": "text/x-python",
   "name": "python",
   "nbconvert_exporter": "python",
   "pygments_lexer": "ipython3",
   "version": "3.8.8"
  }
 },
 "nbformat": 4,
 "nbformat_minor": 5
}

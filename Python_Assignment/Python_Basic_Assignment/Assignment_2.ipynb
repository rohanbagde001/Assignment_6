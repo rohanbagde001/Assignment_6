{
 "cells": [
  {
   "cell_type": "raw",
   "id": "aa9d0619",
   "metadata": {},
   "source": [
    "1.What are the two values of the Boolean data type?\n",
    "  How do you write them?\n",
    "    \n",
    "Ans :- True an False are the two boolean data value."
   ]
  },
  {
   "cell_type": "raw",
   "id": "68bee832",
   "metadata": {},
   "source": [
    "2.What are the three different types of Boolean operators?\n",
    "\n",
    "Ans :- The three basic boolean operators are: AND, OR, and NOT"
   ]
  },
  {
   "cell_type": "raw",
   "id": "afa30515",
   "metadata": {},
   "source": [
    "3. Make a list of each Boolean operator truth tables (i.e. every possible combination of Boolean\n",
    "values for the operator and what it evaluate ).\n",
    "\n",
    "Ans :- \n",
    "\n",
    "Logical AND \n",
    "\n",
    "false AND false: false\n",
    "\n",
    "false AND true: false\n",
    "\n",
    "true AND false: false\n",
    "\n",
    "true AND true: true\n",
    "\n",
    "Logical OR \n",
    "\n",
    "false OR false: false\n",
    "\n",
    "false OR true: true\n",
    "\n",
    "true OR false: true\n",
    "\n",
    "true OR true: true\n",
    "\n",
    "Logical NOT \n",
    "\n",
    "NOT false: true\n",
    "\n",
    "NOT true: false"
   ]
  },
  {
   "cell_type": "code",
   "execution_count": 7,
   "id": "2430eee5",
   "metadata": {},
   "outputs": [
    {
     "name": "stdout",
     "output_type": "stream",
     "text": [
      "False False True False False True\n"
     ]
    }
   ],
   "source": [
    "#4. What are the values of the following expressions?\n",
    "\n",
    "#Ans :-\n",
    "\n",
    "a=(5 > 4) and (3 == 5)\n",
    "b=not (5 > 4)\n",
    "c=(5> 4) or (3 == 5)\n",
    "d=not ((5 > 4) or (3 == 5))\n",
    "e=(True and True) and (True == False)\n",
    "f=(not False) or (not True)\n",
    "print(a,b,c,d,e,f)"
   ]
  },
  {
   "cell_type": "raw",
   "id": "32556523",
   "metadata": {},
   "source": [
    "5. What are the six comparison operators?\n",
    "\n",
    "Ans:- \n",
    "    \n",
    "        There are six main comparison operators: \n",
    "            \n",
    "            equal to                    ==\n",
    "            not equal to                !=\n",
    "            greater than                >\n",
    "            greater than or equal to    >=\n",
    "            less than,                  <\n",
    "            less than or equal to.      <="
   ]
  },
  {
   "cell_type": "raw",
   "id": "8f716ffd",
   "metadata": {},
   "source": [
    "6. How do you tell the difference between the equal to and assignment operators?Describe a\n",
    "condition and when you would use one.\n",
    "\n",
    "Ans:-\n",
    "    \n",
    "    The = is an assignment operator is used to assign the value on the right to the variable on the left.\n",
    "    \n",
    "    The ‘==’ operator checks whether the two given operands are equal or not.\n",
    "      If so, it returns true. Otherwise it returns false.\n",
    "        \n",
    "                        The differences can be shown in tabular form as follows:\n",
    "\n",
    "                =                                                                ==\n",
    "(1). It is an assignment operator.                          (1). It is a relational or comparison operator.\n",
    "\n",
    "(2). It is used for assigning the value to a variable.      (2). It is used for comparing two values.\n",
    "                                                            It returns 1 if both the values are equal otherwise returns 0.\n",
    "    \n",
    "(3). Constant term cannot be placed on left hand side.      (3). Constant term can be placed in the left hand side.\n",
    "\n",
    "(4). Example: 1=x; is invalid.                              (4). Example: 1==1 is valid and returns 1.    \n",
    "                                                                  \n"
   ]
  },
  {
   "cell_type": "markdown",
   "id": "07971d73",
   "metadata": {},
   "source": [
    "#7. Identify the three blocks in this code:\n",
    "spam = 0\n",
    "if spam == 10:\n",
    "print(\"eggs\")    n\n",
    "if spam &gt; 5:\n",
    "print(&#39;bacon&#39;)\n",
    "else:\n",
    "print(&#39;ham&#39;)\n",
    "print(&#39;spam&#39;)\n",
    "print(&#39;spam&#39;)\n",
    "      \n",
    "Ans:-\n",
    "      Need Intended block in (4,6,8,9,10) line."
   ]
  },
  {
   "cell_type": "code",
   "execution_count": 23,
   "id": "eeb17f5b",
   "metadata": {},
   "outputs": [
    {
     "name": "stdout",
     "output_type": "stream",
     "text": [
      "please enter the number: 3\n",
      "Greetings\n"
     ]
    }
   ],
   "source": [
    "#8. Write code that prints Hello if 1 is stored in spam, prints Howdy if 2 is stored in spam, and prints\n",
    "#Greetings! if anything else is stored in spam.\n",
    "\n",
    "#Ans:-\n",
    "spam = int(input(\"please enter the number: \")) \n",
    "if spam == 1:\n",
    "    print(\"Hello\")\n",
    "elif spam == 2:\n",
    "        print(\"Howdy\")\n",
    "else:\n",
    "    print(\"Greetings\")\n",
    "\n",
    "    "
   ]
  },
  {
   "cell_type": "code",
   "execution_count": null,
   "id": "8bb52b6a",
   "metadata": {},
   "outputs": [],
   "source": [
    "9.If your programme is stuck in an endless loop, what keys you’ll press?\n",
    "\n",
    "Ans:- \n",
    "      To stop, you have to break the endless loop, which can be done by pressing Ctrl+C."
   ]
  },
  {
   "cell_type": "raw",
   "id": "db2ce9b9",
   "metadata": {},
   "source": [
    "10. How can you tell the difference between break and continue?\n",
    "\n",
    "Ans:- \n",
    "      The main difference between both the statements is that when break keyword comes, \n",
    "      it terminates the execution of the current loop and passes the control over the next loop or main body, \n",
    "      whereas when continue keyword is encountered, it skips the current iteration and executes the very next \n",
    "      iteration in the loop."
   ]
  },
  {
   "cell_type": "raw",
   "id": "ce401d0a",
   "metadata": {},
   "source": [
    "11. In a for loop, what is the difference between range(10), range(0, 10), and range(0, 10, 1)?\n",
    "\n",
    "Ans:- \n",
    "     In range function range(Start position , End Position ,Increment by number(eg. 1 ,2,-1 etc.))"
   ]
  },
  {
   "cell_type": "code",
   "execution_count": 3,
   "id": "8002f6d9",
   "metadata": {},
   "outputs": [
    {
     "name": "stdout",
     "output_type": "stream",
     "text": [
      "1\n",
      "2\n",
      "3\n",
      "4\n",
      "5\n",
      "6\n",
      "7\n",
      "8\n",
      "9\n",
      "10\n",
      "1\n",
      "2\n",
      "3\n",
      "4\n",
      "5\n",
      "6\n",
      "7\n",
      "8\n",
      "9\n",
      "10\n"
     ]
    }
   ],
   "source": [
    "#12. Write a short program that prints the numbers 1 to 10 using a for loop. Then write an equivalent\n",
    "#program that prints the numbers 1 to 10 using a while loop.\n",
    "\n",
    "#Ans:-\n",
    "# by using for loop\n",
    "for i in range(1,11):\n",
    "    print(i)\n",
    "i = 1\n",
    "while(i<=10):\n",
    "    print(i)\n",
    "    i += 1"
   ]
  },
  {
   "cell_type": "raw",
   "id": "8879a59c",
   "metadata": {},
   "source": [
    "13. If you had a function named bacon() inside a module named spam, how would you call it after\n",
    "importing spam?\n",
    "\n",
    "Ans:- \n",
    "      import spam\n",
    "      spam.bacon()"
   ]
  }
 ],
 "metadata": {
  "kernelspec": {
   "display_name": "Python 3",
   "language": "python",
   "name": "python3"
  },
  "language_info": {
   "codemirror_mode": {
    "name": "ipython",
    "version": 3
   },
   "file_extension": ".py",
   "mimetype": "text/x-python",
   "name": "python",
   "nbconvert_exporter": "python",
   "pygments_lexer": "ipython3",
   "version": "3.8.8"
  }
 },
 "nbformat": 4,
 "nbformat_minor": 5
}

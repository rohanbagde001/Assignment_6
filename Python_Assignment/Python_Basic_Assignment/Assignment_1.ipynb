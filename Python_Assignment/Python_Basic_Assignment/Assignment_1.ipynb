{
 "cells": [
  {
   "cell_type": "raw",
   "id": "c2c527cb",
   "metadata": {},
   "source": [
    "1. In the below elements which of them are values or an expression? \n",
    "eg:- values can be integer or string and expressions will be mathematical operators.\n",
    "\n",
    "*  :-  multiplication operator\n",
    "\n",
    "\"hello\"  :- String\n",
    "\n",
    "-   :-  minus operator\n",
    "\n",
    "/   :-  Divivsion operator\n",
    "\n",
    "+   :- addition opearator\n",
    "\n",
    "6   :- Integer"
   ]
  },
  {
   "cell_type": "raw",
   "id": "64512ea4",
   "metadata": {},
   "source": [
    "2. What is the difference between string and variable?\n",
    "\n",
    "Ans :- A string is any series of characters that are interpreted literally by a script. \n",
    "       For example, \"hello world\" and \"LKJH019283\" are both examples of strings\n",
    "       String is a type of Variable\n",
    "       \n",
    "       Variable is datatype which can contain String , List , Tuple , Dictionary etc."
   ]
  },
  {
   "cell_type": "raw",
   "id": "9f497784",
   "metadata": {},
   "source": [
    "3. Describe three different data types.\n",
    "\n",
    "Ans  :-\n",
    "    (1). string is a collection of one or more characters put in a single quote,\n",
    "         double-quote or triple quote.\n",
    "         \n",
    "    (2). Lists are just like the arrays, declared in other languages which is a ordered collection of data.\n",
    "         It is very flexible as the items in a list do not need to be of the same type.    \n",
    "         \n",
    "    (3). Boolean data type with one of the two built-in values, True or False. \n",
    "         Boolean objects that are equal to True are truthy (true), and those equal to False are falsy (false). \n",
    "         But non-Boolean objects can be evaluated in Boolean context as well and determined to be true or false. \n",
    "         It is denoted by the class bool.    "
   ]
  },
  {
   "cell_type": "raw",
   "id": "c50ede17",
   "metadata": {},
   "source": [
    "4. What is an expression made up of? What do all expressions do?\n",
    "\n",
    "Ans:- An expression is a combination of values, variables, operators, and calls to functions. \n",
    "      Expressions need to be evaluated. \n",
    "      eg. to print an expression, the interpreter evaluates the expression and displays the result.\n",
    "      \n",
    "      All expression is an instruction that combines values and operators and always evaluates down to a single value.\n",
    "      this is the function of expression.\n",
    "      \n",
    "      "
   ]
  },
  {
   "cell_type": "raw",
   "id": "2f5b97de",
   "metadata": {},
   "source": [
    "5. This assignment statements, like spam = 10. What is the difference between an\n",
    "   expression and a statement?\n",
    "\n",
    "Ans :-  In programming language terminology, an “expression” is a combination of values and functions that are \n",
    "        combined and interpreted by the compiler to create a new value, \n",
    "        as opposed to a “statement” which is just a standalone unit of execution and doesn't return anything."
   ]
  },
  {
   "cell_type": "code",
   "execution_count": 2,
   "id": "83b3530d",
   "metadata": {},
   "outputs": [
    {
     "data": {
      "text/plain": [
       "23"
      ]
     },
     "execution_count": 2,
     "metadata": {},
     "output_type": "execute_result"
    }
   ],
   "source": [
    "#6. After running the following code, what does the variable bacon contain?\n",
    "bacon = 22\n",
    "bacon + 1 #Answer is 23"
   ]
  },
  {
   "cell_type": "code",
   "execution_count": 5,
   "id": "6ce54fc3",
   "metadata": {},
   "outputs": [
    {
     "name": "stdout",
     "output_type": "stream",
     "text": [
      "spamspamspam\n",
      "spamspamspam\n"
     ]
    }
   ],
   "source": [
    "# 7. What should the values of the following two terms be?\n",
    "\n",
    "print('spam'+ 'spamspam')\n",
    "print('spam'*3)"
   ]
  },
  {
   "cell_type": "raw",
   "id": "bb26edab",
   "metadata": {},
   "source": [
    "8. Why is eggs a valid variable name while 100 is invalid?\n",
    "\n",
    "Ans:-\n",
    "    Here eggs is alphabetical combination but 100 is numeric, we cant define variable which is starting with integers."
   ]
  },
  {
   "cell_type": "raw",
   "id": "dc75d264",
   "metadata": {},
   "source": [
    "9. What three functions can be used to get the integer, floating-point number, or string\n",
    "   version of a value?\n",
    "\n",
    "Ans:- Integer - int()\n",
    "      Floating - float()\n",
    "      string  -  str()"
   ]
  },
  {
   "cell_type": "code",
   "execution_count": 9,
   "id": "c747a97f",
   "metadata": {},
   "outputs": [
    {
     "data": {
      "text/plain": [
       "'I have eaten99buritos'"
      ]
     },
     "execution_count": 9,
     "metadata": {},
     "output_type": "execute_result"
    }
   ],
   "source": [
    "#10. Why does this expression cause an error? How can you fix it?\n",
    "    #'I have eaten' + 99 + 'burritos.'\n",
    "#Ans:- \n",
    "'I have eaten' + str(99) + 'buritos'\n",
    "'I have eaten' + '99' + 'buritos'"
   ]
  },
  {
   "cell_type": "code",
   "execution_count": null,
   "id": "cb67961f",
   "metadata": {},
   "outputs": [],
   "source": []
  }
 ],
 "metadata": {
  "kernelspec": {
   "display_name": "Python 3",
   "language": "python",
   "name": "python3"
  },
  "language_info": {
   "codemirror_mode": {
    "name": "ipython",
    "version": 3
   },
   "file_extension": ".py",
   "mimetype": "text/x-python",
   "name": "python",
   "nbconvert_exporter": "python",
   "pygments_lexer": "ipython3",
   "version": "3.8.8"
  }
 },
 "nbformat": 4,
 "nbformat_minor": 5
}

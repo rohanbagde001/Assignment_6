{
 "cells": [
  {
   "cell_type": "raw",
   "id": "939fafa2",
   "metadata": {},
   "source": [
    "1. Why are functions advantageous to have in your programs?\n",
    "\n",
    "Ans:- \n",
    "      Functions reduce the need for duplicate code. This makes programs shorter, easier to read, \n",
    "      and easier to update. ... A function call is what moves the program execution into the function, \n",
    "      and the function call evaluates to the function's return value.\n",
    "    "
   ]
  },
  {
   "cell_type": "raw",
   "id": "0c2e4210",
   "metadata": {},
   "source": [
    "2. When does the code in a function run: when it's specified or when it's called?\n",
    "\n",
    "Ans:-\n",
    "      When a function is \"called\" the program \"leaves\" the current section of code and begins to execute the first line           inside the function."
   ]
  },
  {
   "cell_type": "raw",
   "id": "daac97ec",
   "metadata": {},
   "source": [
    "3. What statement creates a function?\n",
    "\n",
    "Ans:-\n",
    "     A statement that executes a function. It consists of the name of the function followed by a list of \n",
    "     arguments enclosed in parentheses. Using the output from one function call as the input to another. \n",
    "     A statement that creates a new function, specifying its name, parameters, and the statements it executes."
   ]
  },
  {
   "cell_type": "raw",
   "id": "6fdd30ce",
   "metadata": {},
   "source": [
    "4.What is the difference between a function and a function call?\n",
    "\n",
    "Ans:-\n",
    "      A function call means invoking or calling that function. Unless a function is called there is no use of \n",
    "      that function.So the difference between the function and function call is, A function is procedure to \n",
    "      achieve a particular result while function call is using this function to achive that task."
   ]
  },
  {
   "cell_type": "raw",
   "id": "bb9c14d4",
   "metadata": {},
   "source": [
    "5. How many global scopes are there in a Python program? How many local scopes?\n",
    "\n",
    "Ans:-\n",
    "     There's only one global Python scope per program execution. This scope remains in existence until \n",
    "     the program terminates and all its names are forgotten.\n",
    "     \n",
    "     Local scope is a characteristic of variables that makes them local (i.e., the variable name is only bound \n",
    "     to its value within a scope which is not the global scope)."
   ]
  },
  {
   "cell_type": "raw",
   "id": "66b9b31b",
   "metadata": {},
   "source": [
    "6. What happens to variables in a local scope when the function call returns?\n",
    "\n",
    "Ans:-\n",
    "     A local variable retains its value until the next time the function is called A local variable becomes \n",
    "     undefined after the function call completes The local variable can be used outside the function any time \n",
    "     after the function call completes."
   ]
  },
  {
   "cell_type": "raw",
   "id": "d0e3344c",
   "metadata": {},
   "source": [
    "7. What is the concept of a return value? Is it possible to have a return value in an expression?\n",
    "\n",
    "Ans:-\n",
    "     A return is a value that a function returns to the calling script or function when it completes its task. \n",
    "     A return value can be any one of the four variable types: handle, integer, object, or string. The type of \n",
    "     value your function returns depends largely on the task it performs.\n",
    "     "
   ]
  },
  {
   "cell_type": "raw",
   "id": "24290c0a",
   "metadata": {},
   "source": [
    "8. If a function does not have a return statement, what is the return value of a call to that function?\n",
    "\n",
    "Ans:-\n",
    "     If a function doesn't specify a return value, it returns None."
   ]
  },
  {
   "cell_type": "raw",
   "id": "610a6475",
   "metadata": {},
   "source": [
    "9. How do you make a function variable refer to the global variable?\n",
    "\n",
    "Ans:-\n",
    "     If you want to refer to a global variable in a function, you can use the global keyword to declare which \n",
    "     variables are global."
   ]
  },
  {
   "cell_type": "raw",
   "id": "719f1b9b",
   "metadata": {},
   "source": [
    "10. What is the data type of None?\n",
    "Ans:-\n",
    "     The None keyword is used to define a null value, or no value at all. None is not the same as 0, \n",
    "     False, or an empty string. None is a data type of its own (NoneType) and only None can be None."
   ]
  },
  {
   "cell_type": "raw",
   "id": "105a6ab9",
   "metadata": {},
   "source": [
    "11. What does the sentence import areallyourpetsnamederic do?\n",
    "Ans:- \n",
    "     A global statement will force a variable in a function to refer to the global variable. \n",
    "     The data type of None is NoneType . That import statement imports a module named areallyourpetsnamederic.\n",
    "   "
   ]
  },
  {
   "cell_type": "raw",
   "id": "892d3a72",
   "metadata": {},
   "source": [
    "12. If you had a bacon() feature in a spam module, what would you call it after importing spam?\n",
    "\n",
    "Ans:-\n",
    "    This function can be called with spam. bacon()."
   ]
  },
  {
   "cell_type": "raw",
   "id": "afa3777d",
   "metadata": {},
   "source": [
    "13. What can you do to save a programme from crashing if it encounters an error?\n",
    "\n",
    "Ans:-\n",
    "    Instead, error handling can be used to notify the user of why the error occurred and gracefully exit \n",
    "    the process that caused the error."
   ]
  },
  {
   "cell_type": "raw",
   "id": "6efa19c6",
   "metadata": {},
   "source": [
    "14. What is the purpose of the try clause? What is the purpose of the except clause?\n",
    "\n",
    "Ans:-\n",
    "    The try block is used to check some code for errors i.e the code inside the try block will execute when \n",
    "    there is no error in the program. Whereas the code inside the except block will execute whenever the \n",
    "    program encounters some error in the preceding try block."
   ]
  }
 ],
 "metadata": {
  "kernelspec": {
   "display_name": "Python 3",
   "language": "python",
   "name": "python3"
  },
  "language_info": {
   "codemirror_mode": {
    "name": "ipython",
    "version": 3
   },
   "file_extension": ".py",
   "mimetype": "text/x-python",
   "name": "python",
   "nbconvert_exporter": "python",
   "pygments_lexer": "ipython3",
   "version": "3.8.8"
  }
 },
 "nbformat": 4,
 "nbformat_minor": 5
}

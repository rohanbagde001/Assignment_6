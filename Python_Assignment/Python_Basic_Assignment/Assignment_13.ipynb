{
 "cells": [
  {
   "cell_type": "markdown",
   "id": "650bc59d",
   "metadata": {},
   "source": [
    "1. What advantages do Excel spreadsheets have over CSV spreadsheets?\n",
    "\n",
    "Ans:-\n",
    "    The Advantage of Exel over CSV are:\n",
    "    \n",
    "    1. Excel(xlsx) file format storing and analysing a complex data.\n",
    "    2. An Excel not only stores data but can also do operations on the data using macros, formulas etc\n",
    "    3. CSV files are plain-text files, Does not contain formatting, formulas, macros, etc. It is also known as flat files\n",
    "    "
   ]
  },
  {
   "cell_type": "markdown",
   "id": "1c227b6f",
   "metadata": {},
   "source": [
    "2.What do you pass to csv.reader() and csv.writer() to create reader and writer objects?\n",
    "\n",
    "Ans:-\n"
   ]
  },
  {
   "cell_type": "code",
   "execution_count": 1,
   "id": "1b181e01",
   "metadata": {},
   "outputs": [
    {
     "name": "stdout",
     "output_type": "stream",
     "text": [
      "['id', 'name', 'dob', 'sex', 'class', 'hcode', 'dcode', 'mtest']\n",
      "['1001', 'ABA', '11-05-1986', 'M', '1A', 'B', 'TST', '84']\n",
      "['1002', 'Mary', '25-06-1986', 'F', '2B', 'B', 'YL', '82']\n",
      "['1003', 'David', '17-03-1988', 'M', '1A', 'G', 'TM', '84']\n",
      "['1004', 'John', '17-01-1985', 'M', '1C', 'B', 'YL', '82']\n",
      "['1005', 'May', '15-11-1986', 'F', '1A', 'B', 'TP', '30']\n",
      "['1006', 'Janet', '04-06-1986', 'F', '2B', 'R', 'TST', '62']\n",
      "['1007', 'Steve', '31-03-1987', 'M', '2C', 'R', 'TM', '38']\n",
      "['1008', 'Chris', '12-01-1984', 'M', '1A', 'B', 'YL', '49']\n",
      "['1009', 'Robert', '03-09-1987', 'M', '1A', 'G', 'TST', '63']\n",
      "['1010', 'June', '15-02-1988', 'F', '1B', 'R', 'YMT', '59']\n",
      "['1011', 'Judie', '23-02-1986', 'F', '2C', 'R', 'TST', '62']\n",
      "['1012', 'Sally', '05-07-1986', 'F', '3A', 'G', 'YL', '71']\n",
      "['1013', 'Sammi', '14-08-1986', 'F', '1B', 'B', 'TM', '84']\n",
      "['1014', 'katie', '22-09-1986', 'F', '1C', 'B', 'YMT', '42']\n",
      "['1015', 'Wilson', '12-10-1986', 'M', '1A', 'R', 'YL', '66']\n",
      "['1016', 'Tommy', '05-12-1986', 'M', '1A', 'G', 'TM', '33']\n",
      "['1017', 'Till', '14-04-1986', 'M', '2B', 'R', 'TP', '81']\n"
     ]
    }
   ],
   "source": [
    "import csv\n",
    "with open('student.csv','r') as file:\n",
    "    csv_file= csv.reader(file,delimiter=',')\n",
    "    for i in csv_file:\n",
    "        print(i)"
   ]
  },
  {
   "cell_type": "markdown",
   "id": "35c4d0da",
   "metadata": {},
   "source": [
    "3. What modes do File objects for reader and writer objects need to be opened in?\n",
    "\n",
    "Ans:-\n",
    "    For csv.reader(iterable_file_object), the file objects needed to be opened in read mode mode='r' Whereas for \n",
    "    csv.writer(iterable_file_object) the file objects needed to be opened in write mode mode='w'"
   ]
  },
  {
   "cell_type": "markdown",
   "id": "24a1b1a3",
   "metadata": {},
   "source": [
    "4. What method takes a list argument and writes it to a CSV file?\n",
    "\n",
    "Ans:-\n",
    "    csv.writer class provides two methods for writing to CSV. They are writerow() and writerows(). writerow() method \n",
    "    writes a single row at a time. Whereas writerows() method is used to write multiple rows at a time."
   ]
  },
  {
   "cell_type": "code",
   "execution_count": 8,
   "id": "e1d1ed54",
   "metadata": {},
   "outputs": [],
   "source": [
    "import csv\n",
    "fields = ['Name','Branch','Year','CGPA'] # column name\n",
    "rows=[\n",
    "        ['Nikhil','COE','2','9.0'],\n",
    "        ['Sanchit','COE','2','9.1'],\n",
    "        ['Ravi','IT','2','9.3']\n",
    "     ]\n",
    "with open('records.csv','w') as csvfile:\n",
    "    csvwriter = csv.writer(csvfile)  # creating a csv writer object\n",
    "    csvwriter.writerow(fields)   # writing a fields\n",
    "    csvwriter.writerows(rows)   # writting the data rows"
   ]
  },
  {
   "cell_type": "markdown",
   "id": "1e2d0956",
   "metadata": {},
   "source": [
    "5. What do the keyword arguments delimiter and line terminator do?\n",
    "\n",
    "Ans:-\n",
    "    lets take the example of csv file:\n",
    "    First Name, Last Name, Age\n",
    "    Rohan, Bagde, 30\n",
    "    Sanket, Bagde, 26\n",
    "    \n",
    "    here ',' is a delimiter, we can use any Charecter as per our needs if required. Similarly Line Terminator comes at the\n",
    "    end of a line by default it is a newline can be changed according to requirment."
   ]
  },
  {
   "cell_type": "markdown",
   "id": "9a1c2d18",
   "metadata": {},
   "source": [
    "6. What function takes a string of JSON data and returns a Python data structure?"
   ]
  },
  {
   "cell_type": "code",
   "execution_count": 10,
   "id": "5e2a151a",
   "metadata": {},
   "outputs": [
    {
     "name": "stdout",
     "output_type": "stream",
     "text": [
      "{\n",
      "    \"Name\": \"Mano Vishnu\",\n",
      "    \"Qualification\": \"Bachelor of Technology\",\n",
      "    \"Stream\": \"Computer Science and Engineering\"\n",
      "}\n",
      "Type of my_details_json is<class 'str'>\n",
      "{'Name': 'Mano Vishnu', 'Qualification': 'Bachelor of Technology', 'Stream': 'Computer Science and Engineering'}\n",
      "Type of details is<class 'dict'>\n"
     ]
    }
   ],
   "source": [
    "# Example of json.loads() method\n",
    "import json\n",
    "my_details_json ='''{\n",
    "    \"Name\": \"Mano Vishnu\",\n",
    "    \"Qualification\": \"Bachelor of Technology\",\n",
    "    \"Stream\": \"Computer Science and Engineering\"\n",
    "}'''\n",
    "print(my_details_json)\n",
    "print(f'Type of my_details_json is{type(my_details_json)}')\n",
    "my_details = json.loads(my_details_json)\n",
    "print(my_details)\n",
    "print(f'Type of details is{type(my_details)}')\n"
   ]
  },
  {
   "cell_type": "markdown",
   "id": "ac5e512b",
   "metadata": {},
   "source": [
    "7. What function takes a Python data structure and returns a string of JSON data?\n",
    "\n",
    "Ans:-\n",
    "    dumps() method takes a python data structure and returns a string of JSON data.\n",
    "    "
   ]
  },
  {
   "cell_type": "code",
   "execution_count": 24,
   "id": "48e2dd31",
   "metadata": {},
   "outputs": [
    {
     "name": "stdout",
     "output_type": "stream",
     "text": [
      "{'Name': 'Mano Vishnu', 'Stream': 'Computer Science and Engineering', 'Qualification': 'Bachelor of Technology'}\n",
      "Type of my_details is <class 'dict'>\n",
      "{\n",
      "    \"Name\": \"Mano Vishnu\",\n",
      "    \"Qualification\": \"Bachelor of Technology\",\n",
      "    \"Stream\": \"Computer Science and Engineering\"\n",
      "}\n",
      "Type of my_details_json is <class 'str'>\n"
     ]
    }
   ],
   "source": [
    "# Example of json.dumps() method\n",
    "import json\n",
    "my_details = {\n",
    "    'Name':'Mano Vishnu',\n",
    "    'Stream':'Computer Science and Engineering',\n",
    "    'Qualification':'Bachelor of Technology'\n",
    "}\n",
    "print(my_details)\n",
    "print(f'Type of my_details is {type(my_details)}')\n",
    "my_details_json = json.dumps(my_details, indent=4, sort_keys=True)\n",
    "print(my_details_json)\n",
    "print(f'Type of my_details_json is {type(my_details_json)}')"
   ]
  },
  {
   "cell_type": "code",
   "execution_count": null,
   "id": "42a6d877",
   "metadata": {},
   "outputs": [],
   "source": []
  }
 ],
 "metadata": {
  "kernelspec": {
   "display_name": "Python 3",
   "language": "python",
   "name": "python3"
  },
  "language_info": {
   "codemirror_mode": {
    "name": "ipython",
    "version": 3
   },
   "file_extension": ".py",
   "mimetype": "text/x-python",
   "name": "python",
   "nbconvert_exporter": "python",
   "pygments_lexer": "ipython3",
   "version": "3.8.8"
  }
 },
 "nbformat": 4,
 "nbformat_minor": 5
}

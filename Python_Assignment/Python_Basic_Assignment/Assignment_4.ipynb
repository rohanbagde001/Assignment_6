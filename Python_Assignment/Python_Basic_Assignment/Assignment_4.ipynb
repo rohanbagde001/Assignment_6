{
 "cells": [
  {
   "cell_type": "raw",
   "id": "40b2dcf7",
   "metadata": {},
   "source": [
    "1. What exactly is []?\n",
    "\n",
    "Ans:-\n",
    "     List are enclosed in square parentheses."
   ]
  },
  {
   "cell_type": "code",
   "execution_count": 13,
   "id": "296a4262",
   "metadata": {},
   "outputs": [
    {
     "data": {
      "text/plain": [
       "'hello'"
      ]
     },
     "execution_count": 13,
     "metadata": {},
     "output_type": "execute_result"
    }
   ],
   "source": [
    "#2. In a list of values stored in a variable called spam, how would you assign the value \"hello\" as the\n",
    "#   third value? (Assume [2, 4, 6, 8, 10] are in spam.)\n",
    "   \n",
    "#Ans:- \n",
    "spam  = [[2,4,6,8,10], _, \"hello\"]\n",
    "spam[2]"
   ]
  },
  {
   "cell_type": "code",
   "execution_count": 12,
   "id": "9a191950",
   "metadata": {},
   "outputs": [
    {
     "data": {
      "text/plain": [
       "'hello'"
      ]
     },
     "execution_count": 12,
     "metadata": {},
     "output_type": "execute_result"
    }
   ],
   "source": [
    "Let&#39;s pretend the spam includes the list [&#39;a&#39;, &#39;b&#39;, &#39;c&#39;, &#39;d&#39;] \n",
    "for the next three queries.\n"
   ]
  },
  {
   "cell_type": "raw",
   "id": "cb87bf7c",
   "metadata": {},
   "source": [
    "3. What is the value of spam[int(int(&#39;3&#39; * 2) / 11)]?\n",
    "\n",
    "Ans:-\n",
    "\n",
    "    [int(int('3'*2/11))] = 3"
   ]
  },
  {
   "cell_type": "code",
   "execution_count": 16,
   "id": "ff52bbde",
   "metadata": {},
   "outputs": [
    {
     "data": {
      "text/plain": [
       "'d'"
      ]
     },
     "execution_count": 16,
     "metadata": {},
     "output_type": "execute_result"
    }
   ],
   "source": [
    "#4. What is the value of spam[-1]?\n",
    "\n",
    "#Ans:-\n",
    "  \n",
    "spam = ['a','b','c','d']\n",
    "spam[-1]"
   ]
  },
  {
   "cell_type": "code",
   "execution_count": 20,
   "id": "14d92d23",
   "metadata": {},
   "outputs": [
    {
     "data": {
      "text/plain": [
       "['a', 'b']"
      ]
     },
     "execution_count": 20,
     "metadata": {},
     "output_type": "execute_result"
    }
   ],
   "source": [
    "#5. What is the value of spam[:2]?\n",
    "\n",
    "#Ans:-\n",
    "spam = ['a','b','c','d']\n",
    "spam[:2]"
   ]
  },
  {
   "cell_type": "code",
   "execution_count": 1,
   "id": "7c0d15f7",
   "metadata": {},
   "outputs": [],
   "source": [
    "#Lets pretend bacon has the list [3.14, 'cat' , 11, 'cat' True] for the next three questions."
   ]
  },
  {
   "cell_type": "code",
   "execution_count": 12,
   "id": "95825d38",
   "metadata": {},
   "outputs": [
    {
     "data": {
      "text/plain": [
       "1"
      ]
     },
     "execution_count": 12,
     "metadata": {},
     "output_type": "execute_result"
    }
   ],
   "source": [
    "#6. What is the value of bacon.index(\"cat\")?\n",
    "\n",
    "#Ans:-\n",
    "    \n",
    "bacon = [3.14, 'cat' , 11, 'cat' , True]    \n",
    "bacon.index(\"cat\")  # 1 is the answer"
   ]
  },
  {
   "cell_type": "code",
   "execution_count": 10,
   "id": "f8635b42",
   "metadata": {},
   "outputs": [
    {
     "data": {
      "text/plain": [
       "[3.14, 'cat', 11, 'cat', True, 99]"
      ]
     },
     "execution_count": 10,
     "metadata": {},
     "output_type": "execute_result"
    }
   ],
   "source": [
    "#7. How does bacon.append(99) change the look of the list value in bacon?\n",
    "\n",
    "#Ans:-\n",
    "\n",
    "bacon.append(99)\n",
    "bacon         # Answer is [3.14, 'cat', 11, 'cat', True, 99]"
   ]
  },
  {
   "cell_type": "code",
   "execution_count": 13,
   "id": "7805dea7",
   "metadata": {},
   "outputs": [
    {
     "data": {
      "text/plain": [
       "[3.14, 11, 'cat', True]"
      ]
     },
     "execution_count": 13,
     "metadata": {},
     "output_type": "execute_result"
    }
   ],
   "source": [
    "#8. How does bacon.remove(\"cat\") change the look of the list in bacon?\n",
    "\n",
    "#Ans:-\n",
    "\n",
    "bacon.remove(\"cat\")\n",
    "bacon         # Answer is [3.14, 11, 'cat', True]\n"
   ]
  },
  {
   "cell_type": "raw",
   "id": "a48723e7",
   "metadata": {},
   "source": [
    "9. What are the list concatenation and list replication operators?\n",
    "\n",
    "Ans:-\n",
    "    list concatenation + operator\n",
    "    \n",
    "    list replication  * operator"
   ]
  },
  {
   "cell_type": "raw",
   "id": "31dbe0f8",
   "metadata": {},
   "source": [
    "10. What is difference between the list methods append() and insert()?\n",
    "\n",
    "Ans:-\n",
    "     The only difference between append() and insert() is that insert function allows us to add \n",
    "     a specific element at a specified index of the list unlike append() where we can add the \n",
    "     element only at end of the list."
   ]
  },
  {
   "cell_type": "raw",
   "id": "c9e7296b",
   "metadata": {},
   "source": [
    "11. What are the two methods for removing items from a list?\n",
    "\n",
    "Ans:-\n",
    "      1. by usinf remove() method\n",
    "      2. by using pop() method"
   ]
  },
  {
   "cell_type": "raw",
   "id": "05c36560",
   "metadata": {},
   "source": [
    "12. Describe how list values and string values are identical.\n",
    "\n",
    "Ans:-\n",
    "     The values that make up a list are called its elements.Lists are similar to strings, which are \n",
    "     ordered collections of characters, except that the elements of a list can have any type and for \n",
    "     any one list, the items can be of different types."
   ]
  },
  {
   "cell_type": "raw",
   "id": "5c39507b",
   "metadata": {},
   "source": [
    "13. What iss the difference between tuples and lists?\n",
    "\n",
    "Ans:-\n",
    "\n",
    "     The key difference between the tuples and lists is that while the tuples are immutable objects the lists\n",
    "     are mutable. This means that tuples cannot be changed while the lists can be modified. Tuples are more \n",
    "     memory efficient than the lists"
   ]
  },
  {
   "cell_type": "raw",
   "id": "ce162251",
   "metadata": {},
   "source": [
    "14. How do you type a tuple value that only contains the integer 42?\n",
    "\n",
    "Ans:-\n",
    " \n",
    "tuple=(42) "
   ]
  },
  {
   "cell_type": "code",
   "execution_count": 48,
   "id": "19187ae5",
   "metadata": {},
   "outputs": [
    {
     "name": "stdout",
     "output_type": "stream",
     "text": [
      "<class 'list'>\n",
      "<class 'tuple'>\n"
     ]
    }
   ],
   "source": [
    "#15. How do you get a list values tuple form? How do you get a tuple values list form?\n",
    "\n",
    "#Ans:-\n",
    "\n",
    "tup = (1,2,3,4)\n",
    "l = [tup]\n",
    "print(type(l))\n",
    "\n",
    "l = (5,6,7,8)\n",
    "def convert(l):\n",
    "    return (l)\n",
    "print(type(l))"
   ]
  },
  {
   "cell_type": "raw",
   "id": "050d515a",
   "metadata": {},
   "source": [
    "16. Variables that \"contain\" list values are not necessarily lists themselves. Instead, what do they\n",
    "contain?\n",
    "\n",
    "Ans:-\n",
    "    \n",
    "    "
   ]
  },
  {
   "cell_type": "raw",
   "id": "98b631c4",
   "metadata": {},
   "source": [
    "17. How do you distinguish between copy.copy() and copy.deepcopy()?\n",
    "\n",
    "Ans:-\n",
    "    \n",
    "     shallow copy constructs a new compound object and then (to the extent possible) inserts references into \n",
    "     it to the objects found in the original. A deep copy constructs a new compound object and then, recursively, \n",
    "     inserts copies into it of the objects found in the original"
   ]
  }
 ],
 "metadata": {
  "kernelspec": {
   "display_name": "Python 3",
   "language": "python",
   "name": "python3"
  },
  "language_info": {
   "codemirror_mode": {
    "name": "ipython",
    "version": 3
   },
   "file_extension": ".py",
   "mimetype": "text/x-python",
   "name": "python",
   "nbconvert_exporter": "python",
   "pygments_lexer": "ipython3",
   "version": "3.8.8"
  }
 },
 "nbformat": 4,
 "nbformat_minor": 5
}

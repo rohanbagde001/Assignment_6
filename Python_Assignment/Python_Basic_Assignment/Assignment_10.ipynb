{
 "cells": [
  {
   "cell_type": "raw",
   "id": "b0195dee",
   "metadata": {},
   "source": [
    "1. How do you distinguish between shutil.copy() and shutil.copytree()?\n",
    "\n",
    "Ans:-\n",
    "     shutil.copy method is used to copy contents of a file from one file to another file/folder, it primary takes two\n",
    "     arguments src,dest. src represents file to be copied where destination refers to the file/folder to the where src \n",
    "     data should be copied, if the destination is folder name the src with exact name will be copied to the desination\n",
    "     folder, if it's a file then the contents of src will be copied to the destination where dest retains it name\n",
    "     \n",
    "     shutil.copytree() function is used to copy the entire contents of a folder to other folder. it also takes \n",
    "     two arguments src & dest, it copies all the content recursively and stores it in dest. the important catch here \n",
    "     is dest must not exist prior to this and it will be created during the copy operation. Permissions and times \n",
    "     of directories are copied with shutil.copystat() and individual files are copied using shutil.copy2() by default \n",
    "     which can be modified using copy_function attribute.\n",
    "    "
   ]
  },
  {
   "cell_type": "raw",
   "id": "89470716",
   "metadata": {},
   "source": [
    "2. What function is used to rename files?\n",
    "\n",
    "Ans:-\n",
    "    os.rename() function is used to rename files or directories using a python program, this function takes two arguments\n",
    "    src and dest. src represents  the name file/directory which want to rename, whereas dest represent the new name of \n",
    "    file/directory."
   ]
  },
  {
   "cell_type": "raw",
   "id": "7cbad37e",
   "metadata": {},
   "source": [
    "3. What is the difference between the delete functions in the send2trash and shutil modules?\n",
    "\n",
    "Ans:-\n",
    "    shutil module provide a function called as shutil.rmtree() which deletes a directory and all it's content. The other\n",
    "    function with similar functionality are os.ramove() -> removes a file, os .rmdir() removes a empty directory. the \n",
    "    problem with these function is once a file is deleted , it will lost permenently, if a file is deleted accidently\n",
    "    using these method there is no way we can recover the deleted file.\n",
    "    \n",
    "    whereas send2trash module provides a function called send2trash.send2trash() to delete a file/directory to trash folder\n",
    "    instesd of permenently deleting them.hence if a file /folder is deleted accidently it can be still recovered from trash\n",
    "    folder, if it is deleted using the send2trash.send2trash() function. send2trash is not included with python standard\n",
    "    library like os & shutil modules. it needs to be installed explicitly using the command !pip install send2trash"
   ]
  },
  {
   "cell_type": "raw",
   "id": "f0d6202a",
   "metadata": {},
   "source": [
    "4.ZipFile objects have a close() method just like File objects’ close() method. What ZipFile method is\n",
    "  equivalent to File objects’ open() method?\n",
    "    \n",
    "Ans:- \n",
    "    ZipFile Module provides a method called as zipfile.ZipFile() to read and write to zipFiles. it takes arugments \n",
    "    lile filename and mode etc zipfile.ZipFile('filename', mode = 'r')"
   ]
  },
  {
   "cell_type": "markdown",
   "id": "ba235b7f",
   "metadata": {},
   "source": [
    "5. Create a programme that searches a folder tree for files with a certain file extension (such as .pdf or .jpg). \n",
    "   Copy these files from whatever location they are in to a new folder\n",
    "   \n",
    "Ans:-"
   ]
  },
  {
   "cell_type": "code",
   "execution_count": 36,
   "id": "1118bb3a",
   "metadata": {},
   "outputs": [],
   "source": [
    "import os\n",
    "import shutil\n",
    "\n",
    "def search_and_copy(source,destination,extensions):\n",
    "    source = os.path.abspath(source)\n",
    "    destination = os.path.abspath(destination)\n",
    "    for foldername, subfolder, filenames in os.walk(source):\n",
    "        print(f'Folder Name ➞ {foldername}',end='\\n\\n')\n",
    "        print(f'Sub Folders ➞ {subfolder}',end='\\n\\n')\n",
    "        print(f'Files ➞ {filenames}',end='\\n\\n')\n",
    "        for filename in filenames:\n",
    "            fileName,extension = os.path.splitext(filename)\n",
    "            if extension in extensions:\n",
    "                targetFile = foldername+os.path.sep+fileName+extension\n",
    "                shutil.copy(targetFile, destination)\n",
    "        print(f'Files copied successfully from {source} to {destination}')\n",
    "    \n",
    "extensions = ['.pdf','.jpg','.ipynb']\n",
    "source = 'Dummy Source'\n",
    "destination = 'Dummy Destination'\n",
    "search_and_copy(source, destination, extensions)"
   ]
  },
  {
   "cell_type": "code",
   "execution_count": 37,
   "id": "1d8a3cf1",
   "metadata": {},
   "outputs": [
    {
     "name": "stdout",
     "output_type": "stream",
     "text": [
      "Folder Name ➞ C:\\Users\\rohan\\Downloads\\New folder (2)\\New folder\n",
      "\n",
      "Sub Folders ➞ []\n",
      "\n",
      "Files ➞ ['Assignment_1.ipynb', 'Assignment_2.ipynb', 'Assignment_3.ipynb', 'Assignment_4.ipynb', 'Assignment_5.ipynb', 'Assignment_6.ipynb']\n",
      "\n",
      "Files copied successfully from C:\\Users\\rohan\\Downloads\\New folder (2)\\New folder to C:\\Users\\rohan\\Downloads\\New folder (2)\\New folder (2)\n"
     ]
    }
   ],
   "source": [
    "search_and_copy(\"C:\\\\Users\\\\rohan\\\\Downloads\\\\New folder (2)\\\\New folder\",\"C:\\\\Users\\\\rohan\\\\Downloads\\\\New folder (2)\\\\New folder (2)\",'.ipynb')"
   ]
  },
  {
   "cell_type": "code",
   "execution_count": null,
   "id": "c74a9000",
   "metadata": {},
   "outputs": [],
   "source": []
  }
 ],
 "metadata": {
  "kernelspec": {
   "display_name": "Python 3",
   "language": "python",
   "name": "python3"
  },
  "language_info": {
   "codemirror_mode": {
    "name": "ipython",
    "version": 3
   },
   "file_extension": ".py",
   "mimetype": "text/x-python",
   "name": "python",
   "nbconvert_exporter": "python",
   "pygments_lexer": "ipython3",
   "version": "3.8.8"
  }
 },
 "nbformat": 4,
 "nbformat_minor": 5
}

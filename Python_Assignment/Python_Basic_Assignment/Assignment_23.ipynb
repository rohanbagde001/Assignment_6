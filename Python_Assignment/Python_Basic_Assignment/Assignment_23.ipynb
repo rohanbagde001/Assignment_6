{
 "cells": [
  {
   "cell_type": "raw",
   "id": "00e6b603",
   "metadata": {},
   "source": [
    "1. What is the result of the code, and why?\n",
    ">>> def func(a, b=6, c=8):\n",
    "print(a, b, c)\n",
    ">>> func(1, 2)\n",
    "\n",
    "Ans:- The result of above code is 1 2 8. because, the function uses default value of c which is 8 provided at the time of\n",
    "      declaration."
   ]
  },
  {
   "cell_type": "code",
   "execution_count": 2,
   "id": "a6af777f",
   "metadata": {},
   "outputs": [
    {
     "name": "stdout",
     "output_type": "stream",
     "text": [
      "1 2 8\n"
     ]
    }
   ],
   "source": [
    "def func(a,b=6,c=8):\n",
    "    print(a,b,c)\n",
    "    \n",
    "func(1,2)"
   ]
  },
  {
   "cell_type": "raw",
   "id": "641a7329",
   "metadata": {},
   "source": [
    "2. What is the result of this code, and why?\n",
    ">>> def func(a, b, c=5):\n",
    "print(a, b, c)\n",
    ">>> func(1, c=3, b=2)\n",
    "\n",
    "Ans:- The result of the above code is 1 2 3. because function will use will default values only when value of argument is \n",
    "      not provided and if argument name is mentioned while"
   ]
  },
  {
   "cell_type": "code",
   "execution_count": 3,
   "id": "d0c0e883",
   "metadata": {},
   "outputs": [
    {
     "name": "stdout",
     "output_type": "stream",
     "text": [
      "1 2 3\n"
     ]
    }
   ],
   "source": [
    "def func(a,b,c=5):\n",
    "    print(a,b,c)\n",
    "    \n",
    "func(1,c=3,b=2)"
   ]
  },
  {
   "cell_type": "raw",
   "id": "9a067452",
   "metadata": {},
   "source": [
    "3. How about this code: what is its result, and why?\n",
    ">>> def func(a, *pargs):\n",
    "print(a, pargs)\n",
    ">>> func(1, 2, 3)\n",
    "\n",
    "Ans:- The result of the code is 1 (2,3). *args stands for variable length arguments is used when we are not sure about the \n",
    "      the number of arguments we are going to pass to function. all the values in this argument is stored in tuple."
   ]
  },
  {
   "cell_type": "code",
   "execution_count": 4,
   "id": "ef823ff0",
   "metadata": {},
   "outputs": [
    {
     "name": "stdout",
     "output_type": "stream",
     "text": [
      "1 (2, 3)\n"
     ]
    }
   ],
   "source": [
    "def func(a,*args):\n",
    "    print(a,args)\n",
    "    \n",
    "func(1,2,3)"
   ]
  },
  {
   "cell_type": "raw",
   "id": "421baeaa",
   "metadata": {},
   "source": [
    "4. What does this code print, and why?\n",
    ">>> def func(a, **kargs):\n",
    "print(a, kargs)\n",
    ">>> func(a=1, c=3, b=2)\n",
    "\n",
    "Ans:- The result of the above code is 1 {'c': 3, 'b': 2}. **kwargs stand for the variable length keyword argument. this \n",
    "      format is used when we want pass key value pairs as input to a function. All these key value pairs stored in the\n",
    "      dictionary format."
   ]
  },
  {
   "cell_type": "code",
   "execution_count": 5,
   "id": "a668879e",
   "metadata": {},
   "outputs": [
    {
     "name": "stdout",
     "output_type": "stream",
     "text": [
      "1 {'c': 3, 'b': 2}\n"
     ]
    }
   ],
   "source": [
    "def func(a, **kwargs):\n",
    "    print(a,kwargs)\n",
    "    \n",
    "func(a=1,c=3,b=2)"
   ]
  },
  {
   "cell_type": "raw",
   "id": "ab5b5396",
   "metadata": {},
   "source": [
    "5. What gets printed by this, and explain?\n",
    ">>> def func(a, b, c=8, d=5): print(a, b, c, d)\n",
    ">>> func(1, *(5, 6))\n",
    "\n",
    "Ans:- The output of the above is 1 5 6 5. This reason for this function not throwing an error because, this function \n",
    "      expects 4 arguments. the value for a provided explicitly whereas argument b and c, the function expand *(5,6) and \n",
    "      consider the value of b is 5 and the value of c is. since default value of d is 5."
   ]
  },
  {
   "cell_type": "code",
   "execution_count": 8,
   "id": "264723d0",
   "metadata": {},
   "outputs": [
    {
     "name": "stdout",
     "output_type": "stream",
     "text": [
      "1 5 6 5\n"
     ]
    }
   ],
   "source": [
    "def func(a,b,c=8,d=5):\n",
    "    print(a,b,c,d)\n",
    "    \n",
    "func(1, *(5,6))"
   ]
  },
  {
   "cell_type": "raw",
   "id": "1390a263",
   "metadata": {},
   "source": [
    ". what is the result of this, and explain?\n",
    ">>> def func(a, b, c): a = 2; b[0] = 'x'; c['a'] = 'y'\n",
    ">>> l=1; m=[1]; n={'a':0}\n",
    ">>> func(l, m, n)\n",
    ">>> l, m, n\n",
    "\n",
    "Ans:-The output is (1, ['x'], {'a': 'y'})\n",
    "      1. Eventhough python gives importance to indentation. its provides a facility to declare an entire function in a one\n",
    "      single line. where statement of a body is seperated by;\n",
    "      2. when l,m,n are provided as inputs to the function. it is modifies the values of a l,m,n and sets the value of l"
   ]
  },
  {
   "cell_type": "code",
   "execution_count": 11,
   "id": "92eb8023",
   "metadata": {},
   "outputs": [
    {
     "data": {
      "text/plain": [
       "(1, ['x'], {'a': 'y'})"
      ]
     },
     "execution_count": 11,
     "metadata": {},
     "output_type": "execute_result"
    }
   ],
   "source": [
    "def func(a,b,c):\n",
    "    a = 2; b[0] = 'x'; c['a'] = 'y'\n",
    "l=1; m=[1]; n={'a':0}\n",
    "    \n",
    "func(l,m,n)\n",
    "l,m,n"
   ]
  },
  {
   "cell_type": "code",
   "execution_count": null,
   "id": "f10dfc74",
   "metadata": {},
   "outputs": [],
   "source": []
  }
 ],
 "metadata": {
  "kernelspec": {
   "display_name": "Python 3",
   "language": "python",
   "name": "python3"
  },
  "language_info": {
   "codemirror_mode": {
    "name": "ipython",
    "version": 3
   },
   "file_extension": ".py",
   "mimetype": "text/x-python",
   "name": "python",
   "nbconvert_exporter": "python",
   "pygments_lexer": "ipython3",
   "version": "3.8.8"
  }
 },
 "nbformat": 4,
 "nbformat_minor": 5
}

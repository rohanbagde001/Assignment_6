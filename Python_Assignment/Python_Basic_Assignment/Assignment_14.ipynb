{
 "cells": [
  {
   "cell_type": "markdown",
   "id": "3dd23681",
   "metadata": {},
   "source": [
    "1. What does RGBA stand for?\n",
    "\n",
    "Ans:-\n",
    "    RGBA is a four channel format containing data for Red,Green,Blue and Alpha value. where Alpha represents the opacity."
   ]
  },
  {
   "cell_type": "markdown",
   "id": "dbcd270b",
   "metadata": {},
   "source": [
    "2.From the Pillow module, how do you get the RGBA value of any images?\n",
    "\n",
    "Ans:-\n",
    "    Imagecolor.getcolor() gives rgba value of any image."
   ]
  },
  {
   "cell_type": "markdown",
   "id": "53b2e5c1",
   "metadata": {},
   "source": [
    "3. What is a box tuple, and how does it work?\n",
    "\n",
    "Ans:-\n",
    "    A box tuple is a tuple value of four integers, the left edge is x-coordinate, the top edge y coordinate, the width and \n",
    "    height respectively."
   ]
  },
  {
   "cell_type": "markdown",
   "id": "365cacc5",
   "metadata": {},
   "source": [
    "4. Use your image and load in notebook then, How can you find out the width and height of an Image object?\n",
    "\n",
    "Ans:-"
   ]
  },
  {
   "cell_type": "code",
   "execution_count": 15,
   "id": "3d8d67ad",
   "metadata": {},
   "outputs": [
    {
     "name": "stdout",
     "output_type": "stream",
     "text": [
      "Width, Height ->(2000, 1500)\n"
     ]
    }
   ],
   "source": [
    "from PIL import Image\n",
    "pic = Image.open(\"C:\\\\Users\\\\rohan\\\\OneDrive\\\\Documents\\\\Rohan_selfie.jpg\")\n",
    "print(f'Width, Height ->{pic.size}')"
   ]
  },
  {
   "cell_type": "markdown",
   "id": "1670ce34",
   "metadata": {},
   "source": [
    "5. What method would you call to get Image object for a 100×100 image, excluding the lower-left quarter of it?"
   ]
  },
  {
   "cell_type": "code",
   "execution_count": 16,
   "id": "1e96c6b2",
   "metadata": {},
   "outputs": [],
   "source": [
    "from PIL import Image\n",
    "img = Image.open(\"C:\\\\Users\\\\rohan\\\\OneDrive\\\\Documents\\\\Rohan_selfie - Copy.jpg\")\n",
    "new_img=img.crop((100,100,100,100))\n",
    "\n"
   ]
  },
  {
   "cell_type": "markdown",
   "id": "47fe66e5",
   "metadata": {},
   "source": [
    "6. After making changes to an Image object, how could you save it as an image file?\n",
    "\n",
    "Ans:-\n",
    "    "
   ]
  },
  {
   "cell_type": "code",
   "execution_count": null,
   "id": "4eacf46a",
   "metadata": {},
   "outputs": [],
   "source": [
    "from PIL import Image\n",
    "pic = Image.open('pic.jpg')\n",
    "pic.save('pic.jpg')\n",
    "\n"
   ]
  },
  {
   "cell_type": "markdown",
   "id": "2c2ee8ae",
   "metadata": {},
   "source": [
    "7. What module contains Pillow’s shape-drawing code?\n",
    "\n",
    "Ans:-\n",
    "    Pillows ImageDraw module contains shape draw methods"
   ]
  },
  {
   "cell_type": "code",
   "execution_count": null,
   "id": "8683120b",
   "metadata": {},
   "outputs": [],
   "source": [
    "8. Image objects do not have drawing methods. What kind of object does? How do you get this kind of object?\n",
    "\n",
    "Ans:-ImageDraw objects have shape-drawing methods such as point(), line(), or rectangle().They are returned by passing\n",
    "     the Image object to the ImageDraw.Draw() function.\n",
    "    "
   ]
  }
 ],
 "metadata": {
  "kernelspec": {
   "display_name": "Python 3",
   "language": "python",
   "name": "python3"
  },
  "language_info": {
   "codemirror_mode": {
    "name": "ipython",
    "version": 3
   },
   "file_extension": ".py",
   "mimetype": "text/x-python",
   "name": "python",
   "nbconvert_exporter": "python",
   "pygments_lexer": "ipython3",
   "version": "3.8.8"
  }
 },
 "nbformat": 4,
 "nbformat_minor": 5
}

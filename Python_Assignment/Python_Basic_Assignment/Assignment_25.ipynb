{
 "cells": [
  {
   "cell_type": "markdown",
   "id": "2d5541d5",
   "metadata": {},
   "source": [
    "1. What is the difference between enclosing a list comprehension in square brackets and parentheses?\n",
    "\n",
    "Ans:-\n",
    "    Enclosing a list comprehension in square brackets return a list but where as a list comprehension in parenthese returns\n",
    "    a generator object."
   ]
  },
  {
   "cell_type": "code",
   "execution_count": 1,
   "id": "e0a088f3",
   "metadata": {},
   "outputs": [
    {
     "name": "stdout",
     "output_type": "stream",
     "text": [
      "[0, 1, 2, 3, 4, 5, 6, 7, 8, 9] <class 'list'>\n",
      "<generator object <genexpr> at 0x000001C6AD1BC510> <class 'generator'>\n"
     ]
    }
   ],
   "source": [
    "l = [i for i in range(10)]\n",
    "print(l, type(l))\n",
    "\n",
    "g = (i for i in range(10))\n",
    "print(g, type(g))"
   ]
  },
  {
   "cell_type": "code",
   "execution_count": null,
   "id": "d1578154",
   "metadata": {},
   "outputs": [],
   "source": [
    "2) What is the relationship between generators and iterators?\n",
    "\n",
    "Ans:-\n",
    "    An iterator is an object which contains a countable number of values and it is used to iterate objects like list ,\n",
    "    tuples, set, etc. Iterators are implemented using a class. It follows lazy evaluation where the evaluation of the\n",
    "    expression will be on a hold and stored in the memory until the item is called specifically which helps us to avoid\n",
    "    repeated evaluation. As lazy evaluation is implemented, it requires only 1 memory location to process the value and \n",
    "    when we are using a large dataset then, wastage of RAM space will be reduced the need to load the entire dataset at \n",
    "    the same time will not be there. For an iterator: iter() keyword is used to create an iterator containing an \n",
    "    iterable object.\n",
    "    \n",
    "    Similarly generator are an another way of creating iterators in a simple way where it uses a keyword yield statement\n",
    "    instead of return statement in a defined function. Generators are implemented using a function. just as iterator,\n",
    "    generator also follow lazy evaluation. Here, the yield function return the data without affecting or exiting the\n",
    "    function. It will return a sequence in an iterable format where we need to iterate over the sequence of the use the \n",
    "    data as they won't store the entire sequnce in the memory."
   ]
  },
  {
   "cell_type": "code",
   "execution_count": 7,
   "id": "7cc479fe",
   "metadata": {},
   "outputs": [
    {
     "name": "stdout",
     "output_type": "stream",
     "text": [
      "<class 'list_iterator'>\n",
      "iNeuron\n",
      "Full\n",
      "Stack\n",
      "Data-Science\n",
      "<list_iterator object at 0x000001D9DF936F40>\n",
      "0\n",
      "1\n",
      "8\n",
      "27\n",
      "64\n"
     ]
    }
   ],
   "source": [
    "# Example of iterator\n",
    "\n",
    "iter_str = iter(['iNeuron','Full','Stack','Data-Science'])\n",
    "print(type(iter_str))\n",
    "print(next(iter_str))\n",
    "print(next(iter_str))\n",
    "print(next(iter_str))\n",
    "print(next(iter_str))\n",
    "print(iter_str)     #After the iterable object is completed, to use them again we have reassign them to the same object.\n",
    "\n",
    "#Example of Generator\n",
    "\n",
    "def cube_numbers(in_num):\n",
    "    for i in range(in_num+1):\n",
    "        yield i**3\n",
    "        \n",
    "out_num = cube_numbers(4)\n",
    "print(next(out_num))\n",
    "print(next(out_num))\n",
    "print(next(out_num))\n",
    "print(next(out_num))\n",
    "print(next(out_num))\n",
    "        "
   ]
  },
  {
   "cell_type": "code",
   "execution_count": null,
   "id": "c6ce04d4",
   "metadata": {},
   "outputs": [],
   "source": [
    "3) What are the signs that a function is a generator function?\n",
    "\n",
    "Ans:-\n",
    "    A generator function uses a yield statement instead of  a return staement. A generator function will always return an\n",
    "    iterable object called generator. where as normal function can return string/list/tuple/dict/NoneType"
   ]
  },
  {
   "cell_type": "code",
   "execution_count": null,
   "id": "eea10bbf",
   "metadata": {},
   "outputs": [],
   "source": [
    "4) What is the purpose of a yield statement?\n",
    "\n",
    "Ans:-\n",
    "    The yield statement suspends function's execution and sends value back to the coller, but retains enough state to \n",
    "    resume where it is left off.When resumed, the function continues execution  immediately after the last yield run.\n",
    "    This allows it to code to produce a series of values over time, rather than computing at it once and sending them back \n",
    "    like a list"
   ]
  },
  {
   "cell_type": "code",
   "execution_count": null,
   "id": "1dc58939",
   "metadata": {},
   "outputs": [],
   "source": [
    "5) What is the relationship between map calls and list comprehensions? Make a comparison and contrast between the two ?\n",
    "\n",
    "Ans:-\n",
    "    The main difference between map calls and list comprehension are:\n",
    "    1. List comprehension is more concise and easier to read as compare to map.\n",
    "    2. List comprehension allows filtering. In map, we have no such facility. For example to print all odd numbers in range\n",
    "       of 50, we can write [n for n in range(50) if n%2 != 0]. There is no alternate it in map.\n",
    "    3. List comprehension are used when a list of results is required as final output. but map only returns a map object.\n",
    "       it needs to be explicitly coverted to desired database.\n",
    "    4. List comprehension is faster than map when we need to evaluate expressions that are too long or complicated to\n",
    "       express.\n",
    "    5. Map is faster in case of calling an already defined function on a set of values."
   ]
  }
 ],
 "metadata": {
  "kernelspec": {
   "display_name": "Python 3",
   "language": "python",
   "name": "python3"
  },
  "language_info": {
   "codemirror_mode": {
    "name": "ipython",
    "version": 3
   },
   "file_extension": ".py",
   "mimetype": "text/x-python",
   "name": "python",
   "nbconvert_exporter": "python",
   "pygments_lexer": "ipython3",
   "version": "3.8.8"
  }
 },
 "nbformat": 4,
 "nbformat_minor": 5
}

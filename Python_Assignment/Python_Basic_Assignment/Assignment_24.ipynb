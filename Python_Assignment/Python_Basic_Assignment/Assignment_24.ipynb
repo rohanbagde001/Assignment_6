{
 "cells": [
  {
   "cell_type": "markdown",
   "id": "02f4414b",
   "metadata": {},
   "source": [
    "1. What is the relationship between def statements and lambda expressions ?\n",
    "\n",
    "Ans:-\n",
    "    def statement is used to create a normal function. where as a lambda expressions are used to create Anonymous function\n",
    "    which can be assigned to the variable and can be called using the variable later in function.\n",
    "    \n",
    "    Lambda  body is a sinngle expression and not a block like def statement. The lambda expression body is similar to what \n",
    "    we have put in def block."
   ]
  },
  {
   "cell_type": "markdown",
   "id": "f9333184",
   "metadata": {},
   "source": [
    "2. What is the benefit of lambda?\n",
    "\n",
    "Ans:-\n",
    "    The following are the benfit of lambda expression.\n",
    "    \n",
    "    1. Can be used to create a nameless/Anonymous function inside some complex function if we are planning to use once.\n",
    "    2. Moderate to small function can be created in a single line.\n",
    "    3. Functions created using a lambda expression can be assigned to variable and can be used simply by calling the\n",
    "       variable"
   ]
  },
  {
   "cell_type": "markdown",
   "id": "a01b2ca4",
   "metadata": {},
   "source": [
    "3. Compare and contrast map, filter, and reduce.\n",
    "\n",
    "Ans:-\n",
    "    1. map(): The map function is a type of higher order. This function takes a another function as a parameter along with\n",
    "       sequence of iterables and returns the output after applying the function to each iterable present in the sequence.\n",
    "        \n",
    "    2. filter(): The filter function is used to crate an output list consisting of values for which the return true.\n",
    "    3. reduce(): The reduce function as the name describes, applies given function to the iterables and return a single\n",
    "       value."
   ]
  },
  {
   "cell_type": "code",
   "execution_count": 4,
   "id": "cf07bba2",
   "metadata": {},
   "outputs": [
    {
     "name": "stdout",
     "output_type": "stream",
     "text": [
      "map [2, 4, 6, 8]\n",
      "filter [1, 3]\n",
      "reduce 28\n"
     ]
    }
   ],
   "source": [
    "from functools import reduce\n",
    "#map function\n",
    "print('map',list(map(lambda x:x+x, [1,2,3,4])))\n",
    "\n",
    "# filter function\n",
    "print('filter',list(filter(lambda x:x%2 !=0, [1,2,3,4])))\n",
    "\n",
    "# reduce function\n",
    "print('reduce', reduce(lambda x,y:x+y, [1,2,3,4,5,6,7]))\n"
   ]
  },
  {
   "cell_type": "markdown",
   "id": "b3ab10b0",
   "metadata": {},
   "source": [
    "4. What are function annotations, and how are they used?\n",
    "\n",
    "Ans:-\n",
    "    Function annotation provides a way of associating various parts of a function with a arbitary python exeption at a \n",
    "    compile time.\n",
    "    Annnotations of a simple parametres def func(x:expression, y:expression=20):\n",
    "    whereas the annotation for excess parameter are as - def func(*args:expresson, **kwargs:expression)"
   ]
  },
  {
   "cell_type": "markdown",
   "id": "0eaaa75f",
   "metadata": {},
   "source": [
    "5. What are recursive functions, and how are they used?\n",
    "\n",
    "Ans:-\n",
    "    A recursive function is a function that calls itself during its execution. The process may repeat severel times,\n",
    "    outputting the result and the end of each iteration."
   ]
  },
  {
   "cell_type": "code",
   "execution_count": null,
   "id": "5cd6f860",
   "metadata": {},
   "outputs": [],
   "source": [
    "6. What are some general design guidelines for coding functions?\n",
    "\n",
    "Ans:-\n",
    "    Some of the general guidelines for coding functions are:\n",
    "    1. Always use docstring to explain the functionality of the function.\n",
    "    2. Avoid using limited use of global variable\n",
    "    3. proper indentation to increase the readability of the code.\n",
    "    4. Try to foloow naming convention for function names(pascalCase or CamelCase) and stick with the convention throughout\n",
    "       the application.\n",
    "    5. Avoid using digits while choosing the variable name.\n",
    "    6. Try to use name for the function which conveys the purpose of the function.\n",
    "    7. Local variable should be named using camelCase format (ex: localVariable) where global variable should be named as\n",
    "       PascalCase (ex: GlobalVariable)\n",
    "    8. Constant should be replaced in allcaps (ex:CONSTANT)"
   ]
  },
  {
   "cell_type": "code",
   "execution_count": null,
   "id": "887de654",
   "metadata": {},
   "outputs": [],
   "source": [
    "7. Name three or more ways that functions can communicate results to a caller.\n",
    "\n",
    "Ans:-\n",
    "    Some of the ways in which a function can communicate with calling function is:\n",
    "        \n",
    "    1. print\n",
    "    2. return\n",
    "    3. yield"
   ]
  }
 ],
 "metadata": {
  "kernelspec": {
   "display_name": "Python 3",
   "language": "python",
   "name": "python3"
  },
  "language_info": {
   "codemirror_mode": {
    "name": "ipython",
    "version": 3
   },
   "file_extension": ".py",
   "mimetype": "text/x-python",
   "name": "python",
   "nbconvert_exporter": "python",
   "pygments_lexer": "ipython3",
   "version": "3.8.8"
  }
 },
 "nbformat": 4,
 "nbformat_minor": 5
}

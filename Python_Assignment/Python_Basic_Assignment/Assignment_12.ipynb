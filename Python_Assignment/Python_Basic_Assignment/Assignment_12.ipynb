{
 "cells": [
  {
   "cell_type": "raw",
   "id": "9c5513c9",
   "metadata": {},
   "source": [
    "1. In what modes should the PdfFileReader() and PdfFileWriter() File objects will be opened?\n",
    "\n",
    "Ans:-\n",
    "    For PdfFileReader() file object should be opened in rb -> read binary mode,whereas for PdfFileWriter() file object \n",
    "    should be opened in wb -> write binary mode."
   ]
  },
  {
   "cell_type": "markdown",
   "id": "b4a9476b",
   "metadata": {},
   "source": [
    "2. From a PdfFileReader object, how do you get a Page object for page 5?\n",
    "\n",
    "Ans:-\n",
    "    PdfFileReader class provides a method called getPage(page_no) to get the page object."
   ]
  },
  {
   "cell_type": "code",
   "execution_count": 2,
   "id": "4a712ffc",
   "metadata": {},
   "outputs": [],
   "source": [
    "from PyPDF2 import PdfFileReader\n",
    "pdf_reader = PdfFileReader(file_path)\n",
    "for page in pdf_reader.getNumPages():\n",
    "    pdf_reader.getPage(Page)\n"
   ]
  },
  {
   "cell_type": "markdown",
   "id": "473e70a0",
   "metadata": {},
   "source": [
    "3. What PdfFileReader variable stores the number of pages in the PDF document?\n",
    "\n",
    "Ans:-\n",
    "    getNumPages() method of PdfFileReader class store the no pages in pdff document."
   ]
  },
  {
   "cell_type": "code",
   "execution_count": null,
   "id": "096d955f",
   "metadata": {},
   "outputs": [],
   "source": [
    "from PyPDF2 import PdfFileReader\n",
    "pdf_reader = PdfFileReader(file_path)\n",
    "print(pdf_reader.getNumPages())"
   ]
  },
  {
   "cell_type": "markdown",
   "id": "f8d3c187",
   "metadata": {},
   "source": [
    "4. If a PdfFileReader object’s PDF is encrypted with the password swordfish, what must you do before you can obtain Page objects from it?\n",
    "\n",
    "\n",
    "Ans:-\n",
    "    If a PdfFileReader objects PDF is encrypted with the password swordfish and you are not aware of it. first read the \n",
    "    file using PdfFileReader Class. PdfFileReader class provides a ttribute called as isEncrypted to check weather pdf is\n",
    "    encrypted or not. the method returns the true if a pdf is encrypted and vice versa  if pdf is  encrypted use the\n",
    "    decrypt() method provided by PdfFileReader class then first then try to read the contents/pages of the pdf. else PyPDF\n",
    "    will raise the error PyPDF2.utils.PdfReadError: file has not been decrypted\n",
    "\n",
    "    "
   ]
  },
  {
   "cell_type": "raw",
   "id": "c9605333",
   "metadata": {},
   "source": [
    "5. What methods do you use to rotate a page?\n",
    "\n",
    "Ans:-\n",
    "    PyPDF provides two methods to rotate the page.\n",
    "    \n",
    "    1. rotateClockWise()  to rotate clockwise\n",
    "    \n",
    "    2. rotateCounterClockWise   to rotate counterclockwise\n",
    "    \n",
    "    The PyPDF2 package only allows you to rotate page in increments of 90 degrees. you will receive an assertion error\n",
    "    otherwiswe."
   ]
  },
  {
   "cell_type": "raw",
   "id": "ef96078d",
   "metadata": {},
   "source": [
    "6. What is the difference between a Run object and a Paragraph object?\n",
    "\n",
    "Ans:-\n",
    "    The structure of a document is represented by three data types in python-Docx. At the highest level, a Document object\n",
    "    represents the entire document. The Document object contains the list of paragraph objects for the paragraph in the \n",
    "    document. (A new paragraph begins whenever the user press ENTER or RETURN while typing in a word document.) Each of\n",
    "    these paragraph objects contains the list of one or more Run objects.\n",
    "    \n",
    "    The text in a word document is more than the just string. It has a font,size,color, and other styling information \n",
    "    associated with it. A style in a word is a collection of these attributes. A Run object is a contiguous run of text\n",
    "    with rhe same text with the same style. A new run object is needed whenever the text"
   ]
  },
  {
   "cell_type": "markdown",
   "id": "7d5ccfa8",
   "metadata": {},
   "source": [
    "7. How do you obtain a list of Paragraph objects for a Document object that’s stored in a variable\n",
    "    named doc?\n",
    "    \n",
    "Ans:-\n",
    "   "
   ]
  },
  {
   "cell_type": "code",
   "execution_count": null,
   "id": "d980f9ac",
   "metadata": {},
   "outputs": [],
   "source": [
    " # Example Program\n",
    "from docx import Document\n",
    "doc = Document(\"sample_file.docx\") # Path of the Docx file\n",
    "print(doc.paragraphs) # Prints the list of Paragraph objects for a Document\n",
    "for paragraph in doc.paragraphs:\n",
    "    print(paragraph.text) # Prints the text in the paragraph"
   ]
  },
  {
   "cell_type": "raw",
   "id": "5eff2e5d",
   "metadata": {},
   "source": [
    "8. What type of object has bold, underline, italic, strike, and outline variables?\n",
    "\n",
    "Ans:-\n",
    "    Run object has bold, underline, italic,strike, outline variable. The text in a document is more than a just string. It\n",
    "    has font, size, color and other styling associated wirh it.\n",
    "        A style word is a collection of these attributes. A run object is contiguous run of the text with same style. A new\n",
    "    run object is needed whenever the style changes."
   ]
  },
  {
   "cell_type": "markdown",
   "id": "27076219",
   "metadata": {},
   "source": [
    "9. What is the difference between False, True, and None for the bold variable?"
   ]
  },
  {
   "cell_type": "code",
   "execution_count": 3,
   "id": "e5f1dd1d",
   "metadata": {},
   "outputs": [],
   "source": [
    "bold= True  #Style is set to be bold\n",
    "bold= False #style is not set to be bold\n",
    "bold= None #style is not applicable"
   ]
  },
  {
   "cell_type": "markdown",
   "id": "d4d2f1d1",
   "metadata": {},
   "source": [
    "10. How do you create a Document object for a new Word document?\n",
    "\n",
    "Ans:-"
   ]
  },
  {
   "cell_type": "code",
   "execution_count": 14,
   "id": "63df5fc4",
   "metadata": {},
   "outputs": [
    {
     "name": "stdout",
     "output_type": "stream",
     "text": [
      "Collecting python-docx\n",
      "  Downloading python-docx-0.8.11.tar.gz (5.6 MB)\n",
      "Requirement already satisfied: lxml>=2.3.2 in c:\\users\\rohan\\anaconda3\\lib\\site-packages (from python-docx) (4.6.3)\n",
      "Building wheels for collected packages: python-docx\n",
      "  Building wheel for python-docx (setup.py): started\n",
      "  Building wheel for python-docx (setup.py): finished with status 'done'\n",
      "  Created wheel for python-docx: filename=python_docx-0.8.11-py3-none-any.whl size=184600 sha256=8c6fcd8ac6b7fe66d1702ab0256293bc39ce618589f5f742160258ab7aa4769d\n",
      "  Stored in directory: c:\\users\\rohan\\appdata\\local\\pip\\cache\\wheels\\32\\b8\\b2\\c4c2b95765e615fe139b0b17b5ea7c0e1b6519b0a9ec8fb34d\n",
      "Successfully built python-docx\n",
      "Installing collected packages: python-docx\n",
      "Successfully installed python-docx-0.8.11\n"
     ]
    }
   ],
   "source": [
    "!pip install python-docx"
   ]
  },
  {
   "cell_type": "code",
   "execution_count": 16,
   "id": "2f9935da",
   "metadata": {},
   "outputs": [],
   "source": [
    "from docx import Document\n",
    "document = Document()\n",
    "document.add_paragraph(\"Ineuron\")\n",
    "document.save(\"myineuron.docx\")\n"
   ]
  },
  {
   "cell_type": "markdown",
   "id": "93027851",
   "metadata": {},
   "source": [
    "11. How do you add a paragraph with the text 'Hello, there!' to a Document object stored in a variable named doc?\n",
    "\n",
    "Ans:-"
   ]
  },
  {
   "cell_type": "code",
   "execution_count": 17,
   "id": "1ea843d1",
   "metadata": {},
   "outputs": [],
   "source": [
    "from docx import Document\n",
    "doc = Document()\n",
    "doc.add_paragraph('Hello,there')\n",
    "doc.save('hello.docx')"
   ]
  },
  {
   "cell_type": "code",
   "execution_count": null,
   "id": "bded5aa5",
   "metadata": {},
   "outputs": [],
   "source": [
    "12. What integers represent the levels of headings available in Word documents?\n",
    "\n",
    "Ans:-\n",
    "    The levels for a heading in a word document can be specified by using the level attribute inside the add_heading method.\n",
    "    There are total 5 levels of starting 0 to 4. where 0 makes a headline with the horizontal line below the text, whereas \n",
    "    the heading level 1 is the main heading. Similarly,the other headings are the sub-heading with the font sizes in \n",
    "    decreasing order."
   ]
  }
 ],
 "metadata": {
  "kernelspec": {
   "display_name": "Python 3",
   "language": "python",
   "name": "python3"
  },
  "language_info": {
   "codemirror_mode": {
    "name": "ipython",
    "version": 3
   },
   "file_extension": ".py",
   "mimetype": "text/x-python",
   "name": "python",
   "nbconvert_exporter": "python",
   "pygments_lexer": "ipython3",
   "version": "3.8.8"
  }
 },
 "nbformat": 4,
 "nbformat_minor": 5
}

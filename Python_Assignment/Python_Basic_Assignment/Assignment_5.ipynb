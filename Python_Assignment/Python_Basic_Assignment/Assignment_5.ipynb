{
 "cells": [
  {
   "cell_type": "raw",
   "id": "a1895ffe",
   "metadata": {},
   "source": [
    "1. What does an empty dictionary\"s code look like?\n",
    "\n",
    "Ans:-\n",
    "     To create an empty dictionary, the dictionary should be set to {}\n",
    "     Dictionary = {}"
   ]
  },
  {
   "cell_type": "code",
   "execution_count": 1,
   "id": "b477507c",
   "metadata": {},
   "outputs": [],
   "source": [
    "#2. What is the value of a dictionary value with the key \"foo\" and the value 42?\n",
    "\n",
    "#Ans:-\n",
    "\n",
    "Dic = {\"foo\":42}"
   ]
  },
  {
   "cell_type": "raw",
   "id": "0e661b70",
   "metadata": {},
   "source": [
    "3. What is the most significant distinction between a dictionary and a list?\n",
    "\n",
    "Ans:-\n",
    "    A list is an ordered sequence of objects, whereas dictionaries are unordered sets. However, \n",
    "    the main difference is that items in dictionaries are accessed via keys and not via their \n",
    "    position.A list is an ordered sequence of objects, whereas dictionaries are unordered sets. However, the main difference is that items in dictionaries are accessed via keys and not via their position."
   ]
  },
  {
   "cell_type": "code",
   "execution_count": 11,
   "id": "14a6d3ea",
   "metadata": {},
   "outputs": [
    {
     "ename": "KeyError",
     "evalue": "'foo'",
     "output_type": "error",
     "traceback": [
      "\u001b[1;31m---------------------------------------------------------------------------\u001b[0m",
      "\u001b[1;31mKeyError\u001b[0m                                  Traceback (most recent call last)",
      "\u001b[1;32m<ipython-input-11-9db151ece871>\u001b[0m in \u001b[0;36m<module>\u001b[1;34m\u001b[0m\n\u001b[0;32m      4\u001b[0m \u001b[1;33m\u001b[0m\u001b[0m\n\u001b[0;32m      5\u001b[0m \u001b[0mspam\u001b[0m \u001b[1;33m=\u001b[0m \u001b[1;33m{\u001b[0m\u001b[1;34m\"bar\"\u001b[0m\u001b[1;33m:\u001b[0m\u001b[1;36m100\u001b[0m\u001b[1;33m}\u001b[0m\u001b[1;33m\u001b[0m\u001b[1;33m\u001b[0m\u001b[0m\n\u001b[1;32m----> 6\u001b[1;33m \u001b[0mspam\u001b[0m\u001b[1;33m[\u001b[0m\u001b[1;34m\"foo\"\u001b[0m\u001b[1;33m]\u001b[0m\u001b[1;33m\u001b[0m\u001b[1;33m\u001b[0m\u001b[0m\n\u001b[0m",
      "\u001b[1;31mKeyError\u001b[0m: 'foo'"
     ]
    }
   ],
   "source": [
    "#4. What happens if you try to access spam[\"foo\"] if spam is {\"bar\": 100}?\n",
    "\n",
    "#Ans:- \n",
    "    \n",
    "spam = {\"bar\":100}\n",
    "spam[\"foo\"]        # Answer :- you will get a key error."
   ]
  },
  {
   "cell_type": "code",
   "execution_count": 25,
   "id": "de200369",
   "metadata": {},
   "outputs": [
    {
     "data": {
      "text/plain": [
       "dict_keys(['cat'])"
      ]
     },
     "execution_count": 25,
     "metadata": {},
     "output_type": "execute_result"
    }
   ],
   "source": [
    "#5. If a dictionary is stored in spam, what is the difference between the expressions \"cat\" in spam and\n",
    "# \"cat\" in spam.keys()?\n",
    "\n",
    "spam = {\"cat\": 1}\n",
    "spam.keys()     # There is no difference. The in operator checks whether a value exists as a key in the dictionary.\n",
    "\n",
    "\n"
   ]
  },
  {
   "cell_type": "raw",
   "id": "28001a66",
   "metadata": {},
   "source": [
    "6. If a dictionary is stored in spam, what is the difference between the expressions \"cat\" in spam and\n",
    "\"cat\" in spam.values()?\n",
    "\n",
    "Ans:-\n",
    "    'cat' in spam checks whether there is a 'cat' key in the dictionary, while 'cat' in spam.values() \n",
    "    checks whether there is a value 'cat' for one of the keys in spam."
   ]
  },
  {
   "cell_type": "code",
   "execution_count": 28,
   "id": "3b2806d4",
   "metadata": {},
   "outputs": [
    {
     "data": {
      "text/plain": [
       "'black'"
      ]
     },
     "execution_count": 28,
     "metadata": {},
     "output_type": "execute_result"
    }
   ],
   "source": [
    "#What is a shortcut for the following code?\n",
    "\n",
    "if 'color' not in spam:\n",
    "    spam['color'] = 'black'\n",
    "\n",
    "#Ans:-\n",
    "   \n",
    "spam.setdefault(\"color\",\"black\")     # This is the shortcut."
   ]
  },
  {
   "cell_type": "raw",
   "id": "cc6b64eb",
   "metadata": {},
   "source": [
    "8. How do you \"pretty print\" dictionary values using which module and function?\n",
    "\n",
    "Ans:-\n",
    "\n",
    "pprint.pprint()"
   ]
  },
  {
   "cell_type": "code",
   "execution_count": null,
   "id": "501c59b6",
   "metadata": {},
   "outputs": [],
   "source": []
  }
 ],
 "metadata": {
  "kernelspec": {
   "display_name": "Python 3",
   "language": "python",
   "name": "python3"
  },
  "language_info": {
   "codemirror_mode": {
    "name": "ipython",
    "version": 3
   },
   "file_extension": ".py",
   "mimetype": "text/x-python",
   "name": "python",
   "nbconvert_exporter": "python",
   "pygments_lexer": "ipython3",
   "version": "3.8.8"
  }
 },
 "nbformat": 4,
 "nbformat_minor": 5
}

{
 "cells": [
  {
   "cell_type": "raw",
   "id": "876c422d",
   "metadata": {},
   "source": [
    "1. To what does a relative path refer?\n",
    "\n",
    "Ans:-\n",
    "     A relative path refers to a location that is relative to a current directory.\n",
    "     "
   ]
  },
  {
   "cell_type": "raw",
   "id": "d2d438ba",
   "metadata": {},
   "source": [
    "2. What does an absolute path start with your operating system?\n",
    "\n",
    "Ans:-\n",
    "     Absolute path names always begin with the slash (/) symbol. \n",
    "     "
   ]
  },
  {
   "cell_type": "raw",
   "id": "747ca55e",
   "metadata": {},
   "source": [
    "3. What do the functions os.getcwd() and os.chdir() do?\n",
    "\n",
    "Ans:-\n",
    "     getcwd() : CWD stands for Current Working Directory. This function allows you to see what your \n",
    "     current working directory is. chdir(\"path-to-dir\") : Short for CHange DIRectory, this function \n",
    "     allows you to set the current working directory to a path of your choice.\n",
    "     "
   ]
  },
  {
   "cell_type": "raw",
   "id": "2742b3a9",
   "metadata": {},
   "source": [
    "4. What are the . and .. folders?\n",
    "\n",
    "Ans:-\n",
    "    . represent the current dirctory whereas, .. represents the parent directory of current working directory\n",
    "    \n",
    "    e.g.  'C:\\\\Users\\\\rohan\\\\Assignment Ineuron\\\\Python Basic Assignment' this is my current working directory\n",
    "    \n",
    "    . represent the path 'C:\\\\Users\\\\rohan\\\\Assignment Ineuron\\\\Python Basic Assignment'   where as \n",
    "    \n",
    "    .. represent the path 'C:\\\\Users\\\\rohan\\\\Assignment Ineuron'\n",
    "    \n",
    "     "
   ]
  },
  {
   "cell_type": "markdown",
   "id": "d40d46a0",
   "metadata": {},
   "source": [
    "5. In C:\\bacon\\eggs\\spam.txt, which part is the dir name, and which part is the base name?\n",
    "\n",
    "Ans:-\n",
    "    For C:\\bacon\\eggs\\spam.txt\n",
    "    \n",
    "    The directory name is C:\\bacon\\eggs\n",
    "    \n",
    "    and base name is spam.txt\n",
    "    "
   ]
  },
  {
   "cell_type": "code",
   "execution_count": 4,
   "id": "40f65305",
   "metadata": {},
   "outputs": [
    {
     "name": "stdout",
     "output_type": "stream",
     "text": [
      " C:\\bacon\\eggs\n",
      "spam.txt\n"
     ]
    }
   ],
   "source": [
    "import os \n",
    "path = r' C:\\bacon\\eggs\\spam.txt'\n",
    "print(os.path.dirname(path))\n",
    "print(os.path.basename(path))"
   ]
  },
  {
   "cell_type": "raw",
   "id": "b9e3fd9e",
   "metadata": {},
   "source": [
    "6. What are the three “mode” arguments that can be passed to the open() function?\n",
    "\n",
    "Ans:-\n",
    "    A file can be accessed in python using open() function takes two arguments filename and mode of operation (which\n",
    "    is optional). if mode is not provided then default opening mode is read mode\n",
    "    so, the syntax being: open(filename,mode)\n",
    "    \n",
    "    'r' - Read Mode: This mode is default mode for open() a file . The file is opened and the pointer is position at the        begining of the file's content.\n",
    "    \n",
    "    'w' - Write Mode: This mode is used to overwrite any existing content in the file.If the given given file does not          exist, a new one will be created.\n",
    "    \n",
    "    'r+'- Read/Write Mode: use this mode if you need to simultaneously read and write a file.\n",
    "    \n",
    "    'a' - Append Mode: With this mode the user can append the data without overwritng any existing data in the file\n",
    "    \n",
    "    'a+' - Append and Read Mode: In this mode you can read and append the file without overwriting the previous data.\n",
    "    \n",
    "    'x' - Exclusive Creating Mode: This mode is sole purpose of creating a new files. Use this mode whenever you know that      particular file is not available.\n",
    "    \n",
    "    "
   ]
  },
  {
   "cell_type": "raw",
   "id": "97c64f12",
   "metadata": {},
   "source": [
    "7. What happens if an existing file is opened in write mode?\n",
    "\n",
    "Ans:-\n",
    "    If file is open in 'w' mode it will overwrite previous created file ,if file is not created then it will create a file \n",
    "    and you can write int hat file."
   ]
  },
  {
   "cell_type": "raw",
   "id": "af0f23df",
   "metadata": {},
   "source": [
    "8. How do you tell the difference between read() and readlines()?\n",
    "\n",
    "Ans:-\n",
    "    The main difference is that read() will read the whole file at once and then print out the first charecters that take\n",
    "    up as many as bytes you specify in the paranthesis.\n",
    "    \n",
    "    Whereas the readline() that will read and only print first charecters that takes up as many as you specify in the \n",
    "    parenthesis readline() when you reading files which is too big for your RAM\n",
    "    \n",
    "    The read() would treat each charecter in the file seperately, meaning iteration happen for each and every charecter.\n",
    "    \n",
    "    The readline() function, on the other side, only read the single line of the file. "
   ]
  },
  {
   "cell_type": "code",
   "execution_count": null,
   "id": "1057f707",
   "metadata": {},
   "outputs": [],
   "source": [
    "9. What data structure does a shelf value resemble?\n",
    "\n",
    "Ans:-\n",
    "    A shelf value resembles a dictionary value; it has keys and values, along with keys() and values() methods that \n",
    "    work similarly to the dictionary methods of the same names."
   ]
  }
 ],
 "metadata": {
  "kernelspec": {
   "display_name": "Python 3",
   "language": "python",
   "name": "python3"
  },
  "language_info": {
   "codemirror_mode": {
    "name": "ipython",
    "version": 3
   },
   "file_extension": ".py",
   "mimetype": "text/x-python",
   "name": "python",
   "nbconvert_exporter": "python",
   "pygments_lexer": "ipython3",
   "version": "3.8.8"
  }
 },
 "nbformat": 4,
 "nbformat_minor": 5
}

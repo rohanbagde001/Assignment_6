{
 "cells": [
  {
   "cell_type": "raw",
   "id": "d2333232",
   "metadata": {},
   "source": [
    "1. What is the name of the feature responsible for generating Regex objects?\n",
    "\n",
    "Ans:-\n",
    "     The  re.compile() function returns Regex objects."
   ]
  },
  {
   "cell_type": "raw",
   "id": "329403dd",
   "metadata": {},
   "source": [
    "2. Why do raw strings often appear in Regex objects?\n",
    "\n",
    "Ans:-\n",
    "     Raw strings are used so that backslashes do not have to be escaped."
   ]
  },
  {
   "cell_type": "raw",
   "id": "af0528a6",
   "metadata": {},
   "source": [
    "3. What is the return value of the search() method?\n",
    "\n",
    "Ans:-\n",
    "     The search() method returns Match objects."
   ]
  },
  {
   "cell_type": "raw",
   "id": "f6945606",
   "metadata": {},
   "source": [
    "4. From a Match item, how do you get the actual strings that match the pattern?\n",
    "\n",
    "Ans:-\n",
    "     The group() method returns strings of the matched text."
   ]
  },
  {
   "cell_type": "raw",
   "id": "d4bb2f2b",
   "metadata": {},
   "source": [
    "5. In the regex which created from the r&#39;(\\d\\d\\d)-(\\d\\d\\d-\\d\\d\\d\\d)&#39;, what does group zero cover?\n",
    "Group 2? Group 1?\n",
    "\n",
    "Ans:-\n",
    "     Group 0 is the entire match, group 1 covers the first set of parentheses, and group 2 covers the \n",
    "     second set of parentheses."
   ]
  },
  {
   "cell_type": "raw",
   "id": "68568e22",
   "metadata": {},
   "source": [
    "6. In standard expression syntax, parentheses and intervals have distinct meanings. How can you tell\n",
    "a regex that you want it to fit real parentheses and periods?\n",
    "\n",
    "Ans:-\n",
    "     Periods and parentheses can be escaped with a backslash: \\., \\(, and \\).\n",
    "\n"
   ]
  },
  {
   "cell_type": "raw",
   "id": "086503a0",
   "metadata": {},
   "source": [
    "7. The findall() method returns a string list or a list of string tuples. What causes it to return one of\n",
    "the two options?\n",
    "\n",
    "Ans:-\n",
    "     If the regex has no groups, a list of strings is returned. If the regex has groups, \n",
    "     a list of tuples of strings is returned."
   ]
  },
  {
   "cell_type": "raw",
   "id": "b02b9fc9",
   "metadata": {},
   "source": [
    "8. In standard expressions, what does the | character mean?\n",
    "\n",
    "Ans:-\n",
    "     The | character signifies matching \"either, or\" between two groups."
   ]
  },
  {
   "cell_type": "raw",
   "id": "60b32ac2",
   "metadata": {},
   "source": [
    "9. In regular expressions, what does the character stand for?\n",
    "\n",
    "Ans:-\n",
    "      A regular expression is a sequence of characters that specifies a search pattern. Usually such patterns\n",
    "      are used by string-searching"
   ]
  },
  {
   "cell_type": "raw",
   "id": "454feb19",
   "metadata": {},
   "source": [
    "10.In regular expressions, what is the difference between the + and * characters?\n",
    "\n",
    "Ans:-\n",
    "     The + matches one or more. The * matches zero or more."
   ]
  },
  {
   "cell_type": "raw",
   "id": "0bc6152e",
   "metadata": {},
   "source": [
    "11. What is the difference between {4} and {4,5} in regular expression?\n",
    "\n",
    "Ans:-  \n",
    "    In regulatr expression {4} means that its precedding group should repeat 4 times, and {4,5} means that its precedding group should repeat minimum 4 times and maximum 5 times\n",
    "    "
   ]
  },
  {
   "cell_type": "raw",
   "id": "63dda09d",
   "metadata": {},
   "source": [
    "12. What do you mean by the \\d, \\w, and \\s shorthand character classes signify in regular expressions?\n",
    "\n",
    "Ans:-\n",
    "    \\d- matches the digit character equivalent to [0-9]\n",
    "    \\w- matches a word character equivalent to[a-z,A-Z,0-9]\n",
    "    \\s- matches whitespace character equivalent to  [space,tab,newline,etc]"
   ]
  },
  {
   "cell_type": "raw",
   "id": "f42b93eb",
   "metadata": {},
   "source": [
    "13. What do means by \\D, \\W, and \\S shorthand character classes signify in regular expressions?\n",
    "\n",
    "Ans:-\n",
    "    \\D- matches a non digit charecters, which is equivalent to [0-9]\n",
    "    \\W- matches a non alpha numeric charecters, which is equivalent to[a-z,A-Z,0-9]\n",
    "    \\S- matches a non whitespace charecter which is equivalent to [space,tab,newline,etc]"
   ]
  },
  {
   "cell_type": "raw",
   "id": "4541a826",
   "metadata": {},
   "source": [
    "14. What is the difference between .*? and .*?\n",
    "\n",
    "Ans:-\n",
    "    .* returns a greedy mode which returns the longest string which meet the condition, and .*? is a non greedy mode\n",
    "    which returns the shortest string which meets the condition.\n",
    "    "
   ]
  },
  {
   "cell_type": "raw",
   "id": "802d1ca4",
   "metadata": {},
   "source": [
    "15. What is the syntax for matching both numbers and lowercase letters with a character class?\n",
    "\n",
    "Ans:-\n",
    "    The syntax is either [a-z0-9] or [0-9a-z]"
   ]
  },
  {
   "cell_type": "raw",
   "id": "8e28bc5e",
   "metadata": {},
   "source": [
    "16. What is the procedure for making a normal expression in regax case insensitive?\n",
    "\n",
    "Ans:-\n",
    "    we can pass re.IGNORECASE as a flag to make normal expression case sensitive."
   ]
  },
  {
   "cell_type": "raw",
   "id": "f41e85ae",
   "metadata": {},
   "source": [
    "17. What does the . character normally match? What does it match if re.DOTALL is passed as 2nd argument in re.compile()?\n",
    "\n",
    "Ans:-\n",
    "    Dot . character matches everything in input except newline character .. By passing re.DOTALL as a flag to \n",
    "    re.compile(), you can make the dot character match all characters, including the newline character."
   ]
  },
  {
   "cell_type": "markdown",
   "id": "13d3f8a9",
   "metadata": {},
   "source": [
    "18. If numReg = re.compile(r'\\d+'), what will numRegex.sub('X', '11 drummers, 10 pipers, five rings, 4 hen') return?  "
   ]
  },
  {
   "cell_type": "code",
   "execution_count": 5,
   "id": "40a8a194",
   "metadata": {},
   "outputs": [
    {
     "data": {
      "text/plain": [
       "'X drummers, X pipers, five rings, X hen'"
      ]
     },
     "execution_count": 5,
     "metadata": {},
     "output_type": "execute_result"
    }
   ],
   "source": [
    "import re\n",
    "numReg = re.compile('\\d+')\n",
    "numReg.sub('X', '11 drummers, 10 pipers, five rings, 4 hen')"
   ]
  },
  {
   "cell_type": "markdown",
   "id": "4e81ad19",
   "metadata": {},
   "source": [
    "19. What does passing re.VERBOSE as the 2nd argument to re.compile() allow to do?\n",
    "\n",
    "Ans:-\n",
    "     "
   ]
  },
  {
   "cell_type": "code",
   "execution_count": 4,
   "id": "16a99c19",
   "metadata": {},
   "outputs": [],
   "source": [
    "# Without Using VERBOSE\n",
    "regex_email = re.compile(r'^([a-z0-9_\\.-]+)@([0-9a-z\\.-]+)\\.([a-z\\.]{2, 6})$', re.IGNORECASE)\n",
    " \n",
    "# Using VERBOSE\n",
    "regex_email = re.compile(r\"\"\"\n",
    "                            ^([a-z0-9_\\.-]+)              # local Part like username\n",
    "                            @                             # single @ sign \n",
    "                            ([0-9a-z\\.-]+)                # Domain name like google\n",
    "                            \\.                            # single Dot .\n",
    "                            ([a-z]{2,6})$                 # Top level Domain  like com/in/org\n",
    "                         \"\"\",re.VERBOSE | re.IGNORECASE)"
   ]
  },
  {
   "cell_type": "markdown",
   "id": "0a960afa",
   "metadata": {},
   "source": [
    "20. How would you write a regex that match a number with comma for every three digits? It must match the given following:\n",
    "'42'\n",
    "'1,234'\n",
    "'6,368,745'\n"
   ]
  },
  {
   "cell_type": "code",
   "execution_count": 3,
   "id": "ef3fcf0b",
   "metadata": {},
   "outputs": [
    {
     "name": "stdout",
     "output_type": "stream",
     "text": [
      "Output: 42 -> <re.Match object; span=(0, 2), match='42'>\n",
      "Output: 1,234 -> <re.Match object; span=(0, 5), match='1,234'>\n",
      "Output: 6,368,745 -> <re.Match object; span=(0, 9), match='6,368,745'>\n",
      "Output: 12,34,567 -> None\n",
      "Output: 1234 -> None\n"
     ]
    }
   ],
   "source": [
    "import re\n",
    "pattern = '^\\d{1,3}(,\\d{3})*$'\n",
    "pagex = re.compile(pattern)\n",
    "for i in ['42','1,234', '6,368,745','12,34,567','1234']:\n",
    "    print('Output:',i, '->', pagex.search(i))"
   ]
  },
  {
   "cell_type": "raw",
   "id": "e99bf48c",
   "metadata": {},
   "source": [
    "21. How would you write a regex that matches the full name of someone whose last name is Watanabe? You can assume that the first name that comes before it will always be one word that begins with a capital letter. The regex must match the following:\n",
    "'Haruto Watanabe'\n",
    "'Alice Watanabe'\n",
    "'RoboCop Watanabe'\n",
    "but not the following:\n",
    "'haruto Watanabe' (where the first name is not capitalized)\n",
    "'Mr. Watanabe' (where the preceding word has a nonletter character)\n",
    "'Watanabe' (which has no first name)\n",
    "'Haruto watanabe' (where Watanabe is not capitalized)\n",
    "\n",
    "Ans:-\n"
   ]
  },
  {
   "cell_type": "code",
   "execution_count": 6,
   "id": "5b9409df",
   "metadata": {},
   "outputs": [
    {
     "name": "stdout",
     "output_type": "stream",
     "text": [
      "Output: Haruto Watanabe -> <re.Match object; span=(0, 15), match='Haruto Watanabe'>\n",
      "Output: Alice Watanabe -> <re.Match object; span=(0, 14), match='Alice Watanabe'>\n",
      "Output: RoboCop Watanabe -> <re.Match object; span=(4, 16), match='Cop Watanabe'>\n",
      "Output: haruto Watanabe -> None\n",
      "Output: Mr. Watanabe -> None\n",
      "Output: Watanabe -> None\n",
      "Output: Haruto watanabe -> None\n"
     ]
    }
   ],
   "source": [
    "import re\n",
    "pattern=r'[A-Z]{1}[a-z]*\\sWatanabe'\n",
    "namex=re.compile(pattern)\n",
    "for name in ['Haruto Watanabe','Alice Watanabe','RoboCop Watanabe','haruto Watanabe','Mr. Watanabe','Watanabe','Haruto watanabe']:\n",
    "             print('Output:', name,'->',namex.search(name))"
   ]
  },
  {
   "cell_type": "raw",
   "id": "6a61afa1",
   "metadata": {},
   "source": [
    "22. How would you write a regex that matches a sentence where the first word is either Alice, Bob, or Carol; the second word is either eats, pets, or throws; the third word is apples, cats, or baseballs; and the sentence ends with a period? This regex should be case-insensitive. It must match the following:\n",
    "'Alice eats apples.'\n",
    "'Bob pets cats.'\n",
    "'Carol throws baseballs.'\n",
    "'Alice throws Apples.'\n",
    "'BOB EATS CATS.'\n",
    "but not the following:\n",
    "'RoboCop eats apples.'\n",
    "'ALICE THROWS FOOTBALLS.'\n",
    "'Carol eats 7 cats.'\n",
    "\n",
    "Ans:-\n"
   ]
  },
  {
   "cell_type": "code",
   "execution_count": 7,
   "id": "eda98a2a",
   "metadata": {},
   "outputs": [
    {
     "name": "stdout",
     "output_type": "stream",
     "text": [
      "Output:   Alice eats apples. -> <re.Match object; span=(0, 18), match='Alice eats apples.'>\n",
      "Output:   Bob pets cats. -> <re.Match object; span=(0, 14), match='Bob pets cats.'>\n",
      "Output:   Carol throws baseballs. -> <re.Match object; span=(0, 23), match='Carol throws baseballs.'>\n",
      "Output:   Alice throws Apples. -> <re.Match object; span=(0, 20), match='Alice throws Apples.'>\n",
      "Output:   BOB EATS CATS. -> <re.Match object; span=(0, 14), match='BOB EATS CATS.'>\n",
      "Output:   RoboCop eats apples. -> None\n",
      "Output:   ALICE THROWS FOOTBALLS. -> None\n",
      "Output:   Carol eats 7 cats. -> None\n"
     ]
    }
   ],
   "source": [
    "import re\n",
    "pattern=r'(Alice|Bob|Carol)\\s(eats|pets|throws)\\s(apples|cats|baseballs)\\.'\n",
    "caesex=re.compile(pattern,re.IGNORECASE)\n",
    "for i in ['Alice eats apples.','Bob pets cats.','Carol throws baseballs.','Alice throws Apples.','BOB EATS CATS.'\n",
    "          ,'RoboCop eats apples.','ALICE THROWS FOOTBALLS.','Carol eats 7 cats.']:\n",
    "    print('Output:  ', i,'->',caesex.search(i))"
   ]
  },
  {
   "cell_type": "code",
   "execution_count": null,
   "id": "4e165fe4",
   "metadata": {},
   "outputs": [],
   "source": []
  }
 ],
 "metadata": {
  "kernelspec": {
   "display_name": "Python 3",
   "language": "python",
   "name": "python3"
  },
  "language_info": {
   "codemirror_mode": {
    "name": "ipython",
    "version": 3
   },
   "file_extension": ".py",
   "mimetype": "text/x-python",
   "name": "python",
   "nbconvert_exporter": "python",
   "pygments_lexer": "ipython3",
   "version": "3.8.8"
  }
 },
 "nbformat": 4,
 "nbformat_minor": 5
}

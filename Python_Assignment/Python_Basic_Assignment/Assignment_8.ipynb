{
 "cells": [
  {
   "cell_type": "raw",
   "id": "ab217fe2",
   "metadata": {},
   "source": [
    "1. Is the Python Standard Library included with PyInputPlus?\n",
    "\n",
    "Ans:-\n",
    "     No, Python standard library is not included in PyInputPlus."
   ]
  },
  {
   "cell_type": "raw",
   "id": "5006c397",
   "metadata": {},
   "source": [
    "2. Why is PyInputPlus commonly imported with import pyinputplus as pypi?\n",
    "\n",
    "Ans:-\n",
    "     You can import the module with import pyinputplus as pyip so that you can enter a shorter name \n",
    "     when calling the module’s function.\n",
    "     "
   ]
  },
  {
   "cell_type": "raw",
   "id": "3adcf1d3",
   "metadata": {},
   "source": [
    "3. How do you distinguish between inputInt() and inputFloat()?\n",
    "\n",
    "Ans:-\n",
    "     inputInt() : Accepts an integer value. This also takes additional parameters 'min', 'max', 'greaterThan'\n",
    "     and 'lessThan' for bounds. Returns an int. inputFloat() : Accepts a floating-point numeric value. Also \n",
    "     takes additional ‘min’, ‘max’, ‘greaterThan’ and ‘lessThan’  parameters. Returns a float.\n",
    "     "
   ]
  },
  {
   "cell_type": "raw",
   "id": "6cff66aa",
   "metadata": {},
   "source": [
    "4. Using PyInputPlus, how do you ensure that the user enters a whole number between 0 and 99?\n",
    "\n",
    "Ans:-\n",
    "     pyip.inputint(min=1, max=100) "
   ]
  },
  {
   "cell_type": "raw",
   "id": "7403da5e",
   "metadata": {},
   "source": [
    "5. What is transferred to the keyword arguments allowRegexes and blockRegexes?\n",
    "\n",
    "Ans:-\n",
    "     we can allowRegexes and blockRegex keyword arguments to take a list of regular expression strings to determine\n",
    "     what the pyinputplus function reject or accept valid input"
   ]
  },
  {
   "cell_type": "raw",
   "id": "99e5d2a1",
   "metadata": {},
   "source": [
    "6. If a blank input is entered three times, what does inputStr(limit=3) do?\n",
    "\n",
    "Ans:-\n",
    "     The statement inputstr(limit=3) will throw exception ValidException and RetryLimitException. The first exception is thrown because blank values are not allowed by inputstr() function by default.it we want to consider blank values as valid input, we have to set blank=True\n",
    "     The second exceptio is because we reached the max limit we have specified by using limit parameter. inorder to avoid this exception we can use default parameter to return to default value when max limit is reached."
   ]
  },
  {
   "cell_type": "raw",
   "id": "bec0b85c",
   "metadata": {},
   "source": [
    "7. If blank input is entered three times , what does inputStr(limit=3,default='Hello') do?\n",
    "\n",
    "Ans:-\n",
    "    Since the default parameter is set to hello. after a blank input is entered three times instead of raising RetryLimitException exception. The function will return hello as response to the calling function."
   ]
  },
  {
   "cell_type": "code",
   "execution_count": null,
   "id": "acdd795c",
   "metadata": {},
   "outputs": [],
   "source": []
  }
 ],
 "metadata": {
  "kernelspec": {
   "display_name": "Python 3",
   "language": "python",
   "name": "python3"
  },
  "language_info": {
   "codemirror_mode": {
    "name": "ipython",
    "version": 3
   },
   "file_extension": ".py",
   "mimetype": "text/x-python",
   "name": "python",
   "nbconvert_exporter": "python",
   "pygments_lexer": "ipython3",
   "version": "3.8.8"
  }
 },
 "nbformat": 4,
 "nbformat_minor": 5
}

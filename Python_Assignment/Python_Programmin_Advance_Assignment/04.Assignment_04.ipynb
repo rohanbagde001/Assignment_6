{
 "cells": [
  {
   "cell_type": "code",
   "execution_count": null,
   "id": "e7182634",
   "metadata": {},
   "outputs": [],
   "source": [
    "1.In mathematics, the Fibonacci numbers, commonly denoted Fn, form a sequence, called the Fibonacci sequence, such that \n",
    "each number is the sum of the two preceding ones, starting from 0 and 1:\n",
    "image.png\n",
    "\n",
    "The beginning of the sequence is this: 0, 1, 1, 2, 3, 5, 8, 13, 21, 34, 55, 89, 144, ...\n",
    "The function fastFib(num) returns the fibonacci number Fn, of the given num as an argument.\n",
    "Examples:\n",
    "fib_fast(5) ➞ 5\n",
    "fib_fast(10) ➞ 55\n",
    "fib_fast(20) ➞ 6765\n",
    "fib_fast(50) ➞ 12586269025"
   ]
  },
  {
   "cell_type": "code",
   "execution_count": 3,
   "id": "2352a622",
   "metadata": {},
   "outputs": [
    {
     "name": "stdout",
     "output_type": "stream",
     "text": [
      "fib_fast_one(5) is 5\n",
      "fib_fast_one(10) is 55\n",
      "fib_fast_one(20) is 6765\n",
      "fib_fast_one(50) is 12586269025\n"
     ]
    }
   ],
   "source": [
    "def fib_fast(in_num):\n",
    "    temp_list = []\n",
    "    for i in range(in_num+1):\n",
    "        if i in [0,1]:\n",
    "            temp_list.append(i)\n",
    "        else:\n",
    "            temp_list.append(temp_list[-1] + temp_list[-2])\n",
    "    print(f\"fib_fast_one({in_num}) is {temp_list[-1]}\")\n",
    "\n",
    "fib_fast(5)\n",
    "fib_fast(10)\n",
    "fib_fast(20) \n",
    "fib_fast(50)"
   ]
  },
  {
   "cell_type": "code",
   "execution_count": null,
   "id": "33f167b3",
   "metadata": {},
   "outputs": [],
   "source": [
    "2.Create a function that takes a strings characters as ASCII and returns each characters hexadecimal value as a string.\n",
    "Examples:\n",
    "convert_to_hex(\"hello world\") ➞ \"68 65 6c 6c 6f 20 77 6f 72 6c 64\"\n",
    "convert_to_hex(\"Big Boi\") ➞ \"42 69 67 20 42 6f 69\"\n",
    "convert_to_hex(\"Marty Poppinson\") ➞ \"4d 61 72 74 79 20 50 6f 70 70 69 6e 73 6f 6e\""
   ]
  },
  {
   "cell_type": "code",
   "execution_count": 11,
   "id": "bacc5a5c",
   "metadata": {},
   "outputs": [
    {
     "name": "stdout",
     "output_type": "stream",
     "text": [
      "conversion of hello world is['68', '65', '6c', '6c', '6f', '20', '77', '6f', '72', '6c', '64']\n",
      "conversion of Big Boi is['42', '69', '67', '20', '42', '6f', '69']\n",
      "conversion of Marty Poppinson is['4d', '61', '72', '74', '79', '20', '50', '6f', '70', '70', '69', '6e', '73', '6f', '6e']\n"
     ]
    }
   ],
   "source": [
    "def convert_to_hex(in_string):\n",
    "    out_string = []\n",
    "    for i in in_string:\n",
    "        out_string.append(hex(ord(i))[2:])\n",
    "    print(f\"conversion of {in_string} is{out_string}\")\n",
    "    \n",
    "convert_to_hex(\"hello world\")\n",
    "convert_to_hex(\"Big Boi\")\n",
    "convert_to_hex(\"Marty Poppinson\")"
   ]
  },
  {
   "cell_type": "code",
   "execution_count": null,
   "id": "669ad147",
   "metadata": {},
   "outputs": [],
   "source": [
    "3.Someone has attempted to censor my strings by replacing every vowel with a *, l*k* th*s. Luckily, I've been able to find\n",
    "  the vowels that were removed.\n",
    "Given a censored string and a string of the censored vowels, return the original uncensored string.\n",
    "Examples:\n",
    "uncensor(\"Wh*r* d*d my v*w*ls g*?\", \"eeioeo\") ➞ \"Where did my vowels go?\"\n",
    "uncensor(\"abcd\", \"\") ➞ \"abcd\"\n",
    "uncensor(\"*PP*RC*S*\", \"UEAE\") ➞ \"UPPERCASE\""
   ]
  },
  {
   "cell_type": "code",
   "execution_count": 17,
   "id": "1f44a610",
   "metadata": {},
   "outputs": [
    {
     "name": "stdout",
     "output_type": "stream",
     "text": [
      "('Wh*r* d*d my v*w*ls g*?', 'eeioeo') Where did my vowels go?\n",
      "('abcd', '') abcd\n",
      "('*PP*RC*S*', 'UEAE') UPPERCASE\n"
     ]
    }
   ],
   "source": [
    "def uncensor(in_string, in_vowels):\n",
    "    window = 0\n",
    "    out_string = ''\n",
    "    for i in in_string:\n",
    "        if i == '*':\n",
    "            out_string += in_vowels[window]\n",
    "            window += 1\n",
    "        else:\n",
    "            out_string += i\n",
    "    print(f\"{in_string,in_vowels} {out_string}\")\n",
    "    \n",
    "uncensor(\"Wh*r* d*d my v*w*ls g*?\", \"eeioeo\")\n",
    "uncensor(\"abcd\", \"\")\n",
    "uncensor(\"*PP*RC*S*\", \"UEAE\")"
   ]
  },
  {
   "cell_type": "code",
   "execution_count": null,
   "id": "be803f89",
   "metadata": {},
   "outputs": [],
   "source": [
    "4.Write a function that takes an IP address and returns the domain name using PTR DNS records.\n",
    "Examples:\n",
    "get_domain(\"8.8.8.8\") ➞ \"dns.google\"\n",
    "get_domain(\"8.8.4.4\") ➞ \"dns.google\""
   ]
  },
  {
   "cell_type": "code",
   "execution_count": 19,
   "id": "61553e76",
   "metadata": {},
   "outputs": [
    {
     "name": "stdout",
     "output_type": "stream",
     "text": [
      "get_domain(8.8.8.8) ➞ ('dns.google', [], ['8.8.8.8']) ➞ dns.google\n",
      "get_domain(8.8.4.4) ➞ ('dns.google', [], ['8.8.4.4']) ➞ dns.google\n"
     ]
    }
   ],
   "source": [
    "import socket\n",
    "def get_domain(in_ip):\n",
    "    print(f'get_domain({in_ip}) ➞ {socket.gethostbyaddr(in_ip)} ➞ {socket.gethostbyaddr(in_ip)[0]}')\n",
    "    \n",
    "get_domain(\"8.8.8.8\")\n",
    "get_domain(\"8.8.4.4\")"
   ]
  },
  {
   "cell_type": "code",
   "execution_count": null,
   "id": "f72ff984",
   "metadata": {},
   "outputs": [],
   "source": [
    "5.Create a function that takes an integer n and returns the factorial of factorials. See below examples for a better \n",
    "  understanding:\n",
    "        \n",
    "Examples:\n",
    "fact_of_fact(4) ➞ 288\n",
    "# 4! * 3! * 2! * 1! = 288\n",
    "fact_of_fact(5) ➞ 34560\n",
    "fact_of_fact(6) ➞ 24883200"
   ]
  },
  {
   "cell_type": "code",
   "execution_count": 21,
   "id": "c2239eed",
   "metadata": {},
   "outputs": [
    {
     "name": "stdout",
     "output_type": "stream",
     "text": [
      "fact_of_fact(4)is 288\n",
      "fact_of_fact(5)is 34560\n",
      "fact_of_fact(6)is 24883200\n"
     ]
    }
   ],
   "source": [
    "def fact_of_fact(in_num):\n",
    "    # Internal function to generate factorial of a number\n",
    "    def get_factorial(n):\n",
    "        if n==1:\n",
    "            return 1\n",
    "        else:\n",
    "            return n*get_factorial(n-1)\n",
    "    out_num = 1\n",
    "    for i in range(1, in_num+1):\n",
    "        out_num *= get_factorial(i)\n",
    "    print(f\"fact_of_fact({in_num})is {out_num}\")\n",
    "    \n",
    "fact_of_fact(4)\n",
    "fact_of_fact(5)\n",
    "fact_of_fact(6)"
   ]
  },
  {
   "cell_type": "code",
   "execution_count": null,
   "id": "b9a39a3b",
   "metadata": {},
   "outputs": [],
   "source": []
  }
 ],
 "metadata": {
  "kernelspec": {
   "display_name": "Python 3",
   "language": "python",
   "name": "python3"
  },
  "language_info": {
   "codemirror_mode": {
    "name": "ipython",
    "version": 3
   },
   "file_extension": ".py",
   "mimetype": "text/x-python",
   "name": "python",
   "nbconvert_exporter": "python",
   "pygments_lexer": "ipython3",
   "version": "3.8.8"
  }
 },
 "nbformat": 4,
 "nbformat_minor": 5
}

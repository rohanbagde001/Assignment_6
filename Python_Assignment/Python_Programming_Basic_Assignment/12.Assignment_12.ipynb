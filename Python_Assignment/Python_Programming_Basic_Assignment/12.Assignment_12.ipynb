{
 "cells": [
  {
   "cell_type": "code",
   "execution_count": null,
   "id": "c8a7d708",
   "metadata": {},
   "outputs": [],
   "source": [
    "1. Write a Python program to Extract Unique values dictionary values?\n",
    "\n",
    "Ans:-"
   ]
  },
  {
   "cell_type": "code",
   "execution_count": 3,
   "id": "3d090cd8",
   "metadata": {},
   "outputs": [
    {
     "name": "stdout",
     "output_type": "stream",
     "text": [
      "Enter a values in dict format: {1:'Rishikesh',2:'Badrinath',3:'Gangotri',4:'Yamunotri',5:'Kedarnath',6:'Tirupati',7:'Kedarnath'}\n",
      "dict_values(['Rishikesh', 'Badrinath', 'Gangotri', 'Yamunotri', 'Kedarnath', 'Tirupati', 'Kedarnath'])\n",
      "unique values: ['Badrinath', 'Kedarnath', 'Gangotri', 'Rishikesh', 'Yamunotri', 'Tirupati']\n"
     ]
    }
   ],
   "source": [
    "def unique_values():\n",
    "    in_dict = eval(input(\"Enter a values in dict format: \"))\n",
    "    print(in_dict.values())\n",
    "    print(f'unique values: {list(set(in_dict.values()))}')\n",
    "    \n",
    "unique_values()"
   ]
  },
  {
   "cell_type": "code",
   "execution_count": null,
   "id": "ed7b77f5",
   "metadata": {},
   "outputs": [],
   "source": [
    "2.Write a Python program to find the sum of all items in a dictionary?\n",
    "\n",
    "Ans:-"
   ]
  },
  {
   "cell_type": "code",
   "execution_count": 6,
   "id": "beafc7e0",
   "metadata": {},
   "outputs": [
    {
     "name": "stdout",
     "output_type": "stream",
     "text": [
      "Enter a Dictionary: {'Apple':10,'Mango':20,'Banana':30,'Guava':40,'PineApple':200}\n",
      "The sum of all items in dictionary is : 300\n"
     ]
    }
   ],
   "source": [
    "def sum_values():\n",
    "    in_dict = eval(input(\"Enter a Dictionary: \"))\n",
    "    print(f\"The sum of all items in dictionary is : {sum(in_dict.values())}\")\n",
    "    \n",
    "sum_values()"
   ]
  },
  {
   "cell_type": "code",
   "execution_count": null,
   "id": "bf66cc51",
   "metadata": {},
   "outputs": [],
   "source": [
    "3.Write a Python program to Merging two Dictionaries?\n",
    "\n",
    "Ans:-"
   ]
  },
  {
   "cell_type": "code",
   "execution_count": 4,
   "id": "0669e5ab",
   "metadata": {},
   "outputs": [
    {
     "name": "stdout",
     "output_type": "stream",
     "text": [
      "Enter a first Dictionary: {'course_instructors':['Sudhanshu Kumar','Krish Naik']}\n",
      "Enter a second Dictionary: {'cousre_name':'Ineuron'}\n",
      "{'course_instructors': ['Sudhanshu Kumar', 'Krish Naik'], 'cousre_name': 'Ineuron'}\n"
     ]
    }
   ],
   "source": [
    "def merge_dict():\n",
    "    dict_1 = eval(input(\"Enter a first Dictionary: \"))\n",
    "    dict_2 = eval(input(\"Enter a second Dictionary: \"))\n",
    "    dict_1.update(dict_2)\n",
    "    print(dict_1)\n",
    "    \n",
    "merge_dict()"
   ]
  },
  {
   "cell_type": "code",
   "execution_count": null,
   "id": "96690c61",
   "metadata": {},
   "outputs": [],
   "source": [
    "4.Write a Python program to convert key-values list to flat dictionary?\n",
    "\n",
    "Ans:-"
   ]
  },
  {
   "cell_type": "code",
   "execution_count": 6,
   "id": "28090c30",
   "metadata": {},
   "outputs": [
    {
     "name": "stdout",
     "output_type": "stream",
     "text": [
      "Enter a list: [('A',10),('B',20),('C',30),('D',40),('E',50),('F',60),('G',70),('H',80),('I',90),('J',100)]\n",
      "{'A': 10, 'B': 20, 'C': 30, 'D': 40, 'E': 50, 'F': 60, 'G': 70, 'H': 80, 'I': 90, 'J': 100}\n"
     ]
    }
   ],
   "source": [
    "def to_dict():\n",
    "    in_values = eval(input(\"Enter a list: \"))\n",
    "    print(dict(in_values))\n",
    "\n",
    "to_dict()"
   ]
  },
  {
   "cell_type": "code",
   "execution_count": null,
   "id": "3b13f115",
   "metadata": {},
   "outputs": [],
   "source": [
    "5.Write a Python program to insertion at the beginning in OrderedDict?\n",
    "\n",
    "Ans:-"
   ]
  },
  {
   "cell_type": "code",
   "execution_count": 7,
   "id": "09b4aa10",
   "metadata": {},
   "outputs": [
    {
     "name": "stdout",
     "output_type": "stream",
     "text": [
      "dict_one OrderedDict([('Apple', 'Iphone'), ('Microsoft', 'Windows'), ('Google', 'chrome')])\n",
      "dict_one OrderedDict([('Apple', 'Iphone'), ('Microsoft', 'Windows'), ('Google', 'chrome'), ('Tesla', 'SpaceX')])\n",
      "dict_one OrderedDict([('Tesla', 'SpaceX'), ('Apple', 'Iphone'), ('Microsoft', 'Windows'), ('Google', 'chrome')])\n"
     ]
    }
   ],
   "source": [
    "from collections import OrderedDict\n",
    "dict_one = OrderedDict({'Apple':'Iphone','Microsoft':'Windows','Google':'chrome'})\n",
    "print('dict_one',dict_one)\n",
    "dict_two = {'Tesla':'SpaceX'}\n",
    "dict_one.update(dict_two)\n",
    "print('dict_one',dict_one)\n",
    "dict_one.move_to_end('Tesla',last=False)\n",
    "print('dict_one',dict_one)"
   ]
  },
  {
   "cell_type": "code",
   "execution_count": null,
   "id": "cd9944c6",
   "metadata": {},
   "outputs": [],
   "source": [
    "6.Write a Python program to check order of character in string using OrderedDict()?\n",
    "\n",
    "Ans:-"
   ]
  },
  {
   "cell_type": "code",
   "execution_count": 8,
   "id": "8db9424d",
   "metadata": {},
   "outputs": [
    {
     "name": "stdout",
     "output_type": "stream",
     "text": [
      "{'a': 1000, 'f': 200, 'd': 300, 'c': 400, 'e': 600}\n",
      "OrderedDict([('a', 1000), ('c', 400), ('d', 300), ('e', 600), ('f', 200)])\n"
     ]
    }
   ],
   "source": [
    "from collections import OrderedDict\n",
    "\n",
    "initial_list = {'a':1000,'f':200,'d':300,'c':400,'e':600}\n",
    "print(initial_list)\n",
    "\n",
    "final_list = OrderedDict(dict(sorted(initial_list.items())))\n",
    "print(final_list)"
   ]
  },
  {
   "cell_type": "code",
   "execution_count": null,
   "id": "3fe2359f",
   "metadata": {},
   "outputs": [],
   "source": [
    "7.Write a Python program to sort Python Dictionaries by Key or Value?\n",
    "\n",
    "Ans:-"
   ]
  },
  {
   "cell_type": "code",
   "execution_count": 16,
   "id": "cd78c720",
   "metadata": {},
   "outputs": [
    {
     "name": "stdout",
     "output_type": "stream",
     "text": [
      "{'Banana': 60, 'Grape': 13, 'Mango': 100, 'pineApple': 22}\n",
      "{'Grape': 13, 'pineApple': 22, 'Banana': 60, 'Mango': 100}\n"
     ]
    }
   ],
   "source": [
    "d_items = {'Mango':100,'pineApple':22,'Banana':60, 'Grape':13}\n",
    "\n",
    "def sort_dict(in_dict,sort_type):\n",
    "    if sort_type == 'key':\n",
    "        print(dict(sorted(in_dict.items(), key = lambda x: x[0], reverse=False)))\n",
    "    else:\n",
    "        print(dict(sorted(in_dict.items(), key=lambda x : x[1], reverse= False)))\n",
    "        \n",
    "sort_dict(d_items,'key')\n",
    "sort_dict(d_items, 'value')"
   ]
  },
  {
   "cell_type": "code",
   "execution_count": null,
   "id": "9636d6e3",
   "metadata": {},
   "outputs": [],
   "source": []
  }
 ],
 "metadata": {
  "kernelspec": {
   "display_name": "Python 3",
   "language": "python",
   "name": "python3"
  },
  "language_info": {
   "codemirror_mode": {
    "name": "ipython",
    "version": 3
   },
   "file_extension": ".py",
   "mimetype": "text/x-python",
   "name": "python",
   "nbconvert_exporter": "python",
   "pygments_lexer": "ipython3",
   "version": "3.8.8"
  }
 },
 "nbformat": 4,
 "nbformat_minor": 5
}

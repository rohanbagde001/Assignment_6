{
 "cells": [
  {
   "cell_type": "code",
   "execution_count": null,
   "id": "3893c946",
   "metadata": {},
   "outputs": [],
   "source": [
    "1. Write a Python Program to find LCM ?\n",
    "\n",
    "Ans:-"
   ]
  },
  {
   "cell_type": "code",
   "execution_count": 3,
   "id": "90f8d641",
   "metadata": {},
   "outputs": [
    {
     "name": "stdout",
     "output_type": "stream",
     "text": [
      "The LCM of 3,6 is 6\n",
      "The LCM of 12,14 is 84\n"
     ]
    }
   ],
   "source": [
    "def findTheLcm(x_term,y_term):\n",
    "    if x_term > y_term:\n",
    "        greater = x_term\n",
    "    else:\n",
    "        greater = x_term\n",
    "    while True:\n",
    "        if((greater % x_term == 0) and (greater%y_term == 0)):\n",
    "            lcm = greater\n",
    "            break\n",
    "        else:\n",
    "            greater += 1\n",
    "    print(f'The LCM of {x_term},{y_term} is {lcm}')\n",
    "    \n",
    "findTheLcm(3,6)\n",
    "findTheLcm(12,14)"
   ]
  },
  {
   "cell_type": "code",
   "execution_count": null,
   "id": "1f9bb1f8",
   "metadata": {},
   "outputs": [],
   "source": [
    "2. Write a Python Program to find HCF ?\n",
    "\n",
    "Ans:-\n",
    "    "
   ]
  },
  {
   "cell_type": "code",
   "execution_count": 6,
   "id": "c54cca2c",
   "metadata": {},
   "outputs": [
    {
     "name": "stdout",
     "output_type": "stream",
     "text": [
      "The HCF of 2,3 is 1\n",
      "The HCF of 12,22 is 2\n"
     ]
    }
   ],
   "source": [
    "def findTheHcf(x_term, y_term):\n",
    "    if x_term > y_term:\n",
    "        smaller = y_term\n",
    "    else:\n",
    "        smaller = x_term\n",
    "    for i in range(1, smaller+1):\n",
    "        if ((x_term%i == 0) and (y_term%i == 0)):\n",
    "            hcf = i\n",
    "    print(f'The HCF of {x_term},{y_term} is {hcf}')\n",
    "          \n",
    "findTheHcf(2,3)\n",
    "findTheHcf(12,22)"
   ]
  },
  {
   "cell_type": "code",
   "execution_count": null,
   "id": "41bb6a02",
   "metadata": {},
   "outputs": [],
   "source": [
    "3. Write a Python Program to Convert Decimal to Binary, Octal and Hexadecimal ?\n",
    "\n",
    "Ans:-\n",
    "    "
   ]
  },
  {
   "cell_type": "code",
   "execution_count": 8,
   "id": "52c9674d",
   "metadata": {},
   "outputs": [
    {
     "name": "stdout",
     "output_type": "stream",
     "text": [
      "Enter a Number: 12\n",
      "Binary Number -> 0b1100\n",
      "Octal Number -> 0o14\n",
      "Hexadedcimal Number -> 0xc\n"
     ]
    }
   ],
   "source": [
    "def DecimaltoOther():\n",
    "    num = int(input('Enter a Number: '))\n",
    "    print(f'Binary Number -> {bin(num)}')\n",
    "    print(f'Octal Number -> {oct(num)}')\n",
    "    print(f'Hexadedcimal Number -> {hex(num)}')\n",
    "    \n",
    "DecimaltoOther()"
   ]
  },
  {
   "cell_type": "code",
   "execution_count": null,
   "id": "d83f51a2",
   "metadata": {},
   "outputs": [],
   "source": [
    "4. Write a Python Program to Find the ASCII value of a Character ?\n",
    "\n",
    "Ans:-\n",
    "    "
   ]
  },
  {
   "cell_type": "code",
   "execution_count": 13,
   "id": "572bcd9a",
   "metadata": {},
   "outputs": [
    {
     "name": "stdout",
     "output_type": "stream",
     "text": [
      "Enter a Charecter: $\n",
      "Ascii Charecter of $ is 36\n"
     ]
    }
   ],
   "source": [
    "def charToAscii():\n",
    "    char = input('Enter a Charecter: ')\n",
    "    if len(char) > 1:\n",
    "        print('Please Enter a single charecter ')\n",
    "    else:\n",
    "        print(f'Ascii Charecter of {char} is {ord(char)}')\n",
    "        \n",
    "charToAscii()\n",
    "\n"
   ]
  },
  {
   "cell_type": "code",
   "execution_count": null,
   "id": "8684ba73",
   "metadata": {},
   "outputs": [],
   "source": [
    "5. Write a Python Program to Make a Simple Calculator with 4 Basic Mathematical operations ?\n",
    "\n",
    "Ans:-\n",
    "    "
   ]
  },
  {
   "cell_type": "code",
   "execution_count": null,
   "id": "256d0473",
   "metadata": {},
   "outputs": [
    {
     "name": "stdout",
     "output_type": "stream",
     "text": [
      "select a Arithematic Operation:         \n",
      "1.Addition(+)        \n",
      "2.Division(-)        \n",
      "2.Multiplication(*)        \n",
      "4.Division(/)        \n",
      "3.Stop(0)\n",
      "\n",
      "Enter a arithmetic operation -> 12\n",
      "Please enter a valid operator\n",
      "Enter a arithmetic operation -> 12\n",
      "Please enter a valid operator\n",
      "Enter a arithmetic operation -> +\n",
      "\n",
      "Enter 1st Number: 1\n",
      "Enter 2nd Number: 2\n",
      "1+2=3\n",
      "\n",
      "Enter a arithmetic operation -> 2\n",
      "Please enter a valid operator\n",
      "Enter a arithmetic operation -> *\n"
     ]
    }
   ],
   "source": [
    "import operator\n",
    "\n",
    "ops  ={ \"+\": operator.add, \"-\":operator.sub, \"*\":operator.mul, \"/\": operator.truediv}\n",
    "\n",
    "print('select a Arithematic Operation: \\\n",
    "        \\n1.Addition(+)\\\n",
    "        \\n2.Division(-)\\\n",
    "        \\n2.Multiplication(*)\\\n",
    "        \\n4.Division(/)\\\n",
    "        \\n3.Stop(0)\\n')\n",
    "\n",
    "while True:\n",
    "    operator = input('Enter a arithmetic operation -> ')\n",
    "    if operator == '0':\n",
    "        print(\"Program Stopped successfully\")\n",
    "        break\n",
    "    elif operator not in ['+','-','*','/']:\n",
    "        print(\"Please enter a valid operator\")\n",
    "    else:\n",
    "        num_1 = int(input('\\nEnter 1st Number: '))\n",
    "        num_2 = int(input('Enter 2nd Number: '))\n",
    "        print(f'{num_1}{operator}{num_2}={ops[operator](num_1,num_2)}\\n')\n",
    "    "
   ]
  },
  {
   "cell_type": "code",
   "execution_count": null,
   "id": "66cf69bc",
   "metadata": {},
   "outputs": [],
   "source": []
  }
 ],
 "metadata": {
  "kernelspec": {
   "display_name": "Python 3",
   "language": "python",
   "name": "python3"
  },
  "language_info": {
   "codemirror_mode": {
    "name": "ipython",
    "version": 3
   },
   "file_extension": ".py",
   "mimetype": "text/x-python",
   "name": "python",
   "nbconvert_exporter": "python",
   "pygments_lexer": "ipython3",
   "version": "3.8.8"
  }
 },
 "nbformat": 4,
 "nbformat_minor": 5
}

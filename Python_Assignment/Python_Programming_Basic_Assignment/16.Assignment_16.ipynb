{
 "cells": [
  {
   "cell_type": "code",
   "execution_count": null,
   "id": "88ccdad1",
   "metadata": {},
   "outputs": [],
   "source": [
    "1.Write a function that stutters a word as if someone is struggling to read it. The first two letters are repeated \n",
    "  twice with an ellipsis ... and space after each, and then the word is pronounced with a question mark ?\n",
    "Examples: stutter(\"incredible\") ➞ \"in... in... incredible?\"\n",
    "          stutter(\"enthusiastic\") ➞ \"en... en... enthusiastic?\"\n",
    "          stutter(\"outstanding\") ➞ \"ou... ou... outstanding?\"\n",
    "\n",
    "Hint :- Assume all input is in lower case and at least two characters long."
   ]
  },
  {
   "cell_type": "code",
   "execution_count": 7,
   "id": "d79ebab1",
   "metadata": {},
   "outputs": [
    {
     "name": "stdout",
     "output_type": "stream",
     "text": [
      "Please Enter the word: incredible\n",
      "incredible ➞ in...in...incredible?\n",
      "Please Enter the word: enthusiastic\n",
      "enthusiastic ➞ en...en...enthusiastic?\n",
      "Please Enter the word: outstanding\n",
      "outstanding ➞ ou...ou...outstanding?\n"
     ]
    }
   ],
   "source": [
    "def stutterWord():\n",
    "    in_string = input(\"Please Enter the word: \")\n",
    "    out_string = in_string.replace(in_string[0:2],((in_string[0:2]+'...')*2)+in_string[0:2]) + '?'\n",
    "    print(f'{in_string} ➞ {out_string}')\n",
    "    \n",
    "for i in range(3):\n",
    "    stutterWord()"
   ]
  },
  {
   "cell_type": "code",
   "execution_count": null,
   "id": "d4b15a46",
   "metadata": {},
   "outputs": [],
   "source": [
    "2.Create a function that takes an angle in radians and returns the corresponding angle in degrees rounded to one \n",
    "  decimal place ?\n",
    "  Examples: radians_to_degrees(1) ➞ 57.3\n",
    "          radians_to_degrees(20) ➞ 1145.9\n",
    "          radians_to_degrees(50) ➞ 2864.8"
   ]
  },
  {
   "cell_type": "code",
   "execution_count": 9,
   "id": "7f0366c5",
   "metadata": {},
   "outputs": [
    {
     "name": "stdout",
     "output_type": "stream",
     "text": [
      "Enter the angle in radians: 1\n",
      "radians_to_degrees(1 ➞ 57.29577951308232)\n",
      "Enter the angle in radians: 20\n",
      "radians_to_degrees(20 ➞ 1145.9155902616465)\n",
      "Enter the angle in radians: 50\n",
      "radians_to_degrees(50 ➞ 2864.7889756541163)\n"
     ]
    }
   ],
   "source": [
    "import math\n",
    "def radiantoDegree():\n",
    "    in_num = int(input(\"Enter the angle in radians: \"))\n",
    "    out_num = (180/math.pi)*in_num\n",
    "    print(f'radians_to_degrees({in_num} ➞ {out_num})')\n",
    "    \n",
    "for i in range(3):\n",
    "    radiantoDegree()"
   ]
  },
  {
   "cell_type": "code",
   "execution_count": null,
   "id": "0e5e05c4",
   "metadata": {},
   "outputs": [],
   "source": [
    "3.In this challenge, establish if a given integer num is a Curzon number. If 1 plus 2 elevated to num is exactly divisible \n",
    "  by 1 plus 2 multiplied by num, then num is a Curzon number. Given a non-negative integer num, implement a function that \n",
    "  returns True if num is a Curzon number, or False otherwise.\n",
    "\n",
    "  Examples: `is_curzon(5) ➞ True\n",
    "            # 2 ** 5 + 1 = 33\n",
    "        # 2 * 5 + 1 = 11\n",
    "        # 33 is a multiple of 11\n",
    "        is_curzon(10) ➞ False\n",
    "\n",
    "        # 2 ** 10 + 1 = 1025\n",
    "        # 2 * 10 + 1 = 21\n",
    "        # 1025 is not a multiple of 21\n",
    "        is_curzon(14) ➞ True\n",
    "\n",
    "        # 2 ** 14 + 1 = 16385\n",
    "        # 2 * 14 + 1 = 29\n",
    "        # 16385 is a multiple of 29`"
   ]
  },
  {
   "cell_type": "code",
   "execution_count": 10,
   "id": "2c261b24",
   "metadata": {},
   "outputs": [
    {
     "name": "stdout",
     "output_type": "stream",
     "text": [
      "Enter a number: 5\n",
      "5 is a Curzon Number\n",
      "Enter a number: 10\n",
      "10 is not a Curzon Number\n",
      "Enter a number: 14\n",
      "14 is a Curzon Number\n",
      "Enter a number: 12\n",
      "12 is not a Curzon Number\n"
     ]
    }
   ],
   "source": [
    "def checkCurzon():\n",
    "    in_num = int(input(\"Enter a number: \"))\n",
    "    if (pow(2,in_num)+1)%((2*in_num)+1) == 0:\n",
    "        print(f'{in_num} is a Curzon Number')\n",
    "    else:\n",
    "        print(f'{in_num} is not a Curzon Number')\n",
    "        \n",
    "for x in range(4):\n",
    "    checkCurzon()"
   ]
  },
  {
   "cell_type": "code",
   "execution_count": null,
   "id": "298abc87",
   "metadata": {},
   "outputs": [],
   "source": [
    "4.Given the side length x find the area of a hexagon ?\n",
    "Examples: area_of_hexagon(1) ➞ 2.6\n",
    "area_of_hexagon(2) ➞ 10.4\n",
    "area_of_hexagon(3) ➞ 23.4"
   ]
  },
  {
   "cell_type": "code",
   "execution_count": 11,
   "id": "5bc7ca5c",
   "metadata": {},
   "outputs": [
    {
     "name": "stdout",
     "output_type": "stream",
     "text": [
      "Enter a Number: 1\n",
      "area for Hexagon od sidelength 1 is 2.598076211353316\n",
      "Enter a Number: 2\n",
      "area for Hexagon od sidelength 2 is 10.392304845413264\n",
      "Enter a Number: 5\n",
      "area for Hexagon od sidelength 5 is 64.9519052838329\n"
     ]
    }
   ],
   "source": [
    "import math\n",
    "def area_of_Hexagon():\n",
    "    in_num = int(input(\"Enter a Number: \"))\n",
    "    out_num = ((3*math.sqrt(3))/2)*(pow(in_num,2))\n",
    "    print(f'area for Hexagon od sidelength {in_num} is {out_num}')\n",
    "\n",
    "for i in range(3):\n",
    "              area_of_Hexagon()"
   ]
  },
  {
   "cell_type": "code",
   "execution_count": null,
   "id": "7a31f8db",
   "metadata": {},
   "outputs": [],
   "source": [
    "5.  Create a function that returns a base-2 (binary) representation of a base-10 (decimal) string number. To convert is \n",
    "    simple:\n",
    "        \n",
    "    ((2) means base-2 and (10) means base-10)\n",
    "      \n",
    "    010101001(2) = 1 + 8 + 32 + 128.\n",
    "    \n",
    "    Going from right to left, the value of the most right bit is 1, now from that every bit to the left will be x2 the \n",
    "    value, value of an 8 bit binary numbers are (256, 128, 64, 32, 16, 8, 4, 2, 1).\n",
    "    Examples:\n",
    "        \n",
    "    `binary(1) ➞ \"1\"\n",
    "\n",
    "    # 1* 1 = 1\n",
    "    binary(5) ➞ \"101\"\n",
    "\n",
    "    # 1 1 + 1 4 = 5\n",
    "    binary(10) ➞ \"1010\"\n",
    "\n",
    "    # 1 2 + 1 8 = 10`"
   ]
  },
  {
   "cell_type": "code",
   "execution_count": 15,
   "id": "564a10fb",
   "metadata": {},
   "outputs": [
    {
     "name": "stdout",
     "output_type": "stream",
     "text": [
      "Enter a Number: 1\n",
      "Binary of 1 is 1\n",
      "Enter a Number: 2\n",
      "Binary of 2 is 10\n",
      "Enter a Number: 5\n",
      "Binary of 5 is 101\n"
     ]
    }
   ],
   "source": [
    "def getBinary():\n",
    "    in_num = int(input(\"Enter a Number: \"))\n",
    "    out_num = bin(in_num).replace('0b','')\n",
    "    print(f'Binary of {in_num} is {out_num}')\n",
    "    \n",
    "for i in range(3):\n",
    "    getBinary()"
   ]
  },
  {
   "cell_type": "code",
   "execution_count": null,
   "id": "3cb96728",
   "metadata": {},
   "outputs": [],
   "source": []
  }
 ],
 "metadata": {
  "kernelspec": {
   "display_name": "Python 3",
   "language": "python",
   "name": "python3"
  },
  "language_info": {
   "codemirror_mode": {
    "name": "ipython",
    "version": 3
   },
   "file_extension": ".py",
   "mimetype": "text/x-python",
   "name": "python",
   "nbconvert_exporter": "python",
   "pygments_lexer": "ipython3",
   "version": "3.8.8"
  }
 },
 "nbformat": 4,
 "nbformat_minor": 5
}

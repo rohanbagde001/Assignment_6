{
 "cells": [
  {
   "cell_type": "code",
   "execution_count": null,
   "id": "cfe7dee2",
   "metadata": {},
   "outputs": [],
   "source": [
    "1. Write a Python Program to Display Fibonacci Sequence Using Recursion?\n",
    "\n",
    "Ans:-\n",
    "    "
   ]
  },
  {
   "cell_type": "code",
   "execution_count": 2,
   "id": "37b3959f",
   "metadata": {},
   "outputs": [
    {
     "name": "stdout",
     "output_type": "stream",
     "text": [
      "Enter the length of the series: 12\n",
      "0,1, 3, 5, 8, 13, 21, 34, 55, 89, 144, 233, 377, 610, "
     ]
    }
   ],
   "source": [
    "def fibonacci(n,a,b):\n",
    "    if n == 0:\n",
    "        return 1\n",
    "    else:\n",
    "        result = a+b\n",
    "        print(result, end = ', ')\n",
    "        fibonacci(n-1,b,result)\n",
    "        \n",
    "in_num = int(input(\"Enter the length of the series: \"))\n",
    "print('0,1', end = ', ')\n",
    "fibonacci(in_num,1,2)"
   ]
  },
  {
   "cell_type": "code",
   "execution_count": null,
   "id": "967ad911",
   "metadata": {},
   "outputs": [],
   "source": [
    "2. Write a Python Program to Find Factorial of a Number using Recursion ?\n",
    "\n",
    "Ans:-"
   ]
  },
  {
   "cell_type": "code",
   "execution_count": 7,
   "id": "7587fe7f",
   "metadata": {},
   "outputs": [
    {
     "name": "stdout",
     "output_type": "stream",
     "text": [
      "Enter a number: 3\n",
      "The factorial of 3 is 6\n"
     ]
    }
   ],
   "source": [
    "def facttorial(num):\n",
    "    if (num < 1):\n",
    "        return 1\n",
    "    else:\n",
    "        return num * facttorial(num-1)\n",
    "num = int(input(\"Enter a number: \"))\n",
    "value = facttorial(num)\n",
    "print(f'The factorial of {num} is {value}')"
   ]
  },
  {
   "cell_type": "code",
   "execution_count": null,
   "id": "25a26455",
   "metadata": {},
   "outputs": [],
   "source": [
    "3. Write a Python Program to Calculate your Body Mass Index ?\n",
    "\n",
    "Ans:-"
   ]
  },
  {
   "cell_type": "code",
   "execution_count": 1,
   "id": "4a7ec923",
   "metadata": {},
   "outputs": [
    {
     "name": "stdout",
     "output_type": "stream",
     "text": [
      "Enter your weight in (KG): 72\n",
      "Enter your height in (MTR)1.78\n",
      "your're BMI is 22.724403484408533 and status is Healthy\n"
     ]
    }
   ],
   "source": [
    "def calculateBMI():\n",
    "    in_weight = eval(input('Enter your weight in (KG): '))\n",
    "    in_height = eval(input('Enter your height in (MTR)'))\n",
    "    calc_bmi = in_weight/pow(in_height,2)\n",
    "    if (calc_bmi < 18.5):\n",
    "        status = \"Underweight\"\n",
    "    elif(calc_bmi > 18.5 and calc_bmi < 24.9):\n",
    "        status = \"Healthy\"\n",
    "    elif(calc_bmi >= 24.9 and calc_bmi <30):\n",
    "        status = \"Overweight\"\n",
    "    elif(calc_bmi >=30):\n",
    "        status = \"suffering from obesity\"\n",
    "    print(f'your\\'re BMI is {calc_bmi} and status is {status}')\n",
    "calculateBMI()"
   ]
  },
  {
   "cell_type": "code",
   "execution_count": null,
   "id": "62a61975",
   "metadata": {},
   "outputs": [],
   "source": [
    "4. Write a Python Program to Calculate the Natural Logarithm of any Number ?\n",
    "\n",
    "Ans:-\n",
    "    "
   ]
  },
  {
   "cell_type": "code",
   "execution_count": 2,
   "id": "7256c514",
   "metadata": {},
   "outputs": [
    {
     "name": "stdout",
     "output_type": "stream",
     "text": [
      "Enter a Number: 2\n",
      "0.6931471805599453\n"
     ]
    }
   ],
   "source": [
    "import math\n",
    "\n",
    "def genlog():\n",
    "    in_num = eval(input(\"Enter a Number: \"))\n",
    "    print(math.log(in_num))\n",
    "    \n",
    "genlog()"
   ]
  },
  {
   "cell_type": "code",
   "execution_count": null,
   "id": "975e7f77",
   "metadata": {},
   "outputs": [],
   "source": [
    "5. Write a Python Program for Cube sum of first n Natural Numbers ?\n",
    "\n",
    "Ans:-\n",
    "    "
   ]
  },
  {
   "cell_type": "code",
   "execution_count": 4,
   "id": "c7d85c3a",
   "metadata": {},
   "outputs": [
    {
     "name": "stdout",
     "output_type": "stream",
     "text": [
      "Enter a Natural Numbers: 3\n",
      "The cube sum of first 3 Natural number is 36.0\n"
     ]
    }
   ],
   "source": [
    "def cubeOfNaturalNumbers():\n",
    "    in_num = int(input(\"Enter a Natural Numbers: \"))\n",
    "    result = pow(((in_num*(in_num+1))/2),2)\n",
    "    print(f'The cube sum of first {in_num} Natural number is {result}')\n",
    "cubeOfNaturalNumbers()"
   ]
  },
  {
   "cell_type": "code",
   "execution_count": null,
   "id": "4e12d440",
   "metadata": {},
   "outputs": [],
   "source": []
  }
 ],
 "metadata": {
  "kernelspec": {
   "display_name": "Python 3",
   "language": "python",
   "name": "python3"
  },
  "language_info": {
   "codemirror_mode": {
    "name": "ipython",
    "version": 3
   },
   "file_extension": ".py",
   "mimetype": "text/x-python",
   "name": "python",
   "nbconvert_exporter": "python",
   "pygments_lexer": "ipython3",
   "version": "3.8.8"
  }
 },
 "nbformat": 4,
 "nbformat_minor": 5
}

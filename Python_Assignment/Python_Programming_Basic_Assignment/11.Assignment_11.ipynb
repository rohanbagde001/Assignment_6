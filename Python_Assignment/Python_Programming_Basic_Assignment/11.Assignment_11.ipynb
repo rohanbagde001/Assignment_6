{
 "cells": [
  {
   "cell_type": "code",
   "execution_count": null,
   "id": "98e5dd2e",
   "metadata": {},
   "outputs": [],
   "source": [
    "1. Write a Python program to find words which are greater than given length k?\n",
    "\n",
    "Ans:-"
   ]
  },
  {
   "cell_type": "code",
   "execution_count": 5,
   "id": "94041a97",
   "metadata": {},
   "outputs": [
    {
     "name": "stdout",
     "output_type": "stream",
     "text": [
      "Enter the string: INeuron Full Stack Data Science Course is Awesome\n",
      "Enter the length of the string: 4\n",
      "['INeuron', 'Stack', 'Science', 'Course', 'Awesome']\n"
     ]
    }
   ],
   "source": [
    "def greater_than_k():\n",
    "    in_string = input(\"Enter the string: \")\n",
    "    in_length = int(input(\"Enter the length of the string: \"))\n",
    "    out_string = []\n",
    "    for i in in_string.split(' '):\n",
    "        if len(i) > in_length:\n",
    "            out_string.append(i)\n",
    "    #print(\",\".join(out_string))\n",
    "    print(out_string)\n",
    "    \n",
    "greater_than_k()"
   ]
  },
  {
   "cell_type": "code",
   "execution_count": null,
   "id": "c704f72c",
   "metadata": {},
   "outputs": [],
   "source": [
    "2. Write a Python program for removing i-th character from a string ?\n",
    "\n",
    "Ans:-"
   ]
  },
  {
   "cell_type": "code",
   "execution_count": 1,
   "id": "5abcb074",
   "metadata": {},
   "outputs": [
    {
     "name": "stdout",
     "output_type": "stream",
     "text": [
      "Enter the String: INeuron Full Stack Data Science Course is Awesome\n",
      "Enter the ith Character: 2\n",
      "INuron Full Stack Data Science Course is Awesome\n"
     ]
    }
   ],
   "source": [
    "def removeCharacter():\n",
    "    in_string = input(\"Enter the String: \")\n",
    "    in_char_num = int(input(\"Enter the ith Character: \"))\n",
    "    out_string = ''\n",
    "    for ele in range(len(in_string)):\n",
    "        if ele != in_char_num:\n",
    "            out_string = out_string + in_string[ele]\n",
    "    print(out_string)\n",
    "    \n",
    "removeCharacter()"
   ]
  },
  {
   "cell_type": "code",
   "execution_count": null,
   "id": "79afc6f8",
   "metadata": {},
   "outputs": [],
   "source": [
    "3. Write a Python program to split and join a string ?\n",
    "\n",
    "Ans:-"
   ]
  },
  {
   "cell_type": "code",
   "execution_count": 5,
   "id": "170b8958",
   "metadata": {},
   "outputs": [
    {
     "name": "stdout",
     "output_type": "stream",
     "text": [
      "Enter a string: INeuron Full Stack Data Science Course is Awesome\n",
      "split string: ['INeuron', 'Full', 'Stack', 'Data', 'Science', 'Course', 'is', 'Awesome']\n",
      "join string: INeuron Full Stack Data Science Course is Awesome\n"
     ]
    }
   ],
   "source": [
    "def splitJoinString():\n",
    "    in_string = input(\"Enter a string: \")\n",
    "    print(f\"split string: {in_string.split(' ')}\")\n",
    "    print(f\"join string: {' '.join(in_string.split(' '))}\")\n",
    "    \n",
    "splitJoinString()"
   ]
  },
  {
   "cell_type": "code",
   "execution_count": null,
   "id": "0749a78d",
   "metadata": {},
   "outputs": [],
   "source": [
    "4. Write a Python to check if a given string is binary string or not?\n",
    "\n",
    "Ans:-"
   ]
  },
  {
   "cell_type": "code",
   "execution_count": 9,
   "id": "7685800d",
   "metadata": {},
   "outputs": [
    {
     "name": "stdout",
     "output_type": "stream",
     "text": [
      "Enter a string: 1\n",
      "1 is binary string\n",
      "Enter a string: 3\n",
      "3 is not a binary string\n"
     ]
    }
   ],
   "source": [
    "def check_binary():\n",
    "    in_string = input(\"Enter a string: \")\n",
    "    st  = 0\n",
    "    for i in in_string:\n",
    "        if i in ['0','1']:\n",
    "            st  = 1\n",
    "            continue\n",
    "        else:\n",
    "            st = 0\n",
    "            break\n",
    "    statement = 'is binary string' if st == 1 else 'is not a binary string'\n",
    "    print(f\"{in_string} {statement}\")\n",
    "    \n",
    "check_binary()\n",
    "check_binary()"
   ]
  },
  {
   "cell_type": "code",
   "execution_count": null,
   "id": "df4ea837",
   "metadata": {},
   "outputs": [],
   "source": [
    "5. Write a Python program to find uncommon words from two Strings ?\n",
    "\n",
    "Ans:-"
   ]
  },
  {
   "cell_type": "code",
   "execution_count": 4,
   "id": "e1c1c8ec",
   "metadata": {},
   "outputs": [
    {
     "name": "stdout",
     "output_type": "stream",
     "text": [
      "Enter a string1: Machine Learning\n",
      "Enter a string2: Deep Learning\n",
      "{'Deep', 'Machine'}\n"
     ]
    }
   ],
   "source": [
    "def uncommon_words():\n",
    "    in_string1 = set(input(\"Enter a string1: \").split(' '))\n",
    "    in_string2 = set(input(\"Enter a string2: \").split(' '))\n",
    "    out_string = (in_string1.union(in_string2)).difference(in_string1.intersection(in_string2))\n",
    "    print(out_string)\n",
    "    \n",
    "uncommon_words()\n",
    "    "
   ]
  },
  {
   "cell_type": "code",
   "execution_count": null,
   "id": "1b47c759",
   "metadata": {},
   "outputs": [],
   "source": [
    "6. Write a Python to find all duplicate characters in string ?\n",
    "\n",
    "Ans:-"
   ]
  },
  {
   "cell_type": "code",
   "execution_count": 14,
   "id": "5fb5f974",
   "metadata": {},
   "outputs": [
    {
     "name": "stdout",
     "output_type": "stream",
     "text": [
      "Enter the string: rohannnn\n",
      "Duplicate characters are: ['n']\n"
     ]
    }
   ],
   "source": [
    "def duplicateChars():\n",
    "    in_string = input('Enter the string: ')\n",
    "    non_duplicate_list = []\n",
    "    duplicate_list = []\n",
    "    for ele in in_string:\n",
    "        if ele not in non_duplicate_list:\n",
    "            non_duplicate_list.append(ele)\n",
    "        else:\n",
    "            duplicate_list.append(ele)\n",
    "    print(f'Duplicate characters are: {list(set(duplicate_list))}')\n",
    "        \n",
    "duplicateChars()"
   ]
  },
  {
   "cell_type": "code",
   "execution_count": null,
   "id": "a794098d",
   "metadata": {},
   "outputs": [],
   "source": [
    "7. Write a Python Program to check if a string contains any special character?\n",
    "\n",
    "Ans:-"
   ]
  },
  {
   "cell_type": "code",
   "execution_count": 20,
   "id": "a87bd7b6",
   "metadata": {},
   "outputs": [
    {
     "name": "stdout",
     "output_type": "stream",
     "text": [
      "Enter the string: rohan#bagde\n",
      "There are 1 Speical Characters in rohan#bagde which are ['#']\n",
      "Enter the string: rohanbagde001@#$\n",
      "There are 3 Speical Characters in rohanbagde001@#$ which are ['@', '#', '$']\n"
     ]
    }
   ],
   "source": [
    "def checkSpecialChar():\n",
    "    spl_chars = '[@_!#$%^&*()<>?/\\|}{~:]'\n",
    "    in_num = input('Enter the string: ')\n",
    "    count = 0\n",
    "    char_list = []\n",
    "    for ele in in_num:\n",
    "        if ele in spl_chars:\n",
    "            char_list.append(ele)\n",
    "            count = count+1\n",
    "    print(f'There are {count} Speical Characters in {in_num} which are {char_list}')\n",
    "            \n",
    "        \n",
    "checkSpecialChar()\n",
    "checkSpecialChar()"
   ]
  },
  {
   "cell_type": "code",
   "execution_count": null,
   "id": "e9797603",
   "metadata": {},
   "outputs": [],
   "source": []
  }
 ],
 "metadata": {
  "kernelspec": {
   "display_name": "Python 3",
   "language": "python",
   "name": "python3"
  },
  "language_info": {
   "codemirror_mode": {
    "name": "ipython",
    "version": 3
   },
   "file_extension": ".py",
   "mimetype": "text/x-python",
   "name": "python",
   "nbconvert_exporter": "python",
   "pygments_lexer": "ipython3",
   "version": "3.8.8"
  }
 },
 "nbformat": 4,
 "nbformat_minor": 5
}

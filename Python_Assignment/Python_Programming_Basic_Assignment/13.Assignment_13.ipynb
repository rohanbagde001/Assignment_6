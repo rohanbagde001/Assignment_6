{
 "cells": [
  {
   "cell_type": "code",
   "execution_count": null,
   "id": "50c36639",
   "metadata": {},
   "outputs": [],
   "source": [
    "Question 1:\n",
    "Write a program that calculates and prints the value according to the given formula:\n",
    "Q = Square root of [(2 * C * D)/H]\n",
    "Following are the fixed values of C and H:\n",
    "C is 50. H is 30.\n",
    "D is the variable whose values should be input to your program in a comma-separated\n",
    "sequence.\n",
    "Example\n",
    "Let us assume the following comma separated input sequence is given to the program:\n",
    "100,150,180\n",
    "The output of the program should be:\n",
    "18,22,24"
   ]
  },
  {
   "cell_type": "code",
   "execution_count": 2,
   "id": "0ed10c2b",
   "metadata": {},
   "outputs": [
    {
     "name": "stdout",
     "output_type": "stream",
     "text": [
      "Enter the Input: 100,150,180\n",
      "Output: 18,22,24\n"
     ]
    }
   ],
   "source": [
    "from math import sqrt\n",
    "\n",
    "def calculate_program():\n",
    "    in_num = eval(input('Enter the Input: '))\n",
    "    out_num = []\n",
    "    C = 50\n",
    "    H = 30\n",
    "    for i in in_num:\n",
    "        Q = str(int(sqrt((2*C*i)/H)))\n",
    "        out_num.append(Q)\n",
    "    print(\"Output: {}\".format(','.join(out_num)))\n",
    "    \n",
    "calculate_program()"
   ]
  },
  {
   "cell_type": "code",
   "execution_count": null,
   "id": "cd8dc99e",
   "metadata": {},
   "outputs": [],
   "source": [
    "Question 2:\n",
    "Write a program which takes 2 digits, X,Y as input and generates a 2-dimensional array. The\n",
    "element value in the i-th row and j-th column of the array should be i*j.\n",
    "Note: i=0,1.., X-1; j=0,1,¡Y-1.\n",
    "Example\n",
    "Suppose the following inputs are given to the program:\n",
    "3,5\n",
    "Then, the output of the program should be:\n",
    "[[0, 0, 0, 0, 0], [0, 1, 2, 3, 4], [0, 2, 4, 6, 8]]"
   ]
  },
  {
   "cell_type": "code",
   "execution_count": 14,
   "id": "0cd0aa88",
   "metadata": {},
   "outputs": [
    {
     "name": "stdout",
     "output_type": "stream",
     "text": [
      "Enter the number of rows: 3\n",
      "Enter the number of column: 3\n",
      "[[0, 0, 0], [0, 1, 2], [0, 2, 4]]\n"
     ]
    }
   ],
   "source": [
    "import array as arr\n",
    "\n",
    "def gen_array():\n",
    "    in_X = int(input(\"Enter the number of rows: \"))\n",
    "    in_Y = int(input(\"Enter the number of column: \"))\n",
    "    out_array = []\n",
    "    for i in range(in_X):\n",
    "        out_array.insert(in_X,[])\n",
    "        for j in range(in_Y):\n",
    "            out_array[i].append(i*j)\n",
    "    print(out_array)\n",
    "    \n",
    "gen_array()"
   ]
  },
  {
   "cell_type": "code",
   "execution_count": null,
   "id": "d9cec18d",
   "metadata": {},
   "outputs": [],
   "source": [
    "Question 3:\n",
    "Write a program that accepts a comma separated sequence of words as input and prints the\n",
    "words in a comma-separated sequence after sorting them alphabetically.\n",
    "Suppose the following input is supplied to the program:\n",
    "without,hello,bag,world\n",
    "Then, the output should be:\n",
    "bag,hello,without,world"
   ]
  },
  {
   "cell_type": "code",
   "execution_count": 22,
   "id": "6498560f",
   "metadata": {},
   "outputs": [
    {
     "name": "stdout",
     "output_type": "stream",
     "text": [
      "Enter a value seperated by comma: Rohan,Sanket,Yash,Anupam\n",
      "Sorted values are: Anupam,Rohan,Sanket,Yash\n"
     ]
    }
   ],
   "source": [
    "def sort():\n",
    "    in_put = input(\"Enter a value seperated by comma: \")\n",
    "    output = ','.join(sorted(in_put.split(',')))\n",
    "    print(f'Sorted values are: {output}')\n",
    "    \n",
    "sort()"
   ]
  },
  {
   "cell_type": "code",
   "execution_count": null,
   "id": "2805a537",
   "metadata": {},
   "outputs": [],
   "source": [
    "Question 4:\n",
    "Write a program that accepts a sequence of whitespace separated words as input and prints\n",
    "the words after removing all duplicate words and sorting them alphanumerically.\n",
    "Suppose the following input is supplied to the program:\n",
    "hello world and practice makes perfect and hello world again\n",
    "Then, the output should be:\n",
    "again and hello makes perfect practice world"
   ]
  },
  {
   "cell_type": "code",
   "execution_count": 25,
   "id": "66d7ff83",
   "metadata": {},
   "outputs": [
    {
     "name": "stdout",
     "output_type": "stream",
     "text": [
      "Enter the input: hello world and practice makes perfect and hello world again\n",
      "The sorted string is: again and hello makes perfect practice world\n"
     ]
    }
   ],
   "source": [
    "def sort_space():\n",
    "    in_put = input(\"Enter the input: \")\n",
    "    output = ' '.join(sorted(set(in_put.split(' '))))\n",
    "    print(f'The sorted string is: {output}')\n",
    "    \n",
    "sort_space()"
   ]
  },
  {
   "cell_type": "code",
   "execution_count": null,
   "id": "2eecabea",
   "metadata": {},
   "outputs": [],
   "source": [
    "Question 5:\n",
    "Write a program that accepts a sentence and calculate the number of letters and digits.\n",
    "Suppose the following input is supplied to the program:\n",
    "hello world! 123\n",
    "Then, the output should be:\n",
    "    \n",
    "LETTERS 10\n",
    "\n",
    "DIGITS 3"
   ]
  },
  {
   "cell_type": "code",
   "execution_count": 1,
   "id": "c42c23a6",
   "metadata": {},
   "outputs": [
    {
     "name": "stdout",
     "output_type": "stream",
     "text": [
      "Enter a sentence: You may have noticed a theme when it comes to the English language: most rules are not standardized. This (somewhat frustrating) fact is especially true when it comes to spelling out numbers. Should you write them out in words or leave them as numerals? To write numbers properly, you will also need to identify potential differences between major style guides (such as MLA, APA, and Chicago, to name a few) because these guides often outline different rules for using numbers in writing.\n",
      "LETTERS 394 \n",
      "DIGITS 0\n",
      "Enter a sentence:  hello world! 123\n",
      "LETTERS 10 \n",
      "DIGITS 3\n"
     ]
    }
   ],
   "source": [
    "def calc_letter_n_digit():\n",
    "    in_put = input(\"Enter a sentence: \")\n",
    "    letter_list = 'ABCDEFGHIJKLMNOPQRSTUVWXYZabcdefghijklmnopqrstuvwxyz'\n",
    "    digit_list = '0123456789'\n",
    "    letters = 0\n",
    "    digits = 0\n",
    "    for i in in_put:\n",
    "        if i in letter_list:\n",
    "            letters += 1\n",
    "        if i in digit_list:\n",
    "            digits += 1\n",
    "    print(f'LETTERS {letters} \\nDIGITS {digits}')\n",
    "    \n",
    "calc_letter_n_digit()\n",
    "calc_letter_n_digit()"
   ]
  },
  {
   "cell_type": "code",
   "execution_count": null,
   "id": "0e9d8377",
   "metadata": {},
   "outputs": [],
   "source": [
    "Question 6:\n",
    "A website requires the users to input username and password to register. Write a program to\n",
    "check the validity of password input by users.\n",
    "Following are the criteria for checking the password:\n",
    "1. At least 1 letter between [a-z]\n",
    "2. At least 1 number between [0-9]\n",
    "1. At least 1 letter between [A-Z]\n",
    "3. At least 1 character from [$#@]\n",
    "4. Minimum length of transaction password: 6\n",
    "5. Maximum length of transaction password: 12\n",
    "Your program should accept a sequence of comma separated passwords and will check them\n",
    "according to the above criteria. Passwords that match the criteria are to be printed, each\n",
    "separated by a comma.\n",
    "Example\n",
    "If the following passwords are given as input to the program:\n",
    "ABd1234@1,a F1#,2w3E*,2We3345\n",
    "Then, the output of the program should be:\n",
    "ABd1234@1"
   ]
  },
  {
   "cell_type": "code",
   "execution_count": 2,
   "id": "7e52bcc3",
   "metadata": {},
   "outputs": [
    {
     "name": "stdout",
     "output_type": "stream",
     "text": [
      "Enter the string: ABd1234@1,a F1#,2w3E*,2We3345\n",
      "ABd1234@1\n"
     ]
    }
   ],
   "source": [
    "def check_password():\n",
    "    in_string = input(\"Enter the string: \")\n",
    "    small_list = \"abcdefghijklmnopqrstuvwxyz\"\n",
    "    cap_list = \"ABCDEFGHIJKLMNOPQRSTUVWXYZ\"\n",
    "    num_list = '0123456789'\n",
    "    special_list = '$#@'\n",
    "    for i in in_string.split(','):\n",
    "        if len(i) <= 12 and len(i) >=6 :\n",
    "            if any(j.isupper() for j in i):\n",
    "                if any(j.islower() for j in i):\n",
    "                    if any(j for j in i if j in special_list):\n",
    "                        print(i)\n",
    "                        \n",
    "check_password()\n",
    "            "
   ]
  },
  {
   "cell_type": "code",
   "execution_count": null,
   "id": "4631de49",
   "metadata": {},
   "outputs": [],
   "source": []
  }
 ],
 "metadata": {
  "kernelspec": {
   "display_name": "Python 3",
   "language": "python",
   "name": "python3"
  },
  "language_info": {
   "codemirror_mode": {
    "name": "ipython",
    "version": 3
   },
   "file_extension": ".py",
   "mimetype": "text/x-python",
   "name": "python",
   "nbconvert_exporter": "python",
   "pygments_lexer": "ipython3",
   "version": "3.8.8"
  }
 },
 "nbformat": 4,
 "nbformat_minor": 5
}

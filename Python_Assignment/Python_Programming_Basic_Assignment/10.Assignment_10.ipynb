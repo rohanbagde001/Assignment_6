{
 "cells": [
  {
   "cell_type": "code",
   "execution_count": null,
   "id": "5029c4f4",
   "metadata": {},
   "outputs": [],
   "source": [
    "1. Write a Python program to find sum of elements in list?\n",
    "\n",
    "Ans:-"
   ]
  },
  {
   "cell_type": "code",
   "execution_count": 9,
   "id": "1dc51ad2",
   "metadata": {},
   "outputs": [
    {
     "name": "stdout",
     "output_type": "stream",
     "text": [
      "Please Enter a number in a list: 3\n",
      "Enter a element: 2\n",
      "Enter a element: 2\n",
      "Enter a element: 3\n",
      "Sum of elements is: 7\n"
     ]
    }
   ],
   "source": [
    "def addition():\n",
    "    Input_list = int(input(\"Please Enter a number in a list: \"))\n",
    "    list = []\n",
    "    for i in range(Input_list):\n",
    "        list.append(int(input(\"Enter a element: \")))\n",
    "    print(f'Sum of elements is: {sum(list)}')\n",
    "addition()    "
   ]
  },
  {
   "cell_type": "code",
   "execution_count": null,
   "id": "55ffc767",
   "metadata": {},
   "outputs": [],
   "source": [
    "2.Write a Python Program to multiply all numbers in the list ?\n",
    "\n",
    "Ans:-"
   ]
  },
  {
   "cell_type": "code",
   "execution_count": 3,
   "id": "958335b8",
   "metadata": {},
   "outputs": [
    {
     "name": "stdout",
     "output_type": "stream",
     "text": [
      "How many numbers do you want to multiply: 3\n",
      "Enter an Element: 2\n",
      "Enter an Element: 3\n",
      "Enter an Element: 4\n",
      "24\n"
     ]
    }
   ],
   "source": [
    "def multiply():\n",
    "    mul_number = int(input(\"How many numbers do you want to multiply: \"))\n",
    "    list = []\n",
    "    mul = 1\n",
    "    for i in range(mul_number):\n",
    "        list.append(int(input(\"Enter an Element: \")))\n",
    "    for j in list:\n",
    "        mul = mul * j\n",
    "    print(mul)\n",
    "    \n",
    "multiply()"
   ]
  },
  {
   "cell_type": "code",
   "execution_count": null,
   "id": "3f5b781c",
   "metadata": {},
   "outputs": [],
   "source": [
    "3. Write a Python program to find smallest number in a list?\n",
    "\n",
    "ANs:-"
   ]
  },
  {
   "cell_type": "code",
   "execution_count": 8,
   "id": "1ec7eea9",
   "metadata": {},
   "outputs": [
    {
     "name": "stdout",
     "output_type": "stream",
     "text": [
      "Enter a number of element in list: 4\n",
      "Enter Elements: 12\n",
      "smallest element is:  12\n",
      "Enter Elements: 10\n",
      "smallest element is:  10\n",
      "Enter Elements: 2\n",
      "smallest element is:  2\n",
      "Enter Elements: 34\n",
      "smallest element is:  2\n"
     ]
    }
   ],
   "source": [
    "def minimum():\n",
    "    in_list = int(input(\"Enter a number of element in list: \"))\n",
    "    lists = []\n",
    "    for i in range(1, in_list+1):\n",
    "        ans = int(input(\"Enter Elements: \"))\n",
    "        lists.append(ans)\n",
    "        print( \"smallest element is: \",min(lists))\n",
    "minimum()\n"
   ]
  },
  {
   "cell_type": "code",
   "execution_count": null,
   "id": "280be385",
   "metadata": {},
   "outputs": [],
   "source": [
    "4. Write a Python program to find largest number in a list?\n",
    "\n",
    "Ans:-"
   ]
  },
  {
   "cell_type": "code",
   "execution_count": 2,
   "id": "4b81e785",
   "metadata": {},
   "outputs": [
    {
     "name": "stdout",
     "output_type": "stream",
     "text": [
      "Enter the number of elements in the list: 3\n",
      "Enter an Element: 2\n",
      "Enter an Element: 3\n",
      "Enter an Element: 4\n",
      "The Largest Element [2, 3, 4] is 4\n"
     ]
    }
   ],
   "source": [
    "def maximum_in_list():\n",
    "    in_list = int(input(\"Enter the number of elements in the list: \"))\n",
    "    lists = []\n",
    "    for i in range(in_list):\n",
    "        lists.append(int(input(\"Enter an Element: \")))\n",
    "    print(f\"The Largest Element {lists} is {sorted(lists, reverse=True)[0]}\")\n",
    "    \n",
    "maximum_in_list()\n",
    "    \n",
    "    "
   ]
  },
  {
   "cell_type": "code",
   "execution_count": null,
   "id": "fa7e64c1",
   "metadata": {},
   "outputs": [],
   "source": [
    "5.Write a Python Program to find second largest number in the list ?\n",
    "\n",
    "Ans:-"
   ]
  },
  {
   "cell_type": "code",
   "execution_count": 4,
   "id": "a087767e",
   "metadata": {},
   "outputs": [
    {
     "name": "stdout",
     "output_type": "stream",
     "text": [
      "Number of elements in the list: 5\n",
      "Enter an Element: 3\n",
      "Enter an Element: 5\n",
      "Enter an Element: 7\n",
      "Enter an Element: 9\n",
      "Enter an Element: 0\n",
      "The second largest element in the [3, 5, 7, 9, 0] is 7\n"
     ]
    }
   ],
   "source": [
    "def second_largest_inlist():\n",
    "    in_list = int(input(\"Number of elements in the list: \"))\n",
    "    lists = []\n",
    "    for i in range(in_list):\n",
    "        lists.append(int(input(\"Enter an Element: \")))\n",
    "    print(f\"The second largest element in the {lists} is {sorted(lists, reverse=True)[1]}\")\n",
    "\n",
    "second_largest_inlist()"
   ]
  },
  {
   "cell_type": "code",
   "execution_count": null,
   "id": "3e0ef501",
   "metadata": {},
   "outputs": [],
   "source": [
    "6.Write a Python Program to find N largest elements in the list ?\n",
    "\n",
    "Ans:-"
   ]
  },
  {
   "cell_type": "code",
   "execution_count": 6,
   "id": "29468c23",
   "metadata": {},
   "outputs": [
    {
     "name": "stdout",
     "output_type": "stream",
     "text": [
      "How many number in a list: 5\n",
      "Enter an Element: 3\n",
      "Enter an Element: 4\n",
      "Enter an Element: 5\n",
      "Enter an Element: 6\n",
      "Enter an Element: 7\n",
      "The N Largest Element in the list [3, 4, 5, 6, 7] is [7, 6, 5]\n"
     ]
    }
   ],
   "source": [
    "def NLargest_Number_in_list(k):\n",
    "    in_list = int(input(\"How many number in a list: \"))\n",
    "    lists = []\n",
    "    for i in range(in_list):\n",
    "        lists.append(int(input(\"Enter an Element: \")))\n",
    "    print(f\"The N Largest Element in the list {lists} is {sorted(lists, reverse=True)[0:k]}\")\n",
    "          \n",
    "NLargest_Number_in_list(3)\n",
    "    "
   ]
  },
  {
   "cell_type": "code",
   "execution_count": null,
   "id": "a5441dd6",
   "metadata": {},
   "outputs": [],
   "source": [
    "7.Write a Python Program to find even numbers in the list ?\n",
    "\n",
    "Ans:-"
   ]
  },
  {
   "cell_type": "code",
   "execution_count": 7,
   "id": "17d6848a",
   "metadata": {},
   "outputs": [
    {
     "name": "stdout",
     "output_type": "stream",
     "text": [
      "Enter a number of elements in the list: 5\n",
      "Enter an Element: 5\n",
      "Enter an Element: 3\n",
      "Enter an Element: 3\n",
      "Enter an Element: 6\n",
      "Enter an Element: 8\n",
      "The Even Elements in [5, 3, 3, 6, 8] are [6, 8]\n"
     ]
    }
   ],
   "source": [
    "def even_number_in_list():\n",
    "    in_list = int(input(\"Enter a number of elements in the list: \"))\n",
    "    lists = []\n",
    "    even_list = [] \n",
    "    for i in range(in_list):\n",
    "        lists.append(int(input(\"Enter an Element: \")))\n",
    "    for i in lists:\n",
    "        if i % 2  == 0:\n",
    "            even_list.append(i)\n",
    "    print(f\"The Even Elements in {lists} are {even_list}\")\n",
    "    \n",
    "even_number_in_list()\n",
    "        \n",
    "    "
   ]
  },
  {
   "cell_type": "code",
   "execution_count": null,
   "id": "ccbca8a7",
   "metadata": {},
   "outputs": [],
   "source": [
    "8. Write a Python program to print odd numbers in a List?\n",
    "\n",
    "Ans:-"
   ]
  },
  {
   "cell_type": "code",
   "execution_count": 9,
   "id": "25f53309",
   "metadata": {},
   "outputs": [
    {
     "name": "stdout",
     "output_type": "stream",
     "text": [
      "Enter a number of element in the list: 4\n",
      "Enter an Element: 5\n",
      "Enter an Element: 6\n",
      "Enter an Element: 7\n",
      "Enter an Element: 8\n",
      "For the list [5, 6, 7, 8] odd numbers are[5, 7]\n"
     ]
    }
   ],
   "source": [
    "def odd_number_in_list():\n",
    "    in_list = (int(input(\"Enter a number of element in the list: \")))\n",
    "    lists = []\n",
    "    odd_number_list = []\n",
    "    for i in range(in_list):\n",
    "        lists.append(int(input(\"Enter an Element: \")))\n",
    "    for i in lists:\n",
    "        if i % 2 == 1:\n",
    "            odd_number_list.append(i)\n",
    "    print(f\"For the list {lists} odd numbers are{odd_number_list}\")\n",
    "    \n",
    "odd_number_in_list()"
   ]
  },
  {
   "cell_type": "code",
   "execution_count": null,
   "id": "c7ec0fd9",
   "metadata": {},
   "outputs": [],
   "source": [
    "9. Write a Python program to Remove empty List from List?\n",
    "\n",
    "Ans:-"
   ]
  },
  {
   "cell_type": "code",
   "execution_count": 12,
   "id": "3080fe56",
   "metadata": {},
   "outputs": [
    {
     "name": "stdout",
     "output_type": "stream",
     "text": [
      "Enter all elements of the list: [1,2,3,4,[],5,6,7,8]\n",
      "There is an empty list in [1, 2, 3, 4, [], 5, 6, 7, 8] at position 4\n",
      "The list after removing [] is [1, 2, 3, 4, 5, 6, 7, 8]\n",
      "Enter all elements of the list: [12,3,44,5]\n",
      "There is no [] List in the list {in_list}\n"
     ]
    }
   ],
   "source": [
    "def remove_empty_list():\n",
    "    in_list = eval(input(\"Enter all elements of the list: \"))\n",
    "    if [] in in_list:\n",
    "        print(f\"There is an empty list in {in_list} at position {in_list.index([])}\")\n",
    "        in_list.remove([])\n",
    "        print(f\"The list after removing [] is {in_list}\")\n",
    "    else:\n",
    "        print(\"There is no [] List in the list {in_list}\")\n",
    "        \n",
    "remove_empty_list()\n",
    "remove_empty_list()"
   ]
  },
  {
   "cell_type": "code",
   "execution_count": null,
   "id": "eca92f8c",
   "metadata": {},
   "outputs": [],
   "source": [
    "10.Write a Python Program to Cloning or Copying a list ?\n",
    "\n",
    "Ans:-"
   ]
  },
  {
   "cell_type": "code",
   "execution_count": 13,
   "id": "fb7dd98a",
   "metadata": {},
   "outputs": [
    {
     "name": "stdout",
     "output_type": "stream",
     "text": [
      "Enter a list: [1,2,3,4,5,6,6]\n",
      "[1, 2, 3, 4, 5, 6, 6] 1914997466240\n",
      "[1, 2, 3, 4, 5, 6, 6] 1914998324160\n"
     ]
    }
   ],
   "source": [
    "import copy\n",
    "\n",
    "def clonelist():\n",
    "    in_list = eval(input(\"Enter a list: \"))\n",
    "    print(in_list, id(in_list))\n",
    "    cloned_list = in_list.copy()\n",
    "    print(cloned_list, id(cloned_list))\n",
    "    \n",
    "clonelist()"
   ]
  },
  {
   "cell_type": "code",
   "execution_count": null,
   "id": "ecf83deb",
   "metadata": {},
   "outputs": [],
   "source": [
    "11.Write a Python Program to count occurences of an element in a list ?\n",
    "\n",
    "Ans:-"
   ]
  },
  {
   "cell_type": "code",
   "execution_count": 15,
   "id": "3a13b796",
   "metadata": {},
   "outputs": [
    {
     "name": "stdout",
     "output_type": "stream",
     "text": [
      "Enter the elements of the list: [1,2,3,1,2,3,1,2,3,4,5,6,4,5,6]\n",
      "Enter the element to find: 5\n",
      "There are 2 occurance of 5 in [1, 2, 3, 1, 2, 3, 1, 2, 3, 4, 5, 6, 4, 5, 6]\n"
     ]
    }
   ],
   "source": [
    "def check_occurence():\n",
    "    in_list = eval(input(\"Enter the elements of the list: \"))\n",
    "    in_num = eval(input(\"Enter the element to find: \"))\n",
    "    count = 0\n",
    "    if in_num in in_list:\n",
    "        for i in in_list:\n",
    "            if i == in_num:\n",
    "                count = count+1\n",
    "    print(f\"There are {count} occurance of {in_num} in {in_list}\")\n",
    "    \n",
    "check_occurence()"
   ]
  },
  {
   "cell_type": "code",
   "execution_count": null,
   "id": "dd886238",
   "metadata": {},
   "outputs": [],
   "source": []
  }
 ],
 "metadata": {
  "kernelspec": {
   "display_name": "Python 3",
   "language": "python",
   "name": "python3"
  },
  "language_info": {
   "codemirror_mode": {
    "name": "ipython",
    "version": 3
   },
   "file_extension": ".py",
   "mimetype": "text/x-python",
   "name": "python",
   "nbconvert_exporter": "python",
   "pygments_lexer": "ipython3",
   "version": "3.8.8"
  }
 },
 "nbformat": 4,
 "nbformat_minor": 5
}

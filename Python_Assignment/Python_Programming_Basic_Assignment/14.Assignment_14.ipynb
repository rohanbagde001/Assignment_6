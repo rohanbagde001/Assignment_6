{
 "cells": [
  {
   "cell_type": "code",
   "execution_count": null,
   "id": "1aba88a0",
   "metadata": {},
   "outputs": [],
   "source": [
    "Question 1:\n",
    "Define a class with a generator which can iterate the numbers, which are divisible by\n",
    "7, between a given range 0 and n."
   ]
  },
  {
   "cell_type": "code",
   "execution_count": 2,
   "id": "47cda259",
   "metadata": {},
   "outputs": [
    {
     "name": "stdout",
     "output_type": "stream",
     "text": [
      "0 7 14 21 28 35 42 49 56 63 70 77 84 91 98 105 112 119 126 133 140 147 154 161 168 175 182 189 196 203 210 217 224 231 238 245 252 259 266 273 280 287 294 301 308 315 322 329 336 343 350 "
     ]
    }
   ],
   "source": [
    "class div_gen:\n",
    "    def __init__(self,in_num):\n",
    "        self.in_num = in_num\n",
    "    def get_numbers(self):\n",
    "        for i in range(0,self.in_num+1):\n",
    "            if i % 7 == 0:\n",
    "                yield i\n",
    "                \n",
    "output = div_gen(350)\n",
    "for i in output.get_numbers():\n",
    "    print(i, end = ' ')\n"
   ]
  },
  {
   "cell_type": "code",
   "execution_count": null,
   "id": "47c4a16d",
   "metadata": {},
   "outputs": [],
   "source": [
    "Question 2:\n",
    "Write a program to compute the frequency of the words from the input. The output\n",
    "should output after sorting the key alphanumerically.\n",
    "Suppose the following input is supplied to the program:\n",
    "New to Python or choosing between Python 2 and Python 3? Read Python 2 or\n",
    "Python 3.\n",
    "Then, the output should be:\n",
    "2:2\n",
    "3.:1\n",
    "3?:1\n",
    "New:1\n",
    "Python:5\n",
    "Read:1\n",
    "and:1\n",
    "between:1\n",
    "choosing:1\n",
    "or:2\n",
    "to:1"
   ]
  },
  {
   "cell_type": "code",
   "execution_count": 4,
   "id": "f2c9455e",
   "metadata": {},
   "outputs": [
    {
     "name": "stdout",
     "output_type": "stream",
     "text": [
      "Enter the Input string: New to Python or choosing between Python 2 and Python 3? Read Python 2 or Python 3.\n",
      "2:2 3.:1 3?:1 New:1 Python:5 Read:1 and:1 between:1 choosing:1 or:2 to:1 "
     ]
    }
   ],
   "source": [
    "def checkFrequency():\n",
    "    in_string = input('Enter the Input string: ')\n",
    "    frequency = {}\n",
    "    for i in in_string.split(' '):\n",
    "        if(frequency.get(i) == None):\n",
    "            frequency[i] = 1\n",
    "        else:\n",
    "            frequency[i] += 1\n",
    "    for i in sorted(frequency):\n",
    "        print(f\"{i}:{frequency[i]}\",end =\" \")\n",
    "        \n",
    "checkFrequency()"
   ]
  },
  {
   "cell_type": "code",
   "execution_count": null,
   "id": "48ca2cba",
   "metadata": {},
   "outputs": [],
   "source": [
    "3.Define a class Person and its two child classes: Male and Female. All classes have a method \"getGender\" which can print \n",
    "  \"Male\" for Male class and \"Female\" for Female class. ?"
   ]
  },
  {
   "cell_type": "code",
   "execution_count": 12,
   "id": "18dcf300",
   "metadata": {},
   "outputs": [
    {
     "name": "stdout",
     "output_type": "stream",
     "text": [
      "Male\n",
      "Female\n"
     ]
    }
   ],
   "source": [
    "class Person():\n",
    "    def getGender():\n",
    "        pass\n",
    "    \n",
    "    class Male(Person):\n",
    "        def getGender():\n",
    "            print(\"Male\")\n",
    "    \n",
    "    class Female(Person):\n",
    "        def getGender():\n",
    "            print(\"Female\")\n",
    "            \n",
    "Male.getGender()\n",
    "Female.getGender()"
   ]
  },
  {
   "cell_type": "code",
   "execution_count": null,
   "id": "55106ff1",
   "metadata": {},
   "outputs": [],
   "source": [
    "4.Please write a program to generate all sentences where subject is in [\"I\", \"You\"] and verb is in [\"Play\", \"Love\"] and \n",
    "  the object is in [\"Hockey\",\"Football\"] ?"
   ]
  },
  {
   "cell_type": "code",
   "execution_count": 14,
   "id": "1c559e12",
   "metadata": {},
   "outputs": [
    {
     "name": "stdout",
     "output_type": "stream",
     "text": [
      "I Play Hockey\n",
      "I Play Football\n",
      "I Love Hockey\n",
      "I Love Football\n",
      "You Play Hockey\n",
      "You Play Football\n",
      "You Love Hockey\n",
      "You Love Football\n"
     ]
    }
   ],
   "source": [
    "def generate_sentence():\n",
    "    subject = ['I','You']\n",
    "    verb = ['Play','Love']\n",
    "    object = ['Hockey', 'Football']\n",
    "    for s in subject:\n",
    "        for v in verb:\n",
    "            for o in object:\n",
    "                print(f'{s} {v} {o}')\n",
    "            \n",
    "generate_sentence()"
   ]
  },
  {
   "cell_type": "code",
   "execution_count": null,
   "id": "2c830f29",
   "metadata": {},
   "outputs": [],
   "source": [
    "5.Please write a program to compress and decompress the string \"hello world!hello world!hello world!hello world!\" ?"
   ]
  },
  {
   "cell_type": "code",
   "execution_count": 23,
   "id": "bfe26b39",
   "metadata": {},
   "outputs": [
    {
     "name": "stdout",
     "output_type": "stream",
     "text": [
      "hel2o world!hel2o world!hel2o world!hel2o world!\n",
      "hello world!hello world!hello world!hello world!\n",
      "ineuron ful2 stack datascience\n",
      "ineuron full stack datascience\n"
     ]
    }
   ],
   "source": [
    "def compress(in_string):\n",
    "    output = in_string[0]\n",
    "    count = 1\n",
    "    for i in range(len(in_string)-1):\n",
    "        if in_string[i] == in_string[i+1]:\n",
    "            count += 1\n",
    "        else: \n",
    "            if count > 1:\n",
    "                output += str(count)\n",
    "            output += in_string[i+1]\n",
    "            count=1\n",
    "    if count >1:\n",
    "        output += str(count)\n",
    "    print(output)\n",
    "\n",
    "def decompress(in_string):\n",
    "    output = ''\n",
    "    for ele in range(len(in_string)):\n",
    "        if in_string[ele].isdigit():\n",
    "            output += output[-1]*(int(in_string[ele])-1)\n",
    "        else:\n",
    "            output += in_string[ele]\n",
    "    print(output)\n",
    "    \n",
    "        \n",
    "compress(\"hello world!hello world!hello world!hello world!\")\n",
    "decompress(\"hel2o world!hel2o world!hel2o world!hel2o world!\")\n",
    "\n",
    "compress('ineuron full stack datascience')\n",
    "decompress('ineuron ful2 stack datascience')"
   ]
  },
  {
   "cell_type": "code",
   "execution_count": null,
   "id": "9940f638",
   "metadata": {},
   "outputs": [],
   "source": [
    "6.Please write a binary search function which searches an item in a sorted list. The function should return the index of \n",
    "  element to be searched in the list ?\n",
    "    "
   ]
  },
  {
   "cell_type": "code",
   "execution_count": 27,
   "id": "d144fd77",
   "metadata": {},
   "outputs": [
    {
     "name": "stdout",
     "output_type": "stream",
     "text": [
      "7\n",
      "Input Element not in a list\n"
     ]
    }
   ],
   "source": [
    "sorted_list = [1,2,3,4,5,6,7,8,9,10]\n",
    "\n",
    "def binary_search(in_list,in_num):\n",
    "    low = 0\n",
    "    high = len(in_list)-1\n",
    "    while low <= high:\n",
    "        mid = high+low//2\n",
    "        if in_list[mid] < in_num:\n",
    "            low = mid+1\n",
    "        elif in_list[mid] > in_num:\n",
    "            high  = mid-1\n",
    "        else:\n",
    "            return mid\n",
    "    else:\n",
    "        return \"Input Element not in a list\"\n",
    "\n",
    "print(binary_search(sorted_list,8))\n",
    "print(binary_search(sorted_list,200))"
   ]
  },
  {
   "cell_type": "code",
   "execution_count": null,
   "id": "f463cc0d",
   "metadata": {},
   "outputs": [],
   "source": []
  }
 ],
 "metadata": {
  "kernelspec": {
   "display_name": "Python 3",
   "language": "python",
   "name": "python3"
  },
  "language_info": {
   "codemirror_mode": {
    "name": "ipython",
    "version": 3
   },
   "file_extension": ".py",
   "mimetype": "text/x-python",
   "name": "python",
   "nbconvert_exporter": "python",
   "pygments_lexer": "ipython3",
   "version": "3.8.8"
  }
 },
 "nbformat": 4,
 "nbformat_minor": 5
}

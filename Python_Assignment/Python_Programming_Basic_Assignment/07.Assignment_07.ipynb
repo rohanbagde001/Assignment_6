{
 "cells": [
  {
   "cell_type": "code",
   "execution_count": null,
   "id": "61b67c72",
   "metadata": {},
   "outputs": [],
   "source": [
    "1. Write a Python Program to find sum of Array ?\n",
    "\n",
    "Ans:-"
   ]
  },
  {
   "cell_type": "code",
   "execution_count": 4,
   "id": "67825719",
   "metadata": {},
   "outputs": [
    {
     "name": "stdout",
     "output_type": "stream",
     "text": [
      "Enter the Array: [2,3,4,5,6]\n",
      "The sum of Array [2, 3, 4, 5, 6] is 20\n"
     ]
    }
   ],
   "source": [
    "def sumofArray():\n",
    "    in_arr = eval(input(\"Enter the Array: \"))\n",
    "    print(f'The sum of Array {in_arr} is {sum(in_arr)}')\n",
    "    \n",
    "sumofArray()"
   ]
  },
  {
   "cell_type": "code",
   "execution_count": null,
   "id": "c6852f6d",
   "metadata": {},
   "outputs": [],
   "source": [
    "2. Write a Python Program to find Largest element in an Array ?\n",
    "\n",
    "Ans:-\n",
    "    "
   ]
  },
  {
   "cell_type": "code",
   "execution_count": 5,
   "id": "8fe9a157",
   "metadata": {},
   "outputs": [
    {
     "name": "stdout",
     "output_type": "stream",
     "text": [
      "Enter The Array: [1,2,3,4]\n",
      "The Largest element in [1, 2, 3, 4] is 4\n"
     ]
    }
   ],
   "source": [
    "def largestElement():\n",
    "    in_arr = eval(input(\"Enter The Array: \"))\n",
    "    print(f'The Largest element in {in_arr} is {max(in_arr)}')\n",
    "    \n",
    "largestElement()"
   ]
  },
  {
   "cell_type": "code",
   "execution_count": null,
   "id": "532f93b7",
   "metadata": {},
   "outputs": [],
   "source": [
    "3. Write a Python Program for array rotation ?\n",
    "\n",
    "Ans:-"
   ]
  },
  {
   "cell_type": "code",
   "execution_count": 8,
   "id": "415b25ae",
   "metadata": {},
   "outputs": [
    {
     "name": "stdout",
     "output_type": "stream",
     "text": [
      "Enter the Array: 1,2,3,4\n",
      "The reverse of (1, 2, 3, 4) is (4, 3, 2, 1)\n"
     ]
    }
   ],
   "source": [
    "def arrayRotation():\n",
    "    in_arr = eval(input(\"Enter the Array: \"))\n",
    "    print(f'The reverse of {in_arr} is {in_arr[::-1]}')\n",
    "        \n",
    "arrayRotation()"
   ]
  },
  {
   "cell_type": "code",
   "execution_count": null,
   "id": "a7304761",
   "metadata": {},
   "outputs": [],
   "source": [
    "4. Write a Python Program to Split the array and add the first part to the end ?\n",
    "\n",
    "Ans:-\n",
    "    "
   ]
  },
  {
   "cell_type": "code",
   "execution_count": 13,
   "id": "43e765e3",
   "metadata": {},
   "outputs": [
    {
     "name": "stdout",
     "output_type": "stream",
     "text": [
      "Enter The Array: [1,2,3,4]\n",
      "The sum of of first and last array [1, 2, 3, 4] is 5\n",
      "None\n"
     ]
    }
   ],
   "source": [
    "def sumofsplit():\n",
    "    in_arr = eval(input(\"Enter The Array: \"))\n",
    "    print(f'The sum of of first and last array {in_arr} is {in_arr[0]+in_arr[-1]}')\n",
    "    \n",
    "sumofsplit()"
   ]
  },
  {
   "cell_type": "code",
   "execution_count": null,
   "id": "2e0cf419",
   "metadata": {},
   "outputs": [],
   "source": [
    "5. Write a Python Program to check if given array is Monotonic ?\n",
    "\n",
    "Ans:-"
   ]
  },
  {
   "cell_type": "code",
   "execution_count": 19,
   "id": "7ae9415b",
   "metadata": {},
   "outputs": [
    {
     "name": "stdout",
     "output_type": "stream",
     "text": [
      "Enter The array: 4,3,2,4,6,1\n",
      "Array (4, 3, 2, 4, 6, 1) is Monolithic\n",
      "Enter The array: 6,5,4,3,2,1\n",
      "Array (6, 5, 4, 3, 2, 1) is Monolithic\n"
     ]
    }
   ],
   "source": [
    "def checkMonolithic():\n",
    "    in_arr = eval(input('Enter The array: '))\n",
    "    if(all(in_arr[i]<=in_arr[i+1]for i in range(len(in_arr)-1))or all(in_arr)>= in_arr[i+1] for i in range(len(in_arr))):\n",
    "        print(f'Array {in_arr} is Monolithic')\n",
    "    else:\n",
    "        print(f'Array {in_arr} is Not Monolithic')\n",
    "        \n",
    "checkMonolithic()\n",
    "checkMonolithic()"
   ]
  },
  {
   "cell_type": "code",
   "execution_count": null,
   "id": "3887aeb5",
   "metadata": {},
   "outputs": [],
   "source": []
  }
 ],
 "metadata": {
  "kernelspec": {
   "display_name": "Python 3",
   "language": "python",
   "name": "python3"
  },
  "language_info": {
   "codemirror_mode": {
    "name": "ipython",
    "version": 3
   },
   "file_extension": ".py",
   "mimetype": "text/x-python",
   "name": "python",
   "nbconvert_exporter": "python",
   "pygments_lexer": "ipython3",
   "version": "3.8.8"
  }
 },
 "nbformat": 4,
 "nbformat_minor": 5
}

{
 "cells": [
  {
   "cell_type": "code",
   "execution_count": null,
   "id": "549a081e",
   "metadata": {},
   "outputs": [],
   "source": [
    "Question 1:\n",
    "Please write a program using generator to print the numbers which can be divisible by 5 and\n",
    "7 between 0 and n in comma separated form while n is input by console.\n",
    "Example:\n",
    "If the following n is given as input to the program:\n",
    "100\n",
    "Then, the output of the program should be:\n",
    "0,35,70"
   ]
  },
  {
   "cell_type": "code",
   "execution_count": 12,
   "id": "33315378",
   "metadata": {},
   "outputs": [
    {
     "name": "stdout",
     "output_type": "stream",
     "text": [
      "0,35,70,"
     ]
    }
   ],
   "source": [
    "def div_by_5_7(in_num):\n",
    "    for i in range(0,in_num):\n",
    "        if (i % 5 == 0) and (i%7 == 0):\n",
    "            yield i\n",
    "    \n",
    "for i in  div_by_5_7(100):\n",
    "    print(i, end = ',')"
   ]
  },
  {
   "cell_type": "code",
   "execution_count": null,
   "id": "8cd6f307",
   "metadata": {},
   "outputs": [],
   "source": [
    "Question 2:\n",
    "Please write a program using generator to print the even numbers between 0 and n in comma\n",
    "separated form while n is input by console.\n",
    "Example:\n",
    "If the following n is given as input to the program:\n",
    "10\n",
    "Then, the output of the program should be:\n",
    "0,2,4,6,8,10"
   ]
  },
  {
   "cell_type": "code",
   "execution_count": 15,
   "id": "34522eba",
   "metadata": {},
   "outputs": [
    {
     "name": "stdout",
     "output_type": "stream",
     "text": [
      "0,2,4,6,8,10,"
     ]
    }
   ],
   "source": [
    "def even_n(upto_range):\n",
    "    for i in range(0,upto_range+1):\n",
    "        if i%2 == 0:\n",
    "            yield i\n",
    "            \n",
    "for i in even_n(10):\n",
    "    print(i,end= ',')"
   ]
  },
  {
   "cell_type": "code",
   "execution_count": null,
   "id": "3c97231a",
   "metadata": {},
   "outputs": [],
   "source": [
    "Question 3:\n",
    "The Fibonacci Sequence is computed based on the following formula:\n",
    "f(n)=0 if n=0\n",
    "f(n)=1 if n=1\n",
    "f(n)=f(n-1)+f(n-2) if n>1\n",
    "Please write a program using list comprehension to print the Fibonacci Sequence in comma\n",
    "separated form with a given n input by console.\n",
    "Example:\n",
    "If the following n is given as input to the program:\n",
    "7\n",
    "\n",
    "Then, the output of the program should be:\n",
    "0,1,1,2,3,5,8,13"
   ]
  },
  {
   "cell_type": "code",
   "execution_count": 23,
   "id": "fd7ea383",
   "metadata": {},
   "outputs": [
    {
     "name": "stdout",
     "output_type": "stream",
     "text": [
      "[0, 1, 1, 2, 3, 5, 8, 13]\n"
     ]
    }
   ],
   "source": [
    "def getFibonacci(in_num):\n",
    "    if in_num == 0:\n",
    "        return 0\n",
    "    if in_num ==1:\n",
    "        return 1\n",
    "    else:\n",
    "        return getFibonacci(in_num-1)+getFibonacci(in_num-2)\n",
    "    \n",
    "print([getFibonacci(i) for i in range(8)])"
   ]
  },
  {
   "cell_type": "code",
   "execution_count": null,
   "id": "02538e9c",
   "metadata": {},
   "outputs": [],
   "source": [
    "Question 4:\n",
    "Assuming that we have some email addresses in the \"username@companyname.com\" format,\n",
    "please write program to print the user name of a given email address. Both user names and\n",
    "company names are composed of letters only.\n",
    "Example:\n",
    "If the following email address is given as input to the program:\n",
    "john@google.com\n",
    "Then, the output of the program should be:\n",
    "john"
   ]
  },
  {
   "cell_type": "code",
   "execution_count": 1,
   "id": "1d0cbc6c",
   "metadata": {},
   "outputs": [
    {
     "name": "stdout",
     "output_type": "stream",
     "text": [
      "Enter a email address: support.query@ineuron.ai\n",
      "Username of support.query@ineuron.ai is support.query\n",
      "Enter a email address: support.query@ineuron.ai\n",
      "Username of support.query@ineuron.ai is support.query\n",
      "Enter a email address: support.query@ineuron.ai\n",
      "Username of support.query@ineuron.ai is support.query\n"
     ]
    }
   ],
   "source": [
    "def seperate_username():\n",
    "    in_string = input(\"Enter a email address: \")\n",
    "    out_string = in_string.split('@')\n",
    "    print(f'Username of {in_string} is {out_string[0]}')\n",
    "\n",
    "for i in range(3):\n",
    "    seperate_username()"
   ]
  },
  {
   "cell_type": "code",
   "execution_count": null,
   "id": "39a4f2a3",
   "metadata": {},
   "outputs": [],
   "source": [
    "Question 5:\n",
    "Define a class named Shape and its subclass Square. The Square class has an init function\n",
    "which takes a length as argument. Both classes have a area function which can print the area\n",
    "of the shape where Shape's area is 0 by default."
   ]
  },
  {
   "cell_type": "code",
   "execution_count": 11,
   "id": "c8d0eb92",
   "metadata": {},
   "outputs": [
    {
     "name": "stdout",
     "output_type": "stream",
     "text": [
      "2500\n",
      "0\n"
     ]
    }
   ],
   "source": [
    "class Shape():\n",
    "    def area(self):\n",
    "        return 0\n",
    "    \n",
    "class Square(Shape):\n",
    "    def __init__(self,length):\n",
    "        self.length = length\n",
    "    \n",
    "    def area(self):\n",
    "        return self.length*self.length\n",
    "    \n",
    "Square = Square(50)\n",
    "Shape = Shape()\n",
    "print(Square.area())\n",
    "print(Shape.area())\n",
    "    "
   ]
  },
  {
   "cell_type": "code",
   "execution_count": null,
   "id": "d3839f35",
   "metadata": {},
   "outputs": [],
   "source": []
  }
 ],
 "metadata": {
  "kernelspec": {
   "display_name": "Python 3",
   "language": "python",
   "name": "python3"
  },
  "language_info": {
   "codemirror_mode": {
    "name": "ipython",
    "version": 3
   },
   "file_extension": ".py",
   "mimetype": "text/x-python",
   "name": "python",
   "nbconvert_exporter": "python",
   "pygments_lexer": "ipython3",
   "version": "3.8.8"
  }
 },
 "nbformat": 4,
 "nbformat_minor": 5
}

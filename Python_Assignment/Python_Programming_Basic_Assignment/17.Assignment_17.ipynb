{
 "cells": [
  {
   "cell_type": "code",
   "execution_count": null,
   "id": "ecd6ba00",
   "metadata": {},
   "outputs": [],
   "source": [
    "Question1. Create a function that takes three arguments a, b, c and returns the sum of the\n",
    "numbers that are evenly divided by c from the range a, b inclusive.\n",
    "Examples\n",
    "evenly_divisible(1, 10, 20) ➞ 0\n",
    "# No number between 1 and 10 can be evenly divided by 20.\n",
    "evenly_divisible(1, 10, 2) ➞ 30\n",
    "# 2 + 4 + 6 + 8 + 10 = 30\n",
    "evenly_divisible(1, 10, 3) ➞ 18\n",
    "# 3 + 6 + 9 = 18"
   ]
  },
  {
   "cell_type": "code",
   "execution_count": 5,
   "id": "56568796",
   "metadata": {},
   "outputs": [
    {
     "name": "stdout",
     "output_type": "stream",
     "text": [
      "output of (1, 10, 3) is 18\n",
      "output of (1, 100, 5) is 1050\n"
     ]
    }
   ],
   "source": [
    "def div_by_c(a,b,c):\n",
    "    div_list = []\n",
    "    for i in range(a,b+1):\n",
    "        if i%c == 0:\n",
    "            div_list.append(i)\n",
    "    print(f'output of {a,b,c} is {sum(div_list)}')\n",
    "          \n",
    "div_by_c(1,10,3)\n",
    "div_by_c(1,100,5)\n",
    "    "
   ]
  },
  {
   "cell_type": "code",
   "execution_count": null,
   "id": "2fdfbe94",
   "metadata": {},
   "outputs": [],
   "source": [
    "2.Create a function that returns True if a given inequality expression is correct and False otherwise ?\n",
    "Examples:\n",
    "correct_signs(\"3 < 7 < 11\") ➞ True\n",
    "correct_signs(\"13 > 44 > 33 > 1\") ➞ False\n",
    "correct_signs(\"1 < 2 < 6 < 9 > 3\") ➞ True"
   ]
  },
  {
   "cell_type": "code",
   "execution_count": 8,
   "id": "ecadc6f4",
   "metadata": {},
   "outputs": [
    {
     "name": "stdout",
     "output_type": "stream",
     "text": [
      "Enter the inequality: 3 < 7 < 11\n",
      "3 < 7 < 11 is True\n",
      "Enter the inequality: 13 > 44 > 33 > 1\n",
      "13 > 44 > 33 > 1 is False\n",
      "Enter the inequality: 1 < 2 < 6 < 9 > 3\n",
      "1 < 2 < 6 < 9 > 3 is True\n"
     ]
    }
   ],
   "source": [
    "def check_equality():\n",
    "    in_string = input('Enter the inequality: ')\n",
    "    out_bool = eval(in_string)\n",
    "    print(f'{in_string} is {out_bool}')\n",
    "    \n",
    "for i in range(3):\n",
    "    check_equality()"
   ]
  },
  {
   "cell_type": "code",
   "execution_count": null,
   "id": "e60144f2",
   "metadata": {},
   "outputs": [],
   "source": [
    "3.Create a function that replaces all the vowels in a string with a specified character ?\n",
    "Examples:\n",
    "replace_vowels(\"the aardvark\", \"#\") ➞ \"th# ##rdv#rk\"\n",
    "replace_vowels(\"minnie mouse\", \"?\") ➞ \"m?nn?? m??s?\"\n",
    "replace_vowels(\"shakespeare\", \"*\") ➞ \"shksp**r\""
   ]
  },
  {
   "cell_type": "code",
   "execution_count": 1,
   "id": "81429d57",
   "metadata": {},
   "outputs": [
    {
     "name": "stdout",
     "output_type": "stream",
     "text": [
      "string: ineuron\n",
      "Replacement Charecter: !\n",
      "ineuron ! is !n!!r!n\n",
      "string: full stack data\n",
      "Replacement Charecter: $\n",
      "full stack data $ is f$ll st$ck d$t$\n",
      "string: fsds\n",
      "Replacement Charecter: @\n",
      "fsds @ is fsds\n"
     ]
    }
   ],
   "source": [
    "def replace_vowels():\n",
    "    vowels = ['a','e','i','o','u','A','E','I','O','U']\n",
    "    in_string = input('string: ')\n",
    "    in_string_copy = in_string\n",
    "    in_char = input('Replacement Charecter: ')\n",
    "    for i in in_string:\n",
    "        if i in vowels:\n",
    "            in_string = in_string.replace(i,in_char)\n",
    "    print(f'{in_string_copy} {in_char} is {in_string}')\n",
    "    \n",
    "for i in range(3):\n",
    "    replace_vowels()"
   ]
  },
  {
   "cell_type": "code",
   "execution_count": null,
   "id": "94e5b9e4",
   "metadata": {},
   "outputs": [],
   "source": [
    "4.Write a function that calculates the factorial of a number recursively ?\n",
    "Examples:\n",
    "factorial(5) ➞ 120\n",
    "factorial(3) ➞ 6\n",
    "factorial(1) ➞ 1\n",
    "factorial(0) ➞ 1"
   ]
  },
  {
   "cell_type": "code",
   "execution_count": 9,
   "id": "02f73009",
   "metadata": {},
   "outputs": [
    {
     "data": {
      "text/plain": [
       "120"
      ]
     },
     "execution_count": 9,
     "metadata": {},
     "output_type": "execute_result"
    }
   ],
   "source": [
    "def factorial(a):\n",
    "    if a == 0:\n",
    "        return 1\n",
    "    return a*factorial(a-1)\n",
    "\n",
    "\n",
    "    \n",
    "factorial(5)  "
   ]
  },
  {
   "cell_type": "code",
   "execution_count": null,
   "id": "d4ce5215",
   "metadata": {},
   "outputs": [],
   "source": [
    "5.Hamming distance is the number of characters that differ between two strings ?\n",
    "To illustrate:\n",
    "String1: \"abcbba\"\n",
    "String2: \"abcbda\"\n",
    "Hamming Distance: 1 - \"b\" vs. \"d\" is the only difference.\n",
    "Create a function that computes the hamming distance between two strings.\n",
    "Examples:\n",
    "hamming_distance(\"abcde\", \"bcdef\") ➞ 5\n",
    "hamming_distance(\"abcde\", \"abcde\") ➞ 0\n",
    "hamming_distance(\"strong\", \"strung\") ➞ 1"
   ]
  },
  {
   "cell_type": "code",
   "execution_count": 12,
   "id": "2c4820e6",
   "metadata": {},
   "outputs": [
    {
     "name": "stdout",
     "output_type": "stream",
     "text": [
      "Enter the first string: same\n",
      "Enter the second string: game\n",
      "Hamming distance b/w same and game is 1\n",
      "Enter the first string: ration\n",
      "Enter the second string: mation\n",
      "Hamming distance b/w ration and mation is 1\n"
     ]
    }
   ],
   "source": [
    "def hamming_distance():\n",
    "    input_string_1 = input(\"Enter the first string: \")\n",
    "    input_string_2 = input(\"Enter the second string: \")\n",
    "    if len(input_string_1) == len(input_string_2):\n",
    "        count = 0\n",
    "        for i in range(len(input_string_1)):\n",
    "            if input_string_1[i] != input_string_2[i]:\n",
    "                count = count+1\n",
    "        print(f'Hamming distance b/w {input_string_1} and {input_string_2} is {count}')\n",
    "    else:\n",
    "        print(\"Both string should have same length\")\n",
    "              \n",
    "\n",
    "for i in range(2):\n",
    "    hamming_distance()"
   ]
  },
  {
   "cell_type": "code",
   "execution_count": null,
   "id": "eefa5978",
   "metadata": {},
   "outputs": [],
   "source": []
  }
 ],
 "metadata": {
  "kernelspec": {
   "display_name": "Python 3",
   "language": "python",
   "name": "python3"
  },
  "language_info": {
   "codemirror_mode": {
    "name": "ipython",
    "version": 3
   },
   "file_extension": ".py",
   "mimetype": "text/x-python",
   "name": "python",
   "nbconvert_exporter": "python",
   "pygments_lexer": "ipython3",
   "version": "3.8.8"
  }
 },
 "nbformat": 4,
 "nbformat_minor": 5
}

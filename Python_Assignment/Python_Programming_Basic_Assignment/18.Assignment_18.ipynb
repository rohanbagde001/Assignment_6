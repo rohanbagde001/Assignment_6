{
 "cells": [
  {
   "cell_type": "code",
   "execution_count": null,
   "id": "c00e6c20",
   "metadata": {},
   "outputs": [],
   "source": [
    "1.Create a function that takes a list of non-negative integers and strings and return a new list without the strings ?\n",
    "Examples:\n",
    "filter_list([1, 2, \"a\", \"b\"]) ➞ [1, 2]\n",
    "filter_list([1, \"a\", \"b\", 0, 15]) ➞ [1, 0, 15]\n",
    "filter_list([1, 2, \"aasf\", \"1\", \"123\", 123]) ➞ [1, 2, 123]"
   ]
  },
  {
   "cell_type": "code",
   "execution_count": 2,
   "id": "4c307423",
   "metadata": {},
   "outputs": [
    {
     "name": "stdout",
     "output_type": "stream",
     "text": [
      "➞ [1, 2]\n",
      "➞ [1, 0, 15]\n",
      "➞ [1, 2, 123]\n"
     ]
    }
   ],
   "source": [
    "def filter_list(list):\n",
    "    out_string = []\n",
    "    for i in list:\n",
    "        if type(i) == int and i>=0:\n",
    "            out_string.append(i)\n",
    "    return out_string\n",
    "\n",
    "print(f'➞ {filter_list([1, 2, \"a\", \"b\"])}')\n",
    "print(f'➞ {filter_list([1, \"a\", \"b\", 0, 15])}')\n",
    "print(f'➞ {filter_list([1, 2, \"aasf\", \"1\", \"123\", 123])}')"
   ]
  },
  {
   "cell_type": "code",
   "execution_count": null,
   "id": "bd7539f2",
   "metadata": {},
   "outputs": [],
   "source": [
    "2. The \"Reverser\" takes a string as input and returns that string in reverse order, with the opposite case ?\n",
    "Examples:\n",
    "reverse(\"Hello World\") ➞ \"DLROw OLLEh\"\n",
    "reverse(\"ReVeRsE\") ➞ \"eSrEvEr\"\n",
    "reverse(\"Radar\") ➞ \"RADAr\""
   ]
  },
  {
   "cell_type": "code",
   "execution_count": 1,
   "id": "ae92dff3",
   "metadata": {},
   "outputs": [
    {
     "name": "stdout",
     "output_type": "stream",
     "text": [
      "Enter a string: reality\n",
      "reality reverse order with different case is YTILAER\n",
      "Enter a string: raisen\n",
      "raisen reverse order with different case is NESIAR\n",
      "Enter a string: Amdocs\n",
      "Amdocs reverse order with different case is SCODMa\n"
     ]
    }
   ],
   "source": [
    "def reverse():\n",
    "    inp = input(\"Enter a string: \")\n",
    "    print(f'{inp} reverse order with different case is {inp[::-1].swapcase()}')\n",
    "    \n",
    "for i in range(3):\n",
    "    reverse()"
   ]
  },
  {
   "cell_type": "code",
   "execution_count": null,
   "id": "821f3d83",
   "metadata": {},
   "outputs": [],
   "source": [
    "Question 3\n",
    "You can assign variables from lists like this:\n",
    "lst = [1, 2, 3, 4, 5, 6]\n",
    "first = lst[0]\n",
    "middle = lst[1:-1]\n",
    "last = lst[-1]\n",
    "print(first) ➞ outputs 1\n",
    "print(middle) ➞ outputs [2, 3, 4, 5]\n",
    "print(last) ➞ outputs 6\n",
    "With Python 3, you can assign variables from lists in a much more succinct way. Create\n",
    "variables first, middle and last from the given list using destructuring assignment\n",
    "(check the Resources tab for some examples), where:\n",
    "first ➞ 1\n",
    "middle ➞ [2, 3, 4, 5]\n",
    "last ➞ 6\n",
    "\n",
    "Your task is to unpack the list writeyourcodehere into three variables, being first,\n",
    "middle, and last, with middle being everything in between the first and last element. Then\n",
    "print all three variables."
   ]
  },
  {
   "cell_type": "code",
   "execution_count": 3,
   "id": "073bb81b",
   "metadata": {},
   "outputs": [
    {
     "name": "stdout",
     "output_type": "stream",
     "text": [
      "first ➞ 1\n",
      "middle ➞ [2, 3, 4, 5]\n",
      "last ➞ 6\n"
     ]
    }
   ],
   "source": [
    "lst = [1, 2, 3, 4, 5, 6]\n",
    "first = lst[0]\n",
    "middle = lst[1:-1]\n",
    "last = lst[-1]\n",
    "first, *middle, last = [1,2,3,4,5,6]\n",
    "print(f'first ➞ {first}')\n",
    "print(f'middle ➞ {middle}')\n",
    "print(f'last ➞ {last}')"
   ]
  },
  {
   "cell_type": "code",
   "execution_count": null,
   "id": "ee3f5eca",
   "metadata": {},
   "outputs": [],
   "source": [
    "Question 4\n",
    "Write a function that calculates the factorial of a number recursively.\n",
    "Examples\n",
    "factorial(5) ➞ 120\n",
    "factorial(3) ➞ 6\n",
    "factorial(1) ➞ 1\n",
    "factorial(0) ➞ 1"
   ]
  },
  {
   "cell_type": "code",
   "execution_count": 10,
   "id": "cb97f31c",
   "metadata": {},
   "outputs": [
    {
     "name": "stdout",
     "output_type": "stream",
     "text": [
      "factorial(10) is 90\n",
      "factorial(12) is 132\n",
      "factorial(17) is 272\n",
      "factorial(19) is 342\n"
     ]
    }
   ],
   "source": [
    "def factorial(n):\n",
    "    if n == 0:\n",
    "        return 1\n",
    "    else:\n",
    "        return n*(n-1)\n",
    "    \n",
    "    \n",
    "print(f'factorial(10) is {factorial(10)}')\n",
    "print(f'factorial(12) is {factorial(12)}')\n",
    "print(f'factorial(17) is {factorial(17)}')\n",
    "print(f'factorial(19) is {factorial(19)}')"
   ]
  },
  {
   "cell_type": "code",
   "execution_count": null,
   "id": "afc0837a",
   "metadata": {},
   "outputs": [],
   "source": [
    "5.Write a function that moves all elements of one type to the end of the list.\n",
    "Examples:\n",
    "move_to_end([1, 3, 2, 4, 4, 1], 1) ➞ [3, 2, 4, 4, 1, 1]\n",
    "\n",
    "# Move all the 1s to the end of the array.    \n",
    "move_to_end([7, 8, 9, 1, 2, 3, 4], 9) ➞ [7, 8, 1, 2, 3, 4, 9]\n",
    "move_to_end([\"a\", \"a\", \"a\", \"b\"], \"a\") ➞ [\"b\", \"a\", \"a\", \"a\"]"
   ]
  },
  {
   "cell_type": "code",
   "execution_count": 12,
   "id": "bbb1f299",
   "metadata": {},
   "outputs": [
    {
     "name": "stdout",
     "output_type": "stream",
     "text": [
      "move_to_end([1, 3, 2, 4, 4, 1], 1) ➞ [3, 2, 4, 4, 1, 1]\n",
      "move_to_end([7, 8, 9, 1, 2, 3, 4], 9) ➞ [7, 8, 1, 2, 3, 4, 9]\n",
      "move_to_end([\"a\", \"a\", \"a\", \"b\"], \"a\") ➞ ['b', 'a', 'a', 'a']\n"
     ]
    }
   ],
   "source": [
    "def move_to_end(list,num):\n",
    "    first_end = []\n",
    "    second_end = []\n",
    "    for ele in list:\n",
    "        if ele == num:\n",
    "            second_end.append(ele)\n",
    "        else:\n",
    "            first_end.append(ele)\n",
    "    first_end.extend(second_end)\n",
    "    return first_end\n",
    "\n",
    "print(f'move_to_end([1, 3, 2, 4, 4, 1], 1) ➞ {move_to_end([1, 3, 2, 4, 4, 1], 1)}')\n",
    "print(f'move_to_end([7, 8, 9, 1, 2, 3, 4], 9) ➞ {move_to_end([7, 8, 9, 1, 2, 3, 4], 9)}')\n",
    "print(f'move_to_end([\"a\", \"a\", \"a\", \"b\"], \"a\") ➞ {move_to_end([\"a\", \"a\", \"a\", \"b\"], \"a\")}')"
   ]
  },
  {
   "cell_type": "code",
   "execution_count": null,
   "id": "f7833439",
   "metadata": {},
   "outputs": [],
   "source": []
  }
 ],
 "metadata": {
  "kernelspec": {
   "display_name": "Python 3",
   "language": "python",
   "name": "python3"
  },
  "language_info": {
   "codemirror_mode": {
    "name": "ipython",
    "version": 3
   },
   "file_extension": ".py",
   "mimetype": "text/x-python",
   "name": "python",
   "nbconvert_exporter": "python",
   "pygments_lexer": "ipython3",
   "version": "3.8.8"
  }
 },
 "nbformat": 4,
 "nbformat_minor": 5
}

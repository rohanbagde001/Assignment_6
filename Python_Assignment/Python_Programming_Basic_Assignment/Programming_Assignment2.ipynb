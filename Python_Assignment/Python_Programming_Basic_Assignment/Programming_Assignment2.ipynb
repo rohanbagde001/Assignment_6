{
 "cells": [
  {
   "cell_type": "code",
   "execution_count": 4,
   "id": "1c3d197d",
   "metadata": {},
   "outputs": [
    {
     "name": "stdout",
     "output_type": "stream",
     "text": [
      "Enter a data in kilometer: 10\n",
      "10.0 kilometer is equals to 6.21371 miles:\n"
     ]
    }
   ],
   "source": [
    "#1. Write a Python program to convert kilometers to miles?\n",
    "\n",
    "#Ans:-\n",
    "\n",
    "# we will take a kilometer data from user\n",
    "\n",
    "kilometer = float(input(\"Enter a data in kilometer: \"))\n",
    "\n",
    "# conversion factor is 0.621371\n",
    "\n",
    "miles = kilometer * 0.621371\n",
    "\n",
    "print(\"{} kilometer is equals to {} miles:\".format(kilometer,miles))"
   ]
  },
  {
   "cell_type": "code",
   "execution_count": 8,
   "id": "6212f79b",
   "metadata": {},
   "outputs": [
    {
     "name": "stdout",
     "output_type": "stream",
     "text": [
      "enter a teperature in Celsius: 18\n",
      "18.0 Celsius is equal to 32.4 fahrenheit \n"
     ]
    }
   ],
   "source": [
    "#2. Write a Python program to convert Celsius to Fahrenheit?\n",
    "\n",
    "#Ans:-\n",
    "\n",
    "celsius = float(input(\"enter a teperature in Celsius: \"))\n",
    "con_fac = 1.8     # 1.8 is coversion factor to convert celsius to fahrenheit\n",
    "\n",
    "fahrenheit = celsius * con_fac\n",
    "\n",
    "print(\"{} Celsius is equal to {} fahrenheit \".format(celsius,fahrenheit))"
   ]
  },
  {
   "cell_type": "code",
   "execution_count": 21,
   "id": "01c297eb",
   "metadata": {},
   "outputs": [
    {
     "name": "stdout",
     "output_type": "stream",
     "text": [
      "Enter the year: 2014\n",
      "Enter the month: 7\n",
      "     July 2014\n",
      "Mo Tu We Th Fr Sa Su\n",
      "    1  2  3  4  5  6\n",
      " 7  8  9 10 11 12 13\n",
      "14 15 16 17 18 19 20\n",
      "21 22 23 24 25 26 27\n",
      "28 29 30 31\n",
      "\n"
     ]
    }
   ],
   "source": [
    "#3. Write a Python program to display calendar?\n",
    "\n",
    "#Ans:-\n",
    "\n",
    "import calendar\n",
    "\n",
    "yy = int(input(\"Enter the year: \"))\n",
    "mm = int(input(\"Enter the month: \"))\n",
    "\n",
    "print(calendar.month(yy , mm))\n"
   ]
  },
  {
   "cell_type": "code",
   "execution_count": 23,
   "id": "8d173c9c",
   "metadata": {},
   "outputs": [
    {
     "name": "stdout",
     "output_type": "stream",
     "text": [
      "Enter value of a: 1\n",
      "Enter value of b: 5\n",
      "Enter value of c: 6\n",
      "The solution are (-3+0j) and (-2+0j)\n"
     ]
    }
   ],
   "source": [
    "#4. Write a Python program to solve quadratic equation?\n",
    "\n",
    "#Ans:-\n",
    "\n",
    "# we are solving quadratic equation ax**2 + bx + c = 0\n",
    "\n",
    "import cmath  # it is used to solve complex mathematics\n",
    "\n",
    "a = int(input(\"Enter value of a: \"))\n",
    "b = int(input(\"Enter value of b: \"))\n",
    "c = int(input(\"Enter value of c: \"))\n",
    "\n",
    "d = (b**2)-(4*a*c)   # it is a discriminant\n",
    "\n",
    "sol1 = (-b-cmath.sqrt(d))/(2*a)\n",
    "sol2 = (-b+cmath.sqrt(d))/(2*a)\n",
    "\n",
    "print(\"The solution are {} and {}\".format(sol1,sol2))"
   ]
  },
  {
   "cell_type": "code",
   "execution_count": 30,
   "id": "01d5e35c",
   "metadata": {},
   "outputs": [
    {
     "name": "stdout",
     "output_type": "stream",
     "text": [
      "Before swapping value of x and y is:  10 20\n",
      "After swapping value of x and y is:   20 10\n"
     ]
    }
   ],
   "source": [
    "#5. Write a Python program to swap two variables without temp variable?\n",
    "\n",
    "#Ans:-\n",
    "\n",
    "x = 10\n",
    "y = 20\n",
    "print(\"Before swapping value of x and y is: \",x,y)\n",
    "x,y = y,x\n",
    "print(\"After swapping value of x and y is:  \",x,y)\n"
   ]
  },
  {
   "cell_type": "code",
   "execution_count": null,
   "id": "6b72cbdf",
   "metadata": {},
   "outputs": [],
   "source": []
  }
 ],
 "metadata": {
  "kernelspec": {
   "display_name": "Python 3",
   "language": "python",
   "name": "python3"
  },
  "language_info": {
   "codemirror_mode": {
    "name": "ipython",
    "version": 3
   },
   "file_extension": ".py",
   "mimetype": "text/x-python",
   "name": "python",
   "nbconvert_exporter": "python",
   "pygments_lexer": "ipython3",
   "version": "3.8.8"
  }
 },
 "nbformat": 4,
 "nbformat_minor": 5
}

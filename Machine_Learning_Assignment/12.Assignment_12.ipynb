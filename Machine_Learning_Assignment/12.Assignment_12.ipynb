{
 "cells": [
  {
   "cell_type": "code",
   "execution_count": null,
   "id": "e1501b43",
   "metadata": {},
   "outputs": [],
   "source": [
    "1. What is prior probability ? Give an example ?\n",
    "\n",
    "Ans:-\n",
    "    Prior probability shows the likelihood of an outcome in a given dataset. For example, in the mortgage case, P(Y) is \n",
    "    the default rate on a home mortgage, which is 2%. P(Y|X) is called the conditional probability, which provides the \n",
    "    probability of an outcome given the evidence, that is, when the value of X is known."
   ]
  },
  {
   "cell_type": "code",
   "execution_count": null,
   "id": "78eb81d0",
   "metadata": {},
   "outputs": [],
   "source": [
    "2. What is posterior probability ? Give an example ?\n",
    "\n",
    "Ans:-\n",
    "    Posterior probability is a revised probability that takes into account new available information. For example, let \n",
    "    there be two urns, urn A having 5 black balls and 10 red balls and urn B having 10 black balls and 5 red balls."
   ]
  },
  {
   "cell_type": "code",
   "execution_count": null,
   "id": "f49b0eb6",
   "metadata": {},
   "outputs": [],
   "source": [
    "3. What is likelihood probability ? Give an example ?\n",
    "\n",
    "Ans:-\n",
    "    Likelihood Function in Machine Learning and Data Science is the joint probability distribution(jpd) of the dataset \n",
    "    given as a function of the parameter. Think of it as the probability of obtaining the observed data given the \n",
    "    parameter values."
   ]
  },
  {
   "cell_type": "code",
   "execution_count": null,
   "id": "f551524f",
   "metadata": {},
   "outputs": [],
   "source": [
    "4. What is Naïve Bayes classifier ? Why is it named so ?\n",
    "\n",
    "Ans:-\n",
    "    Naive Bayes is a simple and powerful algorithm for predictive modeling. Naive Bayes is called naive because it \n",
    "    assumes that each input variable is independent. This is a strong assumption and unrealistic for real data; however,\n",
    "    the technique is very effective on a large range of complex problems."
   ]
  },
  {
   "cell_type": "code",
   "execution_count": null,
   "id": "ca5e109a",
   "metadata": {},
   "outputs": [],
   "source": [
    "5. What is optimal Bayes classifier ?\n",
    "\n",
    "Ans:-\n",
    "    The Bayes Optimal Classifier is a probabilistic model that makes the most probable prediction for a new example. \n",
    "    Bayes Optimal Classifier is a probabilistic model that finds the most probable prediction using the training data and\n",
    "    space of hypotheses to make a prediction for a new data instance."
   ]
  },
  {
   "cell_type": "code",
   "execution_count": null,
   "id": "415accbc",
   "metadata": {},
   "outputs": [],
   "source": [
    "6. Write any two features of Bayesian learning methods ?\n",
    "\n",
    "Ans:-\n",
    "    A probability distribution over observed data for each possible hypothesis. New instances can be classified by \n",
    "    combining the predictions of multiple hypotheses, weighted by their probabilities."
   ]
  },
  {
   "cell_type": "code",
   "execution_count": null,
   "id": "91faba1d",
   "metadata": {},
   "outputs": [],
   "source": [
    "7. Define the concept of consistent learners ?\n",
    "\n",
    "Ans:-\n",
    "    A learner L using a hypothesis H and training data D is said to be a consistent learner if it always outputs a \n",
    "    hypothesis with zero error on D whenever H contains such a hypothesis. • By definition, a consistent learner must \n",
    "    produce a hypothesis in the version space for H given D."
   ]
  },
  {
   "cell_type": "code",
   "execution_count": null,
   "id": "014f785d",
   "metadata": {},
   "outputs": [],
   "source": [
    "8. Write any two strengths of Bayes classifier ?\n",
    "\n",
    "Ans:-\n",
    "    This algorithm works quickly and can save a lot of time. Naive Bayes is suitable for solving multi-class prediction\n",
    "    problems. If its assumption of the independence of features holds true, it can perform better than other models and\n",
    "    requires much less training data."
   ]
  },
  {
   "cell_type": "code",
   "execution_count": null,
   "id": "7545db8f",
   "metadata": {},
   "outputs": [],
   "source": [
    "9. Write any two weaknesses of Bayes classifier ?\n",
    "\n",
    "Ans:-\n",
    "    The greatest weakness of the naïve Bayes classifier is that it relies on an often-faulty assumption of equally \n",
    "    important and independent features which results in biased posterior probabilities."
   ]
  },
  {
   "cell_type": "code",
   "execution_count": null,
   "id": "f046ef2d",
   "metadata": {},
   "outputs": [],
   "source": [
    "10. Explain how Naïve Bayes classifier is used for:\n",
    "    \n",
    "1.Text classification\n",
    "2.Spam filtering\n",
    "3.Market sentiment analysis\n",
    "\n",
    "Ans:- Navie Bayes Classifier is used for:\n",
    "\n",
    "    Text classification: \n",
    "        \n",
    "    The Naive Bayes classifier is a simple classifier that classifies based on probabilities of events. It is the applied\n",
    "    commonly to text classification. With the training set, we can train a Naive Bayes classifier which we can use to \n",
    "    automaticall categorize a new sentence.\n",
    "    \n",
    "    Spam filtering:\n",
    "        \n",
    "    Naive Bayes classifiers work by correlating the use of tokens (typically words, or sometimes other things), with spam \n",
    "    and non-spam e-mails and then using Bayes' theorem to calculate a probability that an email is or is not spam. It is \n",
    "    one of the oldest ways of doing spam filtering, with roots in the 1990s.\n",
    "    \n",
    "    Market sentiment analysis:\n",
    "        \n",
    "    Market Sentiment analysis is a field dedicated to extracting subjective emotions and feelings from text. One common \n",
    "    use of sentiment analysis is to figure out if a text expresses negative or positive feelings. Naive Bayes is a popular \n",
    "    algorithm for classifying text"
   ]
  }
 ],
 "metadata": {
  "kernelspec": {
   "display_name": "Python 3",
   "language": "python",
   "name": "python3"
  },
  "language_info": {
   "codemirror_mode": {
    "name": "ipython",
    "version": 3
   },
   "file_extension": ".py",
   "mimetype": "text/x-python",
   "name": "python",
   "nbconvert_exporter": "python",
   "pygments_lexer": "ipython3",
   "version": "3.8.8"
  }
 },
 "nbformat": 4,
 "nbformat_minor": 5
}

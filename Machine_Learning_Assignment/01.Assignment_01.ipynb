{
 "cells": [
  {
   "cell_type": "code",
   "execution_count": null,
   "id": "83ba0658",
   "metadata": {},
   "outputs": [],
   "source": [
    "1. What does one mean by the term \"machine learning\"?\n",
    "\n",
    "Ans:-\n",
    "    Machine Learning is a field of inquiry devoted to understanding and building methods that can learn  that is methods \n",
    "    that leverage data to imorove performance on some set of tasks. It is seen as a part of artificial intelligence. \n",
    "    Machine learning algorithms build a model based on sample data, known as a training data in order to make predictions \n",
    "    or decisions without being explicitly programmed to do so. Machine learning algorithms are used in a wide variety of a \n",
    "    application."
   ]
  },
  {
   "cell_type": "code",
   "execution_count": null,
   "id": "338b93e6",
   "metadata": {},
   "outputs": [],
   "source": [
    "2.Can you think of 4 distinct types of issues where it shines?\n",
    "\n",
    "Ans:-\n",
    "    The following are some issues where machine learning can be used:\n",
    "        1. Image Recognition : Image recognition is one of the most common applications of machine learning. It is used to \n",
    "            identify objects, persons, places,digital images,etc, The popular use case of image recognition and face \n",
    "            detection is Automatic fried tagging suggestion.\n",
    "            \n",
    "        2. Speech Recognition: While using Google, we get an option of search by voice, it comes under speech recognition \n",
    "            and it is popular application of machine learning. Speech recognition is a process of a converting voice \n",
    "            instruction into text, and it is also known as Speech to text or computer based speech recognition at present \n",
    "            machine learning algorithms are widely used by various application of speech recognition. Google Assistant, \n",
    "            Siri, Cortona and Alexa are using speech recognition technology to follow the voice instruction.\n",
    "            \n",
    "        3.Traffic Prediction: It predicts the traffic condition such as wheather traffic is cleared slow moving or heavily\n",
    "            congested with the help of two ways: Real Time location of the vehicle from the google map and sensors Average \n",
    "            time taken on past days at the same time.\n",
    "            \n",
    "        4. Product recommendations: Machine learning is widely used by various e-commerce and entertainment companies such \n",
    "            as Amazon , Netflix,etc. for product recommendations to the user."
   ]
  },
  {
   "cell_type": "code",
   "execution_count": null,
   "id": "a90cc99c",
   "metadata": {},
   "outputs": [],
   "source": [
    "3. What is a labeled training set, and how does it work?\n",
    "\n",
    "Ans:-\n",
    "    you split up the data containing known response variable values into two pieces.The training set is used to train the \n",
    "    algorithms and then you use the trained model on the test set to predict the response variable values that are already \n",
    "    known."
   ]
  },
  {
   "cell_type": "code",
   "execution_count": null,
   "id": "d8920957",
   "metadata": {},
   "outputs": [],
   "source": [
    "4.What are the two most important tasks that are supervised ?\n",
    "\n",
    "Ans:-\n",
    "    The two most common supervised learning tasks are Regression and Classification."
   ]
  },
  {
   "cell_type": "code",
   "execution_count": null,
   "id": "b1b88ce2",
   "metadata": {},
   "outputs": [],
   "source": [
    "5.Can you think of four examples of unsupervised tasks ?\n",
    "\n",
    "Ans:-\n",
    "    Four common Unsupervised Tasks included Clustering, Visualization, Dimensionality Reduction,and Association Rule \n",
    "    Learning."
   ]
  },
  {
   "cell_type": "code",
   "execution_count": null,
   "id": "6fd8b06e",
   "metadata": {},
   "outputs": [],
   "source": [
    "6.State the machine learning model that would be best to make a robot walk through various unfamiliar terrains ?\n",
    "\n",
    "Ans:-\n",
    "    The best machine learning algorithms to follow a robot to walk in unfamiliar terrains is Reinforced learning, \n",
    "    where the robot can learn from response of the terrain to optimize itself."
   ]
  },
  {
   "cell_type": "code",
   "execution_count": null,
   "id": "134ce15f",
   "metadata": {},
   "outputs": [],
   "source": [
    "7.Which algorithm will you use to divide your customers into different groups ?\n",
    "\n",
    "Ans:-\n",
    "    The best algorithms to segment customers into different groups is either supervised learning(if the groups have \n",
    "    known labels) or Unsupervised Learning(if there are no group labels)"
   ]
  },
  {
   "cell_type": "code",
   "execution_count": null,
   "id": "fcd86d54",
   "metadata": {},
   "outputs": [],
   "source": [
    "8.Will you consider the problem of spam detection to be a supervised or unsupervised learning problem ?\n",
    "\n",
    "Ans:-\n",
    "    Spam detection is a supervised Machine Learning Problem because the labels are known(spam or No Spam)."
   ]
  },
  {
   "cell_type": "code",
   "execution_count": null,
   "id": "73c697c4",
   "metadata": {},
   "outputs": [],
   "source": [
    "9.What is the concept of an online learning system ?\n",
    "\n",
    "Ans:-\n",
    "    Online learning system is a system in which machine learns continuously and as a data given in a small streams \n",
    "    continuously."
   ]
  },
  {
   "cell_type": "code",
   "execution_count": null,
   "id": "7159891d",
   "metadata": {},
   "outputs": [],
   "source": [
    "10.What is out-of-core learning, and how does it differ from core learning ?\n",
    "\n",
    "Ans:-\n",
    "    Out-of Core learning system is a system that can be handle data that cannot fit into your computer memory. It uses \n",
    "    online learning system to feed data in small bits."
   ]
  },
  {
   "cell_type": "code",
   "execution_count": null,
   "id": "5259a41c",
   "metadata": {},
   "outputs": [],
   "source": [
    "11.What kind of learning algorithm makes predictions using a similarity measure ?\n",
    "\n",
    "Ans:-\n",
    "    Learning algorithms that relies on similarity measure to make predictions is instance based algorithms."
   ]
  },
  {
   "cell_type": "code",
   "execution_count": null,
   "id": "9a8a87a4",
   "metadata": {},
   "outputs": [],
   "source": [
    "12.What's the difference between a model parameter and a hyperparameter in a learning algorithm ?\n",
    "\n",
    "Ans:-\n",
    "    Model parameter determines how a model will predict given a new instance model usually has no more than one parameter\n",
    "    (i.e. slope of linear model). Hyperparameter is a parameter for learning algorithms, not of a model."
   ]
  },
  {
   "cell_type": "code",
   "execution_count": null,
   "id": "d188ce7e",
   "metadata": {},
   "outputs": [],
   "source": [
    "3.What are the criteria that model-based learning algorithms look for? What is the most popular method they use to \n",
    " achieve success? What method do they use to make predictions ?\n",
    "\n",
    "Ans:-\n",
    "    Model based learning algorithms search for the optimal value of a parameters in a model that will give the best \n",
    "    results for the new instance. we often use a cost function or similar to determine what the parameter value has \n",
    "    to be in order to minimize the function. The model makes the predictions by using the values of the new instance \n",
    "    and the parametres in its function."
   ]
  },
  {
   "cell_type": "code",
   "execution_count": null,
   "id": "b0b3d7e2",
   "metadata": {},
   "outputs": [],
   "source": [
    "14.Can you name four of the most important Machine Learning challenges ?\n",
    "\n",
    "Ans:-\n",
    "    Four main challenges in Machine Learning include the following:\n",
    "        \n",
    "    1. Overfitting the data (Using a model too complicated)\n",
    "    \n",
    "    2. Underfitting the data(Using the simple model)\n",
    "    \n",
    "    3. Lacking in Data\n",
    "    \n",
    "    4. Non Representative Data"
   ]
  },
  {
   "cell_type": "code",
   "execution_count": null,
   "id": "9489324b",
   "metadata": {},
   "outputs": [],
   "source": [
    "15.What happens if the model performs well on the training data but fails to generalize the results to new situations? \n",
    "   Can you think of three different options ?\n",
    "\n",
    "Ans:-\n",
    "    If the models performs poorly to new instances, then it has overfitted on the training data. To solve this, we can \n",
    "    do any of the following three:\n",
    "        \n",
    "    1. Get more Data\n",
    "    \n",
    "    2.Implement the simpler model\n",
    "    \n",
    "    3. Eliminate outliers or noise from the existing data set."
   ]
  },
  {
   "cell_type": "code",
   "execution_count": null,
   "id": "71c1d6e1",
   "metadata": {},
   "outputs": [],
   "source": [
    "16.What exactly is a test set, and why would you need one ?\n",
    "\n",
    "Ans:-\n",
    "    Test set is a set to test your model(fit using training data) to see how it performs. Test set is a necessary to \n",
    "    determine how good(or bad) a model performs."
   ]
  },
  {
   "cell_type": "code",
   "execution_count": null,
   "id": "84dc79b3",
   "metadata": {},
   "outputs": [],
   "source": [
    "17.What is a validation set's purpose ?\n",
    "\n",
    "Ans:-\n",
    "    Validation set is a set used to compare between different training models."
   ]
  },
  {
   "cell_type": "code",
   "execution_count": null,
   "id": "6353ca2b",
   "metadata": {},
   "outputs": [],
   "source": [
    "18.What precisely is the train-dev kit, when will you need it, how do you put it to use ?\n",
    "\n",
    "Ans:-\n",
    "    Cross-Validation is a tool to compare models without needing a seperate validation set. It is preferred over \n",
    "    validation set because we can save from breaking of the part of the training set to create a validation set, as \n",
    "    having more data is valuable regardless."
   ]
  },
  {
   "cell_type": "code",
   "execution_count": null,
   "id": "c68d75ee",
   "metadata": {},
   "outputs": [],
   "source": [
    "19.What could go wrong if you use the test set to tune hyperparameters ?\n",
    "\n",
    "Ans:-\n",
    "    If you tune hyperparametres using the last sets, then it may not perform well on the ou-of-sample data because the \n",
    "    model is tuned just for that specific set."
   ]
  }
 ],
 "metadata": {
  "kernelspec": {
   "display_name": "Python 3",
   "language": "python",
   "name": "python3"
  },
  "language_info": {
   "codemirror_mode": {
    "name": "ipython",
    "version": 3
   },
   "file_extension": ".py",
   "mimetype": "text/x-python",
   "name": "python",
   "nbconvert_exporter": "python",
   "pygments_lexer": "ipython3",
   "version": "3.8.8"
  }
 },
 "nbformat": 4,
 "nbformat_minor": 5
}

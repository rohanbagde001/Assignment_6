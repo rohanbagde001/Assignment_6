{
 "cells": [
  {
   "cell_type": "code",
   "execution_count": null,
   "id": "80544fd7",
   "metadata": {},
   "outputs": [],
   "source": [
    "1. What is the concept of human learning? Please give two examples ?\n",
    "\n",
    "Ans:-\n",
    "    Human learning is the form of learning which requires higher order mental processes like thinking, reasoning, \n",
    "    intelligence, etc. we learn different concept from childhood. e.g.\n",
    "    \n",
    "    1.Learning through Association - Classical Conditioning\n",
    "    \n",
    "    2.Learning through consequences - Operant Conditioning\n",
    "    \n",
    "    3.Learning through observation - Modelling/Observational Learning"
   ]
  },
  {
   "cell_type": "code",
   "execution_count": null,
   "id": "0c009ac9",
   "metadata": {},
   "outputs": [],
   "source": [
    "2. What different forms of human learning are there? Are there any machine learning equivalents ?\n",
    "\n",
    "Ans:-\n",
    "    Different Forms of ML are as follows:\n",
    "        \n",
    "    1. Artificial Intelligence Learning Theories Machine Learning, Reinforcement Learning, Supervised Learning, \n",
    "       Unsupervised Learning.\n",
    "    \n",
    "    2. ML equivalents like linear regression, decision trees, random forestand support vector machine algorithms are some \n",
    "       most commonly used techniques that are actually example of supervised Learning."
   ]
  },
  {
   "cell_type": "code",
   "execution_count": null,
   "id": "e693af42",
   "metadata": {},
   "outputs": [],
   "source": [
    "3. What is machine learning, and how does it work? What are the key responsibilities of machine learning ?\n",
    "\n",
    "Ans:-\n",
    "    Machine Learning is a branch of Artificial intelligence(AI) that teaches computers on how to think in a similar way to \n",
    "    how humans do, like by learning and improving upon past experience.\n",
    "        \n",
    "    It works by exploring data and identifying patterns and involves minimal human intervention.\n",
    "        \n",
    "    Roles and Responsibilities of machine learning engineer are:\n",
    "        \n",
    "        1.Designing ML Systems.\n",
    "        \n",
    "        2.Researching and implementing ML algorithms and tools. Selecting appropriate data sets.\n",
    "        \n",
    "        3.Picking appropriate data representation methods. Identifying differences in  data distribution that affects \n",
    "          model performance. Verifying data quality. "
   ]
  },
  {
   "cell_type": "code",
   "execution_count": null,
   "id": "010de405",
   "metadata": {},
   "outputs": [],
   "source": [
    "4. Define the terms \"penalty\" and \"reward\" in the context of reinforcement learning?\n",
    "\n",
    "Ans:-\n",
    "    A reinforcement Learning Algorithms, which may also be referred to as an agent, learns by interacting with its \n",
    "    environment. The agent receives reward by performing correctly and penalties for performing incorrectly. The agent \n",
    "    learns without intervention from a human by maximizing its reward and minimizing penalty. "
   ]
  },
  {
   "cell_type": "code",
   "execution_count": null,
   "id": "5ffb9df7",
   "metadata": {},
   "outputs": [],
   "source": [
    "5. Explain the term \"learning as a search\" ?\n",
    "\n",
    "Ans:-\n",
    "    Learning can be viewed as a search through the space of all sentences in a concept description language for a sentence \n",
    "    that best describes the data. Alternatively, it can be viewed as a search through all the hypothesis in a hypothesis \n",
    "    space."
   ]
  },
  {
   "cell_type": "code",
   "execution_count": null,
   "id": "4f035bb4",
   "metadata": {},
   "outputs": [],
   "source": [
    "6. What are the various goals of machine learning? What is the relationship between these and human learning ?\n",
    "\n",
    "Ans:-\n",
    "    The goal of machine learning, closely coupled with the goal of AI, is to achieve through understanding about the \n",
    "    nature of learning processes(both human learning and other forms of learning), about the computational aspects of \n",
    "    learning behaviours, and to implant the learning capability in computer systems.\n",
    "    \n",
    "    Human have the ability to learn, however with the progress in a artificial intelligence, machine learning become \n",
    "    resource which can augment or even replace human learning. Learning does not happen all at once but it builds upon \n",
    "    and it is shaped by previous knowledge."
   ]
  },
  {
   "cell_type": "code",
   "execution_count": null,
   "id": "cc282615",
   "metadata": {},
   "outputs": [],
   "source": [
    "7. Illustrate the various elements of machine learning using a real-life illustration ?\n",
    "\n",
    "Ans:-\n",
    "    The various elements of the Machine Learning are:\n",
    "        \n",
    "    1. Data\n",
    "    2. Task\n",
    "    3. Model\n",
    "    4. Loss Function\n",
    "    5. Learning Algorithms\n",
    "    6. Evaluation"
   ]
  },
  {
   "cell_type": "code",
   "execution_count": null,
   "id": "45f563b7",
   "metadata": {},
   "outputs": [],
   "source": [
    "8. Provide an example of the abstraction method ?\n",
    "\n",
    "Ans:-\n",
    "    In Machine Learning, Abstraction is supported primarily at the level of modules. This can be justified in two ways: \n",
    "    first, Data abstraction is mostly a question of a program interface and therefore it arises naturally at the point \n",
    "    where we have to consider a program composition and modules."
   ]
  },
  {
   "cell_type": "code",
   "execution_count": null,
   "id": "1349b3ac",
   "metadata": {},
   "outputs": [],
   "source": [
    "9. What is the concept of generalization? What function does it play in the machine learning process ?\n",
    "\n",
    "Ans:-\n",
    "    Generalization refers to your model's ability to adopt properly to new, previously unseen data, drawn from the same \n",
    "    distribution as the one used to create the model.\n",
    "    \n",
    "    In machine learning generalization is a defination to demonstrate how well is a trained model to classify or forecast \n",
    "    unseen data. This issue can result to classify an actual dog image as a cat from the unseen dataset. Therefore dat \n",
    "    diversity is very important factor to make a good prediction."
   ]
  },
  {
   "cell_type": "code",
   "execution_count": null,
   "id": "355cd63a",
   "metadata": {},
   "outputs": [],
   "source": [
    "10. What is classification, exactly? What are the main distinctions between classification and regression ?\n",
    "\n",
    "Ans:-\n",
    "    In Machine Learning, Classification refers to predictive modeling problem where a class label is predicted for \n",
    "    a given example of input data. Classification is the task of predicting a discrete class label. whereas the regression \n",
    "    is the task of predicting a continuous quantity."
   ]
  },
  {
   "cell_type": "code",
   "execution_count": null,
   "id": "00f7fed6",
   "metadata": {},
   "outputs": [],
   "source": [
    "11. What is regression, and how does it work? Give an example of a real-world problem that was solved using regression ?\n",
    "Ans:-\n",
    "    Regression is a Supervised machine learning technique which is used to predict continuous values. The ultimate goal a \n",
    "    regression algorithm is to plot a best fit line or curve between a data.\n",
    "    \n",
    "    The three main metrics that are used for evaluating the trained regression maodel are Variance, Bias and Error.\n",
    "    \n",
    "    A simple linear regression real life example could you mean a finding a relationship between revenue as the dependant \n",
    "    variable. In case of muliple variable regression, you can find the relationship between temperature, pricing and \n",
    "    number of workers to the revenue."
   ]
  },
  {
   "cell_type": "code",
   "execution_count": null,
   "id": "585df41a",
   "metadata": {},
   "outputs": [],
   "source": [
    "12. Describe the clustering mechanism in detail ?\n",
    "\n",
    "Ans:-\n",
    "    Clustering is the task of dividing the population or dat points into a number of groups such that data points \n",
    "    into a number of groups such that data points in the same groups are more similar to other data points in the same \n",
    "    group than those in other groups. In simple words, the aim is to segerate groups with similar traits and assign them \n",
    "    into clusters."
   ]
  },
  {
   "cell_type": "code",
   "execution_count": null,
   "id": "3d16382c",
   "metadata": {},
   "outputs": [],
   "source": [
    "13. Make brief observations on two of the following topics ?\n",
    "\n",
    "    Machine learning algorithms are used\n",
    "    Studying under supervision\n",
    "    Studying without supervision\n",
    "    Reinforcement learning is a form of learning based on positive reinforcement.\n",
    "    \n",
    "Ans:-\n",
    "    Machine learning algorithms are used: At its Most basic, Machine Learning uses programmed algorithms that receive \n",
    "    and analyse input data to predict output values within an acceptable range. As new data is fed to these algorithms,\n",
    "    they learn and optimise their operations to improve performance, developing intelligence over time.\n",
    "\n",
    "    Studying Under Supervision: In machine learning, there are two important categories- Supervised and Unsupervised \n",
    "    learning.Supervised learning, an algorithm learns from a training dataset. We know the correct answers or desired \n",
    "    output, the algorithm makes predictions using the given dataset and is corrected by the “supervisor”.\n",
    "    "
   ]
  }
 ],
 "metadata": {
  "kernelspec": {
   "display_name": "Python 3",
   "language": "python",
   "name": "python3"
  },
  "language_info": {
   "codemirror_mode": {
    "name": "ipython",
    "version": 3
   },
   "file_extension": ".py",
   "mimetype": "text/x-python",
   "name": "python",
   "nbconvert_exporter": "python",
   "pygments_lexer": "ipython3",
   "version": "3.8.8"
  }
 },
 "nbformat": 4,
 "nbformat_minor": 5
}

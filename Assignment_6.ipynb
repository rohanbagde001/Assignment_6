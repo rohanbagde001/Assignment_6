{
 "cells": [
  {
   "cell_type": "raw",
   "id": "70970aa5",
   "metadata": {},
   "source": [
    "1. What are escape characters, and how do you use them?\n",
    "\n",
    "Ans:-\n",
    "     Escape characters are characters that are generally used to perform certain tasks and their usage in \n",
    "     code directs the compiler to take a suitable action mapped to that character.\n",
    "     \n",
    "     In Python strings, the backslash “ ” is a special character, also called the “escape” character. \n",
    "     It is used in representing certain whitespace characters: “\\t” is a tab, “\\n” is a new line, \n",
    "     and “\\r” is a carriage return. Finally, “ ” can be used to escape itself: “\\” is the literal backslash character."
   ]
  },
  {
   "cell_type": "raw",
   "id": "6d3c6f2f",
   "metadata": {},
   "source": [
    "2. What do the escape characters n and t stand for?\n",
    "\n",
    "Ans:- \n",
    "     \"\\t” is a tab, \n",
    "     “\\n” is a new line."
   ]
  },
  {
   "cell_type": "raw",
   "id": "a11f71b0",
   "metadata": {},
   "source": [
    "3. What is the way to include backslash characters in a string?\n",
    "\n",
    "Ans:-\n",
    "     The \\\\ escape character will represent a backslash character."
   ]
  },
  {
   "cell_type": "raw",
   "id": "10ad7dfd",
   "metadata": {},
   "source": [
    "4. The string \"Howl's Moving Castle\" is a correct value. Why isn't the single quote character in the\n",
    "word Howl's not escaped a problem?\n",
    "\n",
    "Ans:- \n",
    "    The single quote in Howl's is fine because you’ve used double quotes to mark the beginning and \n",
    "    end of the string.\n",
    "\n"
   ]
  },
  {
   "cell_type": "raw",
   "id": "a46099ff",
   "metadata": {},
   "source": [
    "5. How do you write a string of newlines if you don&#39;t want to use the n character?\n",
    "\n",
    "Ans:-\n",
    "     Multiline strings allow you to use newlines in strings without the \\n escape character.   \n",
    "   "
   ]
  },
  {
   "cell_type": "code",
   "execution_count": 12,
   "id": "02761ba6",
   "metadata": {},
   "outputs": [
    {
     "name": "stdout",
     "output_type": "stream",
     "text": [
      "e\n",
      "Hello\n",
      "Hello\n",
      "lo, world!\n"
     ]
    }
   ],
   "source": [
    "#6. What are the values of the given expressions?\n",
    "\n",
    "print(\"Hello, world!\"[1])\n",
    "print(\"Hello, world!\"[0:5])\n",
    "print(\"Hello, world!\"[:5])\n",
    "print(\"Hello, world!\"[3:])"
   ]
  },
  {
   "cell_type": "code",
   "execution_count": 15,
   "id": "4bf3154e",
   "metadata": {},
   "outputs": [
    {
     "name": "stdout",
     "output_type": "stream",
     "text": [
      "HELLO\n",
      "True\n",
      "hello\n"
     ]
    }
   ],
   "source": [
    "#7. What are the values of the following expressions?\n",
    "\n",
    "\n",
    "print(\"Hello\".upper())\n",
    "print(\"Hello\".upper().isupper())\n",
    "print(\"Hello\".upper().lower())\n",
    "\n"
   ]
  },
  {
   "cell_type": "code",
   "execution_count": 20,
   "id": "9f676dab",
   "metadata": {},
   "outputs": [
    {
     "name": "stdout",
     "output_type": "stream",
     "text": [
      "Object `expressions` not found.\n"
     ]
    },
    {
     "data": {
      "text/plain": [
       "'There-can-only-one.'"
      ]
     },
     "execution_count": 20,
     "metadata": {},
     "output_type": "execute_result"
    }
   ],
   "source": [
    "8. What are the values of the following expressions?\n",
    "\n",
    "'Remember, remember, the fifth of July.'.split()   # ['Remember,', 'remember,', 'the', 'fifth', 'of', 'July.']\n",
    "\n",
    "'-'.join('There can only one.'.split())    #  'There-can-only-one.'"
   ]
  },
  {
   "cell_type": "raw",
   "id": "84f13de2",
   "metadata": {},
   "source": [
    "9. What are the methods for right-justifying, left-justifying, and centering a string?\n",
    "\n",
    "Ans:- \n",
    "      The rjust(), ljust(), and center() string methods, respectively\n",
    "    "
   ]
  },
  {
   "cell_type": "raw",
   "id": "805ea0ec",
   "metadata": {},
   "source": [
    "10. What is the best way to remove whitespace characters from the start or end?\n",
    "\n",
    "Ans:- \n",
    "    The lstrip() and rstrip() methods remove whitespace from the left and right ends of a string, respectively."
   ]
  }
 ],
 "metadata": {
  "kernelspec": {
   "display_name": "Python 3",
   "language": "python",
   "name": "python3"
  },
  "language_info": {
   "codemirror_mode": {
    "name": "ipython",
    "version": 3
   },
   "file_extension": ".py",
   "mimetype": "text/x-python",
   "name": "python",
   "nbconvert_exporter": "python",
   "pygments_lexer": "ipython3",
   "version": "3.8.8"
  }
 },
 "nbformat": 4,
 "nbformat_minor": 5
}
